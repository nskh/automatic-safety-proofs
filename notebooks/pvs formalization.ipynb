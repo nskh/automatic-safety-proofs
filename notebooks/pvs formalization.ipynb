{
 "cells": [
  {
   "cell_type": "markdown",
   "id": "a2056101-dc2c-46d4-b1f7-b4b064e5c0e2",
   "metadata": {},
   "source": [
    "## Imports"
   ]
  },
  {
   "cell_type": "code",
   "execution_count": 1,
   "id": "a5eb540d",
   "metadata": {},
   "outputs": [],
   "source": [
    "import sympy\n",
    "import numpy as np\n",
    "import matplotlib.pyplot as plt\n",
    "sympy.init_printing()\n",
    "from sympy import *\n",
    "from functools import reduce\n",
    "import string"
   ]
  },
  {
   "cell_type": "markdown",
   "id": "063e9ca9-b18e-482d-b21c-ac005b89fec1",
   "metadata": {},
   "source": [
    "## Functions"
   ]
  },
  {
   "cell_type": "code",
   "execution_count": 2,
   "id": "5e6581c8",
   "metadata": {},
   "outputs": [],
   "source": [
    "def plot_polygon(poly: sympy.Polygon, labels = []):\n",
    "    # Draw a polygon by plotting vertices as points and edges as lines\n",
    "    fig = plt.figure()\n",
    "    ax = fig.gca()\n",
    "\n",
    "    verts = poly.vertices\n",
    "\n",
    "    for i, p in enumerate(verts):\n",
    "        ax.scatter(p.x, p.y, c=\"r\")\n",
    "        if labels:\n",
    "            plt.text(p.x + 0.05, p.y + 0.05, f\"{labels[i]}: ({p.x},{p.y})\")\n",
    "        else:\n",
    "            plt.text(p.x + 0.05, p.y + 0.05, f\"({p.x},{p.y})\")\n",
    "\n",
    "    for (p, nextp) in zip(verts, verts[1:] + verts[:1]):\n",
    "        x = np.linspace(float(p.x), float(nextp.x), 100, dtype=float)\n",
    "        y = np.linspace(float(p.y), float(nextp.y), 100, dtype=float)\n",
    "        ax.plot(x, y, c=\"b\")\n",
    "\n",
    "    ax.axis(\"equal\")\n",
    "\n",
    "    plt.show()    "
   ]
  },
  {
   "cell_type": "code",
   "execution_count": 3,
   "id": "e48c84df",
   "metadata": {},
   "outputs": [],
   "source": [
    "def generate_premise(lines: dict, traj_expr):\n",
    "    lines_rel = make_relative(lines, traj_expr)\n",
    "    premise = True\n",
    "    for line_rel in lines_rel.values():\n",
    "        premise &= line_rel\n",
    "    return premise\n",
    "\n",
    "def generate_explicit(corner_pairs: list, traj, verts):\n",
    "    explicit = False\n",
    "    for c1, c2 in corner_pairs:\n",
    "        corner_traj_1 = expand(traj.subs(y, yo - verts[c1].y).subs(x, xo - verts[c1].x))\n",
    "        corner_traj_2 = expand(traj.subs(y, yo - verts[c2].y).subs(x, xo - verts[c2].x))\n",
    "        pair_clause = corner_traj_1 * corner_traj_2 <= 0\n",
    "        explicit |= pair_clause\n",
    "    return explicit\n",
    "\n",
    "def generate_explicit_disjunction(corner_pairs: list, traj, verts):\n",
    "    explicit = False\n",
    "    for c1, c2 in corner_pairs:\n",
    "        corner_traj_1 = expand(traj.subs(y, yo - verts[c1].y).subs(x, xo - verts[c1].x))\n",
    "        corner_traj_2 = expand(traj.subs(y, yo - verts[c2].y).subs(x, xo - verts[c2].x))\n",
    "        pair_clause = ((corner_traj_1 <= 0) & (corner_traj_2 >= 0)) | ((corner_traj_1 >= 0) & (corner_traj_2 <= 0))\n",
    "        explicit |= pair_clause\n",
    "    return explicit\n",
    "\n",
    "def sympy_to_pvs(clause: str):\n",
    "    if type(clause) is not str:\n",
    "        clause = str(clause)\n",
    "    return clause.replace(\"x_O\", \"xo\").replace(\"y_O\", \"yo\").replace(\"|\", \"OR\\n   \").replace(\"&\", \"AND\\n    \").replace(\"**\", \"^\")\n",
    "\n",
    "def construct_lemma(premise, active_corner_condition, lemma_name):\n",
    "    return f\"\"\"{lemma_name}(xo, yo, alpha: real) : bool =\n",
    "    (EXISTS (x : real) :\n",
    "    ({sympy_to_pvs(str(premise))})\n",
    "    IMPLIES\n",
    "    {sympy_to_pvs(str(active_corner_condition))}\n",
    "    \"\"\"\n",
    "\n",
    "def full_lemma(poly, vert_names, corner_pairs, traj, traj_expr=None, lemma_name=\"Soundness\", disjunction=False):\n",
    "    if type(vert_names) is str:\n",
    "        vert_names = vert_names.split()\n",
    "    assert type(vert_names) is list\n",
    "    verts, lines = verts_and_lines(vert_names, poly)\n",
    "    \n",
    "    premise = generate_premise(lines, traj_expr)\n",
    "    if disjunction:\n",
    "        explicit = generate_explicit_disjunction(corner_pairs, traj, verts)        \n",
    "    else:\n",
    "        explicit = generate_explicit(corner_pairs, traj, verts)\n",
    "    return construct_lemma(premise, explicit, lemma_name)"
   ]
  },
  {
   "cell_type": "code",
   "execution_count": 4,
   "id": "b2bd7b62",
   "metadata": {},
   "outputs": [],
   "source": [
    "def build_line(x, y, coefs):\n",
    "    return x*coefs[0] + y*coefs[1] + coefs[2]\n",
    "\n",
    "def make_relative(expr, traj_expr):\n",
    "    if type(expr) == dict:\n",
    "        return make_relative_dict(expr, traj_expr)\n",
    "    if traj_expr is None:\n",
    "        return expr.subs(x, xo - x).subs(y, yo - alpha*x)\n",
    "    else:\n",
    "        return expr.subs(x, xo - x).subs(y, yo - traj_expr)\n",
    "\n",
    "def make_relative_dict(d, te):\n",
    "    return {k:make_relative(v, te) for k, v in d.items()}"
   ]
  },
  {
   "cell_type": "code",
   "execution_count": 5,
   "id": "cb3b1867",
   "metadata": {},
   "outputs": [],
   "source": [
    "def verts_and_lines(vert_names: list[str], poly: Polygon):\n",
    "    assert len(vert_names) == len(poly.vertices)\n",
    "    verts: dict = dict(zip(vert_names, poly.vertices))\n",
    "    vert_names = sorted(vert_names)\n",
    "    vert_pairs: list = list(zip(vert_names, vert_names[1:] + vert_names[0:1]))  \n",
    "    lines: dict = {}\n",
    "    for i, (vert1, vert2) in enumerate(vert_pairs, 1):\n",
    "        line = build_line(x, y, Line(verts[vert1], verts[vert2]).coefficients)\n",
    "        # sub in (0,0) to find inequality direction\n",
    "        if (line >= 0).subs([(x,0), (y,0)]):\n",
    "            lines[i] = line >= 0\n",
    "        else:\n",
    "            lines[i] = line <= 0\n",
    "    return verts, lines"
   ]
  },
  {
   "cell_type": "code",
   "execution_count": 6,
   "id": "93b26552",
   "metadata": {},
   "outputs": [
    {
     "data": {
      "image/png": "[encoded data removed]",
      "text/latex": [
       "$\\displaystyle \\left( x, \\  y\\right)$"
      ],
      "text/plain": [
       "(x, y)"
      ]
     },
     "execution_count": 6,
     "metadata": {},
     "output_type": "execute_result"
    }
   ],
   "source": [
    "x, y = symbols(\"x y\")\n",
    "x, y"
   ]
  },
  {
   "cell_type": "code",
   "execution_count": 7,
   "id": "a4d43c23",
   "metadata": {},
   "outputs": [
    {
     "data": {
      "image/png": "[encoded data removed]",
      "text/latex": [
       "$\\displaystyle \\left( x_{O}, \\  y_{O}, \\  \\alpha\\right)$"
      ],
      "text/plain": [
       "(x_O, y_O, α)"
      ]
     },
     "execution_count": 7,
     "metadata": {},
     "output_type": "execute_result"
    }
   ],
   "source": [
    "xo, yo, alpha = symbols([\"x_O\", \"y_O\", \"alpha\"])\n",
    "xo, yo, alpha"
   ]
  },
  {
   "cell_type": "markdown",
   "id": "31ffebab-26bc-4fea-a9c4-fa596dffd02e",
   "metadata": {},
   "source": [
    "## Experimentation"
   ]
  },
  {
   "cell_type": "code",
   "execution_count": 8,
   "id": "342b9d18",
   "metadata": {},
   "outputs": [
    {
     "data": {
      "image/png": "[encoded data removed]",
      "text/plain": [
       "<Figure size 640x480 with 1 Axes>"
      ]
     },
     "metadata": {},
     "output_type": "display_data"
    }
   ],
   "source": [
    "regpent = sympy.RegularPolygon(Point2D(0, 0), 1, 5, pi/2)\n",
    "plot_polygon(regpent)"
   ]
  },
  {
   "cell_type": "code",
   "execution_count": 9,
   "id": "74d61540",
   "metadata": {},
   "outputs": [
    {
     "data": {
      "image/png": "[encoded data removed]",
      "text/latex": [
       "$\\displaystyle \\left[ \\operatorname{Point2D}\\left(\\sqrt{\\frac{\\sqrt{5}}{8} + \\frac{5}{8}}, - \\frac{1}{4} + \\frac{\\sqrt{5}}{4}\\right), \\  \\operatorname{Point2D}\\left(0, 1\\right), \\  \\operatorname{Point2D}\\left(- \\sqrt{\\frac{\\sqrt{5}}{8} + \\frac{5}{8}}, - \\frac{1}{4} + \\frac{\\sqrt{5}}{4}\\right), \\  \\operatorname{Point2D}\\left(- \\sqrt{\\frac{5}{8} - \\frac{\\sqrt{5}}{8}}, - \\frac{\\sqrt{5}}{4} - \\frac{1}{4}\\right), \\  \\operatorname{Point2D}\\left(\\sqrt{\\frac{5}{8} - \\frac{\\sqrt{5}}{8}}, - \\frac{\\sqrt{5}}{4} - \\frac{1}{4}\\right)\\right]$"
      ],
      "text/plain": [
       "[Point2D(sqrt(sqrt(5)/8 + 5/8), -1/4 + sqrt(5)/4), Point2D(0, 1), Point2D(-sqr ↪\n",
       "\n",
       "↪ t(sqrt(5)/8 + 5/8), -1/4 + sqrt(5)/4), Point2D(-sqrt(5/8 - sqrt(5)/8), -sqrt ↪\n",
       "\n",
       "↪ (5)/4 - 1/4), Point2D(sqrt(5/8 - sqrt(5)/8), -sqrt(5)/4 - 1/4)]"
      ]
     },
     "execution_count": 9,
     "metadata": {},
     "output_type": "execute_result"
    }
   ],
   "source": [
    "regpent.vertices"
   ]
  },
  {
   "cell_type": "code",
   "execution_count": 10,
   "id": "86c4d573",
   "metadata": {},
   "outputs": [
    {
     "data": {
      "image/png": "[encoded data removed]",
      "text/plain": [
       "<Figure size 640x480 with 1 Axes>"
      ]
     },
     "metadata": {},
     "output_type": "display_data"
    }
   ],
   "source": [
    "intvertices = [(1, -1), (2, 0), (0, 1), (-2, 0), (-1, -1)]\n",
    "easypent = Polygon(*intvertices)\n",
    "plot_polygon(easypent)"
   ]
  },
  {
   "cell_type": "code",
   "execution_count": 11,
   "id": "faed3da8",
   "metadata": {},
   "outputs": [
    {
     "ename": "TypeError",
     "evalue": "make_relative() missing 1 required positional argument: 'traj_expr'",
     "output_type": "error",
     "traceback": [
      "\u001b[0;31m---------------------------------------------------------------------------\u001b[0m",
      "\u001b[0;31mTypeError\u001b[0m                                 Traceback (most recent call last)",
      "Cell \u001b[0;32mIn[11], line 2\u001b[0m\n\u001b[1;32m      1\u001b[0m verts, lines \u001b[38;5;241m=\u001b[39m verts_and_lines(\u001b[38;5;124m\"\u001b[39m\u001b[38;5;124ma b c d e\u001b[39m\u001b[38;5;124m\"\u001b[39m\u001b[38;5;241m.\u001b[39msplit(), easypent)\n\u001b[0;32m----> 2\u001b[0m \u001b[43mmake_relative\u001b[49m\u001b[43m(\u001b[49m\u001b[43mlines\u001b[49m\u001b[43m)\u001b[49m\n",
      "\u001b[0;31mTypeError\u001b[0m: make_relative() missing 1 required positional argument: 'traj_expr'"
     ]
    }
   ],
   "source": [
    "verts, lines = verts_and_lines(\"a b c d e\".split(), easypent)\n",
    "make_relative(lines)"
   ]
  },
  {
   "cell_type": "code",
   "execution_count": null,
   "id": "2caf9f2b",
   "metadata": {},
   "outputs": [],
   "source": [
    "print(full_lemma(easypent, \n",
    "                 \"b c d e a\".split(), \n",
    "                 [('a', 'c'), ('a', 'd'), ('b', 'd'), ('b', 'e'), ('c', 'e')], \n",
    "                 y - alpha*x))"
   ]
  },
  {
   "cell_type": "code",
   "execution_count": null,
   "id": "e0c36415",
   "metadata": {},
   "outputs": [],
   "source": [
    "simplify(expand((2*yo + xo - 2)*(2*alpha - 1) >= (2*yo - xo -2) * (2*alpha+1)))"
   ]
  },
  {
   "cell_type": "code",
   "execution_count": null,
   "id": "68a756e7",
   "metadata": {},
   "outputs": [],
   "source": [
    "square = RegularPolygon(Point2D(0, 0), sqrt(2), 4, pi/4)\n",
    "plot_polygon(square, \"b c d a\".split())\n",
    "square.vertices"
   ]
  },
  {
   "cell_type": "code",
   "execution_count": null,
   "id": "38edc880-3b27-4f58-a964-9b1799a3c23f",
   "metadata": {},
   "outputs": [],
   "source": [
    "vertex_dict = dict(zip(\"b c d a\".split(), square.vertices))\n",
    "vertex"
   ]
  },
  {
   "cell_type": "code",
   "execution_count": null,
   "id": "fbf86880-495c-41f6-a6dd-947bb198843f",
   "metadata": {},
   "outputs": [],
   "source": []
  },
  {
   "cell_type": "code",
   "execution_count": null,
   "id": "20f1ee6e",
   "metadata": {},
   "outputs": [],
   "source": [
    "verts, lines = verts_and_lines(\"b c d a\".split(), square)\n",
    "verts"
   ]
  },
  {
   "cell_type": "code",
   "execution_count": null,
   "id": "56f3c6b6",
   "metadata": {},
   "outputs": [],
   "source": [
    "lines"
   ]
  },
  {
   "cell_type": "code",
   "execution_count": null,
   "id": "015529c6",
   "metadata": {},
   "outputs": [],
   "source": [
    "lines_rel = make_relative(lines)\n",
    "lines_rel"
   ]
  },
  {
   "cell_type": "code",
   "execution_count": null,
   "id": "efb05ea0",
   "metadata": {},
   "outputs": [],
   "source": [
    "print(full_lemma(square, \"b c d a\".split(), [('a', 'c'), ('b', 'd')], y - alpha*x))"
   ]
  },
  {
   "cell_type": "code",
   "execution_count": null,
   "id": "30d2c7dd",
   "metadata": {},
   "outputs": [],
   "source": [
    "solve(lines_rel[4], x)"
   ]
  },
  {
   "cell_type": "code",
   "execution_count": null,
   "id": "beb99b69",
   "metadata": {},
   "outputs": [],
   "source": [
    "# def solve_lines(lines: dict):\n",
    "#     newlines = {}\n",
    "#     for k in lines.keys():\n",
    "#         newlines[k] = "
   ]
  },
  {
   "cell_type": "code",
   "execution_count": null,
   "id": "a56b5190",
   "metadata": {},
   "outputs": [],
   "source": [
    "plot_implicit(reduce(lambda x, y: x & y, lines.values()))"
   ]
  },
  {
   "cell_type": "code",
   "execution_count": null,
   "id": "944de476",
   "metadata": {},
   "outputs": [],
   "source": [
    "diamond = RegularPolygon(Point2D(0, 0), 1, 4, pi/2)\n",
    "plot_polygon(diamond, \"a b c d\".split())\n",
    "diamond.vertices"
   ]
  },
  {
   "cell_type": "code",
   "execution_count": null,
   "id": "e66559c3",
   "metadata": {},
   "outputs": [],
   "source": [
    "print(full_lemma(diamond, \"a b c d\".split(), [('a', 'c'), ('b', 'd')], y - alpha*x))"
   ]
  },
  {
   "cell_type": "code",
   "execution_count": null,
   "id": "357ad384",
   "metadata": {},
   "outputs": [],
   "source": [
    "verts, lines = verts_and_lines(\"a b c d\".split(), diamond)\n",
    "verts"
   ]
  },
  {
   "cell_type": "code",
   "execution_count": null,
   "id": "9351a143",
   "metadata": {},
   "outputs": [],
   "source": [
    "lines"
   ]
  },
  {
   "cell_type": "code",
   "execution_count": null,
   "id": "362ad87a",
   "metadata": {},
   "outputs": [],
   "source": [
    "plot_implicit(reduce(lambda x, y: x & y, lines.values()))"
   ]
  },
  {
   "cell_type": "code",
   "execution_count": null,
   "id": "d2e1c205",
   "metadata": {},
   "outputs": [],
   "source": [
    "plot_polygon(regpent, \"b c d e a\".split())"
   ]
  },
  {
   "cell_type": "code",
   "execution_count": null,
   "id": "c1b4e6c5",
   "metadata": {},
   "outputs": [],
   "source": [
    "print(full_lemma(regpent, \"b c d e a\".split(), [('a', 'c'), ('a', 'd'), ('b', 'd'), ('b', 'e'), ('c', 'e')], y - alpha*x))"
   ]
  },
  {
   "cell_type": "code",
   "execution_count": null,
   "id": "2e59d80f",
   "metadata": {},
   "outputs": [],
   "source": [
    "verts, lines = verts_and_lines(\"b c d e a\".split(), regpent)\n",
    "verts"
   ]
  },
  {
   "cell_type": "code",
   "execution_count": null,
   "id": "4c887bf5",
   "metadata": {
    "scrolled": true
   },
   "outputs": [],
   "source": [
    "lines"
   ]
  },
  {
   "cell_type": "code",
   "execution_count": null,
   "id": "19983800",
   "metadata": {},
   "outputs": [],
   "source": [
    "plot_implicit(reduce(lambda x, y: x & y, lines.values()))"
   ]
  },
  {
   "cell_type": "code",
   "execution_count": null,
   "id": "16927ce1",
   "metadata": {},
   "outputs": [],
   "source": [
    "simplify(lines[1])"
   ]
  },
  {
   "cell_type": "code",
   "execution_count": null,
   "id": "49325acb",
   "metadata": {},
   "outputs": [],
   "source": [
    "(5 - sqrt(5))/4 == -sqrt(5) / 2"
   ]
  },
  {
   "cell_type": "code",
   "execution_count": null,
   "id": "a7949da2",
   "metadata": {},
   "outputs": [],
   "source": [
    "verts: dict = dict(zip(\"b c d e a\".split(), regpent.vertices))\n",
    "verts"
   ]
  },
  {
   "cell_type": "code",
   "execution_count": null,
   "id": "7a28792a",
   "metadata": {},
   "outputs": [],
   "source": [
    "Line(verts[\"a\"], verts['b']).equation()"
   ]
  },
  {
   "cell_type": "code",
   "execution_count": null,
   "id": "e657ada9",
   "metadata": {},
   "outputs": [],
   "source": [
    "vert_names = \"a b c d e\".split()\n",
    "vert_names"
   ]
  },
  {
   "cell_type": "code",
   "execution_count": null,
   "id": "208ff0cc",
   "metadata": {},
   "outputs": [],
   "source": [
    "vert_pairs = list(zip(vert_names, vert_names[1:] + vert_names[0:1]))\n",
    "vert_pairs"
   ]
  },
  {
   "cell_type": "code",
   "execution_count": null,
   "id": "dc8c573e",
   "metadata": {},
   "outputs": [],
   "source": [
    "lines: dict = {}\n",
    "for i, (vert1, vert2) in enumerate(vert_pairs, 1):\n",
    "    lines[i] = build_line(x, y, Line(verts[vert1], verts[vert2]).coefficients)\n",
    "lines"
   ]
  },
  {
   "cell_type": "code",
   "execution_count": null,
   "id": "a3e1824d",
   "metadata": {},
   "outputs": [],
   "source": [
    "line_e = build_line(x, y, Line(verts[-1], verts[-2]).coefficients)\n",
    "line_e"
   ]
  },
  {
   "cell_type": "code",
   "execution_count": null,
   "id": "3caeeb0b",
   "metadata": {},
   "outputs": [],
   "source": [
    "line_e_relative = line_e.subs(\"x\", xo - x).subs(\"y\", yo - alpha*x)\n",
    "line_e_relative"
   ]
  },
  {
   "cell_type": "code",
   "execution_count": null,
   "id": "fd145168",
   "metadata": {},
   "outputs": [],
   "source": [
    "solveset(line_e_relative, x)"
   ]
  },
  {
   "cell_type": "code",
   "execution_count": null,
   "id": "f95d98f9",
   "metadata": {},
   "outputs": [],
   "source": []
  },
  {
   "cell_type": "code",
   "execution_count": null,
   "id": "72ad9b4a",
   "metadata": {},
   "outputs": [],
   "source": [
    "linea = build_line(x, y, Line(verts[0], verts[-1]).coefficients)\n",
    "linea"
   ]
  },
  {
   "cell_type": "code",
   "execution_count": null,
   "id": "7c2d6728",
   "metadata": {},
   "outputs": [],
   "source": [
    "linea_relative = linea.subs(\"x\", xo - x).subs(\"y\", yo - alpha*x)\n",
    "linea_relative"
   ]
  },
  {
   "cell_type": "code",
   "execution_count": null,
   "id": "b684f993",
   "metadata": {},
   "outputs": [],
   "source": [
    "solveset(linea_relative, x)"
   ]
  },
  {
   "cell_type": "code",
   "execution_count": null,
   "id": "ff2a2d4b",
   "metadata": {},
   "outputs": [],
   "source": [
    "# picking this yields some coords = 0 or 1 but others are even worse\n",
    "scaling = 1 / sqrt(sqrt(5)/8 + 5/8 )\n",
    "scaling"
   ]
  },
  {
   "cell_type": "code",
   "execution_count": null,
   "id": "9e3e29a1",
   "metadata": {},
   "outputs": [],
   "source": [
    "unitpent = sympy.RegularPolygon(Point2D(0, 0), scaling, 5, pi/2)\n",
    "unitpent"
   ]
  },
  {
   "cell_type": "code",
   "execution_count": null,
   "id": "06f6521d",
   "metadata": {},
   "outputs": [],
   "source": [
    "unitpent.vertices"
   ]
  },
  {
   "cell_type": "code",
   "execution_count": null,
   "id": "f6ade70c",
   "metadata": {},
   "outputs": [],
   "source": [
    "plot_polygon(unitpent)"
   ]
  },
  {
   "cell_type": "code",
   "execution_count": null,
   "id": "501c0f7d",
   "metadata": {},
   "outputs": [],
   "source": [
    "verts = unitpent.vertices\n",
    "simplify(Line(verts[0], verts[-1]).equation())"
   ]
  },
  {
   "cell_type": "code",
   "execution_count": null,
   "id": "83c24fea",
   "metadata": {},
   "outputs": [],
   "source": [
    "unithex = sympy.RegularPolygon(Point2D(0, 0), 2, 6, 0)\n",
    "plot_polygon(unithex)"
   ]
  },
  {
   "cell_type": "markdown",
   "id": "7096c4ac",
   "metadata": {},
   "source": [
    "## Building PVS Lemma\n",
    "\n",
    "target code:\n",
    "\n",
    "    SoundnessAlpha(xo, yo, alpha: real) : bool =\n",
    "    (EXISTS (x : real) :\n",
    "    ((xo - x) <= 1 AND (xo - x) >= -1 AND\n",
    "    (yo - alpha*x) <= 1 AND (yo - alpha*x) >= -1))\n",
    "    IMPLIES\n",
    "    ((yo - alpha*xo - alpha - 1) *\n",
    "    (yo - alpha*xo + alpha + 1) <= 0) OR\n",
    "    ((yo - alpha*xo - alpha + 1) *\n",
    "    (yo - alpha*xo + alpha - 1) <= 0)\n",
    "    OR inactive_case \n",
    "    \n",
    "assume we get the pairs of active corners from the user     "
   ]
  },
  {
   "cell_type": "code",
   "execution_count": 12,
   "id": "1adfe9b6",
   "metadata": {},
   "outputs": [
    {
     "data": {
      "image/png": "[encoded data removed]",
      "text/plain": [
       "<Figure size 640x480 with 1 Axes>"
      ]
     },
     "metadata": {},
     "output_type": "display_data"
    },
    {
     "data": {
      "text/plain": [
       "{'b': Point2D(1, 1),\n",
       " 'c': Point2D(-1, 1),\n",
       " 'd': Point2D(-1, -1),\n",
       " 'a': Point2D(1, -1)}"
      ]
     },
     "execution_count": 12,
     "metadata": {},
     "output_type": "execute_result"
    }
   ],
   "source": [
    "square = RegularPolygon(Point2D(0, 0), sqrt(2), 4, pi/4)\n",
    "plot_polygon(square, \"b c d a\".split())\n",
    "square.vertices\n",
    "verts, lines = verts_and_lines(\"b c d a\".split(), square)\n",
    "verts"
   ]
  },
  {
   "cell_type": "code",
   "execution_count": 13,
   "id": "8f46cff7",
   "metadata": {},
   "outputs": [
    {
     "data": {
      "image/png": "[encoded data removed]",
      "text/latex": [
       "$\\displaystyle \\left\\{ 1 : x - 1 \\leq 0, \\  2 : y - 1 \\leq 0, \\  3 : x + 1 \\geq 0, \\  4 : y + 1 \\geq 0\\right\\}$"
      ],
      "text/plain": [
       "{1: x - 1 ≤ 0, 2: y - 1 ≤ 0, 3: x + 1 ≥ 0, 4: y + 1 ≥ 0}"
      ]
     },
     "execution_count": 13,
     "metadata": {},
     "output_type": "execute_result"
    }
   ],
   "source": [
    "lines"
   ]
  },
  {
   "cell_type": "code",
   "execution_count": 14,
   "id": "bcab34d5",
   "metadata": {},
   "outputs": [
    {
     "ename": "TypeError",
     "evalue": "make_relative() missing 1 required positional argument: 'traj_expr'",
     "output_type": "error",
     "traceback": [
      "\u001b[0;31m---------------------------------------------------------------------------\u001b[0m",
      "\u001b[0;31mTypeError\u001b[0m                                 Traceback (most recent call last)",
      "Cell \u001b[0;32mIn[14], line 1\u001b[0m\n\u001b[0;32m----> 1\u001b[0m lines_rel \u001b[38;5;241m=\u001b[39m \u001b[43mmake_relative\u001b[49m\u001b[43m(\u001b[49m\u001b[43mlines\u001b[49m\u001b[43m)\u001b[49m\n\u001b[1;32m      2\u001b[0m lines_rel\n",
      "\u001b[0;31mTypeError\u001b[0m: make_relative() missing 1 required positional argument: 'traj_expr'"
     ]
    }
   ],
   "source": [
    "lines_rel = make_relative(lines)\n",
    "lines_rel"
   ]
  },
  {
   "cell_type": "code",
   "execution_count": null,
   "id": "8ab9b56a",
   "metadata": {},
   "outputs": [],
   "source": [
    "premise = True\n",
    "for line_rel in lines_rel.values():\n",
    "    premise &= line_rel\n",
    "premise"
   ]
  },
  {
   "cell_type": "code",
   "execution_count": null,
   "id": "8ed76c4c",
   "metadata": {},
   "outputs": [],
   "source": [
    "sympy_to_pvs(str(premise))"
   ]
  },
  {
   "cell_type": "code",
   "execution_count": null,
   "id": "b77d805e",
   "metadata": {},
   "outputs": [],
   "source": []
  },
  {
   "cell_type": "code",
   "execution_count": null,
   "id": "25dd55de",
   "metadata": {},
   "outputs": [],
   "source": []
  },
  {
   "cell_type": "code",
   "execution_count": 15,
   "id": "9e78919f",
   "metadata": {},
   "outputs": [],
   "source": [
    "corner_pairs = [('a', 'c'), ('b', 'd')]"
   ]
  },
  {
   "cell_type": "code",
   "execution_count": 16,
   "id": "8aedb042",
   "metadata": {},
   "outputs": [
    {
     "data": {
      "image/png": "[encoded data removed]",
      "text/latex": [
       "$\\displaystyle - \\alpha x + y$"
      ],
      "text/plain": [
       "-α⋅x + y"
      ]
     },
     "execution_count": 16,
     "metadata": {},
     "output_type": "execute_result"
    }
   ],
   "source": [
    "base_traj = y - alpha*x\n",
    "base_traj"
   ]
  },
  {
   "cell_type": "code",
   "execution_count": 17,
   "id": "4a77c131",
   "metadata": {
    "scrolled": true
   },
   "outputs": [
    {
     "data": {
      "image/png": "[encoded data removed]",
      "text/latex": [
       "$\\displaystyle \\left(- \\alpha x_{O} - \\alpha + y_{O} - 1\\right) \\left(- \\alpha x_{O} + \\alpha + y_{O} + 1\\right) \\leq 0 \\vee \\left(- \\alpha x_{O} - \\alpha + y_{O} + 1\\right) \\left(- \\alpha x_{O} + \\alpha + y_{O} - 1\\right) \\leq 0$"
      ],
      "text/plain": [
       "(-α⋅x_O - α + y_O - 1)⋅(-α⋅x_O + α + y_O + 1) ≤ 0 ∨ (-α⋅x_O - α + y_O + 1)⋅(-α ↪\n",
       "\n",
       "↪ ⋅x_O + α + y_O - 1) ≤ 0"
      ]
     },
     "execution_count": 17,
     "metadata": {},
     "output_type": "execute_result"
    }
   ],
   "source": [
    "explicit = False\n",
    "for c1, c2 in corner_pairs:\n",
    "    corner_traj_1 = expand(base_traj.subs(y, yo - verts[c1].y).subs(x, xo - verts[c1].x))\n",
    "    corner_traj_2 = expand(base_traj.subs(y, yo - verts[c2].y).subs(x, xo - verts[c2].x))\n",
    "    pair_clause = corner_traj_1 * corner_traj_2 <= 0\n",
    "    explicit |= pair_clause\n",
    "explicit"
   ]
  },
  {
   "cell_type": "code",
   "execution_count": 18,
   "id": "c64ed9f8",
   "metadata": {},
   "outputs": [
    {
     "data": {
      "text/plain": [
       "'((-alpha*x_O - alpha + y_O - 1)*(-alpha*x_O + alpha + y_O + 1) <= 0) | ((-alpha*x_O - alpha + y_O + 1)*(-alpha*x_O + alpha + y_O - 1) <= 0)'"
      ]
     },
     "execution_count": 18,
     "metadata": {},
     "output_type": "execute_result"
    }
   ],
   "source": [
    "str(explicit)"
   ]
  },
  {
   "cell_type": "code",
   "execution_count": null,
   "id": "a6530bf6",
   "metadata": {},
   "outputs": [],
   "source": []
  },
  {
   "cell_type": "code",
   "execution_count": 19,
   "id": "08bb6dac",
   "metadata": {},
   "outputs": [
    {
     "ename": "NameError",
     "evalue": "name 'clause' is not defined",
     "output_type": "error",
     "traceback": [
      "\u001b[0;31m---------------------------------------------------------------------------\u001b[0m",
      "\u001b[0;31mNameError\u001b[0m                                 Traceback (most recent call last)",
      "Cell \u001b[0;32mIn[19], line 1\u001b[0m\n\u001b[0;32m----> 1\u001b[0m sympy_to_pvs(\u001b[43mclause\u001b[49m)\n",
      "\u001b[0;31mNameError\u001b[0m: name 'clause' is not defined"
     ]
    }
   ],
   "source": [
    "sympy_to_pvs(clause)"
   ]
  },
  {
   "cell_type": "code",
   "execution_count": null,
   "id": "3dbf8524",
   "metadata": {},
   "outputs": [],
   "source": []
  },
  {
   "cell_type": "code",
   "execution_count": null,
   "id": "e6646963",
   "metadata": {},
   "outputs": [],
   "source": [
    "vert_names = \"b c d a\".split()\n",
    "corner_pairs = [('a', 'c'), ('b', 'd')]\n",
    "traj = y - alpha*x"
   ]
  },
  {
   "cell_type": "code",
   "execution_count": null,
   "id": "acb33777",
   "metadata": {},
   "outputs": [],
   "source": []
  },
  {
   "cell_type": "code",
   "execution_count": null,
   "id": "a37d7d40",
   "metadata": {},
   "outputs": [],
   "source": [
    "print(full_lemma(square, vert_names, corner_pairs, traj))"
   ]
  },
  {
   "cell_type": "code",
   "execution_count": null,
   "id": "6442f5aa",
   "metadata": {},
   "outputs": [],
   "source": [
    "print(construct_lemma(premise, explicit, \"SoundnessSquare\"))"
   ]
  },
  {
   "cell_type": "markdown",
   "id": "c70df675-d805-49c4-aecc-afce98814066",
   "metadata": {},
   "source": [
    "## Hexagon"
   ]
  },
  {
   "cell_type": "code",
   "execution_count": null,
   "id": "b96a6b9a-a4c8-4ad4-93a8-6340560c20c1",
   "metadata": {},
   "outputs": [],
   "source": [
    "hexagon = RegularPolygon(Point2D(0, 0), sqrt(3), 6, 0)\n",
    "plot_polygon(hexagon, \"b c d e f a\".split())\n",
    "hexagon.vertices\n",
    "verts, lines = verts_and_lines(\"b c d e f a\".split(), hexagon)\n",
    "verts"
   ]
  },
  {
   "cell_type": "markdown",
   "id": "d494a27b-66be-42e4-9343-b101603ca9f7",
   "metadata": {},
   "source": [
    "## Rectangle"
   ]
  },
  {
   "cell_type": "code",
   "execution_count": null,
   "id": "adb524d0-efee-45fb-b0d7-7ddda40b106e",
   "metadata": {},
   "outputs": [],
   "source": [
    "rectverts = [(2, -1), (2, 1), (-2, 1), (-2, -1)]\n",
    "rect = Polygon(*rectverts)\n",
    "plot_polygon(rect, \"b c d a\".split())"
   ]
  },
  {
   "cell_type": "code",
   "execution_count": null,
   "id": "396f3423-8ef1-4daf-984f-33a72cb773e2",
   "metadata": {},
   "outputs": [],
   "source": [
    "vert_names = \"b c d a\".split()\n",
    "corner_pairs = [('a', 'c'), ('b', 'd')]\n",
    "traj = y - alpha*x"
   ]
  },
  {
   "cell_type": "code",
   "execution_count": null,
   "id": "80735cf6-7919-4b64-94ce-acf80ae24dcf",
   "metadata": {},
   "outputs": [],
   "source": [
    "# premise here - unsafe_impl, quantified\n",
    "# basically says there's a point along trajectory (x, alpha*x) [more generally (x, f(x))]\n",
    "# where intruder at some point (xo, yo) is within ALL four edges of the rectangle\n",
    "# centered at (x, f(x)).\n",
    "print(full_lemma(rect, vert_names, corner_pairs, traj))"
   ]
  },
  {
   "cell_type": "markdown",
   "id": "5b9e49d4-5813-4c82-9b5d-fd443b8d7329",
   "metadata": {},
   "source": [
    "## Diamond"
   ]
  },
  {
   "cell_type": "code",
   "execution_count": null,
   "id": "b31337ed-8670-4a2a-947a-4118f3da2f0c",
   "metadata": {},
   "outputs": [],
   "source": [
    "diamond = RegularPolygon(Point2D(0, 0), 1, 4, 0)\n",
    "plot_polygon(diamond, \"b c d a\".split())\n",
    "diamond.vertices\n",
    "verts, lines = verts_and_lines(\"b c d a\".split(), diamond)\n",
    "verts"
   ]
  },
  {
   "cell_type": "code",
   "execution_count": null,
   "id": "1fc1f078-e8aa-4dca-a6f7-dc7e3d10ff87",
   "metadata": {},
   "outputs": [],
   "source": [
    "vert_names = \"b c d a\".split()\n",
    "corner_pairs = [('a', 'c'), ('b', 'd')]\n",
    "traj = y - x**2\n",
    "traj_expr = x**2"
   ]
  },
  {
   "cell_type": "code",
   "execution_count": null,
   "id": "e85dccfb-57f4-4c8a-829c-e8ecd682a91d",
   "metadata": {},
   "outputs": [],
   "source": [
    "traj"
   ]
  },
  {
   "cell_type": "markdown",
   "id": "73ed5e81-cbc0-44ef-ba64-1b0067f92003",
   "metadata": {},
   "source": [
    "note: are we missing the notch here???"
   ]
  },
  {
   "cell_type": "code",
   "execution_count": null,
   "id": "3225ce57-b069-4647-973f-a729e8054931",
   "metadata": {},
   "outputs": [],
   "source": [
    "print(full_lemma(diamond, vert_names, corner_pairs, traj, traj_expr))"
   ]
  },
  {
   "cell_type": "markdown",
   "id": "04feefa3-a684-48e1-9c36-55722383e8a9",
   "metadata": {},
   "source": [
    "## Square"
   ]
  },
  {
   "cell_type": "code",
   "execution_count": null,
   "id": "60cf8c48-8645-49c2-a8f4-8fd3b506e42e",
   "metadata": {},
   "outputs": [],
   "source": [
    "square = RegularPolygon(Point2D(0, 0), sqrt(2), 4, pi/4)\n",
    "plot_polygon(square, \"b c d a\".split())\n",
    "verts, lines = verts_and_lines(\"b c d a\".split(), square)\n",
    "verts"
   ]
  },
  {
   "cell_type": "code",
   "execution_count": null,
   "id": "c7de4055-079a-4810-8cef-ca8d0cb09a04",
   "metadata": {},
   "outputs": [],
   "source": [
    "vert_names = \"b c d a\".split()\n",
    "corner_pairs = [('a', 'c'), ('b', 'd')]\n",
    "traj = y - alpha*x\n",
    "traj_expr = alpha*x"
   ]
  },
  {
   "cell_type": "code",
   "execution_count": null,
   "id": "4aa25170-b8ff-4041-9d6f-0c9f3adf3ae0",
   "metadata": {},
   "outputs": [],
   "source": [
    "print(full_lemma(square, vert_names, corner_pairs, traj, traj_expr))"
   ]
  },
  {
   "cell_type": "markdown",
   "id": "a1b614f7-7968-4087-bf47-2a620994f141",
   "metadata": {},
   "source": [
    "# Imports"
   ]
  },
  {
   "cell_type": "code",
   "execution_count": 2,
   "id": "ab76e5f0-a65b-414c-bd46-2e2e3d898c4f",
   "metadata": {},
   "outputs": [],
   "source": [
    "import sys\n",
    "import os\n",
    "import string \n",
    "from sympy import expand, Line, Polygon, symbols, Point, Function, diff, Symbol, solve, Eq, plot, Piecewise, latex\n",
    "\n",
    "x, y, xo, yo, alpha = symbols(\"x y x_O y_O \\alpha\")\n",
    "\n",
    "# Add the parent directory to sys.path\n",
    "parent_dir = os.path.abspath(os.path.join(os.getcwd(), \"..\"))\n",
    "if parent_dir not in sys.path:\n",
    "    sys.path.append(parent_dir)\n",
    "    \n",
    "from pvs_utils import *"
   ]
  },
  {
   "cell_type": "markdown",
   "id": "6dc06002-ea91-4ca6-88fb-3aa46242b125",
   "metadata": {},
   "source": [
    "# General function $f(x)$"
   ]
  },
  {
   "cell_type": "markdown",
   "id": "1a067a2c-4699-4386-811e-f63580b60b3e",
   "metadata": {},
   "source": [
    "## Rectangle"
   ]
  },
  {
   "cell_type": "code",
   "execution_count": 7,
   "id": "8845f153-28e9-41ee-92c5-83f799540b1c",
   "metadata": {},
   "outputs": [
    {
     "data": {
      "image/png": "[encoded data removed]",
      "text/plain": [
       "<Figure size 640x480 with 1 Axes>"
      ]
     },
     "metadata": {},
     "output_type": "display_data"
    },
    {
     "data": {
      "text/plain": [
       "{'b': Point2D(-2, -1),\n",
       " 'c': Point2D(2, -1),\n",
       " 'd': Point2D(2, 1),\n",
       " 'a': Point2D(-2, 1)}"
      ]
     },
     "execution_count": 7,
     "metadata": {},
     "output_type": "execute_result"
    }
   ],
   "source": [
    "vertices = [(-2, -1), (2, -1), (2, 1), (-2, 1)]\n",
    "labels = string.ascii_lowercase[:len(vertices)]\n",
    "labels = list(labels[1:] + labels[:1])\n",
    "rect = Polygon(*[Point(v) for v in vertices])\n",
    "plot_polygon(rect, labels)\n",
    "verts, lines = verts_and_lines(labels, rect)\n",
    "verts"
   ]
  },
  {
   "cell_type": "code",
   "execution_count": 8,
   "id": "caa99597-b5f5-45bb-8af3-80d36fca3c4f",
   "metadata": {},
   "outputs": [],
   "source": [
    "corner_pairs = [('a', 'c'), ('b', 'd')]\n",
    "f = Function('f')(x)\n",
    "traj = y - f\n",
    "traj_expr = f"
   ]
  },
  {
   "cell_type": "code",
   "execution_count": 9,
   "id": "7341ea7b-294f-49d4-b091-4dd8a2c6de8f",
   "metadata": {},
   "outputs": [
    {
     "name": "stdout",
     "output_type": "stream",
     "text": [
      "Soundness(xo, yo, alpha: real) : bool =\n",
      "    (EXISTS (x : real) :\n",
      "    ((-x + xo + 2 >= 0) AND\n",
      "     (-x + xo - 2 <= 0) AND\n",
      "     (yo - f(x) + 1 >= 0) AND\n",
      "     (yo - f(x) - 1 <= 0))\n",
      "    IMPLIES\n",
      "    ((yo - f(xo - 2) - 1 >= 0) AND\n",
      "     (yo - f(xo + 2) + 1 <= 0)) OR\n",
      "    ((yo - f(xo - 2) + 1 >= 0) AND\n",
      "     (yo - f(xo + 2) - 1 <= 0)) OR\n",
      "    ((yo - f(xo + 2) - 1 >= 0) AND\n",
      "     (yo - f(xo - 2) + 1 <= 0)) OR\n",
      "    ((yo - f(xo + 2) + 1 >= 0) AND\n",
      "     (yo - f(xo - 2) - 1 <= 0))\n",
      "    \n"
     ]
    }
   ],
   "source": [
    "print(full_lemma(rect, labels, corner_pairs, traj, traj_expr, disjunction=True))"
   ]
  },
  {
   "cell_type": "markdown",
   "id": "e1e5f3bc-de75-4874-baa8-acc7b8028bca",
   "metadata": {
    "tags": []
   },
   "source": [
    "## Triangle with slope 1"
   ]
  },
  {
   "cell_type": "code",
   "execution_count": 6,
   "id": "5e204626-69d3-4c12-9afe-93ea49df5a2e",
   "metadata": {},
   "outputs": [
    {
     "data": {
      "image/png": "[encoded data removed]",
      "text/plain": [
       "<Figure size 640x480 with 1 Axes>"
      ]
     },
     "metadata": {},
     "output_type": "display_data"
    },
    {
     "data": {
      "text/plain": [
       "{'b': Point2D(-1, -1/2), 'c': Point2D(1, -1/2), 'a': Point2D(0, 1/2)}"
      ]
     },
     "execution_count": 6,
     "metadata": {},
     "output_type": "execute_result"
    }
   ],
   "source": [
    "vertices = [(-1, -0.5), (1, -0.5), (0, 0.5)]\n",
    "labels = string.ascii_lowercase[:len(vertices)]\n",
    "labels = list(labels[1:] + labels[:1])\n",
    "triangle = Polygon(*[Point(v) for v in vertices])\n",
    "plot_polygon(triangle, labels)\n",
    "verts, lines = verts_and_lines(labels, triangle)\n",
    "verts"
   ]
  },
  {
   "cell_type": "code",
   "execution_count": 85,
   "id": "d3d18575-3c01-4bc2-9b5f-238166e2257c",
   "metadata": {},
   "outputs": [
    {
     "data": {
      "image/png": "[encoded data removed]",
      "text/latex": [
       "$\\displaystyle \\left\\{ 1 : x - y + \\frac{1}{2} \\geq 0, \\  2 : y + \\frac{1}{2} \\geq 0, \\  3 : - x - y + \\frac{1}{2} \\geq 0\\right\\}$"
      ],
      "text/plain": [
       "{1: x - y + 1/2 ≥ 0, 2: y + 1/2 ≥ 0, 3: -x - y + 1/2 ≥ 0}"
      ]
     },
     "execution_count": 85,
     "metadata": {},
     "output_type": "execute_result"
    }
   ],
   "source": [
    "lines"
   ]
  },
  {
   "cell_type": "code",
   "execution_count": 86,
   "id": "9899111a-3b99-40b0-af95-55fd33a2cbcd",
   "metadata": {},
   "outputs": [],
   "source": [
    "corner_pairs = [('a', 'b'), ('a', 'c'), ('b', 'c')]\n",
    "f = Function('f')(x)\n",
    "traj = y - f\n",
    "traj_expr = f"
   ]
  },
  {
   "cell_type": "code",
   "execution_count": 87,
   "id": "2c71cae7-1eda-4a60-a537-3689b4c86d2b",
   "metadata": {},
   "outputs": [
    {
     "name": "stdout",
     "output_type": "stream",
     "text": [
      "Soundness(xo, yo, alpha: real) : bool =\n",
      "    (EXISTS (x : real) :\n",
      "    ((yo - f(x) + 1/2 >= 0) AND\n",
      "     (-x + xo - yo + f(x) + 1/2 >= 0) AND\n",
      "     (x - xo - yo + f(x) + 1/2 >= 0))\n",
      "    IMPLIES\n",
      "    ((yo - f(xo) - 1/2 >= 0) AND\n",
      "     (yo - f(xo - 1) + 1/2 <= 0)) OR\n",
      "    ((yo - f(xo) - 1/2 >= 0) AND\n",
      "     (yo - f(xo + 1) + 1/2 <= 0)) OR\n",
      "    ((yo - f(xo) - 1/2 <= 0) AND\n",
      "     (yo - f(xo - 1) + 1/2 >= 0)) OR\n",
      "    ((yo - f(xo) - 1/2 <= 0) AND\n",
      "     (yo - f(xo + 1) + 1/2 >= 0)) OR\n",
      "    ((yo - f(xo - 1) + 1/2 >= 0) AND\n",
      "     (yo - f(xo + 1) + 1/2 <= 0)) OR\n",
      "    ((yo - f(xo + 1) + 1/2 >= 0) AND\n",
      "     (yo - f(xo - 1) + 1/2 <= 0))\n",
      "    \n"
     ]
    }
   ],
   "source": [
    "print(full_lemma(triangle, labels, corner_pairs, traj, traj_expr, disjunction=True))"
   ]
  },
  {
   "cell_type": "code",
   "execution_count": 88,
   "id": "e308df84-7cc4-43f3-993f-ed1dd24644d2",
   "metadata": {},
   "outputs": [],
   "source": [
    "# TODO rewrite lemma structure to match what we have in existing proofs\n",
    "# split the multiplication into ANDS? \n",
    "\n",
    "# TODO what about mvt-gen-le, do we need this\n",
    "# TODO endpoint proof cases, regions of X for which \n",
    "# TODO generic triangle? \n",
    "# TODO square\n",
    "\n",
    "# tanner missing an assumption \n"
   ]
  },
  {
   "cell_type": "markdown",
   "id": "7ca07560-1f73-4d43-8936-2479c0b90f9d",
   "metadata": {},
   "source": [
    "## Triangle with slope 2"
   ]
  },
  {
   "cell_type": "code",
   "execution_count": 89,
   "id": "814ee0f2-c767-45b1-b3c5-15c1ab9faa96",
   "metadata": {},
   "outputs": [
    {
     "data": {
      "image/png": "[encoded data removed]",
      "text/plain": [
       "<Figure size 640x480 with 1 Axes>"
      ]
     },
     "metadata": {},
     "output_type": "display_data"
    },
    {
     "data": {
      "text/plain": [
       "{'b': Point2D(-1, -1), 'c': Point2D(1, -1), 'a': Point2D(0, 1)}"
      ]
     },
     "execution_count": 89,
     "metadata": {},
     "output_type": "execute_result"
    }
   ],
   "source": [
    "vertices = [(-1, -1), (1, -1), (0, 1)]\n",
    "labels = string.ascii_lowercase[:len(vertices)]\n",
    "labels = list(labels[1:] + labels[:1])\n",
    "triangle = Polygon(*[Point(v) for v in vertices])\n",
    "plot_polygon(triangle, labels)\n",
    "verts, lines = verts_and_lines(labels, triangle)\n",
    "verts"
   ]
  },
  {
   "cell_type": "code",
   "execution_count": 90,
   "id": "9fb5ff54-66d2-458c-b231-00fa63da89ba",
   "metadata": {},
   "outputs": [
    {
     "data": {
      "image/png": "[encoded data removed]",
      "text/latex": [
       "$\\displaystyle \\left\\{ 1 : 2 x - y + 1 \\geq 0, \\  2 : y + 1 \\geq 0, \\  3 : - 2 x - y + 1 \\geq 0\\right\\}$"
      ],
      "text/plain": [
       "{1: 2⋅x - y + 1 ≥ 0, 2: y + 1 ≥ 0, 3: -2⋅x - y + 1 ≥ 0}"
      ]
     },
     "execution_count": 90,
     "metadata": {},
     "output_type": "execute_result"
    }
   ],
   "source": [
    "lines"
   ]
  },
  {
   "cell_type": "code",
   "execution_count": 91,
   "id": "f22da66d-2026-4a1c-b9c1-a070126c5a93",
   "metadata": {},
   "outputs": [],
   "source": [
    "corner_pairs = [('a', 'b'), ('a', 'c'), ('b', 'c')]\n",
    "f = Function('f')(x)\n",
    "traj = y - f\n",
    "traj_expr = f"
   ]
  },
  {
   "cell_type": "code",
   "execution_count": 92,
   "id": "343cebf0-cbc8-47c0-9302-41fb6bd9fd68",
   "metadata": {},
   "outputs": [
    {
     "name": "stdout",
     "output_type": "stream",
     "text": [
      "Soundness(xo, yo, alpha: real) : bool =\n",
      "    (EXISTS (x : real) :\n",
      "    ((yo - f(x) + 1 >= 0) AND\n",
      "     (-2*x + 2*xo - yo + f(x) + 1 >= 0) AND\n",
      "     (2*x - 2*xo - yo + f(x) + 1 >= 0))\n",
      "    IMPLIES\n",
      "    ((yo - f(xo) - 1 >= 0) AND\n",
      "     (yo - f(xo - 1) + 1 <= 0)) OR\n",
      "    ((yo - f(xo) - 1 >= 0) AND\n",
      "     (yo - f(xo + 1) + 1 <= 0)) OR\n",
      "    ((yo - f(xo) - 1 <= 0) AND\n",
      "     (yo - f(xo - 1) + 1 >= 0)) OR\n",
      "    ((yo - f(xo) - 1 <= 0) AND\n",
      "     (yo - f(xo + 1) + 1 >= 0)) OR\n",
      "    ((yo - f(xo - 1) + 1 >= 0) AND\n",
      "     (yo - f(xo + 1) + 1 <= 0)) OR\n",
      "    ((yo - f(xo + 1) + 1 >= 0) AND\n",
      "     (yo - f(xo - 1) + 1 <= 0))\n",
      "    \n"
     ]
    }
   ],
   "source": [
    "print(full_lemma(triangle, labels, corner_pairs, traj, traj_expr, disjunction=True))"
   ]
  },
  {
   "cell_type": "code",
   "execution_count": 93,
   "id": "34951503-a239-453e-b53b-419183d25106",
   "metadata": {},
   "outputs": [
    {
     "data": {
      "image/png": "[encoded data removed]",
      "text/latex": [
       "$\\displaystyle x^{2} + 2 x + 3$"
      ],
      "text/plain": [
       " 2          \n",
       "x  + 2⋅x + 3"
      ]
     },
     "execution_count": 93,
     "metadata": {},
     "output_type": "execute_result"
    }
   ],
   "source": [
    "quad = x ** 2 + 2*x + 3\n",
    "quad"
   ]
  },
  {
   "cell_type": "code",
   "execution_count": 94,
   "id": "1a3e6e2b-cc73-4c65-ac90-aa413507b470",
   "metadata": {},
   "outputs": [
    {
     "data": {
      "image/png": "[encoded data removed]",
      "text/latex": [
       "$\\displaystyle 2 x + 2$"
      ],
      "text/plain": [
       "2⋅x + 2"
      ]
     },
     "execution_count": 94,
     "metadata": {},
     "output_type": "execute_result"
    }
   ],
   "source": [
    "diff(quad, x)"
   ]
  },
  {
   "cell_type": "code",
   "execution_count": 95,
   "id": "9fad86b2-624a-4f98-85c2-b0a37174df11",
   "metadata": {},
   "outputs": [
    {
     "data": {
      "image/png": "[encoded data removed]",
      "text/latex": [
       "$\\displaystyle 2 a + 2$"
      ],
      "text/plain": [
       "2⋅a + 2"
      ]
     },
     "execution_count": 95,
     "metadata": {},
     "output_type": "execute_result"
    }
   ],
   "source": [
    "diff(quad, x).subs(x, Symbol(\"a\"))"
   ]
  },
  {
   "cell_type": "code",
   "execution_count": 96,
   "id": "d9a0c5c4-121a-4dcc-94ce-a9812b3e46f6",
   "metadata": {},
   "outputs": [
    {
     "data": {
      "image/png": "[encoded data removed]",
      "text/latex": [
       "$\\displaystyle \\left[ -1\\right]$"
      ],
      "text/plain": [
       "[-1]"
      ]
     },
     "execution_count": 96,
     "metadata": {},
     "output_type": "execute_result"
    }
   ],
   "source": [
    "solve(Eq(diff(x ** 2 + 2*x + 3, x), 0)) # 1 here is slope of side of some polygon"
   ]
  },
  {
   "cell_type": "markdown",
   "id": "d1b87c6c-2c52-4a78-9615-3714f0cc8ada",
   "metadata": {},
   "source": [
    "## Parabola then straight"
   ]
  },
  {
   "cell_type": "code",
   "execution_count": 97,
   "id": "0a437e8d-fb43-4215-b566-4975a20ffed5",
   "metadata": {},
   "outputs": [
    {
     "data": {
      "image/png": "[encoded data removed]",
      "text/latex": [
       "$\\displaystyle \\begin{cases} \\frac{m x^{2}}{2 x_{0}} & \\text{for}\\: x < x_{0} \\\\m x - \\frac{m x_{0}}{2} & \\text{otherwise} \\end{cases}$"
      ],
      "text/plain": [
       "⎧      2               \n",
       "⎪   m⋅x                \n",
       "⎪   ────     for x < x₀\n",
       "⎪   2⋅x₀               \n",
       "⎨                      \n",
       "⎪      m⋅x₀            \n",
       "⎪m⋅x - ────  otherwise \n",
       "⎪       2              \n",
       "⎩                      "
      ]
     },
     "execution_count": 97,
     "metadata": {},
     "output_type": "execute_result"
    }
   ],
   "source": [
    "# Define variables\n",
    "x, a, m, x0, d = symbols('x a m x0 d')\n",
    "\n",
    "# Parabola and line equations\n",
    "parabola = a * x**2\n",
    "line = m * x + d\n",
    "\n",
    "# Solve for continuity and smoothness at x0\n",
    "value_match = Eq(a * x0**2, m * x0 + d)\n",
    "derivative_match = Eq(2 * a * x0, m)\n",
    "\n",
    "# Solve for a and d\n",
    "solutions = solve([value_match, derivative_match], (a, d))\n",
    "\n",
    "# Substitute the solutions back\n",
    "parabola_smooth = parabola.subs(solutions)\n",
    "line_smooth = line.subs(solutions)\n",
    "\n",
    "# Define the piecewise function\n",
    "piecewise_function = Piecewise((parabola_smooth, x < x0), (line_smooth, x >= x0))\n",
    "\n",
    "piecewise_function"
   ]
  },
  {
   "cell_type": "code",
   "execution_count": 98,
   "id": "491ec9e2-4b4a-4020-af45-d59edea53ec2",
   "metadata": {},
   "outputs": [
    {
     "data": {
      "image/png": "[encoded data removed]",
      "text/plain": [
       "<Figure size 640x480 with 1 Axes>"
      ]
     },
     "metadata": {},
     "output_type": "display_data"
    },
    {
     "data": {
      "text/plain": [
       "<sympy.plotting.backends.matplotlibbackend.matplotlib.MatplotlibBackend at 0x1144079d0>"
      ]
     },
     "execution_count": 98,
     "metadata": {},
     "output_type": "execute_result"
    }
   ],
   "source": [
    "plot(piecewise_function.subs({m: 1, x0: 3}))"
   ]
  },
  {
   "cell_type": "code",
   "execution_count": 99,
   "id": "4b414344-5e8f-465d-aed5-d22851e5a25a",
   "metadata": {},
   "outputs": [
    {
     "data": {
      "image/png": "[encoded data removed]",
      "text/plain": [
       "<Figure size 640x480 with 1 Axes>"
      ]
     },
     "metadata": {},
     "output_type": "display_data"
    }
   ],
   "source": [
    "w, h = symbols(\"w h\")\n",
    "\n",
    "rectverts = [(w, -h), (w, h), (-w, h), (-w, -h)]\n",
    "w = 2 \n",
    "h = 1\n",
    "rectverts = [(w, -h), (w, h), (-w, h), (-w, -h)]\n",
    "rect = Polygon(*rectverts)\n",
    "plot_polygon(rect, \"b c d a\".split())\n",
    "labels = string.ascii_lowercase[:len(rectverts)]\n",
    "labels = list(labels[1:] + labels[:1])"
   ]
  },
  {
   "cell_type": "code",
   "execution_count": 100,
   "id": "2c24ef56-58c1-48ae-add9-4988559c5d07",
   "metadata": {},
   "outputs": [],
   "source": [
    "verts, lines = verts_and_lines(labels, rect)"
   ]
  },
  {
   "cell_type": "code",
   "execution_count": 101,
   "id": "1dad4304-74d4-4762-b38a-08b933fb4414",
   "metadata": {},
   "outputs": [],
   "source": [
    "corner_pairs = [('a', 'c'), ('b', 'd')]\n",
    "traj = y - piecewise_function\n",
    "traj_expr = piecewise_function"
   ]
  },
  {
   "cell_type": "code",
   "execution_count": null,
   "id": "1a63e7c1-adf6-4bc5-83e8-79abc85d2ac4",
   "metadata": {},
   "outputs": [],
   "source": []
  },
  {
   "cell_type": "code",
   "execution_count": 102,
   "id": "2df29deb-bc17-4ab6-91c2-80f615aa66d7",
   "metadata": {},
   "outputs": [
    {
     "name": "stdout",
     "output_type": "stream",
     "text": [
      "Soundness(xo, yo, alpha: real) : bool =\n",
      "    (EXISTS (x : real) :\n",
      "    ((-x + xo + 2 >= 0) AND\n",
      "     (-x + xo - 2 <= 0) AND\n",
      "     (yo - Piecewise((m*x^2/(2*x0), x < x0), (m*x - m*x0/2, True)) + 1 >= 0) AND\n",
      "     (yo - Piecewise((m*x^2/(2*x0), x < x0), (m*x - m*x0/2, True)) - 1 <= 0))\n",
      "    IMPLIES\n",
      "    ((yo - Piecewise((m*xo^2/(2*x0) - 2*m*xo/x0 + 2*m/x0, x0 > xo - 2), (-m*x0/2 + m*xo - 2*m, True)) - 1 >= 0) AND\n",
      "     (yo - Piecewise((m*xo^2/(2*x0) + 2*m*xo/x0 + 2*m/x0, x0 > xo + 2), (-m*x0/2 + m*xo + 2*m, True)) + 1 <= 0)) OR\n",
      "    ((yo - Piecewise((m*xo^2/(2*x0) - 2*m*xo/x0 + 2*m/x0, x0 > xo - 2), (-m*x0/2 + m*xo - 2*m, True)) + 1 >= 0) AND\n",
      "     (yo - Piecewise((m*xo^2/(2*x0) + 2*m*xo/x0 + 2*m/x0, x0 > xo + 2), (-m*x0/2 + m*xo + 2*m, True)) - 1 <= 0)) OR\n",
      "    ((yo - Piecewise((m*xo^2/(2*x0) + 2*m*xo/x0 + 2*m/x0, x0 > xo + 2), (-m*x0/2 + m*xo + 2*m, True)) - 1 >= 0) AND\n",
      "     (yo - Piecewise((m*xo^2/(2*x0) - 2*m*xo/x0 + 2*m/x0, x0 > xo - 2), (-m*x0/2 + m*xo - 2*m, True)) + 1 <= 0)) OR\n",
      "    ((yo - Piecewise((m*xo^2/(2*x0) + 2*m*xo/x0 + 2*m/x0, x0 > xo + 2), (-m*x0/2 + m*xo + 2*m, True)) + 1 >= 0) AND\n",
      "     (yo - Piecewise((m*xo^2/(2*x0) - 2*m*xo/x0 + 2*m/x0, x0 > xo - 2), (-m*x0/2 + m*xo - 2*m, True)) - 1 <= 0))\n",
      "    \n"
     ]
    }
   ],
   "source": [
    "print(full_lemma(rect, labels, corner_pairs, traj, traj_expr, disjunction=True))"
   ]
  },
  {
   "cell_type": "code",
   "execution_count": 103,
   "id": "06287c92-b22b-467d-96ab-58689f4d7348",
   "metadata": {},
   "outputs": [
    {
     "name": "stdout",
     "output_type": "stream",
     "text": [
      "\\left(yo - \\begin{cases} \\frac{m xo^{2}}{2 x_{0}} - \\frac{2 m xo}{x_{0}} + \\frac{2 m}{x_{0}} & \\text{for}\\: x_{0} > xo - 2 \\\\- \\frac{m x_{0}}{2} + m xo - 2 m & \\text{otherwise} \\end{cases} - 1 \\geq 0 \\wedge yo - \\begin{cases} \\frac{m xo^{2}}{2 x_{0}} + \\frac{2 m xo}{x_{0}} + \\frac{2 m}{x_{0}} & \\text{for}\\: x_{0} > xo + 2 \\\\- \\frac{m x_{0}}{2} + m xo + 2 m & \\text{otherwise} \\end{cases} + 1 \\leq 0\\right) \\vee \\left(yo - \\begin{cases} \\frac{m xo^{2}}{2 x_{0}} - \\frac{2 m xo}{x_{0}} + \\frac{2 m}{x_{0}} & \\text{for}\\: x_{0} > xo - 2 \\\\- \\frac{m x_{0}}{2} + m xo - 2 m & \\text{otherwise} \\end{cases} + 1 \\geq 0 \\wedge yo - \\begin{cases} \\frac{m xo^{2}}{2 x_{0}} + \\frac{2 m xo}{x_{0}} + \\frac{2 m}{x_{0}} & \\text{for}\\: x_{0} > xo + 2 \\\\- \\frac{m x_{0}}{2} + m xo + 2 m & \\text{otherwise} \\end{cases} - 1 \\leq 0\\right) \\vee \\left(yo - \\begin{cases} \\frac{m xo^{2}}{2 x_{0}} + \\frac{2 m xo}{x_{0}} + \\frac{2 m}{x_{0}} & \\text{for}\\: x_{0} > xo + 2 \\\\- \\frac{m x_{0}}{2} + m xo + 2 m & \\text{otherwise} \\end{cases} - 1 \\geq 0 \\wedge yo - \\begin{cases} \\frac{m xo^{2}}{2 x_{0}} - \\frac{2 m xo}{x_{0}} + \\frac{2 m}{x_{0}} & \\text{for}\\: x_{0} > xo - 2 \\\\- \\frac{m x_{0}}{2} + m xo - 2 m & \\text{otherwise} \\end{cases} + 1 \\leq 0\\right) \\vee \\left(yo - \\begin{cases} \\frac{m xo^{2}}{2 x_{0}} + \\frac{2 m xo}{x_{0}} + \\frac{2 m}{x_{0}} & \\text{for}\\: x_{0} > xo + 2 \\\\- \\frac{m x_{0}}{2} + m xo + 2 m & \\text{otherwise} \\end{cases} + 1 \\geq 0 \\wedge yo - \\begin{cases} \\frac{m xo^{2}}{2 x_{0}} - \\frac{2 m xo}{x_{0}} + \\frac{2 m}{x_{0}} & \\text{for}\\: x_{0} > xo - 2 \\\\- \\frac{m x_{0}}{2} + m xo - 2 m & \\text{otherwise} \\end{cases} - 1 \\leq 0\\right)\n"
     ]
    }
   ],
   "source": [
    "print(latex(generate_explicit_disjunction(corner_pairs, traj, verts)))"
   ]
  },
  {
   "cell_type": "code",
   "execution_count": null,
   "id": "da6dc7be-da5e-4c96-b351-d96de486f2d3",
   "metadata": {},
   "outputs": [],
   "source": []
  },
  {
   "cell_type": "markdown",
   "id": "60a4d626-1cac-4c03-b1fe-ec27c41a853e",
   "metadata": {},
   "source": [
    "## Prooflite"
   ]
  },
  {
   "cell_type": "code",
   "execution_count": 104,
   "id": "cd4c6c05-2b83-4081-b29f-f3a383fe15c7",
   "metadata": {},
   "outputs": [
    {
     "name": "stdout",
     "output_type": "stream",
     "text": [
      "The autoreload extension is already loaded. To reload it, use:\n",
      "  %reload_ext autoreload\n"
     ]
    }
   ],
   "source": [
    "%load_ext autoreload\n",
    "%autoreload 2"
   ]
  },
  {
   "cell_type": "markdown",
   "id": "bd2c15b0-2dd9-4673-a184-8450301c6e17",
   "metadata": {},
   "source": [
    "### First Claude version"
   ]
  },
  {
   "cell_type": "code",
   "execution_count": 45,
   "id": "5e5f1a7e-5210-4ff6-8c41-7e34369bdedc",
   "metadata": {},
   "outputs": [],
   "source": [
    "# class ProofNode:\n",
    "#     def __init__(self, command, args=None):\n",
    "#         self.command = command\n",
    "#         self.args = args if args else []\n",
    "#         self.children = []\n",
    "\n",
    "#     def add_child(self, node):\n",
    "#         self.children.append(node)\n",
    "#         return node\n",
    "\n",
    "#     def generate(self, indent=\"%|- \"):\n",
    "#         if not self.children:\n",
    "#             cmd = f\"({self.command}\"\n",
    "#             if self.args:\n",
    "#                 cmd += \" \" + \" \".join(str(arg) for arg in self.args)\n",
    "#             return cmd + \")\"\n",
    "\n",
    "#         cmd = f\"({self.command}\"\n",
    "#         if self.args:\n",
    "#             cmd += \" \" + \" \".join(str(arg) for arg in self.args)\n",
    "\n",
    "#         if len(self.children) == 1:\n",
    "#             cmd += \" \" + self.children[0].generate(indent).strip()\n",
    "#             return cmd + \")\"\n",
    "\n",
    "#         child_proofs = [c.generate(indent) for c in self.children]\n",
    "#         return f\"{cmd}\\n{indent} \" + f\"\\n{indent} \".join(child_proofs) + \")\"\n",
    "\n",
    "\n",
    "# class ProofScript:\n",
    "#     def __init__(self, lemma_name):\n",
    "#         self.lemma_name = lemma_name\n",
    "#         self.root = None\n",
    "\n",
    "#     def generate(self):\n",
    "#         lines = []\n",
    "#         lines.append(f\"%|- {self.lemma_name} : PROOF\")\n",
    "#         lines.append(f\"%|- {self.root.generate()}\")\n",
    "#         lines.append(f\"%|- QED {self.lemma_name}\")\n",
    "#         return \"\\n\".join(lines)\n",
    "\n",
    "class ProofNode:\n",
    "    def __init__(self, command, args=None):\n",
    "        self.command = command\n",
    "        self.args = args if args else []\n",
    "        self.children = []\n",
    "        \n",
    "    def add_child(self, node):\n",
    "        self.children.append(node)\n",
    "        return node\n",
    "        \n",
    "    def add_children(self, nodes):\n",
    "        self.children.extend(nodes)\n",
    "        return nodes\n",
    "        \n",
    "    def generate(self, indent=\"%|- \", depth=0):\n",
    "        base_indent = indent + \" \" * depth\n",
    "        \n",
    "        # Base case - no children\n",
    "        if not self.children:\n",
    "            return f\"({self.command}{' ' + ' '.join(str(arg) for arg in self.args) if self.args else ''})\"\n",
    "            \n",
    "        # Single child - keep on same line\n",
    "        if len(self.children) == 1 and len(self.children[0].children) == 0:\n",
    "            return f\"({self.command}{' ' + ' '.join(str(arg) for arg in self.args) if self.args else ''} {self.children[0].generate(indent, depth)})\"\n",
    "        \n",
    "        # Multiple children or nested structures\n",
    "        result = f\"({self.command}{' ' + ' '.join(str(arg) for arg in self.args) if self.args else ''}\"\n",
    "        \n",
    "        child_proofs = [c.generate(indent, depth + 1) for c in self.children]\n",
    "        child_str = f\"\\n{base_indent} \".join(child_proofs)\n",
    "        \n",
    "        return f\"{result}\\n{base_indent} {child_str})\"\n",
    "\n",
    "    \n",
    "class ProofScript:\n",
    "    def __init__(self, lemma_name):\n",
    "        self.lemma_name = lemma_name\n",
    "        self.root = None\n",
    "        \n",
    "    def generate(self):\n",
    "        lines = []\n",
    "        lines.append(f\"%|- {self.lemma_name} : PROOF\")\n",
    "        lines.append(f\"%|- {self.root.generate()}\")\n",
    "        lines.append(f\"%|- QED {self.lemma_name}\")\n",
    "        return \"\\n\".join(lines)\n",
    "\n",
    "# Example usage:\n",
    "def build_rect_proof(lemma_name, mvt_lemma, inst_terms):\n",
    "    script = ProofScript(lemma_name)\n",
    "\n",
    "    then = ProofNode(\"THEN\")\n",
    "    script.root = then\n",
    "\n",
    "    then.add_child(ProofNode(\"SKEEP*\"))\n",
    "    then.add_child(ProofNode(\"LEMMA\", [f'\"{mvt_lemma}\"']))\n",
    "    then.add_child(ProofNode(\"INST?\"))\n",
    "    then.add_child(ProofNode(\"ASSERT\"))\n",
    "\n",
    "    spread = ProofNode(\"SPREAD\")\n",
    "    then.add_child(spread)\n",
    "\n",
    "    split = ProofNode(\"SPLIT\", [\"-1\"])\n",
    "    spread.add_child(split)\n",
    "\n",
    "    branch1 = ProofNode(\"THEN\")\n",
    "    branch1.add_child(ProofNode(\"ASSERT\"))\n",
    "    for i in range(len(inst_terms) - 1):\n",
    "        branch1.add_child(\n",
    "            ProofNode(\"INST\", [\"-1\", f'\"{inst_terms[i]}\"', f'\"{inst_terms[i+1]}\"'])\n",
    "        )\n",
    "        branch1.add_child(ProofNode(\"ASSERT\"))\n",
    "\n",
    "    branch2 = ProofNode(\"PROPAX\")\n",
    "\n",
    "    spread.add_child(branch1)\n",
    "    spread.add_child(branch2)\n",
    "\n",
    "    return script\n"
   ]
  },
  {
   "cell_type": "code",
   "execution_count": 46,
   "id": "9a11c251-3637-4ffb-aa82-893860f37ce5",
   "metadata": {},
   "outputs": [
    {
     "name": "stdout",
     "output_type": "stream",
     "text": [
      "%|- bound11_rect_function : PROOF\n",
      "%|- (THEN\n",
      "%|-  (SKEEP*)\n",
      "%|-  (LEMMA \"mvt_gen_ge\")\n",
      "%|-  (INST?)\n",
      "%|-  (ASSERT)\n",
      "%|-  (SPREAD\n",
      "%|-   (SPLIT -1)\n",
      "%|-   (THEN\n",
      "%|-    (ASSERT)\n",
      "%|-    (INST -1 \"xo + 2\" \"x\")\n",
      "%|-    (ASSERT)\n",
      "%|-    (INST -1 \"x\" \"xo - 2\")\n",
      "%|-    (ASSERT))\n",
      "%|-   (PROPAX)))\n",
      "%|- QED bound11_rect_function\n"
     ]
    }
   ],
   "source": [
    "proof = build_rect_proof(\n",
    "   \"bound11_rect_function\",\n",
    "   \"mvt_gen_ge\", \n",
    "   [\"xo + 2\", \"x\", \"xo - 2\"]\n",
    ")\n",
    "print(proof.generate())"
   ]
  },
  {
   "cell_type": "code",
   "execution_count": 47,
   "id": "018c32a8-c188-44a3-8f51-a6940ffa0d7e",
   "metadata": {},
   "outputs": [],
   "source": [
    "def build_rect_proof(lemma_name, mvt_lemma, inst_terms):\n",
    "    script = ProofScript(lemma_name)\n",
    "\n",
    "    then = ProofNode(\"THEN\")\n",
    "    script.root = then\n",
    "\n",
    "    then.add_child(ProofNode(\"SKEEP*\"))\n",
    "    then.add_child(ProofNode(\"LEMMA\", [f'\"{mvt_lemma}\"']))\n",
    "    then.add_child(ProofNode(\"INST?\"))\n",
    "    then.add_child(ProofNode(\"ASSERT\"))\n",
    "\n",
    "    spread1 = ProofNode(\"SPREAD\")\n",
    "    then.add_child(spread1)\n",
    "\n",
    "    split1 = ProofNode(\"SPLIT\", [\"-1\"])\n",
    "    spread1.add_child(split1)\n",
    "\n",
    "    # First branch\n",
    "    branch1 = ProofNode(\"THEN\")\n",
    "    branch1.add_child(ProofNode(\"ASSERT\"))\n",
    "    branch1.add_child(ProofNode(\"INST\", [\"-1\", f'\"{inst_terms[0]}\"', f'\"{inst_terms[1]}\"']))\n",
    "    branch1.add_child(ProofNode(\"ASSERT\"))\n",
    "    branch1.add_child(ProofNode(\"LEMMA\", [f'\"{mvt_lemma}\"']))\n",
    "    branch1.add_child(ProofNode(\"INST?\"))\n",
    "    branch1.add_child(ProofNode(\"ASSERT\"))\n",
    "\n",
    "    # Nested spread\n",
    "    spread2 = ProofNode(\"SPREAD\")\n",
    "    branch1.add_child(spread2)\n",
    "\n",
    "    split2 = ProofNode(\"SPLIT\", [\"-1\"]) \n",
    "    spread2.add_child(split2)\n",
    "\n",
    "    # Inner branches\n",
    "    inner_branch1 = ProofNode(\"THEN\")\n",
    "    inner_branch1.add_child(ProofNode(\"INST\", [\"-1\", f'\"{inst_terms[1]}\"', f'\"{inst_terms[2]}\"']))\n",
    "    inner_branch1.add_child(ProofNode(\"ASSERT\"))\n",
    "\n",
    "    inner_branch2 = ProofNode(\"PROPAX\")\n",
    "\n",
    "    # Structure the nested spread\n",
    "    spread2.add_children([inner_branch1, inner_branch2]) \n",
    "\n",
    "    # Second main branch\n",
    "    branch2 = ProofNode(\"PROPAX\")\n",
    "\n",
    "    # Structure the outer spread\n",
    "    spread1.add_children([branch1, branch2])\n",
    "\n",
    "    return script"
   ]
  },
  {
   "cell_type": "code",
   "execution_count": 48,
   "id": "de245e3c-9cfc-4ce7-bd12-59aa0bbc0509",
   "metadata": {},
   "outputs": [
    {
     "name": "stdout",
     "output_type": "stream",
     "text": [
      "%|- bound12_rect_function : PROOF\n",
      "%|- (THEN\n",
      "%|-  (SKEEP*)\n",
      "%|-  (LEMMA \"mvt_gen_ge\")\n",
      "%|-  (INST?)\n",
      "%|-  (ASSERT)\n",
      "%|-  (SPREAD\n",
      "%|-   (SPLIT -1)\n",
      "%|-   (THEN\n",
      "%|-    (ASSERT)\n",
      "%|-    (INST -1 \"xo + 2\" \"x\")\n",
      "%|-    (ASSERT)\n",
      "%|-    (LEMMA \"mvt_gen_ge\")\n",
      "%|-    (INST?)\n",
      "%|-    (ASSERT)\n",
      "%|-    (SPREAD\n",
      "%|-     (SPLIT -1)\n",
      "%|-     (THEN\n",
      "%|-      (INST -1 \"x\" \"xo - 2\")\n",
      "%|-      (ASSERT))\n",
      "%|-     (PROPAX)))\n",
      "%|-   (PROPAX)))\n",
      "%|- QED bound12_rect_function\n"
     ]
    }
   ],
   "source": [
    "proof = build_rect_proof(\n",
    "    \"bound12_rect_function\",\n",
    "    \"mvt_gen_ge\",\n",
    "    [\"xo + 2\", \"x\", \"xo - 2\"]\n",
    ")\n",
    "print(proof.generate())"
   ]
  },
  {
   "cell_type": "markdown",
   "id": "05def8be-af8d-4ce2-bef0-194e603cb004",
   "metadata": {},
   "source": [
    "### Claude refactor"
   ]
  },
  {
   "cell_type": "code",
   "execution_count": 49,
   "id": "72534cfd-8fd2-4585-9b08-0179b2c680d9",
   "metadata": {},
   "outputs": [],
   "source": [
    "class ProofNode:\n",
    "    def __init__(self, command, args=None):\n",
    "        self.command = command\n",
    "        self.args = args if args else []\n",
    "        self.children = []\n",
    "        \n",
    "    def __repr__(self):\n",
    "        args_str = f\" {self.args}\" if self.args else \"\"\n",
    "        children_str = f\" children={len(self.children)}\" if self.children else \"\"\n",
    "        return f\"ProofNode({self.command}{args_str}{children_str})\"\n",
    "\n",
    "        \n",
    "    def add_child(self, node):\n",
    "        self.children.append(node)\n",
    "        return node\n",
    "        \n",
    "    def add_children(self, nodes):\n",
    "        self.children.extend(nodes)\n",
    "        return nodes\n",
    "            \n",
    "    def generate(self, indent=\"%|- \", depth=0, n_spaces=4):\n",
    "        if self.command == \"()\":  # Special handling for wrapper nodes\n",
    "            # Generate children with extra parentheses\n",
    "            child_proofs = [c.generate(indent, depth) for c in self.children]\n",
    "            return f\"({' '.join(child_proofs)})\"\n",
    "        base_indent = indent + \" \" * depth * n_spaces\n",
    "\n",
    "        # Base case - no children\n",
    "        if not self.children:\n",
    "            return f\"({self.command}{' ' + ' '.join(str(arg) for arg in self.args) if self.args else ''})\"\n",
    "\n",
    "        # Multiple children or nested structures\n",
    "        result = f\"({self.command}{' ' + ' '.join(str(arg) for arg in self.args) if self.args else ''}\"\n",
    "\n",
    "        child_proofs = [c.generate(indent, depth + 1) for c in self.children]\n",
    "        child_str = f\"\\n{base_indent} \".join(child_proofs)\n",
    "\n",
    "        return f\"{result}\\n{base_indent} {child_str})\"\n",
    "            \n",
    "\n",
    "class ProofBuilder:\n",
    "    def __init__(self):\n",
    "        self.indent = \"%|- \"\n",
    "        \n",
    "    def __repr__(self):\n",
    "        return f\"ProofBuilder(indent='{self.indent}')\"\n",
    "        \n",
    "        \n",
    "    def create_then_sequence(self, *steps):\n",
    "        then = ProofNode(\"THEN\")\n",
    "        for step in steps:\n",
    "            if isinstance(step, list):\n",
    "                for s in step:\n",
    "                    then.add_child(s)\n",
    "            else:\n",
    "                then.add_child(step)\n",
    "        return then\n",
    "\n",
    "#     def create_spread_split(self, branches):\n",
    "#         spread = ProofNode(\"SPREAD\")\n",
    "#         split = ProofNode(\"SPLIT\", [\"-1\"])\n",
    "#         spread.add_child(split)\n",
    "        \n",
    "#         # Add each branch within extra parentheses\n",
    "#         for i, branch in enumerate(branches):\n",
    "#             print(branch)\n",
    "#             if i == 0:\n",
    "#                 wrapper = ProofNode(\"()\")  # Special node type for extra parentheses\n",
    "#                 wrapper.add_children(branch)\n",
    "#                 spread.add_child(wrapper)\n",
    "#             else:\n",
    "#                 spread.add_child(branch)\n",
    "#         # for i, branch in enumerate(branches):\n",
    "#         #     wrapper = ProofNode(\"()\")  # Special node type for extra parentheses\n",
    "#         #     wrapper.add_children(branch)\n",
    "#         #     spread.add_child(wrapper)\n",
    "#         return spread\n",
    "        \n",
    "    def create_spread_split(self, branches):\n",
    "        spread = ProofNode(\"SPREAD\")\n",
    "        split = ProofNode(\"SPLIT\", [\"-1\"])\n",
    "        spread.add_child(split)\n",
    "\n",
    "        # Remove extra list nesting for branches\n",
    "        first_branch = branches[0][0]  # Extract from double list\n",
    "        wrapper = ProofNode(\"()\")\n",
    "        wrapper.add_child(first_branch)\n",
    "        spread.add_child(wrapper)\n",
    "\n",
    "        # Add remaining branches directly\n",
    "        for branch in branches[1:]:\n",
    "            spread.add_child(branch[0])  # Extract from list\n",
    "\n",
    "        return spread    \n",
    "        \n",
    "        \n",
    "    def create_mvt_step(self, mvt_lemma):\n",
    "        return [\n",
    "            ProofNode(\"LEMMA\", [f'\"{mvt_lemma}\"']),\n",
    "            ProofNode(\"INST?\"),\n",
    "            ProofNode(\"ASSERT\")\n",
    "        ]\n",
    "        \n",
    "    def create_inst_step(self, term1, term2):\n",
    "        return [\n",
    "            ProofNode(\"INST\", [\"-1\", f'\"{term1}\"', f'\"{term2}\"']),\n",
    "            ProofNode(\"ASSERT\")\n",
    "        ]\n",
    "\n",
    "    def build_rect_proof(self, lemma_name, mvt_lemma, inst_terms):\n",
    "        script = ProofScript(lemma_name)\n",
    "        \n",
    "        root = self.create_then_sequence(\n",
    "            ProofNode(\"SKEEP*\"),\n",
    "            *self.create_mvt_step(mvt_lemma)\n",
    "        )\n",
    "        \n",
    "        # Inner branch with THEN sequence\n",
    "        inner_then = self.create_then_sequence(\n",
    "            *self.create_inst_step(inst_terms[1], inst_terms[2])\n",
    "        )\n",
    "        \n",
    "        # Inner SPREAD with branches in list\n",
    "        inner_spread = self.create_spread_split([[inner_then], [ProofNode(\"PROPAX\")]])\n",
    "        \n",
    "        # Main branch with THEN sequence\n",
    "        main_branch = self.create_then_sequence(\n",
    "            ProofNode(\"ASSERT\"),\n",
    "            *self.create_inst_step(inst_terms[0], inst_terms[1]),\n",
    "            *self.create_mvt_step(mvt_lemma),\n",
    "            inner_spread\n",
    "        )\n",
    "        \n",
    "        # Outer SPREAD with branches in list \n",
    "        outer_spread = self.create_spread_split([[main_branch], [ProofNode(\"PROPAX\")]])\n",
    "        root.add_child(outer_spread)\n",
    "        script.root = root\n",
    "        return script\n",
    "\n",
    "class ProofScript:\n",
    "    def __init__(self, lemma_name):\n",
    "        self.lemma_name = lemma_name\n",
    "        self.root = None\n",
    "        \n",
    "    def generate(self):\n",
    "        try:\n",
    "            lines = []\n",
    "            lines.append(f\"%|- {self.lemma_name} : PROOF\")\n",
    "            lines.append(f\"%|- {self.root.generate()}\")\n",
    "            lines.append(f\"%|- QED {self.lemma_name}\")\n",
    "            return \"\\n\".join(lines)\n",
    "        except:\n",
    "            print(self.lemma_name)\n",
    "            print(self.root)"
   ]
  },
  {
   "cell_type": "code",
   "execution_count": 50,
   "id": "4b04f17f-ba57-40ca-926b-6def3324cf18",
   "metadata": {},
   "outputs": [
    {
     "name": "stdout",
     "output_type": "stream",
     "text": [
      "%|- bound13_rect_function : PROOF\n",
      "%|- (THEN\n",
      "%|-  (SKEEP*)\n",
      "%|-  (LEMMA \"mvt_gen_ge\")\n",
      "%|-  (INST?)\n",
      "%|-  (ASSERT)\n",
      "%|-  (SPREAD\n",
      "%|-      (SPLIT -1)\n",
      "%|-      ((THEN\n",
      "%|-          (ASSERT)\n",
      "%|-          (INST -1 \"xo + 2\" \"x\")\n",
      "%|-          (ASSERT)\n",
      "%|-          (LEMMA \"mvt_gen_ge\")\n",
      "%|-          (INST?)\n",
      "%|-          (ASSERT)\n",
      "%|-          (SPREAD\n",
      "%|-              (SPLIT -1)\n",
      "%|-              ((THEN\n",
      "%|-                  (INST -1 \"x\" \"xo - 2\")\n",
      "%|-                  (ASSERT)))\n",
      "%|-              (PROPAX))))\n",
      "%|-      (PROPAX)))\n",
      "%|- QED bound13_rect_function\n"
     ]
    }
   ],
   "source": [
    "# Rectangle proof\n",
    "builder = ProofBuilder()\n",
    "rect_proof = builder.build_rect_proof(\n",
    "    \"bound13_rect_function\",\n",
    "    \"mvt_gen_ge\",\n",
    "    [\"xo + 2\", \"x\", \"xo - 2\"]\n",
    ")\n",
    "print(rect_proof.generate())"
   ]
  },
  {
   "cell_type": "markdown",
   "id": "ac7027eb-86a5-468c-9c73-4291bdc6cf46",
   "metadata": {},
   "source": [
    "### ChatGPT `o3-mini-high` solution"
   ]
  },
  {
   "cell_type": "code",
   "execution_count": 51,
   "id": "f0060e4a-cb07-44fd-9dbe-76a8fb15b13b",
   "metadata": {},
   "outputs": [],
   "source": [
    "class ProofNode:\n",
    "    def __init__(self, command, args=None):\n",
    "        self.command = command\n",
    "        self.args = args if args else []\n",
    "        self.children = []\n",
    "        \n",
    "    def __repr__(self):\n",
    "        args_str = f\" {self.args}\" if self.args else \"\"\n",
    "        children_str = f\" children={len(self.children)}\" if self.children else \"\"\n",
    "        return f\"ProofNode({self.command}{args_str}{children_str})\"\n",
    "\n",
    "        \n",
    "    def add_child(self, node):\n",
    "        self.children.append(node)\n",
    "        return node\n",
    "        \n",
    "    def add_children(self, nodes):\n",
    "        self.children.extend(nodes)\n",
    "        return nodes\n",
    "            \n",
    "    def generate(self, indent=\"%|- \", depth=0, n_spaces=4):\n",
    "        if self.command == \"()\":  # Special handling for wrapper nodes\n",
    "            # Generate children with extra parentheses\n",
    "            child_proofs = [c.generate(indent, depth) for c in self.children]\n",
    "            return f\"({' '.join(child_proofs)})\"\n",
    "        base_indent = indent + \" \" * depth * n_spaces\n",
    "\n",
    "        # Base case - no children\n",
    "        if not self.children:\n",
    "            return f\"({self.command}{' ' + ' '.join(str(arg) for arg in self.args) if self.args else ''})\"\n",
    "\n",
    "        # Multiple children or nested structures\n",
    "        result = f\"({self.command}{' ' + ' '.join(str(arg) for arg in self.args) if self.args else ''}\"\n",
    "\n",
    "        child_proofs = [c.generate(indent, depth + 1) for c in self.children]\n",
    "        child_str = f\"\\n{base_indent} \".join(child_proofs)\n",
    "\n",
    "        return f\"{result}\\n{base_indent} {child_str})\"\n",
    "            \n",
    "\n",
    "class ProofBuilder:\n",
    "    def __init__(self):\n",
    "        self.indent = \"%|- \"\n",
    "        \n",
    "    def __repr__(self):\n",
    "        return f\"ProofBuilder(indent='{self.indent}')\"\n",
    "        \n",
    "        \n",
    "    def create_then_sequence(self, *steps):\n",
    "        then = ProofNode(\"THEN\")\n",
    "        for step in steps:\n",
    "            if isinstance(step, list):\n",
    "                for s in step:\n",
    "                    then.add_child(s)\n",
    "            else:\n",
    "                then.add_child(step)\n",
    "        return then\n",
    "\n",
    "#     def create_spread_split(self, branches):\n",
    "#         spread = ProofNode(\"SPREAD\")\n",
    "#         split = ProofNode(\"SPLIT\", [\"-1\"])\n",
    "#         spread.add_child(split)\n",
    "        \n",
    "#         # Add each branch within extra parentheses\n",
    "#         for i, branch in enumerate(branches):\n",
    "#             print(branch)\n",
    "#             if i == 0:\n",
    "#                 wrapper = ProofNode(\"()\")  # Special node type for extra parentheses\n",
    "#                 wrapper.add_children(branch)\n",
    "#                 spread.add_child(wrapper)\n",
    "#             else:\n",
    "#                 spread.add_child(branch)\n",
    "#         # for i, branch in enumerate(branches):\n",
    "#         #     wrapper = ProofNode(\"()\")  # Special node type for extra parentheses\n",
    "#         #     wrapper.add_children(branch)\n",
    "#         #     spread.add_child(wrapper)\n",
    "#         return spread\n",
    "        \n",
    "    def create_spread_split(self, branches):\n",
    "        spread = ProofNode(\"SPREAD\")\n",
    "        split = ProofNode(\"SPLIT\", [\"-1\"])\n",
    "        spread.add_child(split)\n",
    "\n",
    "        # Create a wrapper node to enclose all branch nodes\n",
    "        wrapper = ProofNode(\"()\")\n",
    "        for branch in branches:\n",
    "            wrapper.add_child(branch[0])\n",
    "        spread.add_child(wrapper)\n",
    "\n",
    "        return spread        \n",
    "        \n",
    "    def create_mvt_step(self, mvt_lemma):\n",
    "        return [\n",
    "            ProofNode(\"LEMMA\", [f'\"{mvt_lemma}\"']),\n",
    "            ProofNode(\"INST?\"),\n",
    "            ProofNode(\"ASSERT\")\n",
    "        ]\n",
    "        \n",
    "    def create_inst_step(self, term1, term2):\n",
    "        return [\n",
    "            ProofNode(\"INST\", [\"-1\", f'\"{term1}\"', f'\"{term2}\"']),\n",
    "            ProofNode(\"ASSERT\")\n",
    "        ]\n",
    "\n",
    "    def build_rect_proof(self, lemma_name, mvt_lemma, inst_terms):\n",
    "        script = ProofScript(lemma_name)\n",
    "        \n",
    "        root = self.create_then_sequence(\n",
    "            ProofNode(\"SKEEP*\"),\n",
    "            *self.create_mvt_step(mvt_lemma)\n",
    "        )\n",
    "        \n",
    "        # Inner branch with THEN sequence\n",
    "        inner_then = self.create_then_sequence(\n",
    "            *self.create_inst_step(inst_terms[1], inst_terms[2])\n",
    "        )\n",
    "        \n",
    "        # Inner SPREAD with branches in list\n",
    "        inner_spread = self.create_spread_split([[inner_then], [ProofNode(\"PROPAX\")]])\n",
    "        \n",
    "        # Main branch with THEN sequence\n",
    "        main_branch = self.create_then_sequence(\n",
    "            ProofNode(\"ASSERT\"),\n",
    "            *self.create_inst_step(inst_terms[0], inst_terms[1]),\n",
    "            *self.create_mvt_step(mvt_lemma),\n",
    "            inner_spread\n",
    "        )\n",
    "        \n",
    "        # Outer SPREAD with branches in list \n",
    "        outer_spread = self.create_spread_split([[main_branch], [ProofNode(\"PROPAX\")]])\n",
    "        root.add_child(outer_spread)\n",
    "        script.root = root\n",
    "        return script\n",
    "\n",
    "class ProofScript:\n",
    "    def __init__(self, lemma_name):\n",
    "        self.lemma_name = lemma_name\n",
    "        self.root = None\n",
    "        \n",
    "    def generate(self):\n",
    "        try:\n",
    "            lines = []\n",
    "            lines.append(f\"%|- {self.lemma_name} : PROOF\")\n",
    "            lines.append(f\"%|- {self.root.generate()}\")\n",
    "            lines.append(f\"%|- QED {self.lemma_name}\")\n",
    "            return \"\\n\".join(lines)\n",
    "        except:\n",
    "            print(self.lemma_name)\n",
    "            print(self.root)"
   ]
  },
  {
   "cell_type": "code",
   "execution_count": 52,
   "id": "be09f688-86ba-4276-b573-2b2a9a9ff2fe",
   "metadata": {},
   "outputs": [
    {
     "name": "stdout",
     "output_type": "stream",
     "text": [
      "%|- bound13_rect_function : PROOF\n",
      "%|- (THEN\n",
      "%|-  (SKEEP*)\n",
      "%|-  (LEMMA \"mvt_gen_ge\")\n",
      "%|-  (INST?)\n",
      "%|-  (ASSERT)\n",
      "%|-  (SPREAD\n",
      "%|-      (SPLIT -1)\n",
      "%|-      ((THEN\n",
      "%|-          (ASSERT)\n",
      "%|-          (INST -1 \"xo + 2\" \"x\")\n",
      "%|-          (ASSERT)\n",
      "%|-          (LEMMA \"mvt_gen_ge\")\n",
      "%|-          (INST?)\n",
      "%|-          (ASSERT)\n",
      "%|-          (SPREAD\n",
      "%|-              (SPLIT -1)\n",
      "%|-              ((THEN\n",
      "%|-                  (INST -1 \"x\" \"xo - 2\")\n",
      "%|-                  (ASSERT)) (PROPAX)))) (PROPAX))))\n",
      "%|- QED bound13_rect_function\n"
     ]
    }
   ],
   "source": [
    "# Rectangle proof\n",
    "builder = ProofBuilder()\n",
    "rect_proof = builder.build_rect_proof(\n",
    "    \"bound13_rect_function\",\n",
    "    \"mvt_gen_ge\",\n",
    "    [\"xo + 2\", \"x\", \"xo - 2\"]\n",
    ")\n",
    "print(rect_proof.generate())"
   ]
  },
  {
   "cell_type": "code",
   "execution_count": null,
   "id": "51401906-070a-46ec-a9e1-242d112d39b8",
   "metadata": {},
   "outputs": [],
   "source": []
  },
  {
   "cell_type": "markdown",
   "id": "cf8fd236-2df4-4ad3-a0dd-d8d4f05cdbaf",
   "metadata": {},
   "source": [
    "## Constructing bigger lemma automatically"
   ]
  },
  {
   "cell_type": "code",
   "execution_count": 128,
   "id": "6d1b40ec-48b7-4183-8183-1cde0ec2d81d",
   "metadata": {},
   "outputs": [
    {
     "data": {
      "image/png": "[encoded data removed]",
      "text/plain": [
       "<Figure size 640x480 with 1 Axes>"
      ]
     },
     "metadata": {},
     "output_type": "display_data"
    },
    {
     "data": {
      "text/plain": [
       "{'b': Point2D(-2, -1),\n",
       " 'c': Point2D(2, -1),\n",
       " 'd': Point2D(2, 1),\n",
       " 'a': Point2D(-2, 1)}"
      ]
     },
     "execution_count": 128,
     "metadata": {},
     "output_type": "execute_result"
    }
   ],
   "source": [
    "vertices = [(-2, -1), (2, -1), (2, 1), (-2, 1)]\n",
    "labels = string.ascii_lowercase[:len(vertices)]\n",
    "labels = list(labels[1:] + labels[:1])\n",
    "rect = Polygon(*[Point(v) for v in vertices])\n",
    "plot_polygon(rect, labels)\n",
    "verts, lines = verts_and_lines(labels, rect)\n",
    "verts"
   ]
  },
  {
   "cell_type": "code",
   "execution_count": 129,
   "id": "f0539d86-bb77-42b5-b810-e1d056778069",
   "metadata": {},
   "outputs": [
    {
     "data": {
      "image/png": "[encoded data removed]",
      "text/latex": [
       "$\\displaystyle f{\\left(x \\right)}$"
      ],
      "text/plain": [
       "f(x)"
      ]
     },
     "execution_count": 129,
     "metadata": {},
     "output_type": "execute_result"
    }
   ],
   "source": [
    "corner_pairs = [('a', 'c'), ('b', 'd')]\n",
    "f = Function('f')(x)\n",
    "traj = y - f\n",
    "traj_expr = f\n",
    "traj_expr"
   ]
  },
  {
   "cell_type": "code",
   "execution_count": 130,
   "id": "6092085f-e620-4ab8-9cbf-2d2eb0b361f4",
   "metadata": {},
   "outputs": [],
   "source": [
    "example = \"\"\"bound13_rect_function: LEMMA\n",
    "    FORALL(f:[real-> real],xo,yo:real):\n",
    "    derivable?[real](f) AND\n",
    "    (FORALL(x:real): deriv[real](f)(x) >= 0) AND\n",
    "    (EXISTS (x : real) :\n",
    "    ((-x + xo + 2 >= 0) AND\n",
    "     (-x + xo - 2 <= 0) AND\n",
    "     (yo - f(x) + 1 >= 0) AND\n",
    "     (yo - f(x) - 1 <= 0)) AND\n",
    "    xo + 2 >= x AND xo - 2 <= x)\n",
    "    IMPLIES\n",
    "    ((yo - f(xo - 2) - 1 >= 0) AND\n",
    "     (yo - f(xo + 2) + 1 <= 0)) OR\n",
    "    ((yo - f(xo - 2) + 1 >= 0) AND\n",
    "     (yo - f(xo + 2) - 1 <= 0)) OR\n",
    "    ((yo - f(xo + 2) - 1 >= 0) AND\n",
    "     (yo - f(xo - 2) + 1 <= 0)) OR\n",
    "    ((yo - f(xo + 2) + 1 >= 0) AND\n",
    "     (yo - f(xo - 2) - 1 <= 0))\n",
    "\"\"\""
   ]
  },
  {
   "cell_type": "code",
   "execution_count": 131,
   "id": "be3022ff-75da-477e-aff8-a77fe10232d0",
   "metadata": {},
   "outputs": [
    {
     "data": {
      "image/png": "[encoded data removed]",
      "text/latex": [
       "$\\displaystyle \\left\\{ 1 : x + 2 \\geq 0, \\  2 : y + 1 \\geq 0, \\  3 : x - 2 \\leq 0, \\  4 : y - 1 \\leq 0\\right\\}$"
      ],
      "text/plain": [
       "{1: x + 2 ≥ 0, 2: y + 1 ≥ 0, 3: x - 2 ≤ 0, 4: y - 1 ≤ 0}"
      ]
     },
     "execution_count": 131,
     "metadata": {},
     "output_type": "execute_result"
    }
   ],
   "source": [
    "lines"
   ]
  },
  {
   "cell_type": "code",
   "execution_count": 132,
   "id": "81045a12-74e1-4ea9-9ccc-e198ac9d5c92",
   "metadata": {},
   "outputs": [
    {
     "data": {
      "image/png": "[encoded data removed]",
      "text/latex": [
       "$\\displaystyle f{\\left(x \\right)}$"
      ],
      "text/plain": [
       "f(x)"
      ]
     },
     "execution_count": 132,
     "metadata": {},
     "output_type": "execute_result"
    }
   ],
   "source": [
    "traj_expr"
   ]
  },
  {
   "cell_type": "code",
   "execution_count": 133,
   "id": "03748313-189d-4615-9a31-76f74d796f47",
   "metadata": {},
   "outputs": [
    {
     "data": {
      "image/png": "[encoded data removed]",
      "text/latex": [
       "$\\displaystyle -2$"
      ],
      "text/plain": [
       "-2"
      ]
     },
     "execution_count": 133,
     "metadata": {},
     "output_type": "execute_result"
    }
   ],
   "source": [
    "min([v.x for v in verts.values()])"
   ]
  },
  {
   "cell_type": "code",
   "execution_count": 134,
   "id": "cda9a049-c23c-42c4-875f-5644d0f3f5c0",
   "metadata": {},
   "outputs": [
    {
     "data": {
      "image/png": "[encoded data removed]",
      "text/latex": [
       "$\\displaystyle -2$"
      ],
      "text/plain": [
       "-2"
      ]
     },
     "execution_count": 134,
     "metadata": {},
     "output_type": "execute_result"
    }
   ],
   "source": [
    "left_offset = min([v.x for v in verts.values()])\n",
    "left_offset"
   ]
  },
  {
   "cell_type": "code",
   "execution_count": 135,
   "id": "b7476433-62fd-44d0-a1e2-fb20c4a85a00",
   "metadata": {},
   "outputs": [
    {
     "data": {
      "image/png": "[encoded data removed]",
      "text/latex": [
       "$\\displaystyle 2$"
      ],
      "text/plain": [
       "2"
      ]
     },
     "execution_count": 135,
     "metadata": {},
     "output_type": "execute_result"
    }
   ],
   "source": [
    "right_offset = max([v.x for v in verts.values()])\n",
    "right_offset"
   ]
  },
  {
   "cell_type": "code",
   "execution_count": 136,
   "id": "10b1b996-e64b-4024-b76c-7794499124ff",
   "metadata": {},
   "outputs": [],
   "source": [
    "premise = generate_premise(lines, traj_expr)\n",
    "explicit = generate_explicit_disjunction(corner_pairs, traj, verts)"
   ]
  },
  {
   "cell_type": "code",
   "execution_count": 137,
   "id": "1aa51599-c557-4e1a-81b9-33931fe359e7",
   "metadata": {},
   "outputs": [
    {
     "data": {
      "image/png": "[encoded data removed]",
      "text/latex": [
       "$\\displaystyle - x + xo + 2 \\geq 0 \\wedge yo - f{\\left(x \\right)} + 1 \\geq 0 \\wedge - x + xo - 2 \\leq 0 \\wedge yo - f{\\left(x \\right)} - 1 \\leq 0$"
      ],
      "text/plain": [
       "-x + xo + 2 ≥ 0 ∧ yo - f(x) + 1 ≥ 0 ∧ -x + xo - 2 ≤ 0 ∧ yo - f(x) - 1 ≤ 0"
      ]
     },
     "execution_count": 137,
     "metadata": {},
     "output_type": "execute_result"
    }
   ],
   "source": [
    "premise"
   ]
  },
  {
   "cell_type": "code",
   "execution_count": 138,
   "id": "d6a61190-01d3-4514-bfb3-76e38a4012f7",
   "metadata": {},
   "outputs": [
    {
     "data": {
      "image/png": "[encoded data removed]",
      "text/latex": [
       "$\\displaystyle \\left(yo - f{\\left(xo - 2 \\right)} - 1 \\geq 0 \\wedge yo - f{\\left(xo + 2 \\right)} + 1 \\leq 0\\right) \\vee \\left(yo - f{\\left(xo - 2 \\right)} + 1 \\geq 0 \\wedge yo - f{\\left(xo + 2 \\right)} - 1 \\leq 0\\right) \\vee \\left(yo - f{\\left(xo + 2 \\right)} - 1 \\geq 0 \\wedge yo - f{\\left(xo - 2 \\right)} + 1 \\leq 0\\right) \\vee \\left(yo - f{\\left(xo + 2 \\right)} + 1 \\geq 0 \\wedge yo - f{\\left(xo - 2 \\right)} - 1 \\leq 0\\right)$"
      ],
      "text/plain": [
       "(yo - f(xo - 2) - 1 ≥ 0 ∧ yo - f(xo + 2) + 1 ≤ 0) ∨ (yo - f(xo - 2) + 1 ≥ 0 ∧  ↪\n",
       "\n",
       "↪ yo - f(xo + 2) - 1 ≤ 0) ∨ (yo - f(xo + 2) - 1 ≥ 0 ∧ yo - f(xo - 2) + 1 ≤ 0)  ↪\n",
       "\n",
       "↪ ∨ (yo - f(xo + 2) + 1 ≥ 0 ∧ yo - f(xo - 2) - 1 ≤ 0)"
      ]
     },
     "execution_count": 138,
     "metadata": {},
     "output_type": "execute_result"
    }
   ],
   "source": [
    "explicit"
   ]
  },
  {
   "cell_type": "code",
   "execution_count": 139,
   "id": "c41e1112-ea9f-482b-a277-d9b0a80d47ee",
   "metadata": {},
   "outputs": [
    {
     "name": "stdout",
     "output_type": "stream",
     "text": [
      "bound13_rect_function: LEMMA\n",
      "    FORALL(f:[real-> real],xo,yo:real):\n",
      "    derivable?[real](f) AND\n",
      "    (FORALL(x:real): deriv[real](f)(x) >= 0) AND\n",
      "    (EXISTS (x : real) :\n",
      "    ((-x + xo + 2 >= 0) AND\n",
      "     (-x + xo - 2 <= 0) AND\n",
      "     (yo - f(x) + 1 >= 0) AND\n",
      "     (yo - f(x) - 1 <= 0)) AND\n",
      "    xo + 2 >= x AND xo + -2 <= x)\n",
      "    IMPLIES\n",
      "    ((yo - f(xo - 2) - 1 >= 0) AND\n",
      "     (yo - f(xo + 2) + 1 <= 0)) OR\n",
      "    ((yo - f(xo - 2) + 1 >= 0) AND\n",
      "     (yo - f(xo + 2) - 1 <= 0)) OR\n",
      "    ((yo - f(xo + 2) - 1 >= 0) AND\n",
      "     (yo - f(xo - 2) + 1 <= 0)) OR\n",
      "    ((yo - f(xo + 2) + 1 >= 0) AND\n",
      "     (yo - f(xo - 2) - 1 <= 0))\n",
      "\n"
     ]
    }
   ],
   "source": [
    "print(construct_lemma(verts, \n",
    "                      premise, \n",
    "                      explicit, \"bound13_rect_function\", \n",
    "                      deriv_clause1=\">= 0\"))"
   ]
  },
  {
   "cell_type": "code",
   "execution_count": null,
   "id": "f29692c0-9fe6-4083-a131-c9247ab483d5",
   "metadata": {},
   "outputs": [],
   "source": []
  },
  {
   "cell_type": "code",
   "execution_count": 142,
   "id": "3d3b94d5-7e79-4f7a-849c-84dfa444d65e",
   "metadata": {},
   "outputs": [
    {
     "name": "stdout",
     "output_type": "stream",
     "text": [
      "  bound13_rect_function: LEMMA\n",
      "      FORALL(f:[real-> real],xo,yo:real):\n",
      "      derivable?[real](f) AND\n",
      "      (FORALL(x:real): deriv[real](f)(x) >= 0) AND\n",
      "      (EXISTS (x : real) :\n",
      "      ((-x + xo + 2 >= 0) AND\n",
      "       (-x + xo - 2 <= 0) AND\n",
      "       (yo - f(x) + 1 >= 0) AND\n",
      "       (yo - f(x) - 1 <= 0)) AND\n",
      "-     xo + 2 >= x AND xo - 2 <= x)\n",
      "?                         -\n",
      "\n",
      "+     xo + 2 >= x AND xo + -2 <= x)\n",
      "?                        ++\n",
      "\n",
      "      IMPLIES\n",
      "      ((yo - f(xo - 2) - 1 >= 0) AND\n",
      "       (yo - f(xo + 2) + 1 <= 0)) OR\n",
      "      ((yo - f(xo - 2) + 1 >= 0) AND\n",
      "       (yo - f(xo + 2) - 1 <= 0)) OR\n",
      "      ((yo - f(xo + 2) - 1 >= 0) AND\n",
      "       (yo - f(xo - 2) + 1 <= 0)) OR\n",
      "      ((yo - f(xo + 2) + 1 >= 0) AND\n",
      "       (yo - f(xo - 2) - 1 <= 0))\n"
     ]
    }
   ],
   "source": [
    "import difflib\n",
    "diff = difflib.ndiff(example.splitlines(), construct_lemma(verts, premise, explicit, \n",
    "                                                           \"bound13_rect_function\", \n",
    "                                                           deriv_clause1=\">= 0\").splitlines())\n",
    "print('\\n'.join(diff))"
   ]
  },
  {
   "cell_type": "code",
   "execution_count": 143,
   "id": "f2d1da52-7de3-4246-87f2-6ab48d0c106e",
   "metadata": {},
   "outputs": [
    {
     "name": "stdout",
     "output_type": "stream",
     "text": [
      "HTML diff saved as 'diff_output.html'\n"
     ]
    }
   ],
   "source": [
    "# Create an HtmlDiff object\n",
    "differ = difflib.HtmlDiff()\n",
    "\n",
    "# Generate HTML diff\n",
    "html_diff = differ.make_file(example.splitlines(), construct_lemma(verts, premise, explicit, \n",
    "                                                                   \"bound13_rect_function\", \n",
    "                                                                   deriv_clause1=\">= 0\",\n",
    "                                                                   ).splitlines())\n",
    "# Save the result as an HTML file\n",
    "with open(\"diff_output.html\", \"w\") as file:\n",
    "    file.write(html_diff)\n",
    "\n",
    "print(\"HTML diff saved as 'diff_output.html'\")"
   ]
  },
  {
   "cell_type": "code",
   "execution_count": null,
   "id": "fafebd2f-b956-4594-af24-c80f19ae313b",
   "metadata": {},
   "outputs": [],
   "source": []
  },
  {
   "cell_type": "markdown",
   "id": "3e418e40-ee1f-499b-89ff-74cdb67e1f8f",
   "metadata": {},
   "source": [
    "## Everything you need for a `proveit` file?"
   ]
  },
  {
   "cell_type": "code",
   "execution_count": 11,
   "id": "8ef9faba-b9f6-4f0c-b9f4-a13bb7bb16be",
   "metadata": {},
   "outputs": [],
   "source": [
    "preamble = \"\"\"active_corners  % [ parameters ]\n",
    "        : THEORY\n",
    "\n",
    "  BEGIN\n",
    "\n",
    "  IMPORTING analysis@top\n",
    "\n",
    "    mvt_gen_ge: LEMMA\n",
    "        FORALL(f:[real-> real],c:real):\n",
    "        (derivable?[real](f) AND\n",
    "        FORALL(x:real): deriv[real](f)(x) >= c)\n",
    "        IMPLIES\n",
    "        FORALL(a,b:real): a>=b IMPLIES\n",
    "        f(a) - f(b) >= c*(a-b)\n",
    "\n",
    "%|- mvt_gen_ge : PROOF\n",
    "%|- (THEN (SKEEP) (SKEEP)\n",
    "%|-  (SPREAD (CASE \"a=b\")\n",
    "%|-   ((ASSERT)\n",
    "%|-    (SPREAD (LEMMA \"mean_value[real]\")\n",
    "%|-     ((THEN (INST -1 \"b\" \"a\" \"f\") (ASSERT) (SKEEP) (INST -5 \"c!1\")\n",
    "%|-       (EXPAND \"deriv\" -5) (ASSERT) (MULT-BY -5 \"a-b\") (ASSERT))\n",
    "%|-      (THEN (LEMMA \"connected_real\") (PROPAX)))))))\n",
    "%|- QED mvt_gen_ge\n",
    "\n",
    "\n",
    "    mvt_gen_le: LEMMA\n",
    "        FORALL(f:[real-> real],c:real):\n",
    "        (derivable?[real](f) AND\n",
    "        FORALL(x:real): deriv[real](f)(x) <= c)\n",
    "        IMPLIES\n",
    "        FORALL(a,b:real): a>=b IMPLIES\n",
    "        f(a) - f(b) <= c*(a-b)\n",
    "\n",
    "%|- mvt_gen_le : PROOF\n",
    "%|- (POSTPONE)\n",
    "%|- QED mvt_gen_le\n",
    "\n",
    "\n",
    "%|- *TCC* : PROOF (assert) QED\n",
    "\"\"\"\n",
    "close = \"\\nEND active_corners\""
   ]
  },
  {
   "cell_type": "code",
   "execution_count": 12,
   "id": "34fe9c69-fd3c-45bc-adf9-2c4cfc73a694",
   "metadata": {},
   "outputs": [],
   "source": [
    "lemmaname = \"testlemma\""
   ]
  },
  {
   "cell_type": "code",
   "execution_count": null,
   "id": "d6489e64-0afc-48e2-bd2c-629e57eea1dd",
   "metadata": {},
   "outputs": [],
   "source": [
    "premise = generate_premise(lines, traj_expr)\n",
    "explicit = generate_explicit_disjunction(corner_pairs, traj, verts)"
   ]
  },
  {
   "cell_type": "code",
   "execution_count": 13,
   "id": "c12ea0cf-4534-4371-93de-ace260d1196c",
   "metadata": {},
   "outputs": [
    {
     "ename": "NameError",
     "evalue": "name 'premise' is not defined",
     "output_type": "error",
     "traceback": [
      "\u001b[0;31m---------------------------------------------------------------------------\u001b[0m",
      "\u001b[0;31mNameError\u001b[0m                                 Traceback (most recent call last)",
      "Cell \u001b[0;32mIn[13], line 3\u001b[0m\n\u001b[1;32m      1\u001b[0m \u001b[38;5;28mprint\u001b[39m(construct_lemma(\n\u001b[1;32m      2\u001b[0m     verts,\n\u001b[0;32m----> 3\u001b[0m     \u001b[43mpremise\u001b[49m, \n\u001b[1;32m      4\u001b[0m     explicit, \n\u001b[1;32m      5\u001b[0m     lemmaname, \n\u001b[1;32m      6\u001b[0m     deriv_clause1\u001b[38;5;241m=\u001b[39m\u001b[38;5;124m\"\u001b[39m\u001b[38;5;124m>= 0\u001b[39m\u001b[38;5;124m\"\u001b[39m))\n",
      "\u001b[0;31mNameError\u001b[0m: name 'premise' is not defined"
     ]
    }
   ],
   "source": [
    "print(construct_lemma(\n",
    "    verts,\n",
    "    premise, \n",
    "    explicit, \n",
    "    lemmaname, \n",
    "    deriv_clause1=\">= 0\"))"
   ]
  },
  {
   "cell_type": "code",
   "execution_count": 149,
   "id": "0240df17-574b-4e87-a5b6-efff8b7e1b62",
   "metadata": {},
   "outputs": [
    {
     "name": "stdout",
     "output_type": "stream",
     "text": [
      "%|- testlemma : PROOF\n",
      "%|- (THEN\n",
      "%|-  (SKEEP*)\n",
      "%|-  (LEMMA \"mvt_gen_ge\")\n",
      "%|-  (INST?)\n",
      "%|-  (ASSERT)\n",
      "%|-  (SPREAD\n",
      "%|-      (SPLIT -1)\n",
      "%|-      ((THEN\n",
      "%|-          (ASSERT)\n",
      "%|-          (INST -1 \"xo + 2\" \"x\")\n",
      "%|-          (ASSERT)\n",
      "%|-          (LEMMA \"mvt_gen_ge\")\n",
      "%|-          (INST?)\n",
      "%|-          (ASSERT)\n",
      "%|-          (SPREAD\n",
      "%|-              (SPLIT -1)\n",
      "%|-              ((THEN\n",
      "%|-                  (INST -1 \"x\" \"xo - 2\")\n",
      "%|-                  (ASSERT)) (PROPAX)))) (PROPAX))))\n",
      "%|- QED testlemma\n"
     ]
    }
   ],
   "source": [
    "# Rectangle proof\n",
    "builder = ProofBuilder()\n",
    "rect_proof = builder.build_rect_proof(\n",
    "    lemmaname,\n",
    "    \"mvt_gen_ge\",\n",
    "    [\"xo + 2\", \"x\", \"xo - 2\"]\n",
    ")\n",
    "print(rect_proof.generate())"
   ]
  },
  {
   "cell_type": "code",
   "execution_count": 151,
   "id": "03538872-2f2f-4288-a985-422cd4402126",
   "metadata": {},
   "outputs": [],
   "source": [
    "builder = ProofBuilder()\n",
    "rect_proof = builder.build_rect_proof(\n",
    "    lemmaname,\n",
    "    \"mvt_gen_ge\",\n",
    "    [\"xo + 2\", \"x\", \"xo - 2\"]\n",
    ")\n",
    "proofscript = (preamble + \"\\n\\n\" +\n",
    "    construct_lemma(\n",
    "        verts,\n",
    "        premise, \n",
    "        explicit, \n",
    "        lemmaname, \n",
    "        deriv_clause1=\">= 0\"\n",
    "    ) + \n",
    "    \"\\n\\n\" + rect_proof.generate() + \n",
    "    close)"
   ]
  },
  {
   "cell_type": "code",
   "execution_count": 153,
   "id": "ba68a3b1-d233-4093-908e-7c1877df0b72",
   "metadata": {},
   "outputs": [
    {
     "name": "stdout",
     "output_type": "stream",
     "text": [
      "active_corners  % [ parameters ]\n",
      "        : THEORY\n",
      "\n",
      "  BEGIN\n",
      "\n",
      "  IMPORTING analysis@top\n",
      "\n",
      "    mvt_gen_ge: LEMMA\n",
      "        FORALL(f:[real-> real],c:real):\n",
      "        (derivable?[real](f) AND\n",
      "        FORALL(x:real): deriv[real](f)(x) >= c)\n",
      "        IMPLIES\n",
      "        FORALL(a,b:real): a>=b IMPLIES\n",
      "        f(a) - f(b) >= c*(a-b)\n",
      "\n",
      "%|- mvt_gen_ge : PROOF\n",
      "%|- (THEN (SKEEP) (SKEEP)\n",
      "%|-  (SPREAD (CASE \"a=b\")\n",
      "%|-   ((ASSERT)\n",
      "%|-    (SPREAD (LEMMA \"mean_value[real]\")\n",
      "%|-     ((THEN (INST -1 \"b\" \"a\" \"f\") (ASSERT) (SKEEP) (INST -5 \"c!1\")\n",
      "%|-       (EXPAND \"deriv\" -5) (ASSERT) (MULT-BY -5 \"a-b\") (ASSERT))\n",
      "%|-      (THEN (LEMMA \"connected_real\") (PROPAX)))))))\n",
      "%|- QED mvt_gen_ge\n",
      "\n",
      "\n",
      "    mvt_gen_le: LEMMA\n",
      "        FORALL(f:[real-> real],c:real):\n",
      "        (derivable?[real](f) AND\n",
      "        FORALL(x:real): deriv[real](f)(x) <= c)\n",
      "        IMPLIES\n",
      "        FORALL(a,b:real): a>=b IMPLIES\n",
      "        f(a) - f(b) <= c*(a-b)\n",
      "\n",
      "%|- mvt_gen_le : PROOF\n",
      "%|- (POSTPONE)\n",
      "%|- QED mvt_gen_le\n",
      "\n",
      "\n",
      "%|- *TCC* : PROOF (assert) QED\n",
      "\n",
      "\n",
      "testlemma: LEMMA\n",
      "    FORALL(f:[real-> real],xo,yo:real):\n",
      "    derivable?[real](f) AND\n",
      "    (FORALL(x:real): deriv[real](f)(x) >= 0) AND\n",
      "    (EXISTS (x : real) :\n",
      "    ((-x + xo + 2 >= 0) AND\n",
      "     (-x + xo - 2 <= 0) AND\n",
      "     (yo - f(x) + 1 >= 0) AND\n",
      "     (yo - f(x) - 1 <= 0)) AND\n",
      "    xo + 2 >= x AND xo + -2 <= x)\n",
      "    IMPLIES\n",
      "    ((yo - f(xo - 2) - 1 >= 0) AND\n",
      "     (yo - f(xo + 2) + 1 <= 0)) OR\n",
      "    ((yo - f(xo - 2) + 1 >= 0) AND\n",
      "     (yo - f(xo + 2) - 1 <= 0)) OR\n",
      "    ((yo - f(xo + 2) - 1 >= 0) AND\n",
      "     (yo - f(xo - 2) + 1 <= 0)) OR\n",
      "    ((yo - f(xo + 2) + 1 >= 0) AND\n",
      "     (yo - f(xo - 2) - 1 <= 0))\n",
      "\n",
      "\n",
      "%|- testlemma : PROOF\n",
      "%|- (THEN\n",
      "%|-  (SKEEP*)\n",
      "%|-  (LEMMA \"mvt_gen_ge\")\n",
      "%|-  (INST?)\n",
      "%|-  (ASSERT)\n",
      "%|-  (SPREAD\n",
      "%|-      (SPLIT -1)\n",
      "%|-      ((THEN\n",
      "%|-          (ASSERT)\n",
      "%|-          (INST -1 \"xo + 2\" \"x\")\n",
      "%|-          (ASSERT)\n",
      "%|-          (LEMMA \"mvt_gen_ge\")\n",
      "%|-          (INST?)\n",
      "%|-          (ASSERT)\n",
      "%|-          (SPREAD\n",
      "%|-              (SPLIT -1)\n",
      "%|-              ((THEN\n",
      "%|-                  (INST -1 \"x\" \"xo - 2\")\n",
      "%|-                  (ASSERT)) (PROPAX)))) (PROPAX))))\n",
      "%|- QED testlemma\n",
      "END active_corners\n"
     ]
    }
   ],
   "source": [
    "print(proofscript)"
   ]
  },
  {
   "cell_type": "code",
   "execution_count": 155,
   "id": "fe18c4d4-5e4f-4eca-8a9e-0771db42f010",
   "metadata": {},
   "outputs": [],
   "source": [
    "# with open(\"/Users/nishant/Downloads/proofscript-temp.pvs\", \"w\") as f:\n",
    "#     f.write(proofscript)"
   ]
  },
  {
   "cell_type": "markdown",
   "id": "b534ebb6-7d16-4ed3-b9e4-1c028a7deaeb",
   "metadata": {},
   "source": [
    "# July 2025"
   ]
  },
  {
   "cell_type": "code",
   "execution_count": 23,
   "id": "44458cf2-c93e-4b20-8180-fabe31bd911a",
   "metadata": {},
   "outputs": [],
   "source": [
    "%load_ext autoreload\n",
    "%autoreload 2"
   ]
  },
  {
   "cell_type": "code",
   "execution_count": 24,
   "id": "064e0b7e-b795-4569-aa3b-813451d757be",
   "metadata": {},
   "outputs": [],
   "source": [
    "import sys\n",
    "import os\n",
    "import string \n",
    "from sympy import expand, Line, Polygon, symbols, Point, Function, diff, Symbol, solve, Eq, plot, Piecewise, latex\n",
    "\n",
    "x, y, xo, yo, alpha = symbols(\"x y x_O y_O \\alpha\")\n",
    "\n",
    "# Add the parent directory to sys.path\n",
    "parent_dir = os.path.abspath(os.path.join(os.getcwd(), \"..\"))\n",
    "if parent_dir not in sys.path:\n",
    "    sys.path.append(parent_dir)\n",
    "    \n",
    "from pvs_utils import *"
   ]
  },
  {
   "cell_type": "markdown",
   "id": "3da39638-a7cb-415b-8ebc-93807518f1de",
   "metadata": {},
   "source": [
    "## Bounded $f(x)$ "
   ]
  },
  {
   "cell_type": "code",
   "execution_count": 25,
   "id": "3613c603-b888-4f1f-8998-b310b98dfc32",
   "metadata": {},
   "outputs": [
    {
     "data": {
      "image/png": "[encoded data removed]",
      "text/plain": [
       "<Figure size 640x480 with 1 Axes>"
      ]
     },
     "metadata": {},
     "output_type": "display_data"
    },
    {
     "data": {
      "text/plain": [
       "{'b': Point2D(-2, -1),\n",
       " 'c': Point2D(2, -1),\n",
       " 'd': Point2D(2, 1),\n",
       " 'a': Point2D(-2, 1)}"
      ]
     },
     "execution_count": 25,
     "metadata": {},
     "output_type": "execute_result"
    }
   ],
   "source": [
    "vertices = [(-2, -1), (2, -1), (2, 1), (-2, 1)]\n",
    "labels = string.ascii_lowercase[:len(vertices)]\n",
    "labels = list(labels[1:] + labels[:1])\n",
    "rect = Polygon(*[Point(v) for v in vertices])\n",
    "plot_polygon(rect, labels)\n",
    "verts, lines = verts_and_lines(labels, rect)\n",
    "verts"
   ]
  },
  {
   "cell_type": "code",
   "execution_count": 26,
   "id": "7c138c82-b9ec-4180-bd01-c277e38275c1",
   "metadata": {},
   "outputs": [],
   "source": [
    "preamble = \"\"\"active_corners  % [ parameters ]\n",
    "        : THEORY\n",
    "\n",
    "  BEGIN\n",
    "\n",
    "  IMPORTING analysis@top\n",
    "\n",
    "    mvt_gen_ge: LEMMA\n",
    "        FORALL(f:[real-> real],c:real):\n",
    "        (derivable?[real](f) AND\n",
    "        FORALL(x:real): deriv[real](f)(x) >= c)\n",
    "        IMPLIES\n",
    "        FORALL(a,b:real): a>=b IMPLIES\n",
    "        f(a) - f(b) >= c*(a-b)\n",
    "\n",
    "%|- mvt_gen_ge : PROOF\n",
    "%|- (THEN (SKEEP) (SKEEP)\n",
    "%|-  (SPREAD (CASE \"a=b\")\n",
    "%|-   ((ASSERT)\n",
    "%|-    (SPREAD (LEMMA \"mean_value[real]\")\n",
    "%|-     ((THEN (INST -1 \"b\" \"a\" \"f\") (ASSERT) (SKEEP) (INST -5 \"c!1\")\n",
    "%|-       (EXPAND \"deriv\" -5) (ASSERT) (MULT-BY -5 \"a-b\") (ASSERT))\n",
    "%|-      (THEN (LEMMA \"connected_real\") (PROPAX)))))))\n",
    "%|- QED mvt_gen_ge\n",
    "\n",
    "\n",
    "    mvt_gen_le: LEMMA\n",
    "        FORALL(f:[real-> real],c:real):\n",
    "        (derivable?[real](f) AND\n",
    "        FORALL(x:real): deriv[real](f)(x) <= c)\n",
    "        IMPLIES\n",
    "        FORALL(a,b:real): a>=b IMPLIES\n",
    "        f(a) - f(b) <= c*(a-b)\n",
    "\n",
    "%|- mvt_gen_le : PROOF\n",
    "%|- (POSTPONE)\n",
    "%|- QED mvt_gen_le\n",
    "\n",
    "\n",
    "%|- *TCC* : PROOF (assert) QED\n",
    "\"\"\"\n",
    "close = \"\\nEND active_corners\""
   ]
  },
  {
   "cell_type": "code",
   "execution_count": 27,
   "id": "e9ecdfa1-098d-4a57-959e-dd3a8265aef0",
   "metadata": {},
   "outputs": [],
   "source": [
    "lemmaname = \"testlemma\""
   ]
  },
  {
   "cell_type": "code",
   "execution_count": 28,
   "id": "78fba7f5-84b9-4f3f-bc55-5306320492e9",
   "metadata": {},
   "outputs": [],
   "source": [
    "premise = generate_premise(lines, traj_expr)\n",
    "explicit = generate_explicit_disjunction(corner_pairs, traj, verts)"
   ]
  },
  {
   "cell_type": "code",
   "execution_count": 29,
   "id": "75b1e4c8-5e59-48e3-91c5-644c7425a4ec",
   "metadata": {},
   "outputs": [
    {
     "name": "stdout",
     "output_type": "stream",
     "text": [
      "testlemma: LEMMA\n",
      "    FORALL(f:[real-> real],xo,yo:real):\n",
      "    derivable?[real](f) AND\n",
      "    (FORALL(x:real): deriv[real](f)(x) >= 0) AND\n",
      "    (EXISTS (x : real) :\n",
      "    ((-x + xo + 2 >= 0) AND\n",
      "     (-x + xo - 2 <= 0) AND\n",
      "     (yo - f(x) + 1 >= 0) AND\n",
      "     (yo - f(x) - 1 <= 0)) AND\n",
      "    xo + 2 >= x AND xo + -2 <= x)\n",
      "    IMPLIES\n",
      "    ((yo - f(xo - 2) - 1 >= 0) AND\n",
      "     (yo - f(xo + 2) + 1 <= 0)) OR\n",
      "    ((yo - f(xo - 2) + 1 >= 0) AND\n",
      "     (yo - f(xo + 2) - 1 <= 0)) OR\n",
      "    ((yo - f(xo + 2) - 1 >= 0) AND\n",
      "     (yo - f(xo - 2) + 1 <= 0)) OR\n",
      "    ((yo - f(xo + 2) + 1 >= 0) AND\n",
      "     (yo - f(xo - 2) - 1 <= 0))\n",
      "\n"
     ]
    }
   ],
   "source": [
    "print(construct_lemma(\n",
    "    verts,\n",
    "    premise, \n",
    "    explicit, \n",
    "    lemmaname, \n",
    "    deriv_clause1=\">= 0\"))"
   ]
  },
  {
   "cell_type": "code",
   "execution_count": 33,
   "id": "b4f8bf0d-5127-4b06-b3a6-8d03d4faa936",
   "metadata": {},
   "outputs": [
    {
     "ename": "TypeError",
     "evalue": "ProofBuilder.build_rect_proof() missing 1 required positional argument: 'spread_cases'",
     "output_type": "error",
     "traceback": [
      "\u001b[0;31m---------------------------------------------------------------------------\u001b[0m",
      "\u001b[0;31mTypeError\u001b[0m                                 Traceback (most recent call last)",
      "Cell \u001b[0;32mIn[33], line 3\u001b[0m\n\u001b[1;32m      1\u001b[0m \u001b[38;5;66;03m# Rectangle proof\u001b[39;00m\n\u001b[1;32m      2\u001b[0m builder \u001b[38;5;241m=\u001b[39m ProofBuilder()\n\u001b[0;32m----> 3\u001b[0m rect_proof \u001b[38;5;241m=\u001b[39m \u001b[43mbuilder\u001b[49m\u001b[38;5;241;43m.\u001b[39;49m\u001b[43mbuild_rect_proof\u001b[49m\u001b[43m(\u001b[49m\n\u001b[1;32m      4\u001b[0m \u001b[43m    \u001b[49m\u001b[43mlemmaname\u001b[49m\u001b[43m,\u001b[49m\n\u001b[1;32m      5\u001b[0m \u001b[43m    \u001b[49m\u001b[38;5;124;43m\"\u001b[39;49m\u001b[38;5;124;43mmvt_gen_ge\u001b[39;49m\u001b[38;5;124;43m\"\u001b[39;49m\u001b[43m,\u001b[49m\n\u001b[1;32m      6\u001b[0m \u001b[43m    \u001b[49m\u001b[43m[\u001b[49m\u001b[38;5;124;43m\"\u001b[39;49m\u001b[38;5;124;43mxo + 2\u001b[39;49m\u001b[38;5;124;43m\"\u001b[39;49m\u001b[43m,\u001b[49m\u001b[43m \u001b[49m\u001b[38;5;124;43m\"\u001b[39;49m\u001b[38;5;124;43mx\u001b[39;49m\u001b[38;5;124;43m\"\u001b[39;49m\u001b[43m,\u001b[49m\u001b[43m \u001b[49m\u001b[38;5;124;43m\"\u001b[39;49m\u001b[38;5;124;43mxo - 2\u001b[39;49m\u001b[38;5;124;43m\"\u001b[39;49m\u001b[43m]\u001b[49m\n\u001b[1;32m      7\u001b[0m \u001b[43m)\u001b[49m\n\u001b[1;32m      8\u001b[0m \u001b[38;5;28mprint\u001b[39m(rect_proof\u001b[38;5;241m.\u001b[39mgenerate())\n",
      "\u001b[0;31mTypeError\u001b[0m: ProofBuilder.build_rect_proof() missing 1 required positional argument: 'spread_cases'"
     ]
    }
   ],
   "source": [
    "# Rectangle proof\n",
    "builder = ProofBuilder()\n",
    "rect_proof = builder.build_rect_proof(\n",
    "    lemmaname,\n",
    "    \"mvt_gen_ge\",\n",
    "    [\"xo + 2\", \"x\", \"xo - 2\"]\n",
    "    []\n",
    ")\n",
    "print(rect_proof.generate())"
   ]
  },
  {
   "cell_type": "markdown",
   "id": "6d1b02e1-be76-4795-a0a5-925aa10b8a02",
   "metadata": {},
   "source": []
  },
  {
   "cell_type": "code",
   "execution_count": null,
   "id": "43338b2d-ff95-45fe-ae18-27d83ed79840",
   "metadata": {},
   "outputs": [],
   "source": []
  },
  {
   "cell_type": "markdown",
   "id": "b1bf8565-8322-47ce-ae93-45e90180baf2",
   "metadata": {},
   "source": [
    "## Speccing out interface\n",
    "\n",
    "example code: \n",
    "\n",
    "```pvs\n",
    "\n",
    "%|- bound22_rect_function_bounded : PROOF\n",
    "%|- (THEN (SKEEP*) (SKOLETIN*) (FLATTEN) (SKEEP)\n",
    "%|-  (SPREAD (CASE \"xo-2 >=0\")\n",
    "%|-   ((THEN (LEMMA \"mvt_gen_ge_bound\") (INST -1 \"f\" \"xo+2\" \"x\" \"0\")\n",
    "%|-     (SPREAD (SPLIT -1)\n",
    "%|-      ((THEN (ASSERT) (LEMMA \"mvt_gen_ge_bound\") (INST -1 \"f\" \"x\" \"xo-2\" \"0\")\n",
    "%|-        (ASSERT) (SKEEP) (INST? :WHERE 1) (ASSERT))\n",
    "%|-       (PROPAX) (PROPAX) (THEN (SKEEP) (INST? :WHERE 1) (ASSERT)))))\n",
    "%|-    (THEN (LEMMA \"mvt_gen_ge_bound\") (INST -1 \"f\" \"xo+2\" \"x\" \"0\")\n",
    "%|-     (SPREAD (SPLIT -1)\n",
    "%|-      ((THEN (ASSERT) (EXPAND \"f\") (LEMMA \"mvt_gen_ge_bound\")\n",
    "%|-        (INST -1 \"f\" \"x\" \"0\" \"0\") (ASSERT) (SKEEP) (INST? :WHERE 1) (ASSERT))\n",
    "%|-       (PROPAX) (PROPAX) (THEN (SKEEP) (INST? :WHERE 1) (ASSERT))))))))\n",
    "%|- QED bound22_rect_function_bounded\n",
    "```"
   ]
  },
  {
   "cell_type": "markdown",
   "id": "760934ed-b49a-44d7-a176-43c5bfd4f8eb",
   "metadata": {},
   "source": [
    "parameters:\n",
    "- `xo-2 >= 0`: this is the \"unclipped\" region of the trajectory\n",
    "- `mvt_gen_ge_bound`: which lemma to use (should always be the same?)\n",
    "- `xo + 2, x, xo-2`: inst points \n",
    "- `0, inf`: interval range on which this active-corner-case holds "
   ]
  },
  {
   "cell_type": "code",
   "execution_count": null,
   "id": "40c9de2e-5071-492a-b8eb-f01ce0446715",
   "metadata": {},
   "outputs": [],
   "source": []
  }
 ],
 "metadata": {
  "kernelspec": {
   "display_name": "Python 3 (ipykernel)",
   "language": "python",
   "name": "python3"
  },
  "language_info": {
   "codemirror_mode": {
    "name": "ipython",
    "version": 3
   },
   "file_extension": ".py",
   "mimetype": "text/x-python",
   "name": "python",
   "nbconvert_exporter": "python",
   "pygments_lexer": "ipython3",
   "version": "3.11.5"
  }
 },
 "nbformat": 4,
 "nbformat_minor": 5
}
