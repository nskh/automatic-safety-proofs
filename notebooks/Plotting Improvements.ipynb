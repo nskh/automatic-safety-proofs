{
 "cells": [
  {
   "cell_type": "code",
   "execution_count": null,
   "id": "de494dfd",
   "metadata": {},
   "outputs": [],
   "source": [
    "%load_ext autoreload\n",
    "%autoreload 2\n",
    "\n",
    "from active_corners_grid import test_transitions\n",
    "from sympy import *\n",
    "from utils import *\n",
    "init_printing()"
   ]
  },
  {
   "cell_type": "code",
   "execution_count": null,
   "id": "0fc7214d",
   "metadata": {},
   "outputs": [],
   "source": [
    "angles, _ = compute_polygon_angles(square)\n",
    "angles"
   ]
  },
  {
   "cell_type": "code",
   "execution_count": null,
   "id": "84fac5c6",
   "metadata": {},
   "outputs": [],
   "source": [
    "tan(pi/2) == zoo"
   ]
  },
  {
   "cell_type": "code",
   "execution_count": null,
   "id": "bfc48556",
   "metadata": {},
   "outputs": [],
   "source": [
    "zoo"
   ]
  },
  {
   "cell_type": "code",
   "execution_count": null,
   "id": "ff56bf10",
   "metadata": {},
   "outputs": [],
   "source": [
    "tan(3*pi/2) == zoo"
   ]
  },
  {
   "cell_type": "code",
   "execution_count": null,
   "id": "f3667362",
   "metadata": {},
   "outputs": [],
   "source": [
    "dfdy, dfdx = slope_sym(circle_traj, x, y)\n",
    "dfdx"
   ]
  },
  {
   "cell_type": "code",
   "execution_count": null,
   "id": "ffe5dadf",
   "metadata": {},
   "outputs": [],
   "source": [
    "# testing vector collinearity method\n",
    "\n",
    "# angle = pi/4\n",
    "angle = 3*pi/2\n",
    "x2 = cos(angle)\n",
    "y2 = sin(angle)\n",
    "Eq(dfdx * y2, dfdy * x2)"
   ]
  },
  {
   "cell_type": "code",
   "execution_count": null,
   "id": "cad3f9ca",
   "metadata": {},
   "outputs": [],
   "source": [
    "solve(Eq(dfdx * y2, dfdy * x2), dict=True)"
   ]
  },
  {
   "cell_type": "code",
   "execution_count": null,
   "id": "c8fe945a",
   "metadata": {},
   "outputs": [],
   "source": [
    "slope = dfdy / dfdx\n",
    "solve(Eq(slope, tan(angle)))"
   ]
  },
  {
   "cell_type": "code",
   "execution_count": null,
   "id": "b5496bcd",
   "metadata": {},
   "outputs": [],
   "source": []
  },
  {
   "cell_type": "code",
   "execution_count": null,
   "id": "dddd6996",
   "metadata": {},
   "outputs": [],
   "source": []
  },
  {
   "cell_type": "code",
   "execution_count": null,
   "id": "ec9e7dd7",
   "metadata": {},
   "outputs": [],
   "source": [
    "soln = solve(Eq(x/y, oo))\n",
    "[elem for elem in soln]"
   ]
  },
  {
   "cell_type": "code",
   "execution_count": null,
   "id": "769cc4d5",
   "metadata": {},
   "outputs": [],
   "source": [
    "Eq(circle_traj, 0).subs(soln[0])"
   ]
  },
  {
   "cell_type": "code",
   "execution_count": null,
   "id": "8157d695",
   "metadata": {},
   "outputs": [],
   "source": [
    "soln[0][x] == nan"
   ]
  },
  {
   "cell_type": "code",
   "execution_count": null,
   "id": "de4328f7",
   "metadata": {},
   "outputs": [],
   "source": [
    "soln[1][y] == nan"
   ]
  },
  {
   "cell_type": "code",
   "execution_count": null,
   "id": "316dd43c",
   "metadata": {},
   "outputs": [],
   "source": [
    "solve(Eq(y/x, oo))"
   ]
  },
  {
   "cell_type": "code",
   "execution_count": null,
   "id": "27702d1a",
   "metadata": {},
   "outputs": [],
   "source": [
    "solve(Eq(x/y, -oo))"
   ]
  },
  {
   "cell_type": "code",
   "execution_count": null,
   "id": "8a82d1bd",
   "metadata": {},
   "outputs": [],
   "source": [
    "solve(Eq(y/x, -oo))"
   ]
  },
  {
   "cell_type": "code",
   "execution_count": null,
   "id": "87893e99",
   "metadata": {},
   "outputs": [],
   "source": []
  },
  {
   "cell_type": "code",
   "execution_count": null,
   "id": "7ffd2894",
   "metadata": {},
   "outputs": [],
   "source": []
  },
  {
   "cell_type": "code",
   "execution_count": null,
   "id": "bbe6e763",
   "metadata": {},
   "outputs": [],
   "source": []
  },
  {
   "cell_type": "code",
   "execution_count": null,
   "id": "c00345ce",
   "metadata": {},
   "outputs": [],
   "source": [
    "r = 1\n",
    "hexagon = RegularPolygon(Point(0, 0), r, 6)\n",
    "# plot_polygon(hexagon)\n",
    "diamond = RegularPolygon(Point(0, 0), r, 4)\n",
    "# plot_polygon(diamond)\n",
    "w = 1\n",
    "square_points: list = [\n",
    "    geometry.Point(val) for val in [[w, -w], [w, w], [-w, w], [-w, -w]]\n",
    "]\n",
    "square: geometry.Polygon = Polygon(*square_points)\n",
    "# plot_polygon(square)\n",
    "rect_points: list = [\n",
    "    geometry.Point(val)\n",
    "    for val in [[2 * w, -w], [2 * w, w], [-2 * w, w], [-2 * w, -w]]\n",
    "]\n",
    "rectangle: geometry.Polygon = Polygon(*rect_points)\n",
    "# plot_polygon(rectangle)\n",
    "\n",
    "x, y = symbols(\"x y\")\n",
    "traj_r = 4\n",
    "circle_traj = 2*x  ** 2 + y ** 2 - traj_r ** 2  # radius 4\n",
    "sin_traj = sin(x) - y\n",
    "\n",
    "circle_domain = Interval(-8, 8)\n",
    "sin_domain = Interval(-6, 6)\n",
    "test_transitions(square, circle_traj, domain=circle_domain, x=x, y=y)\n",
    "print(\"\\n==============\\n==============\")\n",
    "test_transitions(square, sin_traj, domain=sin_domain, x=x, y=y)\n",
    "\n",
    "print(\"\\n==============\\n==============\")\n",
    "RESOLUTION = 3\n",
    "\n",
    "# plot_safe_grid(\n",
    "#     square,\n",
    "#     circle_traj,\n",
    "#     (-8, 8),\n",
    "#     (-8, 8),\n",
    "#     \"Circle trajectory with square and notch check\",\n",
    "#     circle_domain, \n",
    "#     resolution=RESOLUTION,\n",
    "#     savefig=True,\n",
    "# )\n",
    "plot_safe_grid(\n",
    "    rectangle,\n",
    "    sin_traj,\n",
    "    (-6, 6),\n",
    "    (-8, 8),\n",
    "    \"Sin trajectory with square and notch check\",\n",
    "    sin_domain, \n",
    "    resolution=RESOLUTION,\n",
    "#     savefig=True,\n",
    "    add_notches=True\n",
    ")\n"
   ]
  },
  {
   "cell_type": "code",
   "execution_count": null,
   "id": "07194026",
   "metadata": {},
   "outputs": [],
   "source": []
  },
  {
   "cell_type": "code",
   "execution_count": null,
   "id": "af5c9206",
   "metadata": {},
   "outputs": [],
   "source": []
  },
  {
   "cell_type": "code",
   "execution_count": null,
   "id": "4c93bbe4",
   "metadata": {},
   "outputs": [],
   "source": [
    "traj_piecewise = Piecewise(\n",
    "                    (x**2 / 4, x < 2),\n",
    "                    (x - 1, x >= 2))\n",
    "traj_piecewise\n",
    "compute_unsafe_cond(\n",
    "    x, y,\n",
    "    rectangle,\n",
    "    traj_piecewise,\n",
    "    (-6, 6),\n",
    "    (-8, 8),\n",
    "    \"Sin trajectory with square and notch check\",\n",
    "    sin_domain, \n",
    "    resolution=0.5,\n",
    "#     savefig=True,\n",
    "    add_notches=True\n",
    ")\n"
   ]
  },
  {
   "cell_type": "code",
   "execution_count": null,
   "id": "2476034d",
   "metadata": {},
   "outputs": [],
   "source": [
    "expr = (x - 2*y)*(x - 2*y + 24) > 0\n",
    "expr.subs(x, 1)"
   ]
  },
  {
   "cell_type": "code",
   "execution_count": null,
   "id": "b6532aad",
   "metadata": {},
   "outputs": [],
   "source": [
    "ppoint = Point(0,0)\n",
    "(x**2 + y**2 + 1).subs([(x, ppoint.x), (y, ppoint.y)])"
   ]
  },
  {
   "cell_type": "code",
   "execution_count": null,
   "id": "4b81c3f0",
   "metadata": {},
   "outputs": [],
   "source": [
    "traj_eqn"
   ]
  },
  {
   "cell_type": "code",
   "execution_count": null,
   "id": "010b0dd4",
   "metadata": {},
   "outputs": [],
   "source": [
    "\n",
    "traj_piecewise.subs(x, offsetx)"
   ]
  },
  {
   "cell_type": "code",
   "execution_count": null,
   "id": "af66e700",
   "metadata": {},
   "outputs": [],
   "source": [
    "Piecewise([3sin(x)])"
   ]
  },
  {
   "cell_type": "code",
   "execution_count": null,
   "id": "ee2af3b0",
   "metadata": {
    "scrolled": true
   },
   "outputs": [],
   "source": [
    "traj_piecewise = Piecewise(\n",
    "                    (x**2 / 4, x < 2),\n",
    "                    (x - 1, x >= 2))\n",
    "traj_piecewise"
   ]
  },
  {
   "cell_type": "code",
   "execution_count": null,
   "id": "60e55390",
   "metadata": {},
   "outputs": [],
   "source": [
    "# construct bounds automatically\n",
    "pieces = traj_piecewise.as_expr_set_pairs()\n",
    "pieces"
   ]
  },
  {
   "cell_type": "code",
   "execution_count": null,
   "id": "ba9e2068",
   "metadata": {},
   "outputs": [],
   "source": [
    "pieces[0]"
   ]
  },
  {
   "cell_type": "code",
   "execution_count": null,
   "id": "fc3a57c6",
   "metadata": {},
   "outputs": [],
   "source": [
    "pieces[0][1] # type interval"
   ]
  },
  {
   "cell_type": "code",
   "execution_count": null,
   "id": "1cbdadcb",
   "metadata": {},
   "outputs": [],
   "source": [
    "for (expr, cond) in traj_piecewise.as_expr_set_pairs():\n",
    "    pprint(expr)\n",
    "    pprint(cond)\n",
    "    print(\"\")"
   ]
  },
  {
   "cell_type": "code",
   "execution_count": null,
   "id": "f8489609",
   "metadata": {},
   "outputs": [],
   "source": [
    "domain = Interval(-6, 6)"
   ]
  },
  {
   "cell_type": "code",
   "execution_count": null,
   "id": "d8edcdb2",
   "metadata": {},
   "outputs": [],
   "source": [
    "traj_piecewise.free_symbols.pop()"
   ]
  },
  {
   "cell_type": "code",
   "execution_count": null,
   "id": "ca45ddf2",
   "metadata": {},
   "outputs": [],
   "source": [
    "angles, vertex_pairs = compute_polygon_angles(rectangle)\n",
    "set_of_transitions = set()\n",
    "for (subtraj, subcond) in traj_piecewise.as_expr_set_pairs():\n",
    "    # trim domain\n",
    "    subdomain = subcond.intersect(domain)\n",
    "    print(subdomain)\n",
    "    \n",
    "    # find transitions for piecewise domain over this interval\n",
    "    # TODO(nishant) handle f(x) and f(y) trajs\n",
    "    \n",
    "#     TODO(nishant): assert only 1 free symbol\n",
    "    func_var = subtraj.free_symbols.pop()\n",
    "    \n",
    "    if x in subtraj.free_symbols:\n",
    "        _, subset_of_transitions = find_transitions(\n",
    "            -y + subtraj, angles, x, y, domain=subdomain\n",
    "        )\n",
    "    elif y in subtraj.free_symbols:\n",
    "        _, subset_of_transitions = find_transitions(\n",
    "            -x + subtraj, angles, x, y, domain=subdomain\n",
    "        )\n",
    "    set_of_transitions.update(subset_of_transitions)\n",
    "    \n",
    "    # add piecewise boundary\n",
    "    left_bound = Point(subdomain.inf, subtraj.subs(func_var, subdomain.inf))\n",
    "    right_bound = Point(subdomain.sup, subtraj.subs(func_var, subdomain.sup))\n",
    "    set_of_transitions.add(left_bound)\n",
    "    set_of_transitions.add(right_bound)\n",
    "    \n",
    "set_of_transitions"
   ]
  },
  {
   "cell_type": "code",
   "execution_count": null,
   "id": "a90c858d",
   "metadata": {},
   "outputs": [],
   "source": [
    "# trajectories = [-y + x**2/4, -y + x - 1] # NOT NEEDED\n",
    "# domains = [Interval(-6, 2), Interval(2, 6)] # NOT NEEDED\n",
    "# piecewise_bounds=[Point(2, 1)] # NOT NEEDED\n",
    "# angles, vertex_pairs = compute_polygon_angles(rectangle)\n",
    "\n",
    "# set_of_transitions = set()\n",
    "# for subtraj, subdomain in zip(trajectories, domains):\n",
    "#     _, subset_of_transitions = find_transitions(\n",
    "#         subtraj, angles, x, y, domain=subdomain\n",
    "#     )\n",
    "#     set_of_transitions.update(subset_of_transitions)\n",
    "\n",
    "# set_of_transitions.update(piecewise_bounds)\n",
    "# set_of_transitions"
   ]
  },
  {
   "cell_type": "code",
   "execution_count": null,
   "id": "9543dbf1",
   "metadata": {},
   "outputs": [],
   "source": [
    "sorted_transitions: list = sorted(set_of_transitions, key = lambda x: x.x)\n",
    "sorted_transitions"
   ]
  },
  {
   "cell_type": "code",
   "execution_count": null,
   "id": "fc6418da",
   "metadata": {},
   "outputs": [],
   "source": [
    "# x_bounds = [domains[0].inf] + [p.x for p in sorted_transitions] + [domains[-1].sup]\n",
    "x_bounds = [p.x for p in sorted_transitions]\n",
    "x_bounds"
   ]
  },
  {
   "cell_type": "code",
   "execution_count": null,
   "id": "efb22ee3",
   "metadata": {},
   "outputs": [],
   "source": [
    "midpoints = np.convolve([p.x for p in sorted_transitions], [1, 1], \"valid\") / 2\n",
    "midpoints"
   ]
  },
  {
   "cell_type": "code",
   "execution_count": null,
   "id": "6f2b5b14",
   "metadata": {},
   "outputs": [],
   "source": [
    "traj_piecewise = Piecewise(\n",
    "                    (x**2 / 4, x < 2),\n",
    "                    (x - 1, x >= 2))\n",
    "traj_piecewise"
   ]
  },
  {
   "cell_type": "code",
   "execution_count": null,
   "id": "ae5eeb77",
   "metadata": {},
   "outputs": [],
   "source": [
    "plot(traj_piecewise)"
   ]
  },
  {
   "cell_type": "code",
   "execution_count": null,
   "id": "2d720564",
   "metadata": {},
   "outputs": [],
   "source": [
    "deriv_traj = diff(traj_piecewise, x)\n",
    "deriv_traj"
   ]
  },
  {
   "cell_type": "code",
   "execution_count": null,
   "id": "78b766b1",
   "metadata": {},
   "outputs": [],
   "source": [
    "dydx_midpoints = [deriv_traj.subs(x, val) for val in midpoints]\n",
    "dydx_midpoints"
   ]
  },
  {
   "cell_type": "code",
   "execution_count": null,
   "id": "4f9680ad",
   "metadata": {},
   "outputs": [],
   "source": [
    "midpoint_angles = [atan2(d, 1) for d in dydx_midpoints]\n",
    "midpoint_angles"
   ]
  },
  {
   "cell_type": "code",
   "execution_count": null,
   "id": "0df53aa3",
   "metadata": {},
   "outputs": [],
   "source": [
    "p = Piecewise(\n",
    "...     (x, x < 2),\n",
    "...     (x**2,(x > 0) & (x < 4)),\n",
    "...     (3, True))\n",
    "diff(p, x)"
   ]
  },
  {
   "cell_type": "code",
   "execution_count": null,
   "id": "36db01ac",
   "metadata": {},
   "outputs": [],
   "source": [
    "diff(p, x).subs(x, 1.99)"
   ]
  },
  {
   "cell_type": "code",
   "execution_count": null,
   "id": "9ac7e63f",
   "metadata": {},
   "outputs": [],
   "source": [
    "diff(p, x).subs(x, 3)"
   ]
  },
  {
   "cell_type": "code",
   "execution_count": null,
   "id": "375ca694",
   "metadata": {},
   "outputs": [],
   "source": [
    "plot_polygon(hexagon)"
   ]
  },
  {
   "cell_type": "code",
   "execution_count": null,
   "id": "2af6ab1c",
   "metadata": {},
   "outputs": [],
   "source": [
    "plot_polygon(rectangle)"
   ]
  },
  {
   "cell_type": "code",
   "execution_count": null,
   "id": "7e76df2d",
   "metadata": {},
   "outputs": [],
   "source": [
    "# map vertices to angle ranges\n",
    "verts = rectangle.vertices\n",
    "angles, vertex_pairs = compute_polygon_angles(rectangle)\n",
    "vertex_pairs_right = list(zip(verts, verts[1:] + verts[:1]))\n",
    "vertex_offsets_right: List[Tuple] = [\n",
    "    (nextp.x - p.x, nextp.y - p.y) for (p, nextp) in vertex_pairs_right\n",
    "]\n",
    "angles_right: List[float] = [\n",
    "    atan2(offset_y, offset_x) for (offset_x, offset_y) in vertex_offsets_right\n",
    "]\n",
    "positive_angles_right = [angle % (2 * pi) for angle in angles_right]\n",
    "\n",
    "\n",
    "vertex_pairs_left = list(zip(verts[-1:] + verts[:-1], verts))\n",
    "vertex_offsets_left: List[Tuple] = [\n",
    "    (nextp.x - p.x, nextp.y - p.y) for (p, nextp) in vertex_pairs_left\n",
    "]\n",
    "angles_left: List[float] = [\n",
    "    atan2(offset_y, offset_x) for (offset_x, offset_y) in vertex_offsets_left\n",
    "]\n",
    "positive_angles_left = [angle % (2 * pi) for angle in angles_left]\n",
    "\n",
    "\n",
    "corners_to_angles = dict()\n",
    "for i in range(len(verts)):\n",
    "    if positive_angles_right[i] < positive_angles_left[i]:\n",
    "        corners_to_angles[verts[i]] = Interval(positive_angles_left[i], positive_angles_right[i] + 2*pi)\n",
    "    else:\n",
    "        corners_to_angles[verts[i]] = Interval(positive_angles_left[i], positive_angles_right[i])\n",
    "    \n",
    "corners_to_angles "
   ]
  },
  {
   "cell_type": "code",
   "execution_count": null,
   "id": "f9916b80",
   "metadata": {},
   "outputs": [],
   "source": [
    "midpoint_angles"
   ]
  },
  {
   "cell_type": "code",
   "execution_count": null,
   "id": "1c3ada54",
   "metadata": {},
   "outputs": [],
   "source": [
    "active_corners = {}\n",
    "for midpoint_angle in midpoint_angles:\n",
    "    for k, v in corners_to_angles.items():\n",
    "        # TODO(nishant): if not symmetric, add 180 deg\n",
    "        if midpoint_angle % (2*pi) in v:\n",
    "            active_corners[midpoint_angle] = k\n",
    "        \n",
    "active_corners"
   ]
  },
  {
   "cell_type": "code",
   "execution_count": null,
   "id": "99fc4205",
   "metadata": {},
   "outputs": [],
   "source": [
    "# x_bounds len 6\n",
    "# midpoints len 5\n",
    "x_intervals = list(zip(x_bounds[:-1], x_bounds[1:])) # same len as midpoints\n",
    "x_intervals"
   ]
  },
  {
   "cell_type": "code",
   "execution_count": null,
   "id": "a3033ebc",
   "metadata": {},
   "outputs": [],
   "source": []
  },
  {
   "cell_type": "code",
   "execution_count": null,
   "id": "4337dac9",
   "metadata": {},
   "outputs": [],
   "source": [
    "x + y >= 0"
   ]
  },
  {
   "cell_type": "code",
   "execution_count": null,
   "id": "631f1593",
   "metadata": {},
   "outputs": [],
   "source": [
    "plot(traj_piecewise)"
   ]
  },
  {
   "cell_type": "code",
   "execution_count": null,
   "id": "f32d3f65",
   "metadata": {},
   "outputs": [],
   "source": [
    "x_intervals"
   ]
  },
  {
   "cell_type": "code",
   "execution_count": null,
   "id": "b2fb97e6",
   "metadata": {},
   "outputs": [],
   "source": [
    "tt = traj_piecewise.as_expr_set_pairs(Interval(x_left, x_right))\n",
    "tt"
   ]
  },
  {
   "cell_type": "code",
   "execution_count": null,
   "id": "433b39e3",
   "metadata": {},
   "outputs": [],
   "source": [
    "tt[0][0]"
   ]
  },
  {
   "cell_type": "code",
   "execution_count": null,
   "id": "205f8326",
   "metadata": {},
   "outputs": [],
   "source": [
    "(5 <= x) & (x <= 10 )"
   ]
  },
  {
   "cell_type": "code",
   "execution_count": null,
   "id": "3306b793",
   "metadata": {},
   "outputs": [],
   "source": [
    "g = Piecewise((y_left, x < x_left),\n",
    "         (tt[0][0], (x_left <= x) & (x <= x_right)),\n",
    "         (y_right, x > x_right))\n",
    "g"
   ]
  },
  {
   "cell_type": "code",
   "execution_count": null,
   "id": "5562b3ad",
   "metadata": {},
   "outputs": [],
   "source": [
    "g.subs(x, x+1)"
   ]
  },
  {
   "cell_type": "code",
   "execution_count": null,
   "id": "29e1d8c0",
   "metadata": {},
   "outputs": [],
   "source": []
  },
  {
   "cell_type": "code",
   "execution_count": null,
   "id": "3e97fee7",
   "metadata": {},
   "outputs": [],
   "source": [
    "y - current_fn"
   ]
  },
  {
   "cell_type": "code",
   "execution_count": null,
   "id": "04395019",
   "metadata": {},
   "outputs": [],
   "source": [
    "w = 2\n",
    "h = 1 \n",
    "# HARDCODED FOR RECTANGLE\n",
    "total_cond = None\n",
    "for i, x_interval in enumerate(x_intervals):\n",
    "#     compute line through active corners\n",
    "#     print(active_corners[midpoint_angles[i]])\n",
    "#     line goes through lhs and \n",
    "#     TODO(nishant): how to decide if y > or y < ?? or do \"between\" again\n",
    "    x_left = x_interval[0]\n",
    "    y_left = traj_piecewise.subs(x, x_left)\n",
    "    x_right = x_interval[1]\n",
    "    y_right = traj_piecewise.subs(x, x_right)\n",
    "    poly_center_left = Point(x_left, y_left)\n",
    "    poly_center_right = Point(x_right, y_right)\n",
    "    \n",
    "#     TODO(nishant): if asymmetric use two corners, not center\n",
    "    active_corner_offset = active_corners[midpoint_angles[i]]\n",
    "    line_left = Line(poly_center_left, poly_center_left + active_corner_offset)\n",
    "    line_right = Line(poly_center_right, poly_center_right + active_corner_offset)\n",
    "#     print(line_left.equation())\n",
    "#     print(line_right.equation())\n",
    "    corner_cond = line_left.equation() * line_right.equation() <= 0\n",
    "    # TODO(nishant): find width\n",
    "    x_cond = (x >= (x_left - w)) & (x <= (x_right + w))\n",
    "    \n",
    "#     construct g functions\n",
    "    # trajectory over this interval\n",
    "    current_piece = traj_piecewise.as_expr_set_pairs(Interval(x_left, x_right))\n",
    "    current_fn = current_piece[0][0]\n",
    "    g = y - Piecewise((y_left, x < x_left),\n",
    "         (current_fn, x <= x_right),\n",
    "         (y_right, x > x_right))\n",
    "#     g = y - current_fn\n",
    "#     TODO(nishant): rewrite for asymmetric\n",
    "    g1 = g.subs(x, x - active_corner_offset.x).subs(y, y - active_corner_offset.y)\n",
    "    g2 = g.subs(x, x + active_corner_offset.x).subs(y, y + active_corner_offset.y)\n",
    "    \n",
    "    full_cond = corner_cond & x_cond & (g1*g2 <= 0)\n",
    "#     full_cond = (g1*g2 <= 0)\n",
    "#     print(full_cond)\n",
    "    if total_cond is None:\n",
    "        total_cond = full_cond\n",
    "    else:\n",
    "        total_cond = total_cond | full_cond\n",
    "#     print(\"\")\n",
    "\n",
    "print(sympy_to_mathematica(total_cond))"
   ]
  },
  {
   "cell_type": "code",
   "execution_count": null,
   "id": "555882af",
   "metadata": {
    "scrolled": true
   },
   "outputs": [],
   "source": [
    "# p1 = plot_implicit(eval(str(total_cond)), (x, -10, 10))"
   ]
  },
  {
   "cell_type": "code",
   "execution_count": null,
   "id": "88baa326",
   "metadata": {},
   "outputs": [],
   "source": [
    "set_of_transitions"
   ]
  },
  {
   "cell_type": "code",
   "execution_count": null,
   "id": "46b65ea0",
   "metadata": {},
   "outputs": [],
   "source": [
    "traj_piecewise.subs(x, min(x_bounds))"
   ]
  },
  {
   "cell_type": "code",
   "execution_count": null,
   "id": "700a2161",
   "metadata": {},
   "outputs": [],
   "source": [
    "set([Point(min(x_bounds), traj_piecewise.subs(x, min(x_bounds)))])"
   ]
  },
  {
   "cell_type": "code",
   "execution_count": null,
   "id": "71529893",
   "metadata": {},
   "outputs": [],
   "source": [
    "# adding notches\n",
    "set_of_transitions_with_endpoints = set_of_transitions.copy()\n",
    "set_of_transitions_with_endpoints.update([Point(min(x_bounds), traj_piecewise.subs(x, min(x_bounds)))])\n",
    "set_of_transitions_with_endpoints.update([Point(max(x_bounds), traj_piecewise.subs(x, max(x_bounds)))])\n",
    "for transition_point in set_of_transitions_with_endpoints:\n",
    "    # neg for left side, 0 for on edge, pos for on right side\n",
    "    # inside polygon IF all neg or IF all pos\n",
    "    shifted_vertex_pairs = [\n",
    "        (v + transition_point, nextv + transition_point)\n",
    "        for (v, nextv) in vertex_pairs\n",
    "    ]  # [(v1, v2), (v2, v3), ..., (vn, v1)]\n",
    "    # source: https://inginious.org/course/competitive-programming/geometry-pointinconvex\n",
    "    # source: https://www.eecs.umich.edu/courses/eecs380/HANDOUTS/PROJ2/InsidePoly.html\n",
    "    side_conds = [\n",
    "        (y - v.y) * (nextv.x - v.x) - (x - v.x) * (nextv.y - v.y)\n",
    "        for (v, nextv) in shifted_vertex_pairs\n",
    "    ]  # [-1, 0, 4, 6]\n",
    "    # construct both cases inside\n",
    "    cond1 = true  # init to sympy.true since we're cascading Ands\n",
    "    cond2 = true  # init to sympy.true since we're cascading Ands\n",
    "    for side_cond in side_conds:\n",
    "        cond1 = cond1 & (side_cond <= 0)\n",
    "        cond2 = cond2 & (side_cond >= 0)\n",
    "    total_cond = total_cond | cond1 | cond2\n",
    "\n",
    "print(sympy_to_mathematica(total_cond))"
   ]
  },
  {
   "cell_type": "code",
   "execution_count": null,
   "id": "db81e444",
   "metadata": {},
   "outputs": [],
   "source": [
    "# p1 = plot_implicit(eval(str(total_cond)), (x, -10, 10))"
   ]
  },
  {
   "cell_type": "code",
   "execution_count": null,
   "id": "fe706eb5",
   "metadata": {},
   "outputs": [],
   "source": [
    "sympy_to_mathematica(traj_piecewise)"
   ]
  },
  {
   "cell_type": "code",
   "execution_count": null,
   "id": "97596cbf",
   "metadata": {},
   "outputs": [],
   "source": []
  },
  {
   "cell_type": "code",
   "execution_count": null,
   "id": "5876e264",
   "metadata": {},
   "outputs": [],
   "source": [
    "traj_piecewise"
   ]
  },
  {
   "cell_type": "code",
   "execution_count": null,
   "id": "34392908",
   "metadata": {},
   "outputs": [],
   "source": [
    "type(traj_piecewise)"
   ]
  },
  {
   "cell_type": "code",
   "execution_count": null,
   "id": "0ca27266",
   "metadata": {},
   "outputs": [],
   "source": [
    "func_var"
   ]
  },
  {
   "cell_type": "code",
   "execution_count": null,
   "id": "7ffd8139",
   "metadata": {},
   "outputs": [],
   "source": [
    "getattr(w, str(func_var))"
   ]
  },
  {
   "cell_type": "code",
   "execution_count": null,
   "id": "264ad910",
   "metadata": {},
   "outputs": [],
   "source": [
    "poly = rectangle\n",
    "verts = poly.vertices\n",
    "w = max(\n",
    "    [-1 * min([v - poly.centroid for v in verts], key=lambda p: p.x),\n",
    "    max([v - poly.centroid for v in verts], key=lambda p: p.x)], key=lambda p: p.x\n",
    ")\n",
    "w.x"
   ]
  },
  {
   "cell_type": "code",
   "execution_count": null,
   "id": "4dea9f92",
   "metadata": {},
   "outputs": [],
   "source": []
  },
  {
   "cell_type": "code",
   "execution_count": null,
   "id": "23b707b3",
   "metadata": {},
   "outputs": [],
   "source": [
    "traj_piecewise = Piecewise(\n",
    "                    (x**2 / 4, x < 2),\n",
    "                    (x - 1, x >= 2))\n",
    "traj_piecewise"
   ]
  },
  {
   "cell_type": "markdown",
   "id": "fecab606",
   "metadata": {},
   "source": [
    "# Rectangle for ACAS X example"
   ]
  },
  {
   "cell_type": "code",
   "execution_count": null,
   "id": "be415d99",
   "metadata": {},
   "outputs": [],
   "source": [
    "compute_polygon_angles(rectangle)"
   ]
  },
  {
   "cell_type": "markdown",
   "id": "c3d03dfb",
   "metadata": {},
   "source": [
    "### With function"
   ]
  },
  {
   "cell_type": "code",
   "execution_count": null,
   "id": "fc4c4750",
   "metadata": {},
   "outputs": [],
   "source": [
    "w = 0.75\n",
    "rect_points: list = [\n",
    "    geometry.Point(val)\n",
    "    for val in [[2 * w, -w], [2 * w, w], [-2 * w, w], [-2 * w, -w]]\n",
    "]\n",
    "rectangle: geometry.Polygon = Polygon(*rect_points)\n",
    "plot_polygon(rectangle)\n",
    "\n",
    "traj_piecewise = Piecewise(\n",
    "                    (x**2 / 16, x < 4),\n",
    "                    (x/2 - 1, x >= 4))\n",
    "plot(traj_piecewise)\n",
    "\n",
    "domain = Interval(-6, 15)\n",
    "\n",
    "compute_unsafe_cond(\n",
    "    x, y,\n",
    "    rectangle,\n",
    "    traj_piecewise,\n",
    "    (-9, 18),  # xbounds\n",
    "    (-2, 9),  # ybounds\n",
    "    \"ACAS X climb with rectangle\",\n",
    "    domain = domain, \n",
    "    resolution=0.25,\n",
    "#     savefig=True,\n",
    "    add_notches=True,\n",
    ")"
   ]
  },
  {
   "cell_type": "code",
   "execution_count": null,
   "id": "5eb834a1",
   "metadata": {},
   "outputs": [],
   "source": [
    "w = 0.75\n",
    "rect_points: list = [\n",
    "    geometry.Point(val)\n",
    "    for val in [[2 * w, -w], [2 * w, w], [-2 * w, w], [-2 * w, -w]]\n",
    "]\n",
    "rectangle: geometry.Polygon = Polygon(*rect_points)\n",
    "\n",
    "\n",
    "traj_piecewise = x**2 / 16\n",
    "plot(traj_piecewise)\n",
    "\n",
    "compute_unsafe_cond(\n",
    "    x, y,\n",
    "    rectangle,\n",
    "    traj_piecewise,\n",
    "    (-9, 18),  # xbounds\n",
    "    (-2, 9),  # ybounds\n",
    "    \"ACAS X climb with rectangle\",\n",
    "    Interval(-6, 15), \n",
    "    resolution=0.5,\n",
    "#     savefig=True,\n",
    "    add_notches=True,\n",
    "    alpha=0.5,\n",
    "#     overlay_traj=True,\n",
    ")"
   ]
  },
  {
   "cell_type": "markdown",
   "id": "406e7196",
   "metadata": {},
   "source": [
    "### Custom logic"
   ]
  },
  {
   "cell_type": "code",
   "execution_count": null,
   "id": "cd223dd2",
   "metadata": {},
   "outputs": [],
   "source": [
    "trajectories = [-y + x**2/16, -y + x/2 - 1]\n",
    "domains = [Interval(-6, 4), Interval(4, 15)]\n",
    "traj_piecewise = Piecewise(\n",
    "                    (x**2 / 16, x < 4),\n",
    "                    (x/2 - 1, x >= 4))\n",
    "piecewise_bounds=[Point(4, 1)]\n",
    "\n",
    "# w = symbols(\"w\")\n",
    "w = 0.75\n",
    "rect_points: list = [\n",
    "    geometry.Point(val)\n",
    "    for val in [[2 * w, -w], [2 * w, w], [-2 * w, w], [-2 * w, -w]]\n",
    "]\n",
    "rectangle: geometry.Polygon = Polygon(*rect_points)\n",
    "\n",
    "obj_poly = rectangle\n",
    "angles, vertex_pairs = compute_polygon_angles(obj_poly)\n",
    "\n",
    "set_of_transitions = set()\n",
    "for subtraj, subdomain in zip(trajectories, domains):\n",
    "    _, subset_of_transitions = find_transitions(\n",
    "        subtraj, angles, x, y, domain=subdomain\n",
    "    )\n",
    "    set_of_transitions.update(subset_of_transitions)\n",
    "\n",
    "set_of_transitions.update(piecewise_bounds)\n",
    "\n",
    "sorted_transitions: list = sorted(set_of_transitions, key = lambda x: x.x)\n",
    "\n",
    "x_bounds = [domains[0].inf] + [p.x for p in sorted_transitions] + [domains[-1].sup]\n",
    "\n",
    "midpoints = np.convolve(x_bounds, [1, 1], \"valid\") / 2\n",
    "\n",
    "deriv_traj = diff(traj_piecewise, x)\n",
    "dydx_midpoints = [deriv_traj.subs(x, val) for val in midpoints]\n",
    "midpoint_angles = [atan2(d, 1) for d in dydx_midpoints]\n",
    "\n",
    "# map vertices to angle ranges\n",
    "verts = obj_poly.vertices\n",
    "angles, vertex_pairs = compute_polygon_angles(obj_poly)\n",
    "vertex_pairs_right = list(zip(verts, verts[1:] + verts[:1]))\n",
    "vertex_offsets_right: List[Tuple] = [\n",
    "    (nextp.x - p.x, nextp.y - p.y) for (p, nextp) in vertex_pairs_right\n",
    "]\n",
    "angles_right: List[float] = [\n",
    "    atan2(offset_y, offset_x) for (offset_x, offset_y) in vertex_offsets_right\n",
    "]\n",
    "positive_angles_right = [angle % (2 * pi) for angle in angles_right]\n",
    "\n",
    "\n",
    "vertex_pairs_left = list(zip(verts[-1:] + verts[:-1], verts))\n",
    "vertex_offsets_left: List[Tuple] = [\n",
    "    (nextp.x - p.x, nextp.y - p.y) for (p, nextp) in vertex_pairs_left\n",
    "]\n",
    "angles_left: List[float] = [\n",
    "    atan2(offset_y, offset_x) for (offset_x, offset_y) in vertex_offsets_left\n",
    "]\n",
    "positive_angles_left = [angle % (2 * pi) for angle in angles_left]\n",
    "\n",
    "\n",
    "corners_to_angles = dict()\n",
    "for i in range(len(verts)):\n",
    "    if positive_angles_right[i] < positive_angles_left[i]:\n",
    "        corners_to_angles[verts[i]] = Interval(positive_angles_left[i], positive_angles_right[i] + 2*pi)\n",
    "    else:\n",
    "        corners_to_angles[verts[i]] = Interval(positive_angles_left[i], positive_angles_right[i])\n",
    "\n",
    "active_corners = {}\n",
    "for midpoint_angle in midpoint_angles:\n",
    "    for k, v in corners_to_angles.items():\n",
    "        # TODO(nishant): if not symmetric, add 180 deg\n",
    "        if midpoint_angle % (2*pi) in v:\n",
    "            active_corners[midpoint_angle] = k\n",
    "            \n",
    "x_intervals = list(zip(x_bounds[:-1], x_bounds[1:])) # same len as midpoints\n",
    "\n",
    "p1 = plot(traj_piecewise)\n",
    "p1.show()\n",
    "\n",
    "w = 1.5\n",
    "h = 1 \n",
    "# HARDCODED FOR RECTANGLE\n",
    "total_cond = None\n",
    "for i, x_interval in enumerate(x_intervals):\n",
    "#     compute line through active corners\n",
    "#     print(active_corners[midpoint_angles[i]])\n",
    "#     line goes through lhs and \n",
    "#     TODO(nishant): how to decide if y > or y < ?? or do \"between\" again\n",
    "    x_left = x_interval[0]\n",
    "    y_left = traj_piecewise.subs(x, x_left)\n",
    "    x_right = x_interval[1]\n",
    "    y_right = traj_piecewise.subs(x, x_right)\n",
    "    poly_center_left = Point(x_left, y_left)\n",
    "    poly_center_right = Point(x_right, y_right)\n",
    "    \n",
    "#     TODO(nishant): if asymmetric use two corners, not center\n",
    "    active_corner_offset = active_corners[midpoint_angles[i]]\n",
    "    line_left = Line(poly_center_left, poly_center_left + active_corner_offset)\n",
    "    line_right = Line(poly_center_right, poly_center_right + active_corner_offset)\n",
    "#     print(line_left.equation())\n",
    "#     print(line_right.equation())\n",
    "    corner_cond = line_left.equation() * line_right.equation() <= 0\n",
    "    # TODO(nishant): find width\n",
    "    x_cond = (x >= (x_left - w)) & (x <= (x_right + w))\n",
    "    \n",
    "#     construct g functions\n",
    "    # trajectory over this interval\n",
    "    current_piece = traj_piecewise.as_expr_set_pairs(Interval(x_left, x_right))\n",
    "    current_fn = current_piece[0][0]\n",
    "    g = y - Piecewise((y_left, x < x_left),\n",
    "         (current_fn, x <= x_right),\n",
    "         (y_right, x > x_right))\n",
    "#     g = y - current_fn\n",
    "#     TODO(nishant): rewrite for asymmetric\n",
    "    g1 = g.subs(x, x - active_corner_offset.x).subs(y, y - active_corner_offset.y)\n",
    "    g2 = g.subs(x, x + active_corner_offset.x).subs(y, y + active_corner_offset.y)\n",
    "    \n",
    "    full_cond = corner_cond & x_cond & (g1*g2 <= 0)\n",
    "#     full_cond = (g1*g2 <= 0)\n",
    "#     print(full_cond)\n",
    "    if total_cond is None:\n",
    "        total_cond = full_cond\n",
    "    else:\n",
    "        total_cond = total_cond | full_cond\n",
    "#     print(\"\")\n",
    "\n",
    "print(\"no notches\")\n",
    "print(sympy_to_mathematica(total_cond))\n",
    "print(\"\")\n",
    "\n",
    "# adding notches\n",
    "set_of_transitions_with_endpoints = set_of_transitions.copy()\n",
    "set_of_transitions_with_endpoints.update([Point(min(x_bounds), traj_piecewise.subs(x, min(x_bounds)))])\n",
    "set_of_transitions_with_endpoints.update([Point(max(x_bounds), traj_piecewise.subs(x, max(x_bounds)))])\n",
    "notches_only_cond = false\n",
    "for transition_point in set_of_transitions_with_endpoints:\n",
    "    # neg for left side, 0 for on edge, pos for on right side\n",
    "    # inside polygon IF all neg or IF all pos\n",
    "    shifted_vertex_pairs = [\n",
    "        (v + transition_point, nextv + transition_point)\n",
    "        for (v, nextv) in vertex_pairs\n",
    "    ]  # [(v1, v2), (v2, v3), ..., (vn, v1)]\n",
    "    # source: https://inginious.org/course/competitive-programming/geometry-pointinconvex\n",
    "    # source: https://www.eecs.umich.edu/courses/eecs380/HANDOUTS/PROJ2/InsidePoly.html\n",
    "    side_conds = [\n",
    "        (y - v.y) * (nextv.x - v.x) - (x - v.x) * (nextv.y - v.y)\n",
    "        for (v, nextv) in shifted_vertex_pairs\n",
    "    ]  # [-1, 0, 4, 6]\n",
    "    # construct both cases inside\n",
    "    cond1 = true  # init to sympy.true since we're cascading Ands\n",
    "    cond2 = true  # init to sympy.true since we're cascading Ands\n",
    "    for side_cond in side_conds:\n",
    "        cond1 = cond1 & (side_cond <= 0)\n",
    "        cond2 = cond2 & (side_cond >= 0)\n",
    "    total_cond = total_cond | cond1 | cond2\n",
    "    notches_only_cond = notches_only_cond | cond1 | cond2\n",
    "\n",
    "print(\"with notches\")\n",
    "print(sympy_to_mathematica(total_cond))\n",
    "print(\"\\nnotches only\")\n",
    "print(sympy_to_mathematica(notches_only_cond))\n",
    "print(\"\\ntraj\")\n",
    "print(sympy_to_mathematica(traj_piecewise))"
   ]
  },
  {
   "cell_type": "code",
   "execution_count": null,
   "id": "84bfc87d",
   "metadata": {},
   "outputs": [],
   "source": [
    "print(latex(total_cond, mode=\"equation\"))"
   ]
  },
  {
   "cell_type": "code",
   "execution_count": null,
   "id": "be4a71ab",
   "metadata": {},
   "outputs": [],
   "source": [
    "print(latex(traj_piecewise, mode=\"equation\"))"
   ]
  },
  {
   "cell_type": "code",
   "execution_count": null,
   "id": "0e363c18",
   "metadata": {},
   "outputs": [],
   "source": []
  },
  {
   "cell_type": "code",
   "execution_count": null,
   "id": "bebfc930",
   "metadata": {},
   "outputs": [],
   "source": [
    "trajectories = [-y + x**2/4, -y + x - 1]\n",
    "domains = [Interval(-6, 2), Interval(2, 6)]\n",
    "traj_piecewise = Piecewise(\n",
    "                    (x**2 / 4, x < 2),\n",
    "                    (x - 1, x >= 2))\n",
    "piecewise_bounds=[Point(2, 1)]\n",
    "hexagon = RegularPolygon(Point(0, 0), r, 6)\n",
    "obj_poly = hexagon\n",
    "angles, vertex_pairs = compute_polygon_angles(obj_poly)\n",
    "plot_polygon(obj_poly)"
   ]
  },
  {
   "cell_type": "code",
   "execution_count": null,
   "id": "89742b9f",
   "metadata": {},
   "outputs": [],
   "source": []
  },
  {
   "cell_type": "code",
   "execution_count": null,
   "id": "3d4e2d84",
   "metadata": {},
   "outputs": [],
   "source": [
    "set_of_transitions = set()\n",
    "for subtraj, subdomain in zip(trajectories, domains):\n",
    "    _, subset_of_transitions = find_transitions(\n",
    "        subtraj, angles, x, y, domain=subdomain\n",
    "    )\n",
    "    set_of_transitions.update(subset_of_transitions)\n",
    "\n",
    "set_of_transitions.update(piecewise_bounds)\n",
    "set_of_transitions\n",
    "\n",
    "sorted_transitions: list = sorted(set_of_transitions, key = lambda x: x.x)\n",
    "sorted_transitions"
   ]
  },
  {
   "cell_type": "code",
   "execution_count": null,
   "id": "d0233496",
   "metadata": {},
   "outputs": [],
   "source": [
    "x_bounds = [domains[0].inf] + [p.x for p in sorted_transitions] + [domains[-1].sup]\n",
    "\n",
    "midpoints = np.convolve(x_bounds, [1, 1], \"valid\") / 2\n",
    "\n",
    "deriv_traj = diff(traj_piecewise, x)\n",
    "dydx_midpoints = [deriv_traj.subs(x, val) for val in midpoints]\n",
    "midpoint_angles = [atan2(d, 1) for d in dydx_midpoints]\n",
    "\n",
    "# map vertices to angle ranges\n",
    "verts = obj_poly.vertices\n",
    "\n",
    "vertex_pairs_right = list(zip(verts, verts[1:] + verts[:1]))\n",
    "vertex_offsets_right: List[Tuple] = [\n",
    "    (nextp.x - p.x, nextp.y - p.y) for (p, nextp) in vertex_pairs_right\n",
    "]\n",
    "angles_right: List[float] = [\n",
    "    atan2(offset_y, offset_x) for (offset_x, offset_y) in vertex_offsets_right\n",
    "]\n",
    "positive_angles_right = [angle % (2 * pi) for angle in angles_right]\n",
    "\n",
    "\n",
    "vertex_pairs_left = list(zip(verts[-1:] + verts[:-1], verts))\n",
    "vertex_offsets_left: List[Tuple] = [\n",
    "    (nextp.x - p.x, nextp.y - p.y) for (p, nextp) in vertex_pairs_left\n",
    "]\n",
    "angles_left: List[float] = [\n",
    "    atan2(offset_y, offset_x) for (offset_x, offset_y) in vertex_offsets_left\n",
    "]\n",
    "positive_angles_left = [angle % (2 * pi) for angle in angles_left]\n",
    "\n",
    "\n",
    "corners_to_angles = dict()\n",
    "for i in range(len(verts)):\n",
    "    if positive_angles_right[i] < positive_angles_left[i]:\n",
    "        corners_to_angles[verts[i]] = Interval(positive_angles_left[i], positive_angles_right[i] + 2*pi)\n",
    "    else:\n",
    "        corners_to_angles[verts[i]] = Interval(positive_angles_left[i], positive_angles_right[i])\n",
    "\n",
    "active_corners = {}\n",
    "for midpoint_angle in midpoint_angles:\n",
    "    for k, v in corners_to_angles.items():\n",
    "        # TODO(nishant): if not symmetric, add 180 deg\n",
    "        if midpoint_angle % (2*pi) in v:\n",
    "            active_corners[midpoint_angle] = k\n"
   ]
  },
  {
   "cell_type": "code",
   "execution_count": null,
   "id": "9b0bd07b",
   "metadata": {},
   "outputs": [],
   "source": [
    "x_bounds"
   ]
  },
  {
   "cell_type": "code",
   "execution_count": null,
   "id": "0c57ff78",
   "metadata": {},
   "outputs": [],
   "source": [
    "midpoints"
   ]
  },
  {
   "cell_type": "code",
   "execution_count": null,
   "id": "93db1e2a",
   "metadata": {},
   "outputs": [],
   "source": [
    "midpoint_angles"
   ]
  },
  {
   "cell_type": "code",
   "execution_count": null,
   "id": "b729ca38",
   "metadata": {},
   "outputs": [],
   "source": [
    "active_corners"
   ]
  },
  {
   "cell_type": "code",
   "execution_count": null,
   "id": "f404b43c",
   "metadata": {},
   "outputs": [],
   "source": [
    "plot_polygon(hexagon)"
   ]
  },
  {
   "cell_type": "code",
   "execution_count": null,
   "id": "d51e259f",
   "metadata": {},
   "outputs": [],
   "source": []
  },
  {
   "cell_type": "code",
   "execution_count": null,
   "id": "09f050c0",
   "metadata": {},
   "outputs": [],
   "source": []
  },
  {
   "cell_type": "code",
   "execution_count": null,
   "id": "75ce8a1e",
   "metadata": {},
   "outputs": [],
   "source": []
  },
  {
   "cell_type": "code",
   "execution_count": null,
   "id": "87cadd59",
   "metadata": {},
   "outputs": [],
   "source": []
  },
  {
   "cell_type": "code",
   "execution_count": null,
   "id": "17e8ac4d",
   "metadata": {},
   "outputs": [],
   "source": []
  },
  {
   "cell_type": "markdown",
   "id": "2ce7327d",
   "metadata": {},
   "source": [
    "# Eytan's Paper Example"
   ]
  },
  {
   "cell_type": "code",
   "execution_count": null,
   "id": "cc0a7b2f",
   "metadata": {},
   "outputs": [],
   "source": [
    "R = 10\n",
    "theta = pi/3\n",
    "# y = sqrt(R**2 - x**2)\n",
    "bound = R / sqrt(tan(theta)**2 + 1)"
   ]
  },
  {
   "cell_type": "code",
   "execution_count": null,
   "id": "14b2dc4b",
   "metadata": {},
   "outputs": [],
   "source": [
    "sqrt(R**2 - x**2).subs(x, bound)"
   ]
  },
  {
   "cell_type": "code",
   "execution_count": null,
   "id": "90df48e6",
   "metadata": {},
   "outputs": [],
   "source": [
    "(-1/tan(theta)*(x-R*cos(theta)) + R*sin(theta)).subs(x, bound)"
   ]
  },
  {
   "cell_type": "code",
   "execution_count": null,
   "id": "7bcf4017",
   "metadata": {},
   "outputs": [],
   "source": [
    "trajectories = [-y + -1/tan(theta)*(x-R*cos(theta)) + R*sin(theta), -y + sqrt(R**2 - x**2)]\n",
    "domains = [Interval(-12, bound), Interval(bound, 10)]\n",
    "traj_piecewise = Piecewise(\n",
    "                    (sqrt(R**2 - x**2), x > bound),\n",
    "                    (-1/tan(theta)*(x-R*cos(theta)) + R*sin(theta), x <= bound))\n",
    "piecewise_bounds=[Point(bound, sqrt(R**2 - x**2).subs(x, bound))]\n",
    "plot(traj_piecewise)"
   ]
  },
  {
   "cell_type": "code",
   "execution_count": null,
   "id": "c0c8b8b6",
   "metadata": {},
   "outputs": [],
   "source": [
    "print(latex(traj_piecewise, mode=\"equation\"))"
   ]
  },
  {
   "cell_type": "code",
   "execution_count": null,
   "id": "5a7d8521",
   "metadata": {},
   "outputs": [],
   "source": [
    "# trajectories = [-y + x**2/4, -y + x - 1]\n",
    "# domains = [Interval(-6, 2), Interval(2, 6)]\n",
    "# traj_piecewise = Piecewise(\n",
    "#                     (x**2 / 4, x < 2),\n",
    "#                     (x - 1, x >= 2))\n",
    "# piecewise_bounds=[Point(2, 1)]\n",
    "rp = 2\n",
    "hexagon = RegularPolygon(Point(0, 0), rp, 6)\n",
    "obj_poly = hexagon\n",
    "angles, vertex_pairs = compute_polygon_angles(obj_poly)\n",
    "\n",
    "set_of_transitions = set()\n",
    "for subtraj, subdomain in zip(trajectories, domains):\n",
    "    _, subset_of_transitions = find_transitions(\n",
    "        subtraj, angles, x, y, domain=subdomain\n",
    "    )\n",
    "    set_of_transitions.update(subset_of_transitions)\n",
    "\n",
    "set_of_transitions.update(piecewise_bounds)\n",
    "\n",
    "sorted_transitions: list = sorted(set_of_transitions, key = lambda x: x.x)\n",
    "\n",
    "x_bounds = [domains[0].inf] + [p.x for p in sorted_transitions] + [domains[-1].sup]\n",
    "\n",
    "midpoints = np.convolve(x_bounds, [1, 1], \"valid\") / 2\n",
    "\n",
    "deriv_traj = diff(traj_piecewise, x)\n",
    "dydx_midpoints = [deriv_traj.subs(x, val) for val in midpoints]\n",
    "midpoint_angles = [atan2(d, 1) for d in dydx_midpoints]\n",
    "\n",
    "# map vertices to angle ranges\n",
    "verts = obj_poly.vertices\n",
    "\n",
    "vertex_pairs_right = list(zip(verts, verts[1:] + verts[:1]))\n",
    "vertex_offsets_right: List[Tuple] = [\n",
    "    (nextp.x - p.x, nextp.y - p.y) for (p, nextp) in vertex_pairs_right\n",
    "]\n",
    "angles_right: List[float] = [\n",
    "    atan2(offset_y, offset_x) for (offset_x, offset_y) in vertex_offsets_right\n",
    "]\n",
    "positive_angles_right = [angle % (2 * pi) for angle in angles_right]\n",
    "\n",
    "\n",
    "vertex_pairs_left = list(zip(verts[-1:] + verts[:-1], verts))\n",
    "vertex_offsets_left: List[Tuple] = [\n",
    "    (nextp.x - p.x, nextp.y - p.y) for (p, nextp) in vertex_pairs_left\n",
    "]\n",
    "angles_left: List[float] = [\n",
    "    atan2(offset_y, offset_x) for (offset_x, offset_y) in vertex_offsets_left\n",
    "]\n",
    "positive_angles_left = [angle % (2 * pi) for angle in angles_left]\n",
    "\n",
    "\n",
    "corners_to_angles = dict()\n",
    "for i in range(len(verts)):\n",
    "    if positive_angles_right[i] < positive_angles_left[i]:\n",
    "        corners_to_angles[verts[i]] = Interval(positive_angles_left[i], positive_angles_right[i] + 2*pi)\n",
    "    else:\n",
    "        corners_to_angles[verts[i]] = Interval(positive_angles_left[i], positive_angles_right[i])"
   ]
  },
  {
   "cell_type": "code",
   "execution_count": null,
   "id": "257ea7da",
   "metadata": {},
   "outputs": [],
   "source": [
    "plot_polygon(hexagon)"
   ]
  },
  {
   "cell_type": "code",
   "execution_count": null,
   "id": "e273c09f",
   "metadata": {},
   "outputs": [],
   "source": [
    "corners_to_angles"
   ]
  },
  {
   "cell_type": "code",
   "execution_count": null,
   "id": "358a8e62",
   "metadata": {},
   "outputs": [],
   "source": [
    "midpoints"
   ]
  },
  {
   "cell_type": "code",
   "execution_count": null,
   "id": "0939237d",
   "metadata": {},
   "outputs": [],
   "source": [
    "midpoint_angles"
   ]
  },
  {
   "cell_type": "code",
   "execution_count": null,
   "id": "27405366",
   "metadata": {},
   "outputs": [],
   "source": [
    "active_corners = {}\n",
    "for midpoint_angle in midpoint_angles:\n",
    "    for k, v in corners_to_angles.items():\n",
    "        # TODO(nishant): if not symmetric, add 180 deg\n",
    "        if midpoint_angle % (2*pi) in v:\n",
    "            active_corners[midpoint_angle] = k\n",
    "            \n",
    "x_intervals = list(zip(x_bounds[:-1], x_bounds[1:])) # same len as midpoints\n",
    "\n",
    "p1 = plot(traj_piecewise)\n",
    "p1.show()\n",
    "\n",
    "w = rp  # hexagon\n",
    "# w = 2  # rectangle\n",
    "h = 1 \n",
    "# HARDCODED FOR\n",
    "total_cond = None\n",
    "for i, x_interval in enumerate(x_intervals):\n",
    "#     compute line through active corners\n",
    "#     print(active_corners[midpoint_angles[i]])\n",
    "#     line goes through lhs and \n",
    "#     TODO(nishant): how to decide if y > or y < ?? or do \"between\" again\n",
    "    x_left = x_interval[0]\n",
    "    y_left = traj_piecewise.subs(x, x_left)\n",
    "    x_right = x_interval[1]\n",
    "    y_right = traj_piecewise.subs(x, x_right)\n",
    "    poly_center_left = Point(x_left, y_left)\n",
    "    poly_center_right = Point(x_right, y_right)\n",
    "    \n",
    "#     TODO(nishant): if asymmetric use two corners, not center\n",
    "    active_corner_offset = active_corners[midpoint_angles[i]]\n",
    "    line_left = Line(poly_center_left, poly_center_left + active_corner_offset)\n",
    "    line_right = Line(poly_center_right, poly_center_right + active_corner_offset)\n",
    "#     print(line_left.equation())\n",
    "#     print(line_right.equation())\n",
    "    corner_cond = line_left.equation() * line_right.equation() <= 0\n",
    "    # TODO(nishant): find width\n",
    "    x_cond = (x >= (x_left - w)) & (x <= (x_right + w))\n",
    "    \n",
    "#     construct g functions\n",
    "    # trajectory over this interval\n",
    "    current_piece = traj_piecewise.as_expr_set_pairs(Interval(x_left, x_right))\n",
    "    current_fn = current_piece[0][0]\n",
    "    g = y - Piecewise((y_left, x < x_left),\n",
    "         (current_fn, x <= x_right),\n",
    "         (y_right, x > x_right))\n",
    "#     g = y - current_fn\n",
    "#     TODO(nishant): rewrite for asymmetric\n",
    "    g1 = g.subs(x, x - active_corner_offset.x).subs(y, y - active_corner_offset.y)\n",
    "    g2 = g.subs(x, x + active_corner_offset.x).subs(y, y + active_corner_offset.y)\n",
    "    \n",
    "    full_cond = corner_cond & x_cond & (g1*g2 <= 0)\n",
    "#     full_cond = (g1*g2 <= 0)\n",
    "#     print(full_cond)\n",
    "    if total_cond is None:\n",
    "        total_cond = full_cond\n",
    "    else:\n",
    "        total_cond = total_cond | full_cond\n",
    "#     print(\"\")\n",
    "\n",
    "print(\"no notches\")\n",
    "print(sympy_to_mathematica(total_cond))\n",
    "print(\"\")\n",
    "\n",
    "# adding notches\n",
    "set_of_transitions_with_endpoints = set_of_transitions.copy()\n",
    "set_of_transitions_with_endpoints.update([Point(min(x_bounds), traj_piecewise.subs(x, min(x_bounds)))])\n",
    "set_of_transitions_with_endpoints.update([Point(max(x_bounds), traj_piecewise.subs(x, max(x_bounds)))])\n",
    "notches_only_cond = false\n",
    "for transition_point in set_of_transitions_with_endpoints:\n",
    "    # neg for left side, 0 for on edge, pos for on right side\n",
    "    # inside polygon IF all neg or IF all pos\n",
    "    shifted_vertex_pairs = [\n",
    "        (v + transition_point, nextv + transition_point)\n",
    "        for (v, nextv) in vertex_pairs\n",
    "    ]  # [(v1, v2), (v2, v3), ..., (vn, v1)]\n",
    "    # source: https://inginious.org/course/competitive-programming/geometry-pointinconvex\n",
    "    # source: https://www.eecs.umich.edu/courses/eecs380/HANDOUTS/PROJ2/InsidePoly.html\n",
    "    side_conds = [\n",
    "        (y - v.y) * (nextv.x - v.x) - (x - v.x) * (nextv.y - v.y)\n",
    "        for (v, nextv) in shifted_vertex_pairs\n",
    "    ]  # [-1, 0, 4, 6]\n",
    "    # construct both cases inside\n",
    "    cond1 = true  # init to sympy.true since we're cascading Ands\n",
    "    cond2 = true  # init to sympy.true since we're cascading Ands\n",
    "    for side_cond in side_conds:\n",
    "        cond1 = cond1 & (side_cond <= 0)\n",
    "        cond2 = cond2 & (side_cond >= 0)\n",
    "    total_cond = total_cond | cond1 | cond2\n",
    "    notches_only_cond = notches_only_cond | cond1 | cond2\n",
    "\n",
    "print(\"with notches\")\n",
    "print(sympy_to_mathematica(total_cond))\n",
    "print(\"\\nnotches only\")\n",
    "print(sympy_to_mathematica(notches_only_cond))\n",
    "print(\"\\ntraj\")\n",
    "print(sympy_to_mathematica(traj_piecewise))"
   ]
  },
  {
   "cell_type": "code",
   "execution_count": null,
   "id": "2f609336",
   "metadata": {},
   "outputs": [],
   "source": [
    "print(latex(total_cond, mode=\"equation\"))"
   ]
  },
  {
   "cell_type": "code",
   "execution_count": null,
   "id": "fd2419de",
   "metadata": {},
   "outputs": [],
   "source": [
    "to_modify = str(clause)\n",
    "print(sympy_to_mathematica(to_modify))"
   ]
  },
  {
   "cell_type": "code",
   "execution_count": null,
   "id": "f4a1831c",
   "metadata": {},
   "outputs": [],
   "source": [
    "sympy_to_mathematica(str(traj_piecewise))"
   ]
  },
  {
   "cell_type": "code",
   "execution_count": null,
   "id": "10aad5f8",
   "metadata": {},
   "outputs": [],
   "source": [
    "# order each transition point [begin with left bound, end w right bound]\n",
    "# in between each boundary point find the midpoint and identify active corners\n",
    "# for each boundary:\n",
    "#   compute f(x) and store in dict mapping x_bound -> f(x_bound)\n",
    "#   compute line btwn active corners based on corresponding active corner for midpoint??\n",
    "#     - note - need inverse mapping from vertex -> angle range to find active corners\n",
    "# for each interval\n",
    "#   compute g(x) based on bounds in dict\n",
    "#   compute line?? either here or above\n",
    "#   generate clause w this info"
   ]
  },
  {
   "cell_type": "code",
   "execution_count": null,
   "id": "3803b55f",
   "metadata": {},
   "outputs": [],
   "source": [
    "dict(zip(angles, vertex_pairs))"
   ]
  },
  {
   "cell_type": "code",
   "execution_count": null,
   "id": "44ec08a9",
   "metadata": {},
   "outputs": [],
   "source": [
    "plot_safe_grid(\n",
    "    square,\n",
    "    [sin_traj, -y + x - pi],\n",
    "    (-6, 6),\n",
    "    (-8, 8),\n",
    "    \"Sin trajectory with square and notch check\",\n",
    "    [Interval(-6, pi), Interval(pi, 6)],\n",
    "    resolution=RESOLUTION,\n",
    "#     savefig=True,\n",
    "    add_notches=True,\n",
    "    piecewise_bounds=[Point(pi, sin(pi))]\n",
    ")"
   ]
  },
  {
   "cell_type": "code",
   "execution_count": null,
   "id": "b947a31e",
   "metadata": {},
   "outputs": [],
   "source": [
    "Point(pi, sin(pi))"
   ]
  },
  {
   "cell_type": "code",
   "execution_count": null,
   "id": "624171e7",
   "metadata": {},
   "outputs": [],
   "source": [
    "sin_domain.sup"
   ]
  },
  {
   "cell_type": "code",
   "execution_count": null,
   "id": "c4206583",
   "metadata": {},
   "outputs": [],
   "source": [
    "sin_traj"
   ]
  },
  {
   "cell_type": "code",
   "execution_count": null,
   "id": "9a758766",
   "metadata": {},
   "outputs": [],
   "source": [
    "plot(sin(x))"
   ]
  },
  {
   "cell_type": "code",
   "execution_count": null,
   "id": "b7879469",
   "metadata": {},
   "outputs": [],
   "source": [
    "plot(x - pi)"
   ]
  },
  {
   "cell_type": "code",
   "execution_count": null,
   "id": "bafa9620",
   "metadata": {},
   "outputs": [],
   "source": [
    "limit(sin(x), x, pi)"
   ]
  },
  {
   "cell_type": "code",
   "execution_count": null,
   "id": "78e6c378",
   "metadata": {},
   "outputs": [],
   "source": [
    "plot_implicit(sin(x))"
   ]
  },
  {
   "cell_type": "code",
   "execution_count": null,
   "id": "f7dda560",
   "metadata": {},
   "outputs": [],
   "source": [
    "line_traj"
   ]
  },
  {
   "cell_type": "code",
   "execution_count": null,
   "id": "48738639",
   "metadata": {},
   "outputs": [],
   "source": [
    "plot_safe_grid(\n",
    "    square,\n",
    "    sin_traj,\n",
    "    (-6, 6),\n",
    "    (-8, 8),\n",
    "    \"Sin trajectory with square and notch check\",\n",
    "    sin_domain, \n",
    "    resolution=RESOLUTION,\n",
    "#     savefig=True,\n",
    "#     add_notches=False\n",
    ")"
   ]
  },
  {
   "cell_type": "code",
   "execution_count": null,
   "id": "7e0fe523",
   "metadata": {},
   "outputs": [],
   "source": [
    "square.vertices[0][1]"
   ]
  },
  {
   "cell_type": "code",
   "execution_count": null,
   "id": "19224505",
   "metadata": {},
   "outputs": [],
   "source": [
    "# generating regions for mathematica with xbounds, ybounds\n",
    "xbounds = (-8, 8)\n",
    "ybounds = (-6, 6)\n",
    "plotrange = f\"{{x, {xbounds[0]}, {xbounds[1]}}}, {{y, {ybounds[0]}, {ybounds[1]}}}\"\n",
    "plotrange"
   ]
  },
  {
   "cell_type": "code",
   "execution_count": null,
   "id": "f49d84e5",
   "metadata": {},
   "outputs": [],
   "source": [
    "# converting equations\n",
    "traj_eqn = Eq(circle_traj, 0)\n",
    "sympy_to_mathematica(str(traj_eqn)[3:-1]).replace(\", \", \" == \")"
   ]
  },
  {
   "cell_type": "code",
   "execution_count": null,
   "id": "567ef994",
   "metadata": {},
   "outputs": [],
   "source": [
    "offsetx = 1\n",
    "solve(traj_eqn.subs(x, offsetx))[0]"
   ]
  },
  {
   "cell_type": "code",
   "execution_count": null,
   "id": "1f2c9069",
   "metadata": {},
   "outputs": [],
   "source": [
    "# Drawing polygon\n",
    "# TODO: find offsetx, offsety in domain correctly\n",
    "import random\n",
    "offsetx = random.randrange(*xbounds)\n",
    "offsetx = 1\n",
    "offsety = solve(traj_eqn.subs(x, offsetx))[0]\n",
    "mathematica_vertices = str([(v.x + offsetx, v.y + offsety) for v in square.vertices])\n",
    "mathematica_vertices = \"{\" + sympy_to_mathematica(mathematica_vertices)[1:-1] + \"}\"\n",
    "mathematica_vertices = \"Polygon[\" + mathematica_vertices.replace(\"(\", \"{\").replace(\")\", \"}\") + \"]\"\n",
    "print(mathematica_vertices)"
   ]
  },
  {
   "cell_type": "code",
   "execution_count": null,
   "id": "c19aa2f6",
   "metadata": {},
   "outputs": [],
   "source": [
    "# Show[\n",
    "# RegionPlot[prednotch,  {x, -6, 6}, {y, -6, 6}], \n",
    "# ContourPlot[2*x^2 + y^2 - 16 == 0,  {x, -6, 6}, {y, -6, 6}, ContourStyle->{Purple, Dashed}],\n",
    "# Graphics[ {FaceForm[None], EdgeForm[Green], Polygon[{{2, -2}, {2, 0}, {0, 0}, {0, -2}}] } ],\n",
    "# GridLines->Automatic, Ticks->Automatic\n",
    "# ]"
   ]
  },
  {
   "cell_type": "code",
   "execution_count": null,
   "id": "c92f84a0",
   "metadata": {},
   "outputs": [],
   "source": [
    "print(sympy_to_mathematica(Eq(circle_traj, 0)))"
   ]
  },
  {
   "cell_type": "code",
   "execution_count": null,
   "id": "aa8215df",
   "metadata": {},
   "outputs": [],
   "source": [
    "str(Eq(circle_traj, 0))"
   ]
  },
  {
   "cell_type": "code",
   "execution_count": null,
   "id": "43582fff",
   "metadata": {},
   "outputs": [],
   "source": [
    "[k for k in {x:0}][0]"
   ]
  },
  {
   "cell_type": "code",
   "execution_count": null,
   "id": "ebe9f644",
   "metadata": {},
   "outputs": [],
   "source": [
    "# Testing Sympy to Mathematica translation\n",
    "\n",
    "from typing import Dict\n",
    "\n",
    "# finding close parens\n",
    "def find_parens(s: str) -> Dict:\n",
    "    # source: https://stackoverflow.com/a/29992065\n",
    "    toret = {}\n",
    "    pstack = []\n",
    "\n",
    "    for i, c in enumerate(s):\n",
    "        if c == '(':\n",
    "            pstack.append(i)\n",
    "        elif c == ')':\n",
    "            if len(pstack) == 0:\n",
    "                raise IndexError(\"No matching closing parens at: \" + str(i))\n",
    "            toret[pstack.pop()] = i\n",
    "\n",
    "    if len(pstack) > 0:\n",
    "        raise IndexError(\"No matching opening parens at: \" + str(pstack.pop()))\n",
    "\n",
    "    return toret\n",
    "\n",
    "def swap_fn(s, swaps):\n",
    "    parens = find_parens(s)\n",
    "    print(parens)\n",
    "    \n",
    "    new = list(s)\n",
    "    newstr = s\n",
    "    for (tofind, toreplace) in swaps:\n",
    "        while newstr.find(tofind) > -1:\n",
    "            lendiff = len(toreplace) - len(tofind)\n",
    "            first_idx = newstr.find(tofind)\n",
    "            new = list(newstr)\n",
    "            new[first_idx:first_idx+len(tofind)] = toreplace\n",
    "            open_idx = newstr.find(\"(\", first_idx)\n",
    "            print(open_idx)\n",
    "            new[open_idx + lendiff] = \"[\"  # account for different operator length\n",
    "            print(open_idx)\n",
    "            close_idx = parens[open_idx]\n",
    "            new[close_idx + lendiff] = \"]\"  # account for different operator length\n",
    "            newstr = \"\".join(new)\n",
    "    return newstr\n",
    "\n",
    "ex = \"1 + sin(4 + (2*t + cos(x) + sin(y + e(x))))\"\n",
    "swaps = [(\"sin\", \"Sin\"),\n",
    "         (\"cos\", \"Cos\"),\n",
    "         (\"tan\", \"Tan\"),\n",
    "         (\"e\", \"Exp\")\n",
    "        ]\n",
    "swap_fn(ex, swaps)"
   ]
  },
  {
   "cell_type": "code",
   "execution_count": null,
   "id": "1bd88671",
   "metadata": {
    "scrolled": true
   },
   "outputs": [],
   "source": [
    "tofind = \"sin\"\n",
    "toreplace = \"Sin\"\n",
    "lendiff = len(toreplace) - len(tofind)\n",
    "first_idx = ex.find(tofind)\n",
    "new = list(ex)\n",
    "new[first_idx:first_idx+len(tofind)] = toreplace\n",
    "open_idx = ex.find(\"(\", first_idx + lendiff)\n",
    "new[open_idx] = \"[\"\n",
    "print(open_idx)\n",
    "close_idx = parens[open_idx]\n",
    "new[close_idx] = \"]\"\n",
    "\n",
    "newstr = \"\".join(new)\n",
    "print(newstr)"
   ]
  },
  {
   "cell_type": "code",
   "execution_count": null,
   "id": "73d0d8cd",
   "metadata": {},
   "outputs": [],
   "source": [
    "ss = str(traj_piecewise)\n",
    "ss"
   ]
  },
  {
   "cell_type": "code",
   "execution_count": null,
   "id": "3f630a19",
   "metadata": {},
   "outputs": [],
   "source": [
    "ms = sympy_to_mathematica(ss)\n",
    "ms"
   ]
  },
  {
   "cell_type": "code",
   "execution_count": null,
   "id": "743a198e",
   "metadata": {},
   "outputs": [],
   "source": [
    "parens = find_parens(ms)"
   ]
  },
  {
   "cell_type": "code",
   "execution_count": null,
   "id": "3e941c57",
   "metadata": {},
   "outputs": [],
   "source": [
    "val = ms.find(\"Piecewise(\") + len(\"Piecewise(\") - 1\n",
    "val"
   ]
  },
  {
   "cell_type": "code",
   "execution_count": null,
   "id": "fd547b54",
   "metadata": {},
   "outputs": [],
   "source": [
    "parens[val]"
   ]
  },
  {
   "cell_type": "code",
   "execution_count": null,
   "id": "285b52cd",
   "metadata": {},
   "outputs": [],
   "source": [
    "new = ms[:val] + \"[{\" + ms[val+1:]\n",
    "new"
   ]
  },
  {
   "cell_type": "code",
   "execution_count": null,
   "id": "28f821ea",
   "metadata": {},
   "outputs": [],
   "source": [
    "new = new[:(parens[val]+1)] + \"}]\" + new[parens[val]+2:]\n",
    "new"
   ]
  },
  {
   "cell_type": "code",
   "execution_count": null,
   "id": "f67d35d3",
   "metadata": {},
   "outputs": [],
   "source": [
    "a = new[val+2:parens[val]+1] # input to Piecewise\n",
    "newa = []\n",
    "count = 0\n",
    "for (i, c) in enumerate(a):\n",
    "    if c == \"(\":\n",
    "        count += 1\n",
    "        if count == 1:\n",
    "            newa.append(\"{\")\n",
    "        else:\n",
    "            newa.append(\"(\")\n",
    "    elif c == \")\":\n",
    "        count -= 1\n",
    "        if count == 0:\n",
    "            newa.append(\"}\")\n",
    "        else:\n",
    "            newa.append(\")\")\n",
    "    else:\n",
    "        newa.append(c)\n",
    "        \n",
    "a = \"\".join(newa)\n",
    "new = new[:val+2] + a + new[parens[val]+1:]\n",
    "new"
   ]
  },
  {
   "cell_type": "code",
   "execution_count": null,
   "id": "5ced73e0",
   "metadata": {},
   "outputs": [],
   "source": [
    "def swap_piecewise(s: str):\n",
    "    newstr = s\n",
    "    while newstr.find(\"Piecewise(\") > -1:\n",
    "        parens = find_parens(newstr)\n",
    "        val = newstr.find(\"Piecewise(\") + len(\"Piecewise(\") - 1\n",
    "        newstr = newstr[:val] + \"[{\" + newstr[val+1:]\n",
    "        newstr = newstr[:parens[val]+1] + \"}]\" + newstr[parens[val]+2:]\n",
    "        a = newstr[val+2:parens[val]+1] # input to Piecewise\n",
    "        newa = []\n",
    "        count = 0\n",
    "        for (i, c) in enumerate(a):\n",
    "            if c == \"(\":\n",
    "                count += 1\n",
    "                if count == 1:\n",
    "                    newa.append(\"{\")\n",
    "                else:\n",
    "                    newa.append(\"(\")\n",
    "            elif c == \")\":\n",
    "                count -= 1\n",
    "                if count == 0:\n",
    "                    newa.append(\"}\")\n",
    "                else:\n",
    "                    newa.append(\")\")\n",
    "            else:\n",
    "                newa.append(c)\n",
    "\n",
    "        a = \"\".join(newa)\n",
    "        newstr = newstr[:val+2] + a + newstr[parens[val]+1:]\n",
    "    return newstr"
   ]
  },
  {
   "cell_type": "code",
   "execution_count": null,
   "id": "db0c6c59",
   "metadata": {},
   "outputs": [],
   "source": [
    "swap_piecewise(ms)"
   ]
  },
  {
   "cell_type": "code",
   "execution_count": null,
   "id": "cb8f67f3",
   "metadata": {},
   "outputs": [],
   "source": [
    "swap_piecewise(\"hello world\")"
   ]
  },
  {
   "cell_type": "code",
   "execution_count": null,
   "id": "5ac57bea",
   "metadata": {},
   "outputs": [],
   "source": []
  },
  {
   "cell_type": "code",
   "execution_count": null,
   "id": "67b78568",
   "metadata": {},
   "outputs": [],
   "source": [
    "s = sympy_to_mathematica(total_cond)\n",
    "s"
   ]
  },
  {
   "cell_type": "code",
   "execution_count": null,
   "id": "33ad4187",
   "metadata": {},
   "outputs": [],
   "source": [
    "swap_piecewise(s)"
   ]
  },
  {
   "cell_type": "code",
   "execution_count": null,
   "id": "d06090b7",
   "metadata": {},
   "outputs": [],
   "source": []
  },
  {
   "cell_type": "code",
   "execution_count": null,
   "id": "afc442ea",
   "metadata": {},
   "outputs": [],
   "source": []
  },
  {
   "cell_type": "code",
   "execution_count": null,
   "id": "3fdf04ac",
   "metadata": {},
   "outputs": [],
   "source": []
  },
  {
   "cell_type": "code",
   "execution_count": null,
   "id": "568d115f",
   "metadata": {},
   "outputs": [],
   "source": [
    "plot((x-2)**2 + 20)"
   ]
  },
  {
   "cell_type": "code",
   "execution_count": null,
   "id": "c39311db",
   "metadata": {},
   "outputs": [],
   "source": [
    "plot_implicit(Eq(y - 20 - (x-2)**2,0), (x, -10, 10), (y, 10, 100))"
   ]
  },
  {
   "cell_type": "code",
   "execution_count": null,
   "id": "d4dd74dd",
   "metadata": {},
   "outputs": [],
   "source": []
  },
  {
   "cell_type": "code",
   "execution_count": null,
   "id": "fd181ed3",
   "metadata": {},
   "outputs": [],
   "source": []
  }
 ],
 "metadata": {
  "kernelspec": {
   "display_name": "Python 3 (ipykernel)",
   "language": "python",
   "name": "python3"
  },
  "language_info": {
   "codemirror_mode": {
    "name": "ipython",
    "version": 3
   },
   "file_extension": ".py",
   "mimetype": "text/x-python",
   "name": "python",
   "nbconvert_exporter": "python",
   "pygments_lexer": "ipython3",
   "version": "3.11.5"
  }
 },
 "nbformat": 4,
 "nbformat_minor": 5
}
