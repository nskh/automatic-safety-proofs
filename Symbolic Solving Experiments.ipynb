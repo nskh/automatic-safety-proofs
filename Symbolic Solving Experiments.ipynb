{
 "cells": [
  {
   "cell_type": "code",
   "execution_count": null,
   "id": "30d8df9b",
   "metadata": {},
   "outputs": [],
   "source": [
    "from sympy import *\n",
    "from safe_region_utils import *\n",
    "init_printing()\n",
    "\n",
    "%load_ext autoreload\n",
    "%autoreload 2"
   ]
  },
  {
   "cell_type": "markdown",
   "id": "acde9a80",
   "metadata": {},
   "source": [
    "## Setting up example"
   ]
  },
  {
   "cell_type": "code",
   "execution_count": null,
   "id": "8c556969",
   "metadata": {},
   "outputs": [],
   "source": [
    "x, y = symbols(\"x y\")\n",
    "## Short Example ##\n",
    "w = 0.5\n",
    "square_points: list = [\n",
    "    geometry.Point(val) for val in [[w, -w], [w, w], [-w, w], [-w, -w]]\n",
    "]\n",
    "square: geometry.Polygon = Polygon(*square_points)\n",
    "plot_polygon(square)\n",
    "\n",
    "w = Symbol(\"w\", real=True, positive=True, nonzero=True)\n",
    "square_points: list = [\n",
    "    geometry.Point(val) for val in [[w, -w], [w, w], [-w, w], [-w, -w]]\n",
    "]\n",
    "square_param: geometry.Polygon = Polygon(*square_points)\n",
    "compute_polygon_angles(square_param)\n",
    "# traj_piecewise = Piecewise((sin(x / 2), x < 0), (x / 2, x >= 0))\n",
    "# plot(traj_piecewise)\n",
    "# plt.show()"
   ]
  },
  {
   "cell_type": "code",
   "execution_count": null,
   "id": "28c0b2c0",
   "metadata": {},
   "outputs": [],
   "source": [
    "a = Symbol(\"a\", real=True, nonzero=True)\n",
    "b = Symbol(\"b\", real=True)\n",
    "c = Symbol(\"c\", real=True)"
   ]
  },
  {
   "cell_type": "code",
   "execution_count": null,
   "id": "ddbc5535",
   "metadata": {},
   "outputs": [],
   "source": [
    "traj = a*x**2 + b*x +c\n",
    "traj"
   ]
  },
  {
   "cell_type": "code",
   "execution_count": null,
   "id": "78a09059",
   "metadata": {},
   "outputs": [],
   "source": [
    "traj = a*sin(b*x)\n",
    "sinderiv = diff(traj, x)\n",
    "sinderiv"
   ]
  },
  {
   "cell_type": "code",
   "execution_count": null,
   "id": "786c2a7e",
   "metadata": {},
   "outputs": [],
   "source": [
    "solve(Eq(sinderiv, 0), x)"
   ]
  },
  {
   "cell_type": "code",
   "execution_count": null,
   "id": "67002968",
   "metadata": {},
   "outputs": [],
   "source": [
    "solve(Eq(diff(a*x**2, x), 0), x)"
   ]
  },
  {
   "cell_type": "code",
   "execution_count": null,
   "id": "5d364a90",
   "metadata": {},
   "outputs": [],
   "source": [
    "solve(Eq(diff(traj, x), 0), x)"
   ]
  },
  {
   "cell_type": "code",
   "execution_count": null,
   "id": "8576ab16",
   "metadata": {},
   "outputs": [],
   "source": [
    "traj"
   ]
  },
  {
   "cell_type": "code",
   "execution_count": null,
   "id": "8b589032",
   "metadata": {
    "scrolled": false
   },
   "outputs": [],
   "source": [
    "angles, vertex_pairs = compute_polygon_angles(square)\n",
    "# find_transitions(-y + traj, angles, x, y, domain)  # fails bc Intersection type poorly handled\n",
    "find_transitions(-y + traj, angles, x, y, Reals)  "
   ]
  },
  {
   "cell_type": "code",
   "execution_count": null,
   "id": "e46c7bc4",
   "metadata": {},
   "outputs": [],
   "source": [
    "domain=Reals\n",
    "traj = -y + a*x**2 + b*x +c\n",
    "\n",
    "transitions: set = {}\n",
    "# Compute slope symbolically\n",
    "df_dy, df_dx = slope_sym(traj, x, y)\n",
    "for angle in angles:\n",
    "    # 2 vectors <x1, y1> <x2, y2>\n",
    "    # parallel iff y1*x2 = x1*y2\n",
    "    # use vectors <dfdx, dfdy> <cos(theta), sin(theta)>\n",
    "    soln = solveset(Eq(df_dx * sin(angle), df_dy * cos(angle)), x, domain=domain)\n",
    "\n",
    "    if soln == S.EmptySet:\n",
    "        soln = solveset(\n",
    "            Eq(df_dx * sin(angle), df_dy * cos(angle)), y, domain=domain\n",
    "        )\n",
    "        if soln != S.EmptySet and type(soln) != list:\n",
    "            # In this case, type(soln): S.FiniteSet\n",
    "            soln = [{y: soln_elem} for soln_elem in list(soln)]\n",
    "    else:\n",
    "        # Pack into list of dict so it's clear which variable has been solved for\n",
    "        try:\n",
    "            soln = [{x: soln_elem} for soln_elem in list(soln)]\n",
    "        except:\n",
    "            print(soln)\n",
    "\n",
    "    for elem in soln:\n",
    "        if angle in transitions:\n",
    "            transitions[angle].append(elem)\n",
    "        else:\n",
    "            transitions[angle] = [elem]\n",
    "# soln above may still be symbolic, so we have to evaluate the expression\n",
    "# that's what happens below\n",
    "\n",
    "transition_points = {}\n",
    "set_of_transitions = set()\n",
    "traj_eqn = Eq(traj, 0)\n",
    "for angle, solns in transitions.items():\n",
    "    for pair in solns:\n",
    "        # pair should always be a dictionary\n",
    "        assert type(pair) == dict, \"Solution element was not a dictionary!\"\n",
    "        # pair looks like {x: f(y)} or {y: f(x)}\n",
    "        # remove one variable from equation by substituting pair into traj_eqn\n",
    "        traj_eqn_single_var = traj_eqn.subs(pair)\n",
    "\n",
    "        # before going further, figure out the variable for\n",
    "        # which pair contains a solution\n",
    "        soln_var = [k for k in pair][0]  # variable is the dict key\n",
    "        other_var = y if soln_var == x else x\n",
    "\n",
    "        # traj_eqn used to have two variables but now has only one\n",
    "        single_var_solns = solve(traj_eqn_single_var, other_var)\n",
    "\n",
    "        for single_var_soln in single_var_solns:\n",
    "            # substitute in single_var_soln to solve for soln_var\n",
    "            solved_eqn = Eq(soln_var, pair[soln_var]).subs(\n",
    "                other_var, single_var_soln\n",
    "            )\n",
    "            # with this, we have a solution for the transition point\n",
    "            if soln_var == x:\n",
    "                print(\"x-coord:\", solved_eqn.rhs)\n",
    "                print(\"y-coord:\", single_var_soln)\n",
    "                transition_point = Point(solved_eqn.rhs, single_var_soln)\n",
    "            elif soln_var == y:\n",
    "                transition_point = Point(single_var_soln, solved_eqn.rhs)\n",
    "            set_of_transitions.add(transition_point)\n",
    "            if angle in transition_points:\n",
    "                transition_points[angle].append(transition_point)\n",
    "            else:\n",
    "                transition_points[angle] = [transition_point]\n"
   ]
  },
  {
   "cell_type": "code",
   "execution_count": null,
   "id": "0f8cc411",
   "metadata": {},
   "outputs": [],
   "source": [
    "single_var_solns"
   ]
  },
  {
   "cell_type": "code",
   "execution_count": null,
   "id": "3f1aa632",
   "metadata": {},
   "outputs": [],
   "source": [
    "pair"
   ]
  },
  {
   "cell_type": "code",
   "execution_count": null,
   "id": "f7be13ab",
   "metadata": {},
   "outputs": [],
   "source": [
    "traj_eqn_single_var"
   ]
  },
  {
   "cell_type": "code",
   "execution_count": null,
   "id": "c17bd399",
   "metadata": {},
   "outputs": [],
   "source": [
    "solve(traj_eqn, y)"
   ]
  },
  {
   "cell_type": "code",
   "execution_count": null,
   "id": "4779db61",
   "metadata": {},
   "outputs": [],
   "source": []
  },
  {
   "cell_type": "code",
   "execution_count": null,
   "id": "3a7de9d2",
   "metadata": {},
   "outputs": [],
   "source": [
    "len(cond.free_symbols)"
   ]
  },
  {
   "cell_type": "code",
   "execution_count": null,
   "id": "16043f20",
   "metadata": {},
   "outputs": [],
   "source": [
    "domain = Interval(-12, 9)\n",
    "xbounds = [-15, 12]\n",
    "ybounds = [-3, 6]\n",
    "example_name = \"symbolic parabola\"\n",
    "\n",
    "traj = a*x**2 + b*x +c\n",
    "\n",
    "cond = compute_unsafe_cond_symbolic(\n",
    "    x,\n",
    "    y,\n",
    "    square,\n",
    "    traj,\n",
    "    Reals,\n",
    "    add_notches=True,\n",
    ")\n",
    "cond"
   ]
  },
  {
   "cell_type": "code",
   "execution_count": null,
   "id": "66a7c9cb",
   "metadata": {},
   "outputs": [],
   "source": [
    "cond = compute_unsafe_cond_symbolic(\n",
    "    x,\n",
    "    y,\n",
    "    square_param,\n",
    "    traj,\n",
    "    Reals,\n",
    "    add_notches=True,\n",
    ")\n",
    "cond"
   ]
  },
  {
   "cell_type": "code",
   "execution_count": null,
   "id": "7cba280e",
   "metadata": {
    "scrolled": true
   },
   "outputs": [],
   "source": [
    "plot_condition(x, y, cond, xbounds, ybounds, title=example_name)"
   ]
  },
  {
   "cell_type": "code",
   "execution_count": null,
   "id": "02626763",
   "metadata": {},
   "outputs": [],
   "source": [
    "plot_condition(x, y, cond.subs(a, 1/4).subs(b, 1).subs(c, 2), xbounds, ybounds, title=example_name)"
   ]
  },
  {
   "cell_type": "code",
   "execution_count": null,
   "id": "aec5ec4d",
   "metadata": {
    "scrolled": false
   },
   "outputs": [],
   "source": [
    "plot_condition(x, y, cond.subs(a, 1/4).subs(b, 1).subs(c, 2), [-5,0], [0,2], title=example_name, resolution=0.05)"
   ]
  },
  {
   "cell_type": "code",
   "execution_count": null,
   "id": "c7934ab1",
   "metadata": {},
   "outputs": [],
   "source": [
    "cond.subs(a, 1/4).subs(b, 1).subs(c, 2)"
   ]
  },
  {
   "cell_type": "code",
   "execution_count": null,
   "id": "de15f3e3",
   "metadata": {},
   "outputs": [],
   "source": [
    "print(\n",
    "    \"\\nPlotting dot grid visualization of safe and unsafe regions.\", \n",
    "    \"This may take up to 20 seconds to plot.\\nOnce displayed, close plot to continue example...\\n\"\n",
    ")\n",
    "\n",
    "plot_condition(x, y, cond.subs(a, 1/4), xbounds, ybounds, title=example_name)\n",
    "mathematica_output = print_mathematica(\n",
    "    x, y, cond, xbounds, ybounds, traj_piecewise, square\n",
    ")\n",
    "print(\"Mathematica command for plotting:\\n\", mathematica_output)"
   ]
  },
  {
   "cell_type": "code",
   "execution_count": null,
   "id": "cd70460b",
   "metadata": {},
   "outputs": [],
   "source": [
    "traj"
   ]
  },
  {
   "cell_type": "code",
   "execution_count": null,
   "id": "b6954e2b",
   "metadata": {},
   "outputs": [],
   "source": [
    "cond.subs(a, 1)"
   ]
  },
  {
   "cell_type": "code",
   "execution_count": null,
   "id": "59a08f16",
   "metadata": {},
   "outputs": [],
   "source": [
    "square.vertices"
   ]
  },
  {
   "cell_type": "code",
   "execution_count": null,
   "id": "77c6aad6",
   "metadata": {},
   "outputs": [],
   "source": []
  },
  {
   "cell_type": "code",
   "execution_count": null,
   "id": "af4a9f51",
   "metadata": {},
   "outputs": [],
   "source": []
  },
  {
   "cell_type": "markdown",
   "id": "ef968f9d",
   "metadata": {},
   "source": [
    "## Periodic"
   ]
  },
  {
   "cell_type": "code",
   "execution_count": null,
   "id": "a1cfb970",
   "metadata": {},
   "outputs": [],
   "source": [
    "a"
   ]
  },
  {
   "cell_type": "code",
   "execution_count": null,
   "id": "bb858ab6",
   "metadata": {},
   "outputs": [],
   "source": [
    "solve(Eq(diff(a*sin(x), x), 0), x)"
   ]
  },
  {
   "cell_type": "code",
   "execution_count": null,
   "id": "7cc91520",
   "metadata": {},
   "outputs": [],
   "source": [
    "b.assumptions0"
   ]
  },
  {
   "cell_type": "code",
   "execution_count": null,
   "id": "6d64ba4f",
   "metadata": {},
   "outputs": [],
   "source": [
    "a = Symbol('a', real=True, nonzero=True)\n",
    "b = Symbol('b', real=True, nonzero=True)\n",
    "c = Symbol(\"c\", real=True)"
   ]
  },
  {
   "cell_type": "code",
   "execution_count": null,
   "id": "4d7eb37f",
   "metadata": {},
   "outputs": [],
   "source": [
    "_n = Symbol(\"n\")\n",
    "soln = Union(ImageSet(Lambda(_n, (2*_n*pi + pi/2)/b), Integers), ImageSet(Lambda(_n, (2*_n*pi - pi/2)/b), Integers))\n",
    "soln"
   ]
  },
  {
   "cell_type": "code",
   "execution_count": null,
   "id": "2622601b",
   "metadata": {},
   "outputs": [],
   "source": [
    "type(soln) is FiniteSet"
   ]
  },
  {
   "cell_type": "code",
   "execution_count": null,
   "id": "473c7d9a",
   "metadata": {},
   "outputs": [],
   "source": [
    "type(soln)"
   ]
  },
  {
   "cell_type": "code",
   "execution_count": null,
   "id": "febdea19",
   "metadata": {},
   "outputs": [],
   "source": [
    "traj = sin(x)\n",
    "\n",
    "angles, vertex_pairs = compute_polygon_angles(square)\n",
    "# find_transitions(-y + traj, angles, x, y, domain)  # fails bc Intersection type poorly handled\n",
    "find_transitions(-y + traj, angles, x, y, domain)"
   ]
  },
  {
   "cell_type": "code",
   "execution_count": null,
   "id": "e22bd2f2",
   "metadata": {},
   "outputs": [],
   "source": [
    "traj = a*sin(b*x)\n",
    "\n",
    "angles, vertex_pairs = compute_polygon_angles(square)\n",
    "# find_transitions(-y + traj, angles, x, y, domain)  # fails bc Intersection type poorly handled\n",
    "find_transitions(-y + traj, angles, x, y, Reals)"
   ]
  },
  {
   "cell_type": "code",
   "execution_count": null,
   "id": "1b5bdf01",
   "metadata": {
    "scrolled": true
   },
   "outputs": [],
   "source": [
    "solveset(Eq(diff(a*sin(b*x), x), 0), x, Reals)"
   ]
  },
  {
   "cell_type": "code",
   "execution_count": null,
   "id": "54c3a41c",
   "metadata": {},
   "outputs": [],
   "source": [
    "domain"
   ]
  },
  {
   "cell_type": "code",
   "execution_count": null,
   "id": "1c5a466a",
   "metadata": {},
   "outputs": [],
   "source": []
  }
 ],
 "metadata": {
  "kernelspec": {
   "display_name": "Python 3 (ipykernel)",
   "language": "python",
   "name": "python3"
  },
  "language_info": {
   "codemirror_mode": {
    "name": "ipython",
    "version": 3
   },
   "file_extension": ".py",
   "mimetype": "text/x-python",
   "name": "python",
   "nbconvert_exporter": "python",
   "pygments_lexer": "ipython3",
   "version": "3.9.10"
  }
 },
 "nbformat": 4,
 "nbformat_minor": 5
}
