{
 "cells": [
  {
   "cell_type": "code",
   "execution_count": 134,
   "id": "30d8df9b",
   "metadata": {},
   "outputs": [
    {
     "name": "stdout",
     "output_type": "stream",
     "text": [
      "The autoreload extension is already loaded. To reload it, use:\n",
      "  %reload_ext autoreload\n"
     ]
    }
   ],
   "source": [
    "from sympy import *\n",
    "from safe_region_utils import *\n",
    "init_printing()\n",
    "\n",
    "%load_ext autoreload\n",
    "%autoreload 2"
   ]
  },
  {
   "cell_type": "markdown",
   "id": "acde9a80",
   "metadata": {},
   "source": [
    "## Setting up example"
   ]
  },
  {
   "cell_type": "code",
   "execution_count": 55,
   "id": "8c556969",
   "metadata": {},
   "outputs": [
    {
     "data": {
      "image/png": "[encoded data removed]",
      "text/plain": [
       "<Figure size 432x288 with 1 Axes>"
      ]
     },
     "metadata": {
      "needs_background": "light"
     },
     "output_type": "display_data"
    },
    {
     "data": {
      "image/png": "[encoded data removed]",
      "text/latex": [
       "$\\displaystyle \\left( \\left[ \\frac{\\pi}{2}, \\  \\pi, \\  \\frac{3 \\pi}{2}, \\  0\\right], \\  \\left[ \\left( \\operatorname{Point2D}\\left(w, - w\\right), \\  \\operatorname{Point2D}\\left(w, w\\right)\\right), \\  \\left( \\operatorname{Point2D}\\left(w, w\\right), \\  \\operatorname{Point2D}\\left(- w, w\\right)\\right), \\  \\left( \\operatorname{Point2D}\\left(- w, w\\right), \\  \\operatorname{Point2D}\\left(- w, - w\\right)\\right), \\  \\left( \\operatorname{Point2D}\\left(- w, - w\\right), \\  \\operatorname{Point2D}\\left(w, - w\\right)\\right)\\right]\\right)$"
      ],
      "text/plain": [
       "⎛⎡π     3⋅π   ⎤                                                                                                        \n",
       "⎜⎢─, π, ───, 0⎥, [(Point2D(w, -w), Point2D(w, w)), (Point2D(w, w), Point2D(-w, w)), (Point2D(-w, w), Point2D(-w, -w)), \n",
       "⎝⎣2      2    ⎦                                                                                                        \n",
       "\n",
       "                                  ⎞\n",
       "(Point2D(-w, -w), Point2D(w, -w))]⎟\n",
       "                                  ⎠"
      ]
     },
     "execution_count": 55,
     "metadata": {},
     "output_type": "execute_result"
    }
   ],
   "source": [
    "x, y = symbols(\"x y\")\n",
    "## Short Example ##\n",
    "w = 0.5\n",
    "square_points: list = [\n",
    "    geometry.Point(val) for val in [[w, -w], [w, w], [-w, w], [-w, -w]]\n",
    "]\n",
    "square: geometry.Polygon = Polygon(*square_points)\n",
    "plot_polygon(square)\n",
    "\n",
    "w = Symbol(\"w\", real=True, positive=True, nonzero=True)\n",
    "square_points: list = [\n",
    "    geometry.Point(val) for val in [[w, -w], [w, w], [-w, w], [-w, -w]]\n",
    "]\n",
    "square_param: geometry.Polygon = Polygon(*square_points)\n",
    "compute_polygon_angles(square_param)\n",
    "# traj_piecewise = Piecewise((sin(x / 2), x < 0), (x / 2, x >= 0))\n",
    "# plot(traj_piecewise)\n",
    "# plt.show()"
   ]
  },
  {
   "cell_type": "code",
   "execution_count": 145,
   "id": "28c0b2c0",
   "metadata": {},
   "outputs": [],
   "source": [
    "a = Symbol(\"a\", real=True, nonzero=True)\n",
    "b = Symbol(\"b\", real=True, nonzero=True)\n",
    "c = Symbol(\"c\", real=True, nonzero=True)"
   ]
  },
  {
   "cell_type": "code",
   "execution_count": 152,
   "id": "ddbc5535",
   "metadata": {},
   "outputs": [
    {
     "data": {
      "image/png": "[encoded data removed]",
      "text/latex": [
       "$\\displaystyle a x^{2} + b x + c$"
      ],
      "text/plain": [
       "   2          \n",
       "a⋅x  + b⋅x + c"
      ]
     },
     "execution_count": 152,
     "metadata": {},
     "output_type": "execute_result"
    }
   ],
   "source": [
    "traj = a*x**2 + b*x +c\n",
    "traj"
   ]
  },
  {
   "cell_type": "code",
   "execution_count": 175,
   "id": "57ac58f7",
   "metadata": {},
   "outputs": [
    {
     "data": {
      "image/png": "[encoded data removed]",
      "text/latex": [
       "$\\displaystyle a b \\cos{\\left(b x \\right)}$"
      ],
      "text/plain": [
       "a⋅b⋅cos(b⋅x)"
      ]
     },
     "execution_count": 175,
     "metadata": {},
     "output_type": "execute_result"
    }
   ],
   "source": [
    "traj = a*sin(b*x)\n",
    "sinderiv = diff(traj, x)\n",
    "sinderiv"
   ]
  },
  {
   "cell_type": "code",
   "execution_count": 178,
   "id": "643d1408",
   "metadata": {},
   "outputs": [
    {
     "data": {
      "image/png": "[encoded data removed]",
      "text/latex": [
       "$\\displaystyle \\left[ \\frac{\\pi}{2 b}, \\  \\frac{3 \\pi}{2 b}\\right]$"
      ],
      "text/plain": [
       "⎡ π   3⋅π⎤\n",
       "⎢───, ───⎥\n",
       "⎣2⋅b  2⋅b⎦"
      ]
     },
     "execution_count": 178,
     "metadata": {},
     "output_type": "execute_result"
    }
   ],
   "source": [
    "solve(Eq(sinderiv, 0), x)"
   ]
  },
  {
   "cell_type": "code",
   "execution_count": 150,
   "id": "d7b8cd0b",
   "metadata": {},
   "outputs": [
    {
     "data": {
      "image/png": "[encoded data removed]",
      "text/latex": [
       "$\\displaystyle \\left[ 0\\right]$"
      ],
      "text/plain": [
       "[0]"
      ]
     },
     "execution_count": 150,
     "metadata": {},
     "output_type": "execute_result"
    }
   ],
   "source": [
    "solve(Eq(diff(a*x**2, x), 0), x)"
   ]
  },
  {
   "cell_type": "code",
   "execution_count": 144,
   "id": "5d364a90",
   "metadata": {},
   "outputs": [
    {
     "data": {
      "image/png": "[encoded data removed]",
      "text/latex": [
       "$\\displaystyle \\left[ - \\frac{b}{2 a}\\right]$"
      ],
      "text/plain": [
       "⎡-b ⎤\n",
       "⎢───⎥\n",
       "⎣2⋅a⎦"
      ]
     },
     "execution_count": 144,
     "metadata": {},
     "output_type": "execute_result"
    }
   ],
   "source": [
    "solve(Eq(diff(traj, x), 0), x)"
   ]
  },
  {
   "cell_type": "code",
   "execution_count": 154,
   "id": "5e42d0d9",
   "metadata": {},
   "outputs": [
    {
     "data": {
      "image/png": "[encoded data removed]",
      "text/latex": [
       "$\\displaystyle a x^{2} + b x + c$"
      ],
      "text/plain": [
       "   2          \n",
       "a⋅x  + b⋅x + c"
      ]
     },
     "execution_count": 154,
     "metadata": {},
     "output_type": "execute_result"
    }
   ],
   "source": [
    "traj"
   ]
  },
  {
   "cell_type": "code",
   "execution_count": null,
   "id": "0f46f1fa",
   "metadata": {
    "scrolled": false
   },
   "outputs": [],
   "source": [
    "angles, vertex_pairs = compute_polygon_angles(square)\n",
    "# find_transitions(-y + traj, angles, x, y, domain)  # fails bc Intersection type poorly handled\n",
    "find_transitions(-y + traj, angles, x, y, Reals)  "
   ]
  },
  {
   "cell_type": "code",
   "execution_count": 164,
   "id": "9b75c37d",
   "metadata": {},
   "outputs": [
    {
     "name": "stdout",
     "output_type": "stream",
     "text": [
      "x-coord: -b/(2*a)\n",
      "y-coord: c - b**2/(4*a)\n",
      "x-coord: -b/(2*a)\n",
      "y-coord: c - b**2/(4*a)\n"
     ]
    }
   ],
   "source": [
    "domain=Reals\n",
    "traj = -y + a*x**2 + b*x +c\n",
    "\n",
    "transitions: set = {}\n",
    "# Compute slope symbolically\n",
    "df_dy, df_dx = slope_sym(traj, x, y)\n",
    "for angle in angles:\n",
    "    # 2 vectors <x1, y1> <x2, y2>\n",
    "    # parallel iff y1*x2 = x1*y2\n",
    "    # use vectors <dfdx, dfdy> <cos(theta), sin(theta)>\n",
    "    soln = solveset(Eq(df_dx * sin(angle), df_dy * cos(angle)), x, domain=domain)\n",
    "\n",
    "    if soln == S.EmptySet:\n",
    "        soln = solveset(\n",
    "            Eq(df_dx * sin(angle), df_dy * cos(angle)), y, domain=domain\n",
    "        )\n",
    "        if soln != S.EmptySet and type(soln) != list:\n",
    "            # In this case, type(soln): S.FiniteSet\n",
    "            soln = [{y: soln_elem} for soln_elem in list(soln)]\n",
    "    else:\n",
    "        # Pack into list of dict so it's clear which variable has been solved for\n",
    "        try:\n",
    "            soln = [{x: soln_elem} for soln_elem in list(soln)]\n",
    "        except:\n",
    "            print(soln)\n",
    "\n",
    "    for elem in soln:\n",
    "        if angle in transitions:\n",
    "            transitions[angle].append(elem)\n",
    "        else:\n",
    "            transitions[angle] = [elem]\n",
    "# soln above may still be symbolic, so we have to evaluate the expression\n",
    "# that's what happens below\n",
    "\n",
    "transition_points = {}\n",
    "set_of_transitions = set()\n",
    "traj_eqn = Eq(traj, 0)\n",
    "for angle, solns in transitions.items():\n",
    "    for pair in solns:\n",
    "        # pair should always be a dictionary\n",
    "        assert type(pair) == dict, \"Solution element was not a dictionary!\"\n",
    "        # pair looks like {x: f(y)} or {y: f(x)}\n",
    "        # remove one variable from equation by substituting pair into traj_eqn\n",
    "        traj_eqn_single_var = traj_eqn.subs(pair)\n",
    "\n",
    "        # before going further, figure out the variable for\n",
    "        # which pair contains a solution\n",
    "        soln_var = [k for k in pair][0]  # variable is the dict key\n",
    "        other_var = y if soln_var == x else x\n",
    "\n",
    "        # traj_eqn used to have two variables but now has only one\n",
    "        single_var_solns = solve(traj_eqn_single_var, other_var)\n",
    "\n",
    "        for single_var_soln in single_var_solns:\n",
    "            # substitute in single_var_soln to solve for soln_var\n",
    "            solved_eqn = Eq(soln_var, pair[soln_var]).subs(\n",
    "                other_var, single_var_soln\n",
    "            )\n",
    "            # with this, we have a solution for the transition point\n",
    "            if soln_var == x:\n",
    "                print(\"x-coord:\", solved_eqn.rhs)\n",
    "                print(\"y-coord:\", single_var_soln)\n",
    "                transition_point = Point(solved_eqn.rhs, single_var_soln)\n",
    "            elif soln_var == y:\n",
    "                transition_point = Point(single_var_soln, solved_eqn.rhs)\n",
    "            set_of_transitions.add(transition_point)\n",
    "            if angle in transition_points:\n",
    "                transition_points[angle].append(transition_point)\n",
    "            else:\n",
    "                transition_points[angle] = [transition_point]\n"
   ]
  },
  {
   "cell_type": "code",
   "execution_count": 108,
   "id": "7452a54c",
   "metadata": {},
   "outputs": [
    {
     "data": {
      "image/png": "[encoded data removed]",
      "text/latex": [
       "$\\displaystyle \\left[ \\left\\{ a : \\frac{b^{2}}{4 \\left(c - y\\right)}\\right\\}\\right]$"
      ],
      "text/plain": [
       "⎡⎧        2   ⎫⎤\n",
       "⎢⎪       b    ⎪⎥\n",
       "⎢⎨a: ─────────⎬⎥\n",
       "⎢⎪   4⋅(c - y)⎪⎥\n",
       "⎣⎩            ⎭⎦"
      ]
     },
     "execution_count": 108,
     "metadata": {},
     "output_type": "execute_result"
    }
   ],
   "source": [
    "single_var_solns"
   ]
  },
  {
   "cell_type": "code",
   "execution_count": 112,
   "id": "685d7c70",
   "metadata": {},
   "outputs": [
    {
     "data": {
      "image/png": "[encoded data removed]",
      "text/latex": [
       "$\\displaystyle \\left\\{ x : - \\frac{b}{2 a}\\right\\}$"
      ],
      "text/plain": [
       "⎧   -b ⎫\n",
       "⎨x: ───⎬\n",
       "⎩   2⋅a⎭"
      ]
     },
     "execution_count": 112,
     "metadata": {},
     "output_type": "execute_result"
    }
   ],
   "source": [
    "pair"
   ]
  },
  {
   "cell_type": "code",
   "execution_count": 111,
   "id": "72704e58",
   "metadata": {},
   "outputs": [
    {
     "data": {
      "image/png": "[encoded data removed]",
      "text/latex": [
       "$\\displaystyle c - y - \\frac{b^{2}}{4 a} = 0$"
      ],
      "text/plain": [
       "          2    \n",
       "         b     \n",
       "c - y - ─── = 0\n",
       "        4⋅a    "
      ]
     },
     "execution_count": 111,
     "metadata": {},
     "output_type": "execute_result"
    }
   ],
   "source": [
    "traj_eqn_single_var"
   ]
  },
  {
   "cell_type": "code",
   "execution_count": 113,
   "id": "e22b6b93",
   "metadata": {},
   "outputs": [
    {
     "data": {
      "image/png": "[encoded data removed]",
      "text/latex": [
       "$\\displaystyle \\left[ a x^{2} + b x + c\\right]$"
      ],
      "text/plain": [
       "⎡   2          ⎤\n",
       "⎣a⋅x  + b⋅x + c⎦"
      ]
     },
     "execution_count": 113,
     "metadata": {},
     "output_type": "execute_result"
    }
   ],
   "source": [
    "solve(traj_eqn, y)"
   ]
  },
  {
   "cell_type": "code",
   "execution_count": null,
   "id": "5d071ced",
   "metadata": {},
   "outputs": [],
   "source": []
  },
  {
   "cell_type": "code",
   "execution_count": 172,
   "id": "16043f20",
   "metadata": {},
   "outputs": [
    {
     "name": "stdout",
     "output_type": "stream",
     "text": [
      "Boolean condition for unsafe region:\n",
      " ((x >= -oo) & (x <= 1/2 - b/(2*a)) & ((y - Piecewise((oo*a - oo*b + c, x < -oo), (a*(x - 1/2)**2 + b*(x - 1/2) + c, x <= 1/2 - b/(2*a)), (c - b**2/(4*a), True)) - 1/2)*(y - Piecewise((oo*a - oo*b + c, x < -oo), (a*(x + 1/2)**2 + b*(x + 1/2) + c, x <= -1/2 - b/(2*a)), (c - b**2/(4*a), True)) + 1/2) <= 0)) | ((x >= -oo) & (x <= 1/2 - b/(2*a)) & ((y - Piecewise((oo*a - oo*b + c, x < -oo), (a*(x - 1/2)**2 + b*(x - 1/2) + c, x <= 1/2 - b/(2*a)), (c - b**2/(4*a), True)) + 1/2)*(y - Piecewise((oo*a - oo*b + c, x < -oo), (a*(x + 1/2)**2 + b*(x + 1/2) + c, x <= -1/2 - b/(2*a)), (c - b**2/(4*a), True)) - 1/2) <= 0)) | ((x <= oo) & (x >= -1/2 - b/(2*a)) & ((y - Piecewise((c - b**2/(4*a), x < -1/2 - b/(2*a)), (a*(x + 1/2)**2 + b*(x + 1/2) + c, x <= oo), (oo*a + oo*b + c, True)) - 1/2)*(y - Piecewise((c - b**2/(4*a), x < 1/2 - b/(2*a)), (a*(x - 1/2)**2 + b*(x - 1/2) + c, x <= oo), (oo*a + oo*b + c, True)) + 1/2) <= 0)) | ((x <= oo) & (x >= -1/2 - b/(2*a)) & ((y - Piecewise((c - b**2/(4*a), x < -1/2 - b/(2*a)), (a*(x + 1/2)**2 + b*(x + 1/2) + c, x <= oo), (oo*a + oo*b + c, True)) + 1/2)*(y - Piecewise((c - b**2/(4*a), x < 1/2 - b/(2*a)), (a*(x - 1/2)**2 + b*(x - 1/2) + c, x <= oo), (oo*a + oo*b + c, True)) - 1/2) <= 0))\n"
     ]
    }
   ],
   "source": [
    "domain = Interval(-12, 9)\n",
    "xbounds = [-15, 12]\n",
    "ybounds = [-3, 6]\n",
    "example_name = \"Sine-Linear with Square\"\n",
    "\n",
    "traj = a*x**2 + b*x +c\n",
    "\n",
    "cond = compute_unsafe_cond_symbolic(\n",
    "    x,\n",
    "    y,\n",
    "    square,\n",
    "    traj,\n",
    "    Reals,\n",
    "    add_notches=False,\n",
    ")\n",
    "print(\"Boolean condition for unsafe region:\\n\", cond)"
   ]
  },
  {
   "cell_type": "code",
   "execution_count": 75,
   "id": "8a46c875",
   "metadata": {},
   "outputs": [
    {
     "name": "stdout",
     "output_type": "stream",
     "text": [
      "\n",
      "Plotting dot grid visualization of safe and unsafe regions. This may take up to 20 seconds to plot.\n",
      "Once displayed, close plot to continue example...\n",
      "\n"
     ]
    },
    {
     "data": {
      "image/png": "[encoded data removed]",
      "text/plain": [
       "<Figure size 1200x800 with 1 Axes>"
      ]
     },
     "metadata": {
      "needs_background": "light"
     },
     "output_type": "display_data"
    },
    {
     "name": "stdout",
     "output_type": "stream",
     "text": [
      "Mathematica command for plotting:\n",
      " \n",
      "Show[\n",
      "    RegionPlot[((x + 1/2 >= 0) && (y + 1/2 >= 0) && (1/2 - x >= 0) && (1/2 - y >= 0)) || ((x + 1/2 <= 0) && (y + 1/2 <= 0) && (1/2 - x <= 0) && (1/2 - y <= 0)) || ((x - 17/2 >= 0) && (19/2 - x >= 0) && (-81*a + y + 1/2 >= 0) && (81*a - y + 1/2 >= 0)) || ((x + 25/2 >= 0) && (-x - 23/2 >= 0) && (-144*a + y + 1/2 >= 0) && (144*a - y + 1/2 >= 0)) || ((x - 17/2 <= 0) && (19/2 - x <= 0) && (-81*a + y + 1/2 <= 0) && (81*a - y + 1/2 <= 0)) || ((x + 25/2 <= 0) && (-x - 23/2 <= 0) && (-144*a + y + 1/2 <= 0) && (144*a - y + 1/2 <= 0)) || ((x >= -25/2) && (x <= 1/2) && ((y - Piecewise[{{144*a, x < -25/2}, {a*(x + 1/2)^2, x <= -1/2}, {0, True}}] - 1/2)*(y - Piecewise[{{144*a, x < -23/2}, {a*(x - 1/2)^2, x <= 1/2}, {0, True}}] + 1/2) <= 0)) || ((x >= -25/2) && (x <= 1/2) && ((y - Piecewise[{{144*a, x < -25/2}, {a*(x + 1/2)^2, x <= -1/2}, {0, True}}] + 1/2)*(y - Piecewise[{{144*a, x < -23/2}, {a*(x - 1/2)^2, x <= 1/2}, {0, True}}] - 1/2) <= 0)) || ((x >= -1/2) && (x <= 19/2) && ((y - Piecewise[{{0, x < -1/2}, {a*(x + 1/2)^2, x <= 17/2}, {81*a, True}}] - 1/2)*(y - Piecewise[{{0, x < 1/2}, {a*(x - 1/2)^2, x <= 19/2}, {81*a, True}}] + 1/2) <= 0)) || ((x >= -1/2) && (x <= 19/2) && ((y - Piecewise[{{0, x < -1/2}, {a*(x + 1/2)^2, x <= 17/2}, {81*a, True}}] + 1/2)*(y - Piecewise[{{0, x < 1/2}, {a*(x - 1/2)^2, x <= 19/2}, {81*a, True}}] - 1/2) <= 0)),  {x, -15, 12}, {y, -3, 6}, PlotPoints -> 60,  MaxRecursion -> 5],\n",
      "    Plot[Piecewise[{{Sin[x/2], x < 0}, {x/2, True}}],  {x, -15, 12}, PlotStyle->{Purple, Dashed}],\n",
      "    Graphics[ {FaceForm[None], EdgeForm[Green], Polygon[{{-1.00000000000000, -1.18163876002333}, {-1.00000000000000, -0.181638760023334}, {-2.00000000000000, -0.181638760023334}, {-2.00000000000000, -1.18163876002333}}] } ],\n",
      "    GridLines->Automatic, Ticks->Automatic, AspectRatio->Automatic\n",
      "]\n",
      "\n"
     ]
    }
   ],
   "source": [
    "print(\n",
    "    \"\\nPlotting dot grid visualization of safe and unsafe regions.\", \n",
    "    \"This may take up to 20 seconds to plot.\\nOnce displayed, close plot to continue example...\\n\"\n",
    ")\n",
    "\n",
    "plot_condition(x, y, cond.subs(a, 1/4), xbounds, ybounds, title=example_name)\n",
    "mathematica_output = print_mathematica(\n",
    "    x, y, cond, xbounds, ybounds, traj_piecewise, square\n",
    ")\n",
    "print(\"Mathematica command for plotting:\\n\", mathematica_output)"
   ]
  },
  {
   "cell_type": "code",
   "execution_count": 76,
   "id": "cbfdef0a",
   "metadata": {},
   "outputs": [
    {
     "data": {
      "image/png": "[encoded data removed]",
      "text/latex": [
       "$\\displaystyle a x^{2}$"
      ],
      "text/plain": [
       "   2\n",
       "a⋅x "
      ]
     },
     "execution_count": 76,
     "metadata": {},
     "output_type": "execute_result"
    }
   ],
   "source": [
    "traj"
   ]
  },
  {
   "cell_type": "code",
   "execution_count": 77,
   "id": "9effa40b",
   "metadata": {},
   "outputs": [
    {
     "data": {
      "text/latex": [
       "$\\displaystyle \\left(x \\geq - \\frac{25}{2} \\wedge x \\leq \\frac{1}{2} \\wedge \\left(y - \\begin{cases} 144 & \\text{for}\\: x < - \\frac{25}{2} \\\\\\left(x + \\frac{1}{2}\\right)^{2} & \\text{for}\\: x \\leq - \\frac{1}{2} \\\\0 & \\text{otherwise} \\end{cases} - \\frac{1}{2}\\right) \\left(y - \\begin{cases} 144 & \\text{for}\\: x < - \\frac{23}{2} \\\\\\left(x - \\frac{1}{2}\\right)^{2} & \\text{for}\\: x \\leq \\frac{1}{2} \\\\0 & \\text{otherwise} \\end{cases} + \\frac{1}{2}\\right) \\leq 0\\right) \\vee \\left(x \\geq - \\frac{25}{2} \\wedge x \\leq \\frac{1}{2} \\wedge \\left(y - \\begin{cases} 144 & \\text{for}\\: x < - \\frac{25}{2} \\\\\\left(x + \\frac{1}{2}\\right)^{2} & \\text{for}\\: x \\leq - \\frac{1}{2} \\\\0 & \\text{otherwise} \\end{cases} + \\frac{1}{2}\\right) \\left(y - \\begin{cases} 144 & \\text{for}\\: x < - \\frac{23}{2} \\\\\\left(x - \\frac{1}{2}\\right)^{2} & \\text{for}\\: x \\leq \\frac{1}{2} \\\\0 & \\text{otherwise} \\end{cases} - \\frac{1}{2}\\right) \\leq 0\\right) \\vee \\left(x \\geq - \\frac{1}{2} \\wedge x \\leq \\frac{19}{2} \\wedge \\left(y - \\begin{cases} 0 & \\text{for}\\: x < - \\frac{1}{2} \\\\\\left(x + \\frac{1}{2}\\right)^{2} & \\text{for}\\: x \\leq \\frac{17}{2} \\\\81 & \\text{otherwise} \\end{cases} - \\frac{1}{2}\\right) \\left(y - \\begin{cases} 0 & \\text{for}\\: x < \\frac{1}{2} \\\\\\left(x - \\frac{1}{2}\\right)^{2} & \\text{for}\\: x \\leq \\frac{19}{2} \\\\81 & \\text{otherwise} \\end{cases} + \\frac{1}{2}\\right) \\leq 0\\right) \\vee \\left(x \\geq - \\frac{1}{2} \\wedge x \\leq \\frac{19}{2} \\wedge \\left(y - \\begin{cases} 0 & \\text{for}\\: x < - \\frac{1}{2} \\\\\\left(x + \\frac{1}{2}\\right)^{2} & \\text{for}\\: x \\leq \\frac{17}{2} \\\\81 & \\text{otherwise} \\end{cases} + \\frac{1}{2}\\right) \\left(y - \\begin{cases} 0 & \\text{for}\\: x < \\frac{1}{2} \\\\\\left(x - \\frac{1}{2}\\right)^{2} & \\text{for}\\: x \\leq \\frac{19}{2} \\\\81 & \\text{otherwise} \\end{cases} - \\frac{1}{2}\\right) \\leq 0\\right) \\vee \\left(\\frac{19}{2} - x \\geq 0 \\wedge \\frac{163}{2} - y \\geq 0 \\wedge x - \\frac{17}{2} \\geq 0 \\wedge y - \\frac{161}{2} \\geq 0\\right) \\vee \\left(\\frac{1}{2} - x \\geq 0 \\wedge \\frac{1}{2} - y \\geq 0 \\wedge x + \\frac{1}{2} \\geq 0 \\wedge y + \\frac{1}{2} \\geq 0\\right) \\vee \\left(\\frac{289}{2} - y \\geq 0 \\wedge - x - \\frac{23}{2} \\geq 0 \\wedge x + \\frac{25}{2} \\geq 0 \\wedge y - \\frac{287}{2} \\geq 0\\right) \\vee \\left(\\frac{19}{2} - x \\leq 0 \\wedge \\frac{163}{2} - y \\leq 0 \\wedge x - \\frac{17}{2} \\leq 0 \\wedge y - \\frac{161}{2} \\leq 0\\right) \\vee \\left(\\frac{1}{2} - x \\leq 0 \\wedge \\frac{1}{2} - y \\leq 0 \\wedge x + \\frac{1}{2} \\leq 0 \\wedge y + \\frac{1}{2} \\leq 0\\right) \\vee \\left(\\frac{289}{2} - y \\leq 0 \\wedge - x - \\frac{23}{2} \\leq 0 \\wedge x + \\frac{25}{2} \\leq 0 \\wedge y - \\frac{287}{2} \\leq 0\\right)$"
      ],
      "text/plain": [
       "⎛                      ⎛    ⎛⎧   144      for x < -25/2⎞    ⎞ ⎛    ⎛⎧   144      for x < -23/2⎞    ⎞    ⎞   ⎛          \n",
       "⎜                      ⎜    ⎜⎪                         ⎟    ⎟ ⎜    ⎜⎪                         ⎟    ⎟    ⎟   ⎜          \n",
       "⎜                      ⎜    ⎜⎪         2               ⎟   1⎟ ⎜    ⎜⎪         2               ⎟   1⎟    ⎟   ⎜          \n",
       "⎜x ≥ -25/2 ∧ x ≤ 1/2 ∧ ⎜y - ⎜⎨(x + 1/2)   for x ≤ -1/2 ⎟ - ─⎟⋅⎜y - ⎜⎨(x - 1/2)    for x ≤ 1/2 ⎟ + ─⎟ ≤ 0⎟ ∨ ⎜x ≥ -25/2 \n",
       "⎜                      ⎜    ⎜⎪                         ⎟   2⎟ ⎜    ⎜⎪                         ⎟   2⎟    ⎟   ⎜          \n",
       "⎜                      ⎜    ⎜⎪    0         otherwise  ⎟    ⎟ ⎜    ⎜⎪    0         otherwise  ⎟    ⎟    ⎟   ⎜          \n",
       "⎝                      ⎝    ⎝⎩                         ⎠    ⎠ ⎝    ⎝⎩                         ⎠    ⎠    ⎠   ⎝          \n",
       "\n",
       "            ⎛    ⎛⎧   144      for x < -25/2⎞    ⎞ ⎛    ⎛⎧   144      for x < -23/2⎞    ⎞    ⎞   ⎛                     \n",
       "            ⎜    ⎜⎪                         ⎟    ⎟ ⎜    ⎜⎪                         ⎟    ⎟    ⎟   ⎜                     \n",
       "            ⎜    ⎜⎪         2               ⎟   1⎟ ⎜    ⎜⎪         2               ⎟   1⎟    ⎟   ⎜                     \n",
       "∧ x ≤ 1/2 ∧ ⎜y - ⎜⎨(x + 1/2)   for x ≤ -1/2 ⎟ + ─⎟⋅⎜y - ⎜⎨(x - 1/2)    for x ≤ 1/2 ⎟ - ─⎟ ≤ 0⎟ ∨ ⎜x ≥ -1/2 ∧ x ≤ 19/2 ∧\n",
       "            ⎜    ⎜⎪                         ⎟   2⎟ ⎜    ⎜⎪                         ⎟   2⎟    ⎟   ⎜                     \n",
       "            ⎜    ⎜⎪    0         otherwise  ⎟    ⎟ ⎜    ⎜⎪    0         otherwise  ⎟    ⎟    ⎟   ⎜                     \n",
       "            ⎝    ⎝⎩                         ⎠    ⎠ ⎝    ⎝⎩                         ⎠    ⎠    ⎠   ⎝                     \n",
       "\n",
       " ⎛    ⎛⎧    0       for x < -1/2⎞    ⎞ ⎛    ⎛⎧    0       for x < 1/2 ⎞    ⎞    ⎞   ⎛                      ⎛    ⎛⎧    0\n",
       " ⎜    ⎜⎪                        ⎟    ⎟ ⎜    ⎜⎪                        ⎟    ⎟    ⎟   ⎜                      ⎜    ⎜⎪     \n",
       " ⎜    ⎜⎪         2              ⎟   1⎟ ⎜    ⎜⎪         2              ⎟   1⎟    ⎟   ⎜                      ⎜    ⎜⎪     \n",
       " ⎜y - ⎜⎨(x + 1/2)   for x ≤ 17/2⎟ - ─⎟⋅⎜y - ⎜⎨(x - 1/2)   for x ≤ 19/2⎟ + ─⎟ ≤ 0⎟ ∨ ⎜x ≥ -1/2 ∧ x ≤ 19/2 ∧ ⎜y - ⎜⎨(x + \n",
       " ⎜    ⎜⎪                        ⎟   2⎟ ⎜    ⎜⎪                        ⎟   2⎟    ⎟   ⎜                      ⎜    ⎜⎪     \n",
       " ⎜    ⎜⎪    81       otherwise  ⎟    ⎟ ⎜    ⎜⎪    81       otherwise  ⎟    ⎟    ⎟   ⎜                      ⎜    ⎜⎪    8\n",
       " ⎝    ⎝⎩                        ⎠    ⎠ ⎝    ⎝⎩                        ⎠    ⎠    ⎠   ⎝                      ⎝    ⎝⎩     \n",
       "\n",
       "       for x < -1/2⎞    ⎞ ⎛    ⎛⎧    0       for x < 1/2 ⎞    ⎞    ⎞                                                   \n",
       "                   ⎟    ⎟ ⎜    ⎜⎪                        ⎟    ⎟    ⎟                                                   \n",
       "    2              ⎟   1⎟ ⎜    ⎜⎪         2              ⎟   1⎟    ⎟                                                   \n",
       "1/2)   for x ≤ 17/2⎟ + ─⎟⋅⎜y - ⎜⎨(x - 1/2)   for x ≤ 19/2⎟ - ─⎟ ≤ 0⎟ ∨ (19/2 - x ≥ 0 ∧ 163/2 - y ≥ 0 ∧ x - 17/2 ≥ 0 ∧ y\n",
       "                   ⎟   2⎟ ⎜    ⎜⎪                        ⎟   2⎟    ⎟                                                   \n",
       "1       otherwise  ⎟    ⎟ ⎜    ⎜⎪    81       otherwise  ⎟    ⎟    ⎟                                                   \n",
       "                   ⎠    ⎠ ⎝    ⎝⎩                        ⎠    ⎠    ⎠                                                   \n",
       "\n",
       "                                                                                                                       \n",
       "                                                                                                                       \n",
       "                                                                                                                       \n",
       " - 161/2 ≥ 0) ∨ (1/2 - x ≥ 0 ∧ 1/2 - y ≥ 0 ∧ x + 1/2 ≥ 0 ∧ y + 1/2 ≥ 0) ∨ (289/2 - y ≥ 0 ∧ -x - 23/2 ≥ 0 ∧ x + 25/2 ≥ 0\n",
       "                                                                                                                       \n",
       "                                                                                                                       \n",
       "                                                                                                                       \n",
       "\n",
       "                                                                                                                       \n",
       "                                                                                                                       \n",
       "                                                                                                                       \n",
       " ∧ y - 287/2 ≥ 0) ∨ (19/2 - x ≤ 0 ∧ 163/2 - y ≤ 0 ∧ x - 17/2 ≤ 0 ∧ y - 161/2 ≤ 0) ∨ (1/2 - x ≤ 0 ∧ 1/2 - y ≤ 0 ∧ x + 1/\n",
       "                                                                                                                       \n",
       "                                                                                                                       \n",
       "                                                                                                                       \n",
       "\n",
       "                                                                                     \n",
       "                                                                                     \n",
       "                                                                                     \n",
       "2 ≤ 0 ∧ y + 1/2 ≤ 0) ∨ (289/2 - y ≤ 0 ∧ -x - 23/2 ≤ 0 ∧ x + 25/2 ≤ 0 ∧ y - 287/2 ≤ 0)\n",
       "                                                                                     \n",
       "                                                                                     \n",
       "                                                                                     "
      ]
     },
     "execution_count": 77,
     "metadata": {},
     "output_type": "execute_result"
    }
   ],
   "source": [
    "cond.subs(a, 1)"
   ]
  },
  {
   "cell_type": "code",
   "execution_count": 61,
   "id": "59a08f16",
   "metadata": {},
   "outputs": [
    {
     "data": {
      "image/png": "[encoded data removed]",
      "text/latex": [
       "$\\displaystyle \\left[ \\operatorname{Point2D}\\left(\\frac{1}{2}, - \\frac{1}{2}\\right), \\  \\operatorname{Point2D}\\left(\\frac{1}{2}, \\frac{1}{2}\\right), \\  \\operatorname{Point2D}\\left(- \\frac{1}{2}, \\frac{1}{2}\\right), \\  \\operatorname{Point2D}\\left(- \\frac{1}{2}, - \\frac{1}{2}\\right)\\right]$"
      ],
      "text/plain": [
       "[Point2D(1/2, -1/2), Point2D(1/2, 1/2), Point2D(-1/2, 1/2), Point2D(-1/2, -1/2)]"
      ]
     },
     "execution_count": 61,
     "metadata": {},
     "output_type": "execute_result"
    }
   ],
   "source": [
    "square.vertices"
   ]
  },
  {
   "cell_type": "code",
   "execution_count": null,
   "id": "562d1e0b",
   "metadata": {},
   "outputs": [],
   "source": []
  }
 ],
 "metadata": {
  "kernelspec": {
   "display_name": "Python 3 (ipykernel)",
   "language": "python",
   "name": "python3"
  },
  "language_info": {
   "codemirror_mode": {
    "name": "ipython",
    "version": 3
   },
   "file_extension": ".py",
   "mimetype": "text/x-python",
   "name": "python",
   "nbconvert_exporter": "python",
   "pygments_lexer": "ipython3",
   "version": "3.9.10"
  }
 },
 "nbformat": 4,
 "nbformat_minor": 5
}
