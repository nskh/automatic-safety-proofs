{
 "cells": [
  {
   "cell_type": "code",
   "execution_count": 264,
   "id": "30d8df9b",
   "metadata": {},
   "outputs": [
    {
     "name": "stdout",
     "output_type": "stream",
     "text": [
      "The autoreload extension is already loaded. To reload it, use:\n",
      "  %reload_ext autoreload\n"
     ]
    }
   ],
   "source": [
    "from sympy import *\n",
    "from safe_region_utils import *\n",
    "from symbolic_utils import *\n",
    "init_printing()\n",
    "\n",
    "%load_ext autoreload\n",
    "%autoreload 2"
   ]
  },
  {
   "cell_type": "markdown",
   "id": "acde9a80",
   "metadata": {},
   "source": [
    "## Setting up example"
   ]
  },
  {
   "cell_type": "code",
   "execution_count": 243,
   "id": "8c556969",
   "metadata": {},
   "outputs": [
    {
     "data": {
      "image/png": "[encoded data removed]",
      "text/plain": [
       "<Figure size 432x288 with 1 Axes>"
      ]
     },
     "metadata": {
      "needs_background": "light"
     },
     "output_type": "display_data"
    },
    {
     "data": {
      "image/png": "[encoded data removed]",
      "text/latex": [
       "$\\displaystyle \\left( \\left[ \\frac{\\pi}{2}, \\  \\pi, \\  \\frac{3 \\pi}{2}, \\  0\\right], \\  \\left[ \\left( \\operatorname{Point2D}\\left(w, - w\\right), \\  \\operatorname{Point2D}\\left(w, w\\right)\\right), \\  \\left( \\operatorname{Point2D}\\left(w, w\\right), \\  \\operatorname{Point2D}\\left(- w, w\\right)\\right), \\  \\left( \\operatorname{Point2D}\\left(- w, w\\right), \\  \\operatorname{Point2D}\\left(- w, - w\\right)\\right), \\  \\left( \\operatorname{Point2D}\\left(- w, - w\\right), \\  \\operatorname{Point2D}\\left(w, - w\\right)\\right)\\right]\\right)$"
      ],
      "text/plain": [
       "⎛⎡π     3⋅π   ⎤                                                                                         \n",
       "⎜⎢─, π, ───, 0⎥, [(Point2D(w, -w), Point2D(w, w)), (Point2D(w, w), Point2D(-w, w)), (Point2D(-w, w), Poi\n",
       "⎝⎣2      2    ⎦                                                                                         \n",
       "\n",
       "                                                 ⎞\n",
       "nt2D(-w, -w)), (Point2D(-w, -w), Point2D(w, -w))]⎟\n",
       "                                                 ⎠"
      ]
     },
     "execution_count": 243,
     "metadata": {},
     "output_type": "execute_result"
    }
   ],
   "source": [
    "x, y = symbols(\"x y\")\n",
    "## Short Example ##\n",
    "w = 0.5\n",
    "square_points: list = [\n",
    "    geometry.Point(val) for val in [[w, -w], [w, w], [-w, w], [-w, -w]]\n",
    "]\n",
    "square: geometry.Polygon = Polygon(*square_points)\n",
    "plot_polygon(square)\n",
    "\n",
    "w = Symbol(\"w\", real=True, positive=True, nonzero=True)\n",
    "square_points: list = [\n",
    "    geometry.Point(val) for val in [[w, -w], [w, w], [-w, w], [-w, -w]]\n",
    "]\n",
    "square_param: geometry.Polygon = Polygon(*square_points)\n",
    "compute_polygon_angles(square_param)\n",
    "# traj_piecewise = Piecewise((sin(x / 2), x < 0), (x / 2, x >= 0))\n",
    "# plot(traj_piecewise)\n",
    "# plt.show()"
   ]
  },
  {
   "cell_type": "code",
   "execution_count": 245,
   "id": "28c0b2c0",
   "metadata": {},
   "outputs": [],
   "source": [
    "a = Symbol(\"a\", real=True, nonzero=True)\n",
    "b = Symbol(\"b\", real=True)\n",
    "c = Symbol(\"c\", real=True)"
   ]
  },
  {
   "cell_type": "code",
   "execution_count": 249,
   "id": "ddbc5535",
   "metadata": {},
   "outputs": [
    {
     "data": {
      "image/png": "[encoded data removed]",
      "text/latex": [
       "$\\displaystyle a x^{2} + b x + c$"
      ],
      "text/plain": [
       "   2          \n",
       "a⋅x  + b⋅x + c"
      ]
     },
     "execution_count": 249,
     "metadata": {},
     "output_type": "execute_result"
    }
   ],
   "source": [
    "traj = a*x**2 + b*x +c\n",
    "traj"
   ]
  },
  {
   "cell_type": "code",
   "execution_count": 247,
   "id": "78a09059",
   "metadata": {},
   "outputs": [
    {
     "data": {
      "image/png": "[encoded data removed]",
      "text/latex": [
       "$\\displaystyle a b \\cos{\\left(b x \\right)}$"
      ],
      "text/plain": [
       "a⋅b⋅cos(b⋅x)"
      ]
     },
     "execution_count": 247,
     "metadata": {},
     "output_type": "execute_result"
    }
   ],
   "source": [
    "traj = a*sin(b*x)\n",
    "sinderiv = diff(traj, x)\n",
    "sinderiv"
   ]
  },
  {
   "cell_type": "code",
   "execution_count": 248,
   "id": "786c2a7e",
   "metadata": {},
   "outputs": [
    {
     "data": {
      "image/png": "[encoded data removed]",
      "text/latex": [
       "$\\displaystyle \\left[ \\frac{\\pi}{2 b}, \\  \\frac{3 \\pi}{2 b}\\right]$"
      ],
      "text/plain": [
       "⎡ π   3⋅π⎤\n",
       "⎢───, ───⎥\n",
       "⎣2⋅b  2⋅b⎦"
      ]
     },
     "execution_count": 248,
     "metadata": {},
     "output_type": "execute_result"
    }
   ],
   "source": [
    "solve(Eq(sinderiv, 0), x)"
   ]
  },
  {
   "cell_type": "code",
   "execution_count": 7,
   "id": "67002968",
   "metadata": {},
   "outputs": [
    {
     "data": {
      "image/png": "[encoded data removed]",
      "text/latex": [
       "$\\displaystyle \\left[ 0\\right]$"
      ],
      "text/plain": [
       "[0]"
      ]
     },
     "execution_count": 7,
     "metadata": {},
     "output_type": "execute_result"
    }
   ],
   "source": [
    "solve(Eq(diff(a*x**2, x), 0), x)"
   ]
  },
  {
   "cell_type": "code",
   "execution_count": 8,
   "id": "5d364a90",
   "metadata": {},
   "outputs": [
    {
     "data": {
      "image/png": "[encoded data removed]",
      "text/latex": [
       "$\\displaystyle \\left[ \\frac{\\pi}{2 b}, \\  \\frac{3 \\pi}{2 b}\\right]$"
      ],
      "text/plain": [
       "⎡ π   3⋅π⎤\n",
       "⎢───, ───⎥\n",
       "⎣2⋅b  2⋅b⎦"
      ]
     },
     "execution_count": 8,
     "metadata": {},
     "output_type": "execute_result"
    }
   ],
   "source": [
    "solve(Eq(diff(traj, x), 0), x)"
   ]
  },
  {
   "cell_type": "code",
   "execution_count": 9,
   "id": "8576ab16",
   "metadata": {},
   "outputs": [
    {
     "data": {
      "image/png": "[encoded data removed]",
      "text/latex": [
       "$\\displaystyle a \\sin{\\left(b x \\right)}$"
      ],
      "text/plain": [
       "a⋅sin(b⋅x)"
      ]
     },
     "execution_count": 9,
     "metadata": {},
     "output_type": "execute_result"
    }
   ],
   "source": [
    "traj"
   ]
  },
  {
   "cell_type": "code",
   "execution_count": 250,
   "id": "8b589032",
   "metadata": {
    "scrolled": false
   },
   "outputs": [
    {
     "name": "stdout",
     "output_type": "stream",
     "text": [
      "solveset solution: EmptySet\n",
      "solveset solution: {-b/(2*a)}\n",
      "solution when finding transitions for angle pi: {-b/(2*a)}\n",
      "solveset solution: EmptySet\n",
      "solveset solution: {-b/(2*a)}\n",
      "solution when finding transitions for angle 0: {-b/(2*a)}\n",
      "pair used for transition point finding: {x: -b/(2*a)}\n",
      "pair used for transition point finding: {x: -b/(2*a)}\n"
     ]
    },
    {
     "data": {
      "image/png": "[encoded data removed]",
      "text/latex": [
       "$\\displaystyle \\left( \\left\\{ 0 : \\left[ \\operatorname{Point2D}\\left(- \\frac{b}{2 a}, c - \\frac{b^{2}}{4 a}\\right)\\right], \\  \\pi : \\left[ \\operatorname{Point2D}\\left(- \\frac{b}{2 a}, c - \\frac{b^{2}}{4 a}\\right)\\right]\\right\\}, \\  \\left\\{\\operatorname{Point2D}\\left(- \\frac{b}{2 a}, c - \\frac{b^{2}}{4 a}\\right)\\right\\}\\right)$"
      ],
      "text/plain": [
       "({0: [Point2D(-b/(2*a), c - b**2/(4*a))], π: [Point2D(-b/(2*a), c - b**2/(4*a))]}, {Point2D(-b/(2*a), c \n",
       "- b**2/(4*a))})"
      ]
     },
     "execution_count": 250,
     "metadata": {},
     "output_type": "execute_result"
    }
   ],
   "source": [
    "angles, vertex_pairs = compute_polygon_angles(square)\n",
    "# find_transitions(-y + traj, angles, x, y, domain)  # fails bc Intersection type poorly handled\n",
    "find_transitions(-y + traj, angles, x, y, Reals)  "
   ]
  },
  {
   "cell_type": "code",
   "execution_count": null,
   "id": "e46c7bc4",
   "metadata": {},
   "outputs": [],
   "source": [
    "domain=Reals\n",
    "traj = -y + a*x**2 + b*x +c\n",
    "\n",
    "transitions: set = {}\n",
    "# Compute slope symbolically\n",
    "df_dy, df_dx = slope_sym(traj, x, y)\n",
    "for angle in angles:\n",
    "    # 2 vectors <x1, y1> <x2, y2>\n",
    "    # parallel iff y1*x2 = x1*y2\n",
    "    # use vectors <dfdx, dfdy> <cos(theta), sin(theta)>\n",
    "    soln = solveset(Eq(df_dx * sin(angle), df_dy * cos(angle)), x, domain=domain)\n",
    "\n",
    "    if soln == S.EmptySet:\n",
    "        soln = solveset(\n",
    "            Eq(df_dx * sin(angle), df_dy * cos(angle)), y, domain=domain\n",
    "        )\n",
    "        if soln != S.EmptySet and type(soln) != list:\n",
    "            # In this case, type(soln): S.FiniteSet\n",
    "            soln = [{y: soln_elem} for soln_elem in list(soln)]\n",
    "    else:\n",
    "        # Pack into list of dict so it's clear which variable has been solved for\n",
    "        try:\n",
    "            soln = [{x: soln_elem} for soln_elem in list(soln)]\n",
    "        except:\n",
    "            print(soln)\n",
    "\n",
    "    for elem in soln:\n",
    "        if angle in transitions:\n",
    "            transitions[angle].append(elem)\n",
    "        else:\n",
    "            transitions[angle] = [elem]\n",
    "# soln above may still be symbolic, so we have to evaluate the expression\n",
    "# that's what happens below\n",
    "\n",
    "transition_points = {}\n",
    "set_of_transitions = set()\n",
    "traj_eqn = Eq(traj, 0)\n",
    "for angle, solns in transitions.items():\n",
    "    for pair in solns:\n",
    "        # pair should always be a dictionary\n",
    "        assert type(pair) == dict, \"Solution element was not a dictionary!\"\n",
    "        # pair looks like {x: f(y)} or {y: f(x)}\n",
    "        # remove one variable from equation by substituting pair into traj_eqn\n",
    "        traj_eqn_single_var = traj_eqn.subs(pair)\n",
    "\n",
    "        # before going further, figure out the variable for\n",
    "        # which pair contains a solution\n",
    "        soln_var = [k for k in pair][0]  # variable is the dict key\n",
    "        other_var = y if soln_var == x else x\n",
    "\n",
    "        # traj_eqn used to have two variables but now has only one\n",
    "        single_var_solns = solve(traj_eqn_single_var, other_var)\n",
    "\n",
    "        for single_var_soln in single_var_solns:\n",
    "            # substitute in single_var_soln to solve for soln_var\n",
    "            solved_eqn = Eq(soln_var, pair[soln_var]).subs(\n",
    "                other_var, single_var_soln\n",
    "            )\n",
    "            # with this, we have a solution for the transition point\n",
    "            if soln_var == x:\n",
    "                print(\"x-coord:\", solved_eqn.rhs)\n",
    "                print(\"y-coord:\", single_var_soln)\n",
    "                transition_point = Point(solved_eqn.rhs, single_var_soln)\n",
    "            elif soln_var == y:\n",
    "                transition_point = Point(single_var_soln, solved_eqn.rhs)\n",
    "            set_of_transitions.add(transition_point)\n",
    "            if angle in transition_points:\n",
    "                transition_points[angle].append(transition_point)\n",
    "            else:\n",
    "                transition_points[angle] = [transition_point]\n"
   ]
  },
  {
   "cell_type": "code",
   "execution_count": 48,
   "id": "0f8cc411",
   "metadata": {},
   "outputs": [
    {
     "ename": "NameError",
     "evalue": "name 'single_var_solns' is not defined",
     "output_type": "error",
     "traceback": [
      "\u001b[0;31m---------------------------------------------------------------------------\u001b[0m",
      "\u001b[0;31mNameError\u001b[0m                                 Traceback (most recent call last)",
      "Input \u001b[0;32mIn [48]\u001b[0m, in \u001b[0;36m<cell line: 1>\u001b[0;34m()\u001b[0m\n\u001b[0;32m----> 1\u001b[0m \u001b[43msingle_var_solns\u001b[49m\n",
      "\u001b[0;31mNameError\u001b[0m: name 'single_var_solns' is not defined"
     ]
    }
   ],
   "source": [
    "single_var_solns"
   ]
  },
  {
   "cell_type": "code",
   "execution_count": 49,
   "id": "3f1aa632",
   "metadata": {},
   "outputs": [
    {
     "ename": "NameError",
     "evalue": "name 'pair' is not defined",
     "output_type": "error",
     "traceback": [
      "\u001b[0;31m---------------------------------------------------------------------------\u001b[0m",
      "\u001b[0;31mNameError\u001b[0m                                 Traceback (most recent call last)",
      "Input \u001b[0;32mIn [49]\u001b[0m, in \u001b[0;36m<cell line: 1>\u001b[0;34m()\u001b[0m\n\u001b[0;32m----> 1\u001b[0m \u001b[43mpair\u001b[49m\n",
      "\u001b[0;31mNameError\u001b[0m: name 'pair' is not defined"
     ]
    }
   ],
   "source": [
    "pair"
   ]
  },
  {
   "cell_type": "code",
   "execution_count": 50,
   "id": "f7be13ab",
   "metadata": {},
   "outputs": [
    {
     "ename": "NameError",
     "evalue": "name 'traj_eqn_single_var' is not defined",
     "output_type": "error",
     "traceback": [
      "\u001b[0;31m---------------------------------------------------------------------------\u001b[0m",
      "\u001b[0;31mNameError\u001b[0m                                 Traceback (most recent call last)",
      "Input \u001b[0;32mIn [50]\u001b[0m, in \u001b[0;36m<cell line: 1>\u001b[0;34m()\u001b[0m\n\u001b[0;32m----> 1\u001b[0m \u001b[43mtraj_eqn_single_var\u001b[49m\n",
      "\u001b[0;31mNameError\u001b[0m: name 'traj_eqn_single_var' is not defined"
     ]
    }
   ],
   "source": [
    "traj_eqn_single_var"
   ]
  },
  {
   "cell_type": "code",
   "execution_count": 51,
   "id": "c17bd399",
   "metadata": {},
   "outputs": [
    {
     "ename": "NameError",
     "evalue": "name 'traj_eqn' is not defined",
     "output_type": "error",
     "traceback": [
      "\u001b[0;31m---------------------------------------------------------------------------\u001b[0m",
      "\u001b[0;31mNameError\u001b[0m                                 Traceback (most recent call last)",
      "Input \u001b[0;32mIn [51]\u001b[0m, in \u001b[0;36m<cell line: 1>\u001b[0;34m()\u001b[0m\n\u001b[0;32m----> 1\u001b[0m solve(\u001b[43mtraj_eqn\u001b[49m, y)\n",
      "\u001b[0;31mNameError\u001b[0m: name 'traj_eqn' is not defined"
     ]
    }
   ],
   "source": [
    "solve(traj_eqn, y)"
   ]
  },
  {
   "cell_type": "code",
   "execution_count": null,
   "id": "4779db61",
   "metadata": {},
   "outputs": [],
   "source": []
  },
  {
   "cell_type": "code",
   "execution_count": 52,
   "id": "3a7de9d2",
   "metadata": {},
   "outputs": [
    {
     "ename": "NameError",
     "evalue": "name 'cond' is not defined",
     "output_type": "error",
     "traceback": [
      "\u001b[0;31m---------------------------------------------------------------------------\u001b[0m",
      "\u001b[0;31mNameError\u001b[0m                                 Traceback (most recent call last)",
      "Input \u001b[0;32mIn [52]\u001b[0m, in \u001b[0;36m<cell line: 1>\u001b[0;34m()\u001b[0m\n\u001b[0;32m----> 1\u001b[0m \u001b[38;5;28mlen\u001b[39m(\u001b[43mcond\u001b[49m\u001b[38;5;241m.\u001b[39mfree_symbols)\n",
      "\u001b[0;31mNameError\u001b[0m: name 'cond' is not defined"
     ]
    }
   ],
   "source": [
    "len(cond.free_symbols)"
   ]
  },
  {
   "cell_type": "code",
   "execution_count": 251,
   "id": "16043f20",
   "metadata": {},
   "outputs": [
    {
     "name": "stdout",
     "output_type": "stream",
     "text": [
      "solveset solution: EmptySet\n",
      "solveset solution: {-b/(2*a)}\n",
      "solution when finding transitions for angle pi: {-b/(2*a)}\n",
      "solveset solution: EmptySet\n",
      "solveset solution: {-b/(2*a)}\n",
      "solution when finding transitions for angle 0: {-b/(2*a)}\n",
      "pair used for transition point finding: {x: -b/(2*a)}\n",
      "pair used for transition point finding: {x: -b/(2*a)}\n",
      "func_var: x\n",
      "transitions as set: {Point2D(oo, oo*a + oo*b + c), Point2D(-oo, oo*a - oo*b + c), Point2D(-b/(2*a), c - b**2/(4*a))}\n",
      "transitions: [Point2D(-oo, oo*a - oo*b + c), Point2D(-b/(2*a), c - b**2/(4*a)), Point2D(oo, oo*a + oo*b + c)]\n",
      "func_var_transitions: [-oo, -b/(2*a), oo]\n",
      "var intervals: [(-oo, -b/(2*a)), (-b/(2*a), oo)]\n"
     ]
    },
    {
     "data": {
      "text/latex": [
       "$\\displaystyle \\left(x \\geq - \\frac{1}{2} - \\frac{b}{2 a} \\wedge \\left(y - \\begin{cases} c - \\frac{b^{2}}{4 a} & \\text{for}\\: x < - \\frac{1}{2} - \\frac{b}{2 a} \\\\a \\left(x + \\frac{1}{2}\\right)^{2} + b \\left(x + \\frac{1}{2}\\right) + c & \\text{for}\\: x \\leq \\infty \\end{cases} - \\frac{1}{2}\\right) \\left(y - \\begin{cases} c - \\frac{b^{2}}{4 a} & \\text{for}\\: x < \\frac{1}{2} - \\frac{b}{2 a} \\\\a \\left(x - \\frac{1}{2}\\right)^{2} + b \\left(x - \\frac{1}{2}\\right) + c & \\text{for}\\: x \\leq \\infty \\end{cases} + \\frac{1}{2}\\right) \\leq 0\\right) \\vee \\left(x \\geq - \\frac{1}{2} - \\frac{b}{2 a} \\wedge \\left(y - \\begin{cases} c - \\frac{b^{2}}{4 a} & \\text{for}\\: x < - \\frac{1}{2} - \\frac{b}{2 a} \\\\a \\left(x + \\frac{1}{2}\\right)^{2} + b \\left(x + \\frac{1}{2}\\right) + c & \\text{for}\\: x \\leq \\infty \\end{cases} + \\frac{1}{2}\\right) \\left(y - \\begin{cases} c - \\frac{b^{2}}{4 a} & \\text{for}\\: x < \\frac{1}{2} - \\frac{b}{2 a} \\\\a \\left(x - \\frac{1}{2}\\right)^{2} + b \\left(x - \\frac{1}{2}\\right) + c & \\text{for}\\: x \\leq \\infty \\end{cases} - \\frac{1}{2}\\right) \\leq 0\\right) \\vee \\left(x \\leq \\frac{1}{2} - \\frac{b}{2 a} \\wedge \\left(y - \\begin{cases} a \\left(x - \\frac{1}{2}\\right)^{2} + b \\left(x - \\frac{1}{2}\\right) + c & \\text{for}\\: x \\leq \\frac{1}{2} - \\frac{b}{2 a} \\\\c - \\frac{b^{2}}{4 a} & \\text{otherwise} \\end{cases} - \\frac{1}{2}\\right) \\left(y - \\begin{cases} a \\left(x + \\frac{1}{2}\\right)^{2} + b \\left(x + \\frac{1}{2}\\right) + c & \\text{for}\\: x \\leq - \\frac{1}{2} - \\frac{b}{2 a} \\\\c - \\frac{b^{2}}{4 a} & \\text{otherwise} \\end{cases} + \\frac{1}{2}\\right) \\leq 0\\right) \\vee \\left(x \\leq \\frac{1}{2} - \\frac{b}{2 a} \\wedge \\left(y - \\begin{cases} a \\left(x - \\frac{1}{2}\\right)^{2} + b \\left(x - \\frac{1}{2}\\right) + c & \\text{for}\\: x \\leq \\frac{1}{2} - \\frac{b}{2 a} \\\\c - \\frac{b^{2}}{4 a} & \\text{otherwise} \\end{cases} + \\frac{1}{2}\\right) \\left(y - \\begin{cases} a \\left(x + \\frac{1}{2}\\right)^{2} + b \\left(x + \\frac{1}{2}\\right) + c & \\text{for}\\: x \\leq - \\frac{1}{2} - \\frac{b}{2 a} \\\\c - \\frac{b^{2}}{4 a} & \\text{otherwise} \\end{cases} - \\frac{1}{2}\\right) \\leq 0\\right) \\vee \\left(\\left(- \\frac{- a - b}{2 a} + \\frac{a - b}{2 a}\\right) \\left(- c + y + \\frac{1}{2} + \\frac{b^{2}}{4 a}\\right) \\geq 0 \\wedge \\left(\\frac{- a - b}{2 a} - \\frac{a - b}{2 a}\\right) \\left(- c + y - \\frac{1}{2} + \\frac{b^{2}}{4 a}\\right) \\geq 0 \\wedge - x + \\frac{a - b}{2 a} \\geq 0 \\wedge x - \\frac{- a - b}{2 a} \\geq 0\\right) \\vee \\left(\\left(- \\frac{- a - b}{2 a} + \\frac{a - b}{2 a}\\right) \\left(- c + y + \\frac{1}{2} + \\frac{b^{2}}{4 a}\\right) \\leq 0 \\wedge \\left(\\frac{- a - b}{2 a} - \\frac{a - b}{2 a}\\right) \\left(- c + y - \\frac{1}{2} + \\frac{b^{2}}{4 a}\\right) \\leq 0 \\wedge - x + \\frac{a - b}{2 a} \\leq 0 \\wedge x - \\frac{- a - b}{2 a} \\leq 0\\right)$"
      ],
      "text/plain": [
       "                                                                                                        \n",
       "⎛                ⎛    ⎛⎧                 2                               ⎞    ⎞ ⎛    ⎛⎧                 \n",
       "⎜                ⎜    ⎜⎪                b                         1    b ⎟    ⎟ ⎜    ⎜⎪                b\n",
       "⎜      1    b    ⎜    ⎜⎪           c - ───              for x < - ─ - ───⎟   1⎟ ⎜    ⎜⎪           c - ──\n",
       "⎜x ≥ - ─ - ─── ∧ ⎜y - ⎜⎨               4⋅a                        2   2⋅a⎟ - ─⎟⋅⎜y - ⎜⎨               4⋅\n",
       "⎜      2   2⋅a   ⎜    ⎜⎪                                                 ⎟   2⎟ ⎜    ⎜⎪                 \n",
       "⎜                ⎜    ⎜⎪           2                                     ⎟    ⎟ ⎜    ⎜⎪           2     \n",
       "⎝                ⎝    ⎝⎩a⋅(x + 1/2)  + b⋅(x + 1/2) + c      for x ≤ ∞    ⎠    ⎠ ⎝    ⎝⎩a⋅(x - 1/2)  + b⋅\n",
       "                                                                                                        \n",
       "\n",
       "                                                                                                        \n",
       "2                             ⎞    ⎞    ⎞   ⎛                ⎛    ⎛⎧                 2                  \n",
       "                       1    b ⎟    ⎟    ⎟   ⎜                ⎜    ⎜⎪                b                   \n",
       "─              for x < ─ - ───⎟   1⎟    ⎟   ⎜      1    b    ⎜    ⎜⎪           c - ───              for \n",
       "a                      2   2⋅a⎟ + ─⎟ ≤ 0⎟ ∨ ⎜x ≥ - ─ - ─── ∧ ⎜y - ⎜⎨               4⋅a                  \n",
       "                              ⎟   2⎟    ⎟   ⎜      2   2⋅a   ⎜    ⎜⎪                                    \n",
       "                              ⎟    ⎟    ⎟   ⎜                ⎜    ⎜⎪           2                        \n",
       "(x - 1/2) + c     for x ≤ ∞   ⎠    ⎠    ⎠   ⎝                ⎝    ⎝⎩a⋅(x + 1/2)  + b⋅(x + 1/2) + c      \n",
       "                                                                                                        \n",
       "\n",
       "                                                                                        ⎛              ⎛\n",
       "             ⎞    ⎞ ⎛    ⎛⎧                 2                             ⎞    ⎞    ⎞   ⎜              ⎜\n",
       "      1    b ⎟    ⎟ ⎜    ⎜⎪                b                       1    b ⎟    ⎟    ⎟   ⎜              ⎜\n",
       "x < - ─ - ───⎟   1⎟ ⎜    ⎜⎪           c - ───              for x < ─ - ───⎟   1⎟    ⎟   ⎜    1    b    ⎜\n",
       "      2   2⋅a⎟ + ─⎟⋅⎜y - ⎜⎨               4⋅a                      2   2⋅a⎟ - ─⎟ ≤ 0⎟ ∨ ⎜x ≤ ─ - ─── ∧ ⎜\n",
       "             ⎟   2⎟ ⎜    ⎜⎪                                               ⎟   2⎟    ⎟   ⎜    2   2⋅a   ⎜\n",
       "             ⎟    ⎟ ⎜    ⎜⎪           2                                   ⎟    ⎟    ⎟   ⎜              ⎜\n",
       "for x ≤ ∞    ⎠    ⎠ ⎝    ⎝⎩a⋅(x - 1/2)  + b⋅(x - 1/2) + c     for x ≤ ∞   ⎠    ⎠    ⎠   ⎜              ⎜\n",
       "                                                                                        ⎝              ⎝\n",
       "\n",
       "    ⎛⎧           2                            1    b ⎞    ⎞ ⎛    ⎛⎧           2                         \n",
       "    ⎜⎪a⋅(x - 1/2)  + b⋅(x - 1/2) + c  for x ≤ ─ - ───⎟    ⎟ ⎜    ⎜⎪a⋅(x + 1/2)  + b⋅(x + 1/2) + c  for x\n",
       "    ⎜⎪                                        2   2⋅a⎟    ⎟ ⎜    ⎜⎪                                     \n",
       "    ⎜⎪                                               ⎟   1⎟ ⎜    ⎜⎪                                     \n",
       "y - ⎜⎨                 2                             ⎟ - ─⎟⋅⎜y - ⎜⎨                 2                   \n",
       "    ⎜⎪                b                              ⎟   2⎟ ⎜    ⎜⎪                b                    \n",
       "    ⎜⎪           c - ───                 otherwise   ⎟    ⎟ ⎜    ⎜⎪           c - ───                  o\n",
       "    ⎜⎪               4⋅a                             ⎟    ⎟ ⎜    ⎜⎪               4⋅a                   \n",
       "    ⎝⎩                                               ⎠    ⎠ ⎝    ⎝⎩                                     \n",
       "\n",
       "     1    b ⎞    ⎞    ⎞   ⎛              ⎛    ⎛⎧           2                            1    b ⎞    ⎞ ⎛ \n",
       " ≤ - ─ - ───⎟    ⎟    ⎟   ⎜              ⎜    ⎜⎪a⋅(x - 1/2)  + b⋅(x - 1/2) + c  for x ≤ ─ - ───⎟    ⎟ ⎜ \n",
       "     2   2⋅a⎟    ⎟    ⎟   ⎜              ⎜    ⎜⎪                                        2   2⋅a⎟    ⎟ ⎜ \n",
       "            ⎟   1⎟    ⎟   ⎜    1    b    ⎜    ⎜⎪                                               ⎟   1⎟ ⎜ \n",
       "            ⎟ + ─⎟ ≤ 0⎟ ∨ ⎜x ≤ ─ - ─── ∧ ⎜y - ⎜⎨                 2                             ⎟ + ─⎟⋅⎜y\n",
       "            ⎟   2⎟    ⎟   ⎜    2   2⋅a   ⎜    ⎜⎪                b                              ⎟   2⎟ ⎜ \n",
       "therwise    ⎟    ⎟    ⎟   ⎜              ⎜    ⎜⎪           c - ───                 otherwise   ⎟    ⎟ ⎜ \n",
       "            ⎟    ⎟    ⎟   ⎜              ⎜    ⎜⎪               4⋅a                             ⎟    ⎟ ⎜ \n",
       "            ⎠    ⎠    ⎠   ⎝              ⎝    ⎝⎩                                               ⎠    ⎠ ⎝ \n",
       "\n",
       "   ⎛⎧           2                              1    b ⎞    ⎞    ⎞                                       \n",
       "   ⎜⎪a⋅(x + 1/2)  + b⋅(x + 1/2) + c  for x ≤ - ─ - ───⎟    ⎟    ⎟                                       \n",
       "   ⎜⎪                                          2   2⋅a⎟    ⎟    ⎟   ⎛                   ⎛               \n",
       "   ⎜⎪                                                 ⎟   1⎟    ⎟   ⎜⎛  -a - b   a - b⎞ ⎜         1    b\n",
       " - ⎜⎨                 2                               ⎟ - ─⎟ ≤ 0⎟ ∨ ⎜⎜- ────── + ─────⎟⋅⎜-c + y + ─ + ──\n",
       "   ⎜⎪                b                                ⎟   2⎟    ⎟   ⎝⎝   2⋅a      2⋅a ⎠ ⎝         2   4⋅\n",
       "   ⎜⎪           c - ───                  otherwise    ⎟    ⎟    ⎟                                       \n",
       "   ⎜⎪               4⋅a                               ⎟    ⎟    ⎟                                       \n",
       "   ⎝⎩                                                 ⎠    ⎠    ⎠                                       \n",
       "\n",
       "                                                                                                        \n",
       "                                                                                                        \n",
       "2⎞                        ⎛               2⎞                                      ⎞   ⎛                 \n",
       " ⎟       ⎛-a - b   a - b⎞ ⎜         1    b ⎟            a - b           -a - b    ⎟   ⎜⎛  -a - b   a - b\n",
       "─⎟ ≥ 0 ∧ ⎜────── - ─────⎟⋅⎜-c + y - ─ + ───⎟ ≥ 0 ∧ -x + ───── ≥ 0 ∧ x - ────── ≥ 0⎟ ∨ ⎜⎜- ────── + ─────\n",
       "a⎠       ⎝ 2⋅a      2⋅a ⎠ ⎝         2   4⋅a⎠             2⋅a             2⋅a      ⎠   ⎝⎝   2⋅a      2⋅a \n",
       "                                                                                                        \n",
       "                                                                                                        \n",
       "                                                                                                        \n",
       "\n",
       "                                                                                                     \n",
       "                                                                                                     \n",
       "  ⎛               2⎞                        ⎛               2⎞                                      ⎞\n",
       "⎞ ⎜         1    b ⎟       ⎛-a - b   a - b⎞ ⎜         1    b ⎟            a - b           -a - b    ⎟\n",
       "⎟⋅⎜-c + y + ─ + ───⎟ ≤ 0 ∧ ⎜────── - ─────⎟⋅⎜-c + y - ─ + ───⎟ ≤ 0 ∧ -x + ───── ≤ 0 ∧ x - ────── ≤ 0⎟\n",
       "⎠ ⎝         2   4⋅a⎠       ⎝ 2⋅a      2⋅a ⎠ ⎝         2   4⋅a⎠             2⋅a             2⋅a      ⎠\n",
       "                                                                                                     \n",
       "                                                                                                     \n",
       "                                                                                                     "
      ]
     },
     "execution_count": 251,
     "metadata": {},
     "output_type": "execute_result"
    }
   ],
   "source": [
    "domain = Interval(-12, 9)\n",
    "xbounds = [-15, 12]\n",
    "ybounds = [-3, 6]\n",
    "example_name = \"symbolic parabola\"\n",
    "\n",
    "traj = a*x**2 + b*x +c\n",
    "\n",
    "cond = compute_unsafe_cond_symbolic(\n",
    "    x,\n",
    "    y,\n",
    "    square,\n",
    "    traj,\n",
    "    Reals,\n",
    "    add_notches=True,\n",
    ")\n",
    "cond"
   ]
  },
  {
   "cell_type": "code",
   "execution_count": 252,
   "id": "f97525d5",
   "metadata": {},
   "outputs": [
    {
     "name": "stdout",
     "output_type": "stream",
     "text": [
      "solveset solution: EmptySet\n",
      "solveset solution: {-b/(2*a)}\n",
      "solution when finding transitions for angle pi: {-b/(2*a)}\n",
      "solveset solution: EmptySet\n",
      "solveset solution: {-b/(2*a)}\n",
      "solution when finding transitions for angle 0: {-b/(2*a)}\n",
      "pair used for transition point finding: {x: -b/(2*a)}\n",
      "pair used for transition point finding: {x: -b/(2*a)}\n",
      "func_var: x\n",
      "transitions as set: {Point2D(oo, oo*a + oo*b + c), Point2D(-oo, oo*a - oo*b + c), Point2D(-b/(2*a), c - b**2/(4*a))}\n",
      "transitions: [Point2D(-oo, oo*a - oo*b + c), Point2D(-b/(2*a), c - b**2/(4*a)), Point2D(oo, oo*a + oo*b + c)]\n",
      "func_var_transitions: [-oo, -b/(2*a), oo]\n",
      "var intervals: [(-oo, -b/(2*a)), (-b/(2*a), oo)]\n"
     ]
    },
    {
     "data": {
      "text/latex": [
       "$\\displaystyle \\left(x \\geq - w - \\frac{b}{2 a} \\wedge \\left(- w + y - \\begin{cases} c - \\frac{b^{2}}{4 a} & \\text{for}\\: w - x > \\frac{b}{2 a} \\\\a \\left(- w + x\\right)^{2} + b \\left(- w + x\\right) + c & \\text{for}\\: w - x \\geq -\\infty \\end{cases}\\right) \\left(w + y - \\begin{cases} c - \\frac{b^{2}}{4 a} & \\text{for}\\: w + x < - \\frac{b}{2 a} \\\\a \\left(w + x\\right)^{2} + b \\left(w + x\\right) + c & \\text{for}\\: w + x \\leq \\infty \\end{cases}\\right) \\leq 0\\right) \\vee \\left(x \\geq - w - \\frac{b}{2 a} \\wedge \\left(- w + y - \\begin{cases} c - \\frac{b^{2}}{4 a} & \\text{for}\\: w + x < - \\frac{b}{2 a} \\\\a \\left(w + x\\right)^{2} + b \\left(w + x\\right) + c & \\text{for}\\: w + x \\leq \\infty \\end{cases}\\right) \\left(w + y - \\begin{cases} c - \\frac{b^{2}}{4 a} & \\text{for}\\: w - x > \\frac{b}{2 a} \\\\a \\left(- w + x\\right)^{2} + b \\left(- w + x\\right) + c & \\text{for}\\: w - x \\geq -\\infty \\end{cases}\\right) \\leq 0\\right) \\vee \\left(x \\leq w - \\frac{b}{2 a} \\wedge \\left(- w + y - \\begin{cases} a \\left(- w + x\\right)^{2} + b \\left(- w + x\\right) + c & \\text{for}\\: w - x \\geq \\frac{b}{2 a} \\\\c - \\frac{b^{2}}{4 a} & \\text{otherwise} \\end{cases}\\right) \\left(w + y - \\begin{cases} a \\left(w + x\\right)^{2} + b \\left(w + x\\right) + c & \\text{for}\\: w + x \\leq - \\frac{b}{2 a} \\\\c - \\frac{b^{2}}{4 a} & \\text{otherwise} \\end{cases}\\right) \\leq 0\\right) \\vee \\left(x \\leq w - \\frac{b}{2 a} \\wedge \\left(- w + y - \\begin{cases} a \\left(w + x\\right)^{2} + b \\left(w + x\\right) + c & \\text{for}\\: w + x \\leq - \\frac{b}{2 a} \\\\c - \\frac{b^{2}}{4 a} & \\text{otherwise} \\end{cases}\\right) \\left(w + y - \\begin{cases} a \\left(- w + x\\right)^{2} + b \\left(- w + x\\right) + c & \\text{for}\\: w - x \\geq \\frac{b}{2 a} \\\\c - \\frac{b^{2}}{4 a} & \\text{otherwise} \\end{cases}\\right) \\leq 0\\right) \\vee \\left(- 2 w \\left(- w + x + \\frac{b}{2 a}\\right) \\geq 0 \\wedge 2 w \\left(w + x + \\frac{b}{2 a}\\right) \\geq 0 \\wedge - 2 w \\left(- c - w + y + \\frac{b^{2}}{4 a}\\right) \\geq 0 \\wedge 2 w \\left(- c + w + y + \\frac{b^{2}}{4 a}\\right) \\geq 0\\right) \\vee \\left(- 2 w \\left(- w + x + \\frac{b}{2 a}\\right) \\leq 0 \\wedge 2 w \\left(w + x + \\frac{b}{2 a}\\right) \\leq 0 \\wedge - 2 w \\left(- c - w + y + \\frac{b^{2}}{4 a}\\right) \\leq 0 \\wedge 2 w \\left(- c + w + y + \\frac{b^{2}}{4 a}\\right) \\leq 0\\right)$"
      ],
      "text/plain": [
       "                                                                                                        \n",
       "⎛               ⎛         ⎛⎧                2                            ⎞⎞ ⎛        ⎛⎧               2 \n",
       "⎜               ⎜         ⎜⎪               b                           b ⎟⎟ ⎜        ⎜⎪              b  \n",
       "⎜          b    ⎜         ⎜⎪          c - ───             for w - x > ───⎟⎟ ⎜        ⎜⎪         c - ─── \n",
       "⎜x ≥ -w - ─── ∧ ⎜-w + y - ⎜⎨              4⋅a                         2⋅a⎟⎟⋅⎜w + y - ⎜⎨             4⋅a \n",
       "⎜         2⋅a   ⎜         ⎜⎪                                             ⎟⎟ ⎜        ⎜⎪                 \n",
       "⎜               ⎜         ⎜⎪          2                                  ⎟⎟ ⎜        ⎜⎪         2       \n",
       "⎝               ⎝         ⎝⎩a⋅(-w + x)  + b⋅(-w + x) + c  for w - x ≥ -∞ ⎠⎠ ⎝        ⎝⎩a⋅(w + x)  + b⋅(w\n",
       "                                                                                                        \n",
       "\n",
       "                                                                                                        \n",
       "                          ⎞⎞    ⎞   ⎛               ⎛         ⎛⎧               2                        \n",
       "                       -b ⎟⎟    ⎟   ⎜               ⎜         ⎜⎪              b                         \n",
       "           for w + x < ───⎟⎟    ⎟   ⎜          b    ⎜         ⎜⎪         c - ───            for w + x < \n",
       "                       2⋅a⎟⎟ ≤ 0⎟ ∨ ⎜x ≥ -w - ─── ∧ ⎜-w + y - ⎜⎨             4⋅a                        \n",
       "                          ⎟⎟    ⎟   ⎜         2⋅a   ⎜         ⎜⎪                                        \n",
       "                          ⎟⎟    ⎟   ⎜               ⎜         ⎜⎪         2                              \n",
       " + x) + c   for w + x ≤ ∞ ⎠⎠    ⎠   ⎝               ⎝         ⎝⎩a⋅(w + x)  + b⋅(w + x) + c   for w + x ≤\n",
       "                                                                                                        \n",
       "\n",
       "                                                                        ⎛              ⎛         ⎛⎧     \n",
       "   ⎞⎞ ⎛        ⎛⎧                2                            ⎞⎞    ⎞   ⎜              ⎜         ⎜⎪a⋅(-w\n",
       "-b ⎟⎟ ⎜        ⎜⎪               b                           b ⎟⎟    ⎟   ⎜              ⎜         ⎜⎪     \n",
       "───⎟⎟ ⎜        ⎜⎪          c - ───             for w - x > ───⎟⎟    ⎟   ⎜         b    ⎜         ⎜⎪     \n",
       "2⋅a⎟⎟⋅⎜w + y - ⎜⎨              4⋅a                         2⋅a⎟⎟ ≤ 0⎟ ∨ ⎜x ≤ w - ─── ∧ ⎜-w + y - ⎜⎨     \n",
       "   ⎟⎟ ⎜        ⎜⎪                                             ⎟⎟    ⎟   ⎜        2⋅a   ⎜         ⎜⎪     \n",
       "   ⎟⎟ ⎜        ⎜⎪          2                                  ⎟⎟    ⎟   ⎜              ⎜         ⎜⎪     \n",
       " ∞ ⎠⎠ ⎝        ⎝⎩a⋅(-w + x)  + b⋅(-w + x) + c  for w - x ≥ -∞ ⎠⎠    ⎠   ⎜              ⎜         ⎜⎪     \n",
       "                                                                        ⎝              ⎝         ⎝⎩     \n",
       "\n",
       "     2                                b ⎞⎞ ⎛        ⎛⎧         2                              -b ⎞⎞    ⎞\n",
       " + x)  + b⋅(-w + x) + c  for w - x ≥ ───⎟⎟ ⎜        ⎜⎪a⋅(w + x)  + b⋅(w + x) + c  for w + x ≤ ───⎟⎟    ⎟\n",
       "                                     2⋅a⎟⎟ ⎜        ⎜⎪                                        2⋅a⎟⎟    ⎟\n",
       "                                        ⎟⎟ ⎜        ⎜⎪                                           ⎟⎟    ⎟\n",
       "           2                            ⎟⎟⋅⎜w + y - ⎜⎨               2                           ⎟⎟ ≤ 0⎟\n",
       "          b                             ⎟⎟ ⎜        ⎜⎪              b                            ⎟⎟    ⎟\n",
       "     c - ───                otherwise   ⎟⎟ ⎜        ⎜⎪         c - ───               otherwise   ⎟⎟    ⎟\n",
       "         4⋅a                            ⎟⎟ ⎜        ⎜⎪             4⋅a                           ⎟⎟    ⎟\n",
       "                                        ⎠⎠ ⎝        ⎝⎩                                           ⎠⎠    ⎠\n",
       "\n",
       "   ⎛              ⎛         ⎛⎧         2                              -b ⎞⎞ ⎛        ⎛⎧          2      \n",
       "   ⎜              ⎜         ⎜⎪a⋅(w + x)  + b⋅(w + x) + c  for w + x ≤ ───⎟⎟ ⎜        ⎜⎪a⋅(-w + x)  + b⋅(\n",
       "   ⎜              ⎜         ⎜⎪                                        2⋅a⎟⎟ ⎜        ⎜⎪                 \n",
       "   ⎜         b    ⎜         ⎜⎪                                           ⎟⎟ ⎜        ⎜⎪                 \n",
       " ∨ ⎜x ≤ w - ─── ∧ ⎜-w + y - ⎜⎨               2                           ⎟⎟⋅⎜w + y - ⎜⎨                2\n",
       "   ⎜        2⋅a   ⎜         ⎜⎪              b                            ⎟⎟ ⎜        ⎜⎪               b \n",
       "   ⎜              ⎜         ⎜⎪         c - ───               otherwise   ⎟⎟ ⎜        ⎜⎪          c - ───\n",
       "   ⎜              ⎜         ⎜⎪             4⋅a                           ⎟⎟ ⎜        ⎜⎪              4⋅a\n",
       "   ⎝              ⎝         ⎝⎩                                           ⎠⎠ ⎝        ⎝⎩                 \n",
       "\n",
       "                          b ⎞⎞    ⎞                                                                     \n",
       "-w + x) + c  for w - x ≥ ───⎟⎟    ⎟                                                                     \n",
       "                         2⋅a⎟⎟    ⎟   ⎛                                                       ⎛         \n",
       "                            ⎟⎟    ⎟   ⎜     ⎛          b ⎞           ⎛         b ⎞            ⎜         \n",
       "                            ⎟⎟ ≤ 0⎟ ∨ ⎜-2⋅w⋅⎜-w + x + ───⎟ ≥ 0 ∧ 2⋅w⋅⎜w + x + ───⎟ ≥ 0 ∧ -2⋅w⋅⎜-c - w + \n",
       "                            ⎟⎟    ⎟   ⎝     ⎝         2⋅a⎠           ⎝        2⋅a⎠            ⎝         \n",
       "                otherwise   ⎟⎟    ⎟                                                                     \n",
       "                            ⎟⎟    ⎟                                                                     \n",
       "                            ⎠⎠    ⎠                                                                     \n",
       "\n",
       "                                                                                                        \n",
       "                                                                                                        \n",
       "      2⎞           ⎛               2⎞    ⎞   ⎛                                                       ⎛  \n",
       "     b ⎟           ⎜              b ⎟    ⎟   ⎜     ⎛          b ⎞           ⎛         b ⎞            ⎜  \n",
       "y + ───⎟ ≥ 0 ∧ 2⋅w⋅⎜-c + w + y + ───⎟ ≥ 0⎟ ∨ ⎜-2⋅w⋅⎜-w + x + ───⎟ ≤ 0 ∧ 2⋅w⋅⎜w + x + ───⎟ ≤ 0 ∧ -2⋅w⋅⎜-c\n",
       "    4⋅a⎠           ⎝             4⋅a⎠    ⎠   ⎝     ⎝         2⋅a⎠           ⎝        2⋅a⎠            ⎝  \n",
       "                                                                                                        \n",
       "                                                                                                        \n",
       "                                                                                                        \n",
       "\n",
       "                                                 \n",
       "                                                 \n",
       "             2⎞           ⎛               2⎞    ⎞\n",
       "            b ⎟           ⎜              b ⎟    ⎟\n",
       " - w + y + ───⎟ ≤ 0 ∧ 2⋅w⋅⎜-c + w + y + ───⎟ ≤ 0⎟\n",
       "           4⋅a⎠           ⎝             4⋅a⎠    ⎠\n",
       "                                                 \n",
       "                                                 \n",
       "                                                 "
      ]
     },
     "execution_count": 252,
     "metadata": {},
     "output_type": "execute_result"
    }
   ],
   "source": [
    "cond = compute_unsafe_cond_symbolic(\n",
    "    x,\n",
    "    y,\n",
    "    square_param,\n",
    "    traj,\n",
    "    Reals,\n",
    "    add_notches=True,\n",
    ")\n",
    "cond"
   ]
  },
  {
   "cell_type": "code",
   "execution_count": 253,
   "id": "7cba280e",
   "metadata": {
    "scrolled": true
   },
   "outputs": [
    {
     "name": "stdout",
     "output_type": "stream",
     "text": [
      "Can't plot `cond` since it has too many variables. Please use .subs() to plot an instantation of this condition.\n",
      "Extraneous variables to substitute out are {'w', 'b', 'c', 'a'}.\n"
     ]
    }
   ],
   "source": [
    "plot_condition(x, y, cond, xbounds, ybounds, title=example_name)"
   ]
  },
  {
   "cell_type": "code",
   "execution_count": 254,
   "id": "af35bb04",
   "metadata": {},
   "outputs": [
    {
     "name": "stdout",
     "output_type": "stream",
     "text": [
      "Can't plot `cond` since it has too many variables. Please use .subs() to plot an instantation of this condition.\n",
      "Extraneous variables to substitute out are {'w'}.\n"
     ]
    }
   ],
   "source": [
    "plot_condition(x, y, cond.subs(a, 1/4).subs(b, 1).subs(c, 2), xbounds, ybounds, title=example_name)"
   ]
  },
  {
   "cell_type": "code",
   "execution_count": 255,
   "id": "aec5ec4d",
   "metadata": {
    "scrolled": false
   },
   "outputs": [
    {
     "name": "stdout",
     "output_type": "stream",
     "text": [
      "Can't plot `cond` since it has too many variables. Please use .subs() to plot an instantation of this condition.\n",
      "Extraneous variables to substitute out are {'w'}.\n"
     ]
    }
   ],
   "source": [
    "plot_condition(x, y, cond.subs(a, 1/4).subs(b, 1).subs(c, 2), [-5,0], [0,2], title=example_name, resolution=0.05)"
   ]
  },
  {
   "cell_type": "code",
   "execution_count": null,
   "id": "c7934ab1",
   "metadata": {},
   "outputs": [],
   "source": [
    "cond.subs(a, 1/4).subs(b, 1).subs(c, 2)"
   ]
  },
  {
   "cell_type": "code",
   "execution_count": null,
   "id": "de15f3e3",
   "metadata": {},
   "outputs": [],
   "source": [
    "print(\n",
    "    \"\\nPlotting dot grid visualization of safe and unsafe regions.\", \n",
    "    \"This may take up to 20 seconds to plot.\\nOnce displayed, close plot to continue example...\\n\"\n",
    ")\n",
    "\n",
    "plot_condition(x, y, cond.subs(a, 1/4), xbounds, ybounds, title=example_name)\n",
    "mathematica_output = print_mathematica(\n",
    "    x, y, cond, xbounds, ybounds, traj_piecewise, square\n",
    ")\n",
    "print(\"Mathematica command for plotting:\\n\", mathematica_output)"
   ]
  },
  {
   "cell_type": "code",
   "execution_count": null,
   "id": "cd70460b",
   "metadata": {},
   "outputs": [],
   "source": [
    "traj"
   ]
  },
  {
   "cell_type": "code",
   "execution_count": null,
   "id": "b6954e2b",
   "metadata": {},
   "outputs": [],
   "source": [
    "cond.subs(a, 1)"
   ]
  },
  {
   "cell_type": "code",
   "execution_count": null,
   "id": "59a08f16",
   "metadata": {},
   "outputs": [],
   "source": [
    "square.vertices"
   ]
  },
  {
   "cell_type": "code",
   "execution_count": null,
   "id": "77c6aad6",
   "metadata": {},
   "outputs": [],
   "source": []
  },
  {
   "cell_type": "code",
   "execution_count": null,
   "id": "ff3ef353",
   "metadata": {},
   "outputs": [],
   "source": []
  },
  {
   "cell_type": "markdown",
   "id": "6860605b",
   "metadata": {},
   "source": [
    "## Periodic"
   ]
  },
  {
   "cell_type": "code",
   "execution_count": 10,
   "id": "f9d95d48",
   "metadata": {},
   "outputs": [
    {
     "data": {
      "image/png": "[encoded data removed]",
      "text/latex": [
       "$\\displaystyle a$"
      ],
      "text/plain": [
       "a"
      ]
     },
     "execution_count": 10,
     "metadata": {},
     "output_type": "execute_result"
    }
   ],
   "source": [
    "a"
   ]
  },
  {
   "cell_type": "code",
   "execution_count": 11,
   "id": "566622a5",
   "metadata": {},
   "outputs": [
    {
     "data": {
      "image/png": "[encoded data removed]",
      "text/latex": [
       "$\\displaystyle \\left[ \\frac{\\pi}{2}, \\  \\frac{3 \\pi}{2}\\right]$"
      ],
      "text/plain": [
       "⎡π  3⋅π⎤\n",
       "⎢─, ───⎥\n",
       "⎣2   2 ⎦"
      ]
     },
     "execution_count": 11,
     "metadata": {},
     "output_type": "execute_result"
    }
   ],
   "source": [
    "solve(Eq(diff(a*sin(x), x), 0), x)"
   ]
  },
  {
   "cell_type": "code",
   "execution_count": 12,
   "id": "553cc9c7",
   "metadata": {},
   "outputs": [
    {
     "data": {
      "text/plain": [
       "{'real': True,\n",
       " 'infinite': False,\n",
       " 'finite': True,\n",
       " 'complex': True,\n",
       " 'imaginary': False,\n",
       " 'commutative': True,\n",
       " 'extended_real': True,\n",
       " 'hermitian': True}"
      ]
     },
     "execution_count": 12,
     "metadata": {},
     "output_type": "execute_result"
    }
   ],
   "source": [
    "b.assumptions0"
   ]
  },
  {
   "cell_type": "code",
   "execution_count": 61,
   "id": "ed77c86f",
   "metadata": {},
   "outputs": [],
   "source": [
    "a = Symbol('a', real=True, nonzero=True)\n",
    "b = Symbol('b', real=True, nonzero=True)\n",
    "c = Symbol(\"c\", real=True)"
   ]
  },
  {
   "cell_type": "code",
   "execution_count": 62,
   "id": "706f5205",
   "metadata": {},
   "outputs": [
    {
     "data": {
      "text/latex": [
       "$\\displaystyle \\left\\{\\frac{2 \\pi n - \\frac{\\pi}{2}}{b}\\; \\middle|\\; n \\in \\mathbb{Z}\\right\\} \\cup \\left\\{\\frac{2 \\pi n + \\frac{\\pi}{2}}{b}\\; \\middle|\\; n \\in \\mathbb{Z}\\right\\}$"
      ],
      "text/plain": [
       "⎧        π │      ⎫   ⎧        π │      ⎫\n",
       "⎪2⋅π⋅n - ─ │      ⎪   ⎪2⋅π⋅n + ─ │      ⎪\n",
       "⎨        2 │      ⎬   ⎨        2 │      ⎬\n",
       "⎪───────── │ n ∊ ℤ⎪ ∪ ⎪───────── │ n ∊ ℤ⎪\n",
       "⎩    b     │      ⎭   ⎩    b     │      ⎭"
      ]
     },
     "execution_count": 62,
     "metadata": {},
     "output_type": "execute_result"
    }
   ],
   "source": [
    "_n = Symbol(\"n\")\n",
    "soln = Union(ImageSet(Lambda(_n, (2*_n*pi + pi/2)/b), Integers), ImageSet(Lambda(_n, (2*_n*pi - pi/2)/b), Integers))\n",
    "soln"
   ]
  },
  {
   "cell_type": "code",
   "execution_count": 63,
   "id": "31d3a141",
   "metadata": {},
   "outputs": [
    {
     "data": {
      "text/plain": [
       "False"
      ]
     },
     "execution_count": 63,
     "metadata": {},
     "output_type": "execute_result"
    }
   ],
   "source": [
    "type(soln) is FiniteSet"
   ]
  },
  {
   "cell_type": "code",
   "execution_count": 64,
   "id": "1c242f3e",
   "metadata": {},
   "outputs": [
    {
     "data": {
      "text/plain": [
       "sympy.sets.sets.Union"
      ]
     },
     "execution_count": 64,
     "metadata": {},
     "output_type": "execute_result"
    }
   ],
   "source": [
    "type(soln)"
   ]
  },
  {
   "cell_type": "code",
   "execution_count": 65,
   "id": "7c426002",
   "metadata": {},
   "outputs": [
    {
     "name": "stdout",
     "output_type": "stream",
     "text": [
      "{-7*pi/2, -5*pi/2, -3*pi/2, -pi/2, pi/2, 3*pi/2, 5*pi/2}\n",
      "{-7*pi/2, -5*pi/2, -3*pi/2, -pi/2, pi/2, 3*pi/2, 5*pi/2}\n"
     ]
    },
    {
     "data": {
      "image/png": "[encoded data removed]",
      "text/latex": [
       "$\\displaystyle \\left( \\left\\{ 0 : \\left[ \\operatorname{Point2D}\\left(- \\frac{7 \\pi}{2}, 1\\right), \\  \\operatorname{Point2D}\\left(- \\frac{5 \\pi}{2}, -1\\right), \\  \\operatorname{Point2D}\\left(- \\frac{3 \\pi}{2}, 1\\right), \\  \\operatorname{Point2D}\\left(- \\frac{\\pi}{2}, -1\\right), \\  \\operatorname{Point2D}\\left(\\frac{\\pi}{2}, 1\\right), \\  \\operatorname{Point2D}\\left(\\frac{3 \\pi}{2}, -1\\right), \\  \\operatorname{Point2D}\\left(\\frac{5 \\pi}{2}, 1\\right)\\right], \\  \\pi : \\left[ \\operatorname{Point2D}\\left(- \\frac{7 \\pi}{2}, 1\\right), \\  \\operatorname{Point2D}\\left(- \\frac{5 \\pi}{2}, -1\\right), \\  \\operatorname{Point2D}\\left(- \\frac{3 \\pi}{2}, 1\\right), \\  \\operatorname{Point2D}\\left(- \\frac{\\pi}{2}, -1\\right), \\  \\operatorname{Point2D}\\left(\\frac{\\pi}{2}, 1\\right), \\  \\operatorname{Point2D}\\left(\\frac{3 \\pi}{2}, -1\\right), \\  \\operatorname{Point2D}\\left(\\frac{5 \\pi}{2}, 1\\right)\\right]\\right\\}, \\  \\left\\{\\operatorname{Point2D}\\left(- \\frac{7 \\pi}{2}, 1\\right), \\operatorname{Point2D}\\left(- \\frac{5 \\pi}{2}, -1\\right), \\operatorname{Point2D}\\left(- \\frac{3 \\pi}{2}, 1\\right), \\operatorname{Point2D}\\left(- \\frac{\\pi}{2}, -1\\right), \\operatorname{Point2D}\\left(\\frac{\\pi}{2}, 1\\right), \\operatorname{Point2D}\\left(\\frac{3 \\pi}{2}, -1\\right), \\operatorname{Point2D}\\left(\\frac{5 \\pi}{2}, 1\\right)\\right\\}\\right)$"
      ],
      "text/plain": [
       "({0: [Point2D(-7*pi/2, 1), Point2D(-5*pi/2, -1), Point2D(-3*pi/2, 1), Point2D(-pi/2, -1), Point2D(pi/2, \n",
       "1), Point2D(3*pi/2, -1), Point2D(5*pi/2, 1)], π: [Point2D(-7*pi/2, 1), Point2D(-5*pi/2, -1), Point2D(-3*\n",
       "pi/2, 1), Point2D(-pi/2, -1), Point2D(pi/2, 1), Point2D(3*pi/2, -1), Point2D(5*pi/2, 1)]}, {Point2D(-7*p\n",
       "i/2, 1), Point2D(-5*pi/2, -1), Point2D(-3*pi/2, 1), Point2D(-pi/2, -1), Point2D(pi/2, 1), Point2D(3*pi/2\n",
       ", -1), Point2D(5*pi/2, 1)})"
      ]
     },
     "execution_count": 65,
     "metadata": {},
     "output_type": "execute_result"
    }
   ],
   "source": [
    "traj = sin(x)\n",
    "\n",
    "angles, vertex_pairs = compute_polygon_angles(square)\n",
    "# find_transitions(-y + traj, angles, x, y, domain)  # fails bc Intersection type poorly handled\n",
    "find_transitions(-y + traj, angles, x, y, domain)"
   ]
  },
  {
   "cell_type": "code",
   "execution_count": 66,
   "id": "213274c4",
   "metadata": {},
   "outputs": [],
   "source": [
    "# a = Symbol('a', real=True, nonzero=True)\n",
    "b = Symbol('b', real=True, nonzero=True)\n",
    "a = Symbol('a', real=True)\n",
    "# b = Symbol('b', real=True)\n",
    "c = Symbol(\"c\", real=True)"
   ]
  },
  {
   "cell_type": "code",
   "execution_count": 71,
   "id": "fecd3999",
   "metadata": {},
   "outputs": [
    {
     "name": "stdout",
     "output_type": "stream",
     "text": [
      "Union(ImageSet(Lambda(_n, (2*_n*pi + pi/2)/b), Integers), ImageSet(Lambda(_n, (2*_n*pi - pi/2)/b), Integers))\n",
      "Union(ImageSet(Lambda(_n, (2*_n*pi + pi/2)/b), Integers), ImageSet(Lambda(_n, (2*_n*pi - pi/2)/b), Integers))\n"
     ]
    },
    {
     "ename": "AttributeError",
     "evalue": "'Union' object has no attribute 'as_base_exp'",
     "output_type": "error",
     "traceback": [
      "\u001b[0;31m---------------------------------------------------------------------------\u001b[0m",
      "\u001b[0;31mAttributeError\u001b[0m                            Traceback (most recent call last)",
      "Input \u001b[0;32mIn [71]\u001b[0m, in \u001b[0;36m<cell line: 5>\u001b[0;34m()\u001b[0m\n\u001b[1;32m      3\u001b[0m angles, vertex_pairs \u001b[38;5;241m=\u001b[39m compute_polygon_angles(square)\n\u001b[1;32m      4\u001b[0m \u001b[38;5;66;03m# find_transitions(-y + traj, angles, x, y, domain)  # fails bc Intersection type poorly handled\u001b[39;00m\n\u001b[0;32m----> 5\u001b[0m \u001b[43mfind_transitions\u001b[49m\u001b[43m(\u001b[49m\u001b[38;5;241;43m-\u001b[39;49m\u001b[43my\u001b[49m\u001b[43m \u001b[49m\u001b[38;5;241;43m+\u001b[39;49m\u001b[43m \u001b[49m\u001b[43mtraj\u001b[49m\u001b[43m,\u001b[49m\u001b[43m \u001b[49m\u001b[43mangles\u001b[49m\u001b[43m,\u001b[49m\u001b[43m \u001b[49m\u001b[43mx\u001b[49m\u001b[43m,\u001b[49m\u001b[43m \u001b[49m\u001b[43my\u001b[49m\u001b[43m,\u001b[49m\u001b[43m \u001b[49m\u001b[43mReals\u001b[49m\u001b[43m)\u001b[49m\n",
      "File \u001b[0;32m~/Dropbox (University of Michigan)/research/automatic-safety-proofs/safe_region_utils.py:172\u001b[0m, in \u001b[0;36mfind_transitions\u001b[0;34m(trajectory, angles, x, y, domain)\u001b[0m\n\u001b[1;32m    169\u001b[0m \u001b[38;5;28;01massert\u001b[39;00m \u001b[38;5;28mtype\u001b[39m(pair) \u001b[38;5;241m==\u001b[39m \u001b[38;5;28mdict\u001b[39m, \u001b[38;5;124m\"\u001b[39m\u001b[38;5;124mSolution element was not a dictionary!\u001b[39m\u001b[38;5;124m\"\u001b[39m\n\u001b[1;32m    170\u001b[0m \u001b[38;5;66;03m# pair looks like {x: f(y)} or {y: f(x)}\u001b[39;00m\n\u001b[1;32m    171\u001b[0m \u001b[38;5;66;03m# remove one variable from equation by substituting pair into traj_eqn\u001b[39;00m\n\u001b[0;32m--> 172\u001b[0m traj_eqn_single_var \u001b[38;5;241m=\u001b[39m \u001b[43mtraj_eqn\u001b[49m\u001b[38;5;241;43m.\u001b[39;49m\u001b[43msubs\u001b[49m\u001b[43m(\u001b[49m\u001b[43mpair\u001b[49m\u001b[43m)\u001b[49m\n\u001b[1;32m    174\u001b[0m \u001b[38;5;66;03m# before going further, figure out the variable for\u001b[39;00m\n\u001b[1;32m    175\u001b[0m \u001b[38;5;66;03m# which pair contains a solution\u001b[39;00m\n\u001b[1;32m    176\u001b[0m soln_var \u001b[38;5;241m=\u001b[39m [k \u001b[38;5;28;01mfor\u001b[39;00m k \u001b[38;5;129;01min\u001b[39;00m pair][\u001b[38;5;241m0\u001b[39m]  \u001b[38;5;66;03m# variable is the dict key\u001b[39;00m\n",
      "File \u001b[0;32m~/miniforge3/lib/python3.9/site-packages/sympy/core/basic.py:993\u001b[0m, in \u001b[0;36mBasic.subs\u001b[0;34m(self, *args, **kwargs)\u001b[0m\n\u001b[1;32m    991\u001b[0m rv \u001b[38;5;241m=\u001b[39m \u001b[38;5;28mself\u001b[39m\n\u001b[1;32m    992\u001b[0m \u001b[38;5;28;01mfor\u001b[39;00m old, new \u001b[38;5;129;01min\u001b[39;00m sequence:\n\u001b[0;32m--> 993\u001b[0m     rv \u001b[38;5;241m=\u001b[39m \u001b[43mrv\u001b[49m\u001b[38;5;241;43m.\u001b[39;49m\u001b[43m_subs\u001b[49m\u001b[43m(\u001b[49m\u001b[43mold\u001b[49m\u001b[43m,\u001b[49m\u001b[43m \u001b[49m\u001b[43mnew\u001b[49m\u001b[43m,\u001b[49m\u001b[43m \u001b[49m\u001b[38;5;241;43m*\u001b[39;49m\u001b[38;5;241;43m*\u001b[39;49m\u001b[43mkwargs\u001b[49m\u001b[43m)\u001b[49m\n\u001b[1;32m    994\u001b[0m     \u001b[38;5;28;01mif\u001b[39;00m \u001b[38;5;129;01mnot\u001b[39;00m \u001b[38;5;28misinstance\u001b[39m(rv, Basic):\n\u001b[1;32m    995\u001b[0m         \u001b[38;5;28;01mbreak\u001b[39;00m\n",
      "File \u001b[0;32m~/miniforge3/lib/python3.9/site-packages/sympy/core/cache.py:70\u001b[0m, in \u001b[0;36m__cacheit.<locals>.func_wrapper.<locals>.wrapper\u001b[0;34m(*args, **kwargs)\u001b[0m\n\u001b[1;32m     67\u001b[0m \u001b[38;5;129m@wraps\u001b[39m(func)\n\u001b[1;32m     68\u001b[0m \u001b[38;5;28;01mdef\u001b[39;00m \u001b[38;5;21mwrapper\u001b[39m(\u001b[38;5;241m*\u001b[39margs, \u001b[38;5;241m*\u001b[39m\u001b[38;5;241m*\u001b[39mkwargs):\n\u001b[1;32m     69\u001b[0m     \u001b[38;5;28;01mtry\u001b[39;00m:\n\u001b[0;32m---> 70\u001b[0m         retval \u001b[38;5;241m=\u001b[39m \u001b[43mcfunc\u001b[49m\u001b[43m(\u001b[49m\u001b[38;5;241;43m*\u001b[39;49m\u001b[43margs\u001b[49m\u001b[43m,\u001b[49m\u001b[43m \u001b[49m\u001b[38;5;241;43m*\u001b[39;49m\u001b[38;5;241;43m*\u001b[39;49m\u001b[43mkwargs\u001b[49m\u001b[43m)\u001b[49m\n\u001b[1;32m     71\u001b[0m     \u001b[38;5;28;01mexcept\u001b[39;00m \u001b[38;5;167;01mTypeError\u001b[39;00m \u001b[38;5;28;01mas\u001b[39;00m e:\n\u001b[1;32m     72\u001b[0m         \u001b[38;5;28;01mif\u001b[39;00m \u001b[38;5;129;01mnot\u001b[39;00m e\u001b[38;5;241m.\u001b[39margs \u001b[38;5;129;01mor\u001b[39;00m \u001b[38;5;129;01mnot\u001b[39;00m e\u001b[38;5;241m.\u001b[39margs[\u001b[38;5;241m0\u001b[39m]\u001b[38;5;241m.\u001b[39mstartswith(\u001b[38;5;124m'\u001b[39m\u001b[38;5;124munhashable type:\u001b[39m\u001b[38;5;124m'\u001b[39m):\n",
      "File \u001b[0;32m~/miniforge3/lib/python3.9/site-packages/sympy/core/basic.py:1107\u001b[0m, in \u001b[0;36mBasic._subs\u001b[0;34m(self, old, new, **hints)\u001b[0m\n\u001b[1;32m   1105\u001b[0m rv \u001b[38;5;241m=\u001b[39m \u001b[38;5;28mself\u001b[39m\u001b[38;5;241m.\u001b[39m_eval_subs(old, new)\n\u001b[1;32m   1106\u001b[0m \u001b[38;5;28;01mif\u001b[39;00m rv \u001b[38;5;129;01mis\u001b[39;00m \u001b[38;5;28;01mNone\u001b[39;00m:\n\u001b[0;32m-> 1107\u001b[0m     rv \u001b[38;5;241m=\u001b[39m \u001b[43mfallback\u001b[49m\u001b[43m(\u001b[49m\u001b[38;5;28;43mself\u001b[39;49m\u001b[43m,\u001b[49m\u001b[43m \u001b[49m\u001b[43mold\u001b[49m\u001b[43m,\u001b[49m\u001b[43m \u001b[49m\u001b[43mnew\u001b[49m\u001b[43m)\u001b[49m\n\u001b[1;32m   1108\u001b[0m \u001b[38;5;28;01mreturn\u001b[39;00m rv\n",
      "File \u001b[0;32m~/miniforge3/lib/python3.9/site-packages/sympy/core/basic.py:1079\u001b[0m, in \u001b[0;36mBasic._subs.<locals>.fallback\u001b[0;34m(self, old, new)\u001b[0m\n\u001b[1;32m   1077\u001b[0m \u001b[38;5;28;01mif\u001b[39;00m \u001b[38;5;129;01mnot\u001b[39;00m \u001b[38;5;28mhasattr\u001b[39m(arg, \u001b[38;5;124m'\u001b[39m\u001b[38;5;124m_eval_subs\u001b[39m\u001b[38;5;124m'\u001b[39m):\n\u001b[1;32m   1078\u001b[0m     \u001b[38;5;28;01mcontinue\u001b[39;00m\n\u001b[0;32m-> 1079\u001b[0m arg \u001b[38;5;241m=\u001b[39m \u001b[43marg\u001b[49m\u001b[38;5;241;43m.\u001b[39;49m\u001b[43m_subs\u001b[49m\u001b[43m(\u001b[49m\u001b[43mold\u001b[49m\u001b[43m,\u001b[49m\u001b[43m \u001b[49m\u001b[43mnew\u001b[49m\u001b[43m,\u001b[49m\u001b[43m \u001b[49m\u001b[38;5;241;43m*\u001b[39;49m\u001b[38;5;241;43m*\u001b[39;49m\u001b[43mhints\u001b[49m\u001b[43m)\u001b[49m\n\u001b[1;32m   1080\u001b[0m \u001b[38;5;28;01mif\u001b[39;00m \u001b[38;5;129;01mnot\u001b[39;00m _aresame(arg, args[i]):\n\u001b[1;32m   1081\u001b[0m     hit \u001b[38;5;241m=\u001b[39m \u001b[38;5;28;01mTrue\u001b[39;00m\n",
      "File \u001b[0;32m~/miniforge3/lib/python3.9/site-packages/sympy/core/cache.py:70\u001b[0m, in \u001b[0;36m__cacheit.<locals>.func_wrapper.<locals>.wrapper\u001b[0;34m(*args, **kwargs)\u001b[0m\n\u001b[1;32m     67\u001b[0m \u001b[38;5;129m@wraps\u001b[39m(func)\n\u001b[1;32m     68\u001b[0m \u001b[38;5;28;01mdef\u001b[39;00m \u001b[38;5;21mwrapper\u001b[39m(\u001b[38;5;241m*\u001b[39margs, \u001b[38;5;241m*\u001b[39m\u001b[38;5;241m*\u001b[39mkwargs):\n\u001b[1;32m     69\u001b[0m     \u001b[38;5;28;01mtry\u001b[39;00m:\n\u001b[0;32m---> 70\u001b[0m         retval \u001b[38;5;241m=\u001b[39m \u001b[43mcfunc\u001b[49m\u001b[43m(\u001b[49m\u001b[38;5;241;43m*\u001b[39;49m\u001b[43margs\u001b[49m\u001b[43m,\u001b[49m\u001b[43m \u001b[49m\u001b[38;5;241;43m*\u001b[39;49m\u001b[38;5;241;43m*\u001b[39;49m\u001b[43mkwargs\u001b[49m\u001b[43m)\u001b[49m\n\u001b[1;32m     71\u001b[0m     \u001b[38;5;28;01mexcept\u001b[39;00m \u001b[38;5;167;01mTypeError\u001b[39;00m \u001b[38;5;28;01mas\u001b[39;00m e:\n\u001b[1;32m     72\u001b[0m         \u001b[38;5;28;01mif\u001b[39;00m \u001b[38;5;129;01mnot\u001b[39;00m e\u001b[38;5;241m.\u001b[39margs \u001b[38;5;129;01mor\u001b[39;00m \u001b[38;5;129;01mnot\u001b[39;00m e\u001b[38;5;241m.\u001b[39margs[\u001b[38;5;241m0\u001b[39m]\u001b[38;5;241m.\u001b[39mstartswith(\u001b[38;5;124m'\u001b[39m\u001b[38;5;124munhashable type:\u001b[39m\u001b[38;5;124m'\u001b[39m):\n",
      "File \u001b[0;32m~/miniforge3/lib/python3.9/site-packages/sympy/core/basic.py:1107\u001b[0m, in \u001b[0;36mBasic._subs\u001b[0;34m(self, old, new, **hints)\u001b[0m\n\u001b[1;32m   1105\u001b[0m rv \u001b[38;5;241m=\u001b[39m \u001b[38;5;28mself\u001b[39m\u001b[38;5;241m.\u001b[39m_eval_subs(old, new)\n\u001b[1;32m   1106\u001b[0m \u001b[38;5;28;01mif\u001b[39;00m rv \u001b[38;5;129;01mis\u001b[39;00m \u001b[38;5;28;01mNone\u001b[39;00m:\n\u001b[0;32m-> 1107\u001b[0m     rv \u001b[38;5;241m=\u001b[39m \u001b[43mfallback\u001b[49m\u001b[43m(\u001b[49m\u001b[38;5;28;43mself\u001b[39;49m\u001b[43m,\u001b[49m\u001b[43m \u001b[49m\u001b[43mold\u001b[49m\u001b[43m,\u001b[49m\u001b[43m \u001b[49m\u001b[43mnew\u001b[49m\u001b[43m)\u001b[49m\n\u001b[1;32m   1108\u001b[0m \u001b[38;5;28;01mreturn\u001b[39;00m rv\n",
      "File \u001b[0;32m~/miniforge3/lib/python3.9/site-packages/sympy/core/basic.py:1079\u001b[0m, in \u001b[0;36mBasic._subs.<locals>.fallback\u001b[0;34m(self, old, new)\u001b[0m\n\u001b[1;32m   1077\u001b[0m \u001b[38;5;28;01mif\u001b[39;00m \u001b[38;5;129;01mnot\u001b[39;00m \u001b[38;5;28mhasattr\u001b[39m(arg, \u001b[38;5;124m'\u001b[39m\u001b[38;5;124m_eval_subs\u001b[39m\u001b[38;5;124m'\u001b[39m):\n\u001b[1;32m   1078\u001b[0m     \u001b[38;5;28;01mcontinue\u001b[39;00m\n\u001b[0;32m-> 1079\u001b[0m arg \u001b[38;5;241m=\u001b[39m \u001b[43marg\u001b[49m\u001b[38;5;241;43m.\u001b[39;49m\u001b[43m_subs\u001b[49m\u001b[43m(\u001b[49m\u001b[43mold\u001b[49m\u001b[43m,\u001b[49m\u001b[43m \u001b[49m\u001b[43mnew\u001b[49m\u001b[43m,\u001b[49m\u001b[43m \u001b[49m\u001b[38;5;241;43m*\u001b[39;49m\u001b[38;5;241;43m*\u001b[39;49m\u001b[43mhints\u001b[49m\u001b[43m)\u001b[49m\n\u001b[1;32m   1080\u001b[0m \u001b[38;5;28;01mif\u001b[39;00m \u001b[38;5;129;01mnot\u001b[39;00m _aresame(arg, args[i]):\n\u001b[1;32m   1081\u001b[0m     hit \u001b[38;5;241m=\u001b[39m \u001b[38;5;28;01mTrue\u001b[39;00m\n",
      "    \u001b[0;31m[... skipping similar frames: Basic._subs at line 1107 (2 times), __cacheit.<locals>.func_wrapper.<locals>.wrapper at line 70 (2 times), Basic._subs.<locals>.fallback at line 1079 (1 times)]\u001b[0m\n",
      "File \u001b[0;32m~/miniforge3/lib/python3.9/site-packages/sympy/core/basic.py:1079\u001b[0m, in \u001b[0;36mBasic._subs.<locals>.fallback\u001b[0;34m(self, old, new)\u001b[0m\n\u001b[1;32m   1077\u001b[0m \u001b[38;5;28;01mif\u001b[39;00m \u001b[38;5;129;01mnot\u001b[39;00m \u001b[38;5;28mhasattr\u001b[39m(arg, \u001b[38;5;124m'\u001b[39m\u001b[38;5;124m_eval_subs\u001b[39m\u001b[38;5;124m'\u001b[39m):\n\u001b[1;32m   1078\u001b[0m     \u001b[38;5;28;01mcontinue\u001b[39;00m\n\u001b[0;32m-> 1079\u001b[0m arg \u001b[38;5;241m=\u001b[39m \u001b[43marg\u001b[49m\u001b[38;5;241;43m.\u001b[39;49m\u001b[43m_subs\u001b[49m\u001b[43m(\u001b[49m\u001b[43mold\u001b[49m\u001b[43m,\u001b[49m\u001b[43m \u001b[49m\u001b[43mnew\u001b[49m\u001b[43m,\u001b[49m\u001b[43m \u001b[49m\u001b[38;5;241;43m*\u001b[39;49m\u001b[38;5;241;43m*\u001b[39;49m\u001b[43mhints\u001b[49m\u001b[43m)\u001b[49m\n\u001b[1;32m   1080\u001b[0m \u001b[38;5;28;01mif\u001b[39;00m \u001b[38;5;129;01mnot\u001b[39;00m _aresame(arg, args[i]):\n\u001b[1;32m   1081\u001b[0m     hit \u001b[38;5;241m=\u001b[39m \u001b[38;5;28;01mTrue\u001b[39;00m\n",
      "File \u001b[0;32m~/miniforge3/lib/python3.9/site-packages/sympy/core/cache.py:70\u001b[0m, in \u001b[0;36m__cacheit.<locals>.func_wrapper.<locals>.wrapper\u001b[0;34m(*args, **kwargs)\u001b[0m\n\u001b[1;32m     67\u001b[0m \u001b[38;5;129m@wraps\u001b[39m(func)\n\u001b[1;32m     68\u001b[0m \u001b[38;5;28;01mdef\u001b[39;00m \u001b[38;5;21mwrapper\u001b[39m(\u001b[38;5;241m*\u001b[39margs, \u001b[38;5;241m*\u001b[39m\u001b[38;5;241m*\u001b[39mkwargs):\n\u001b[1;32m     69\u001b[0m     \u001b[38;5;28;01mtry\u001b[39;00m:\n\u001b[0;32m---> 70\u001b[0m         retval \u001b[38;5;241m=\u001b[39m \u001b[43mcfunc\u001b[49m\u001b[43m(\u001b[49m\u001b[38;5;241;43m*\u001b[39;49m\u001b[43margs\u001b[49m\u001b[43m,\u001b[49m\u001b[43m \u001b[49m\u001b[38;5;241;43m*\u001b[39;49m\u001b[38;5;241;43m*\u001b[39;49m\u001b[43mkwargs\u001b[49m\u001b[43m)\u001b[49m\n\u001b[1;32m     71\u001b[0m     \u001b[38;5;28;01mexcept\u001b[39;00m \u001b[38;5;167;01mTypeError\u001b[39;00m \u001b[38;5;28;01mas\u001b[39;00m e:\n\u001b[1;32m     72\u001b[0m         \u001b[38;5;28;01mif\u001b[39;00m \u001b[38;5;129;01mnot\u001b[39;00m e\u001b[38;5;241m.\u001b[39margs \u001b[38;5;129;01mor\u001b[39;00m \u001b[38;5;129;01mnot\u001b[39;00m e\u001b[38;5;241m.\u001b[39margs[\u001b[38;5;241m0\u001b[39m]\u001b[38;5;241m.\u001b[39mstartswith(\u001b[38;5;124m'\u001b[39m\u001b[38;5;124munhashable type:\u001b[39m\u001b[38;5;124m'\u001b[39m):\n",
      "File \u001b[0;32m~/miniforge3/lib/python3.9/site-packages/sympy/core/basic.py:1107\u001b[0m, in \u001b[0;36mBasic._subs\u001b[0;34m(self, old, new, **hints)\u001b[0m\n\u001b[1;32m   1105\u001b[0m rv \u001b[38;5;241m=\u001b[39m \u001b[38;5;28mself\u001b[39m\u001b[38;5;241m.\u001b[39m_eval_subs(old, new)\n\u001b[1;32m   1106\u001b[0m \u001b[38;5;28;01mif\u001b[39;00m rv \u001b[38;5;129;01mis\u001b[39;00m \u001b[38;5;28;01mNone\u001b[39;00m:\n\u001b[0;32m-> 1107\u001b[0m     rv \u001b[38;5;241m=\u001b[39m \u001b[43mfallback\u001b[49m\u001b[43m(\u001b[49m\u001b[38;5;28;43mself\u001b[39;49m\u001b[43m,\u001b[49m\u001b[43m \u001b[49m\u001b[43mold\u001b[49m\u001b[43m,\u001b[49m\u001b[43m \u001b[49m\u001b[43mnew\u001b[49m\u001b[43m)\u001b[49m\n\u001b[1;32m   1108\u001b[0m \u001b[38;5;28;01mreturn\u001b[39;00m rv\n",
      "File \u001b[0;32m~/miniforge3/lib/python3.9/site-packages/sympy/core/basic.py:1084\u001b[0m, in \u001b[0;36mBasic._subs.<locals>.fallback\u001b[0;34m(self, old, new)\u001b[0m\n\u001b[1;32m   1082\u001b[0m         args[i] \u001b[38;5;241m=\u001b[39m arg\n\u001b[1;32m   1083\u001b[0m \u001b[38;5;28;01mif\u001b[39;00m hit:\n\u001b[0;32m-> 1084\u001b[0m     rv \u001b[38;5;241m=\u001b[39m \u001b[38;5;28;43mself\u001b[39;49m\u001b[38;5;241;43m.\u001b[39;49m\u001b[43mfunc\u001b[49m\u001b[43m(\u001b[49m\u001b[38;5;241;43m*\u001b[39;49m\u001b[43margs\u001b[49m\u001b[43m)\u001b[49m\n\u001b[1;32m   1085\u001b[0m     hack2 \u001b[38;5;241m=\u001b[39m hints\u001b[38;5;241m.\u001b[39mget(\u001b[38;5;124m'\u001b[39m\u001b[38;5;124mhack2\u001b[39m\u001b[38;5;124m'\u001b[39m, \u001b[38;5;28;01mFalse\u001b[39;00m)\n\u001b[1;32m   1086\u001b[0m     \u001b[38;5;28;01mif\u001b[39;00m hack2 \u001b[38;5;129;01mand\u001b[39;00m \u001b[38;5;28mself\u001b[39m\u001b[38;5;241m.\u001b[39mis_Mul \u001b[38;5;129;01mand\u001b[39;00m \u001b[38;5;129;01mnot\u001b[39;00m rv\u001b[38;5;241m.\u001b[39mis_Mul:  \u001b[38;5;66;03m# 2-arg hack\u001b[39;00m\n",
      "File \u001b[0;32m~/miniforge3/lib/python3.9/site-packages/sympy/core/cache.py:70\u001b[0m, in \u001b[0;36m__cacheit.<locals>.func_wrapper.<locals>.wrapper\u001b[0;34m(*args, **kwargs)\u001b[0m\n\u001b[1;32m     67\u001b[0m \u001b[38;5;129m@wraps\u001b[39m(func)\n\u001b[1;32m     68\u001b[0m \u001b[38;5;28;01mdef\u001b[39;00m \u001b[38;5;21mwrapper\u001b[39m(\u001b[38;5;241m*\u001b[39margs, \u001b[38;5;241m*\u001b[39m\u001b[38;5;241m*\u001b[39mkwargs):\n\u001b[1;32m     69\u001b[0m     \u001b[38;5;28;01mtry\u001b[39;00m:\n\u001b[0;32m---> 70\u001b[0m         retval \u001b[38;5;241m=\u001b[39m \u001b[43mcfunc\u001b[49m\u001b[43m(\u001b[49m\u001b[38;5;241;43m*\u001b[39;49m\u001b[43margs\u001b[49m\u001b[43m,\u001b[49m\u001b[43m \u001b[49m\u001b[38;5;241;43m*\u001b[39;49m\u001b[38;5;241;43m*\u001b[39;49m\u001b[43mkwargs\u001b[49m\u001b[43m)\u001b[49m\n\u001b[1;32m     71\u001b[0m     \u001b[38;5;28;01mexcept\u001b[39;00m \u001b[38;5;167;01mTypeError\u001b[39;00m \u001b[38;5;28;01mas\u001b[39;00m e:\n\u001b[1;32m     72\u001b[0m         \u001b[38;5;28;01mif\u001b[39;00m \u001b[38;5;129;01mnot\u001b[39;00m e\u001b[38;5;241m.\u001b[39margs \u001b[38;5;129;01mor\u001b[39;00m \u001b[38;5;129;01mnot\u001b[39;00m e\u001b[38;5;241m.\u001b[39margs[\u001b[38;5;241m0\u001b[39m]\u001b[38;5;241m.\u001b[39mstartswith(\u001b[38;5;124m'\u001b[39m\u001b[38;5;124munhashable type:\u001b[39m\u001b[38;5;124m'\u001b[39m):\n",
      "File \u001b[0;32m~/miniforge3/lib/python3.9/site-packages/sympy/core/operations.py:98\u001b[0m, in \u001b[0;36mAssocOp.__new__\u001b[0;34m(cls, evaluate, _sympify, *args)\u001b[0m\n\u001b[1;32m     95\u001b[0m \u001b[38;5;28;01mif\u001b[39;00m \u001b[38;5;28mlen\u001b[39m(args) \u001b[38;5;241m==\u001b[39m \u001b[38;5;241m1\u001b[39m:\n\u001b[1;32m     96\u001b[0m     \u001b[38;5;28;01mreturn\u001b[39;00m args[\u001b[38;5;241m0\u001b[39m]\n\u001b[0;32m---> 98\u001b[0m c_part, nc_part, order_symbols \u001b[38;5;241m=\u001b[39m \u001b[38;5;28;43mcls\u001b[39;49m\u001b[38;5;241;43m.\u001b[39;49m\u001b[43mflatten\u001b[49m\u001b[43m(\u001b[49m\u001b[43margs\u001b[49m\u001b[43m)\u001b[49m\n\u001b[1;32m     99\u001b[0m is_commutative \u001b[38;5;241m=\u001b[39m \u001b[38;5;129;01mnot\u001b[39;00m nc_part\n\u001b[1;32m    100\u001b[0m obj \u001b[38;5;241m=\u001b[39m \u001b[38;5;28mcls\u001b[39m\u001b[38;5;241m.\u001b[39m_from_args(c_part \u001b[38;5;241m+\u001b[39m nc_part, is_commutative)\n",
      "File \u001b[0;32m~/miniforge3/lib/python3.9/site-packages/sympy/core/mul.py:389\u001b[0m, in \u001b[0;36mMul.flatten\u001b[0;34m(cls, seq)\u001b[0m\n\u001b[1;32m    384\u001b[0m     \u001b[38;5;28;01mcontinue\u001b[39;00m\n\u001b[1;32m    386\u001b[0m \u001b[38;5;28;01melif\u001b[39;00m o\u001b[38;5;241m.\u001b[39mis_commutative:\n\u001b[1;32m    387\u001b[0m     \u001b[38;5;66;03m#      e\u001b[39;00m\n\u001b[1;32m    388\u001b[0m     \u001b[38;5;66;03m# o = b\u001b[39;00m\n\u001b[0;32m--> 389\u001b[0m     b, e \u001b[38;5;241m=\u001b[39m \u001b[43mo\u001b[49m\u001b[38;5;241;43m.\u001b[39;49m\u001b[43mas_base_exp\u001b[49m()\n\u001b[1;32m    391\u001b[0m     \u001b[38;5;66;03m#  y\u001b[39;00m\n\u001b[1;32m    392\u001b[0m     \u001b[38;5;66;03m# 3\u001b[39;00m\n\u001b[1;32m    393\u001b[0m     \u001b[38;5;28;01mif\u001b[39;00m o\u001b[38;5;241m.\u001b[39mis_Pow:\n",
      "\u001b[0;31mAttributeError\u001b[0m: 'Union' object has no attribute 'as_base_exp'"
     ]
    }
   ],
   "source": [
    "traj = a*sin(b*x)\n",
    "\n",
    "angles, vertex_pairs = compute_polygon_angles(square)\n",
    "# find_transitions(-y + traj, angles, x, y, domain)  # fails bc Intersection type poorly handled\n",
    "find_transitions(-y + traj, angles, x, y, Reals)"
   ]
  },
  {
   "cell_type": "code",
   "execution_count": 45,
   "id": "74cc9914",
   "metadata": {
    "scrolled": true
   },
   "outputs": [
    {
     "data": {
      "text/latex": [
       "$\\displaystyle \\left\\{\\frac{2 \\pi x - \\frac{\\pi}{2}}{b}\\; \\middle|\\; x \\in \\mathbb{Z}\\right\\} \\cup \\left\\{\\frac{2 \\pi x + \\frac{\\pi}{2}}{b}\\; \\middle|\\; x \\in \\mathbb{Z}\\right\\}$"
      ],
      "text/plain": [
       "⎧        π │      ⎫   ⎧        π │      ⎫\n",
       "⎪2⋅π⋅x - ─ │      ⎪   ⎪2⋅π⋅x + ─ │      ⎪\n",
       "⎨        2 │      ⎬   ⎨        2 │      ⎬\n",
       "⎪───────── │ x ∊ ℤ⎪ ∪ ⎪───────── │ x ∊ ℤ⎪\n",
       "⎩    b     │      ⎭   ⎩    b     │      ⎭"
      ]
     },
     "execution_count": 45,
     "metadata": {},
     "output_type": "execute_result"
    }
   ],
   "source": [
    "ConditionSet(x, Ne(b, 0), Union(ImageSet(Lambda(x, (2*pi*x - pi/2)/b), Complement(Integers, ConditionSet(_n, Eq(b, 0)))), ImageSet(Lambda(x, (2*pi*x + pi/2)/b), Complement(Integers, ConditionSet(_n, Eq(b, 0))))))"
   ]
  },
  {
   "cell_type": "code",
   "execution_count": 37,
   "id": "0b022ba9",
   "metadata": {},
   "outputs": [
    {
     "data": {
      "text/latex": [
       "$\\displaystyle \\left\\{\\frac{2 \\pi n - \\frac{\\pi}{2}}{b}\\; \\middle|\\; n \\in \\mathbb{Z}\\right\\} \\cup \\left\\{\\frac{2 \\pi n + \\frac{\\pi}{2}}{b}\\; \\middle|\\; n \\in \\mathbb{Z}\\right\\}$"
      ],
      "text/plain": [
       "⎧        π │      ⎫   ⎧        π │      ⎫\n",
       "⎪2⋅π⋅n - ─ │      ⎪   ⎪2⋅π⋅n + ─ │      ⎪\n",
       "⎨        2 │      ⎬   ⎨        2 │      ⎬\n",
       "⎪───────── │ n ∊ ℤ⎪ ∪ ⎪───────── │ n ∊ ℤ⎪\n",
       "⎩    b     │      ⎭   ⎩    b     │      ⎭"
      ]
     },
     "execution_count": 37,
     "metadata": {},
     "output_type": "execute_result"
    }
   ],
   "source": [
    "Union(ImageSet(Lambda(_n, (2*_n*pi + pi/2)/b), Integers), ImageSet(Lambda(_n, (2*_n*pi - pi/2)/b), Integers))"
   ]
  },
  {
   "cell_type": "code",
   "execution_count": 77,
   "id": "e52b6e19",
   "metadata": {},
   "outputs": [
    {
     "data": {
      "text/latex": [
       "$\\displaystyle \\left\\{\\frac{2 \\pi n + \\frac{\\pi}{2}}{b}\\; \\middle|\\; n \\in \\mathbb{Z}\\right\\}$"
      ],
      "text/plain": [
       "⎧        π │      ⎫\n",
       "⎪2⋅π⋅n + ─ │      ⎪\n",
       "⎨        2 │      ⎬\n",
       "⎪───────── │ n ∊ ℤ⎪\n",
       "⎩    b     │      ⎭"
      ]
     },
     "execution_count": 77,
     "metadata": {},
     "output_type": "execute_result"
    }
   ],
   "source": [
    "# TODO: split Unions\n",
    "ImageSet(Lambda(_n, (2*_n*pi + pi/2)/b), Integers)"
   ]
  },
  {
   "cell_type": "code",
   "execution_count": 81,
   "id": "48b7d864",
   "metadata": {},
   "outputs": [
    {
     "data": {
      "image/png": "[encoded data removed]",
      "text/latex": [
       "$\\displaystyle \\left( n \\mapsto \\frac{2 \\pi n + \\frac{\\pi}{2}}{b} \\right)$"
      ],
      "text/plain": [
       "            π\n",
       "    2⋅π⋅n + ─\n",
       "            2\n",
       "n ↦ ─────────\n",
       "        b    "
      ]
     },
     "execution_count": 81,
     "metadata": {},
     "output_type": "execute_result"
    }
   ],
   "source": [
    "ImageSet(Lambda(_n, (2*_n*pi + pi/2)/b), Integers).args[0]"
   ]
  },
  {
   "cell_type": "code",
   "execution_count": 108,
   "id": "c7951683",
   "metadata": {},
   "outputs": [
    {
     "data": {
      "image/png": "[encoded data removed]",
      "text/latex": [
       "$\\displaystyle \\left[-12, 9\\right]$"
      ],
      "text/plain": [
       "[-12, 9]"
      ]
     },
     "execution_count": 108,
     "metadata": {},
     "output_type": "execute_result"
    }
   ],
   "source": [
    "domain"
   ]
  },
  {
   "cell_type": "code",
   "execution_count": 109,
   "id": "424740a9",
   "metadata": {},
   "outputs": [
    {
     "ename": "TypeError",
     "evalue": "cannot determine truth value of Relational",
     "output_type": "error",
     "traceback": [
      "\u001b[0;31m---------------------------------------------------------------------------\u001b[0m",
      "\u001b[0;31mTypeError\u001b[0m                                 Traceback (most recent call last)",
      "Input \u001b[0;32mIn [109]\u001b[0m, in \u001b[0;36m<cell line: 1>\u001b[0;34m()\u001b[0m\n\u001b[0;32m----> 1\u001b[0m \u001b[43mfind_transitions\u001b[49m\u001b[43m(\u001b[49m\u001b[38;5;241;43m-\u001b[39;49m\u001b[43my\u001b[49m\u001b[43m \u001b[49m\u001b[38;5;241;43m+\u001b[39;49m\u001b[43m \u001b[49m\u001b[43mtraj\u001b[49m\u001b[43m,\u001b[49m\u001b[43m \u001b[49m\u001b[43mangles\u001b[49m\u001b[43m,\u001b[49m\u001b[43m \u001b[49m\u001b[43mx\u001b[49m\u001b[43m,\u001b[49m\u001b[43m \u001b[49m\u001b[43my\u001b[49m\u001b[43m,\u001b[49m\u001b[43m \u001b[49m\u001b[43mdomain\u001b[49m\u001b[43m)\u001b[49m\n",
      "File \u001b[0;32m~/Dropbox (University of Michigan)/research/automatic-safety-proofs/safe_region_utils.py:129\u001b[0m, in \u001b[0;36mfind_transitions\u001b[0;34m(trajectory, angles, x, y, domain)\u001b[0m\n\u001b[1;32m    124\u001b[0m df_dy, df_dx \u001b[38;5;241m=\u001b[39m slope_sym(trajectory, x, y)\n\u001b[1;32m    125\u001b[0m \u001b[38;5;28;01mfor\u001b[39;00m angle \u001b[38;5;129;01min\u001b[39;00m angles:\n\u001b[1;32m    126\u001b[0m     \u001b[38;5;66;03m# 2 vectors <x1, y1> <x2, y2>\u001b[39;00m\n\u001b[1;32m    127\u001b[0m     \u001b[38;5;66;03m# parallel iff y1*x2 = x1*y2\u001b[39;00m\n\u001b[1;32m    128\u001b[0m     \u001b[38;5;66;03m# use vectors <dfdx, dfdy> <cos(theta), sin(theta)>\u001b[39;00m\n\u001b[0;32m--> 129\u001b[0m     soln \u001b[38;5;241m=\u001b[39m \u001b[43msolveset\u001b[49m\u001b[43m(\u001b[49m\u001b[43mEq\u001b[49m\u001b[43m(\u001b[49m\u001b[43mdf_dx\u001b[49m\u001b[43m \u001b[49m\u001b[38;5;241;43m*\u001b[39;49m\u001b[43m \u001b[49m\u001b[43msin\u001b[49m\u001b[43m(\u001b[49m\u001b[43mangle\u001b[49m\u001b[43m)\u001b[49m\u001b[43m,\u001b[49m\u001b[43m \u001b[49m\u001b[43mdf_dy\u001b[49m\u001b[43m \u001b[49m\u001b[38;5;241;43m*\u001b[39;49m\u001b[43m \u001b[49m\u001b[43mcos\u001b[49m\u001b[43m(\u001b[49m\u001b[43mangle\u001b[49m\u001b[43m)\u001b[49m\u001b[43m)\u001b[49m\u001b[43m,\u001b[49m\u001b[43m \u001b[49m\u001b[43mx\u001b[49m\u001b[43m,\u001b[49m\u001b[43m \u001b[49m\u001b[43mdomain\u001b[49m\u001b[38;5;241;43m=\u001b[39;49m\u001b[43mdomain\u001b[49m\u001b[43m)\u001b[49m\n\u001b[1;32m    131\u001b[0m     \u001b[38;5;28;01mif\u001b[39;00m soln \u001b[38;5;129;01mis\u001b[39;00m S\u001b[38;5;241m.\u001b[39mEmptySet:\n\u001b[1;32m    132\u001b[0m         soln \u001b[38;5;241m=\u001b[39m solveset(\n\u001b[1;32m    133\u001b[0m             Eq(df_dx \u001b[38;5;241m*\u001b[39m sin(angle), df_dy \u001b[38;5;241m*\u001b[39m cos(angle)), y, domain\u001b[38;5;241m=\u001b[39mdomain\n\u001b[1;32m    134\u001b[0m         )\n",
      "File \u001b[0;32m~/miniforge3/lib/python3.9/site-packages/sympy/solvers/solveset.py:2216\u001b[0m, in \u001b[0;36msolveset\u001b[0;34m(f, symbol, domain)\u001b[0m\n\u001b[1;32m   2214\u001b[0m \u001b[38;5;28;01mif\u001b[39;00m symbol \u001b[38;5;129;01mnot\u001b[39;00m \u001b[38;5;129;01min\u001b[39;00m _rc:\n\u001b[1;32m   2215\u001b[0m     x \u001b[38;5;241m=\u001b[39m _rc[\u001b[38;5;241m0\u001b[39m] \u001b[38;5;28;01mif\u001b[39;00m domain\u001b[38;5;241m.\u001b[39mis_subset(S\u001b[38;5;241m.\u001b[39mReals) \u001b[38;5;28;01melse\u001b[39;00m _rc[\u001b[38;5;241m1\u001b[39m]\n\u001b[0;32m-> 2216\u001b[0m     rv \u001b[38;5;241m=\u001b[39m \u001b[43msolveset\u001b[49m\u001b[43m(\u001b[49m\u001b[43mf\u001b[49m\u001b[38;5;241;43m.\u001b[39;49m\u001b[43mxreplace\u001b[49m\u001b[43m(\u001b[49m\u001b[43m{\u001b[49m\u001b[43msymbol\u001b[49m\u001b[43m:\u001b[49m\u001b[43m \u001b[49m\u001b[43mx\u001b[49m\u001b[43m}\u001b[49m\u001b[43m)\u001b[49m\u001b[43m,\u001b[49m\u001b[43m \u001b[49m\u001b[43mx\u001b[49m\u001b[43m,\u001b[49m\u001b[43m \u001b[49m\u001b[43mdomain\u001b[49m\u001b[43m)\u001b[49m\n\u001b[1;32m   2217\u001b[0m     \u001b[38;5;66;03m# try to use the original symbol if possible\u001b[39;00m\n\u001b[1;32m   2218\u001b[0m     \u001b[38;5;28;01mtry\u001b[39;00m:\n",
      "File \u001b[0;32m~/miniforge3/lib/python3.9/site-packages/sympy/solvers/solveset.py:2240\u001b[0m, in \u001b[0;36msolveset\u001b[0;34m(f, symbol, domain)\u001b[0m\n\u001b[1;32m   2237\u001b[0m     f \u001b[38;5;241m=\u001b[39m f\u001b[38;5;241m.\u001b[39mxreplace({d: e})\n\u001b[1;32m   2238\u001b[0m f \u001b[38;5;241m=\u001b[39m piecewise_fold(f)\n\u001b[0;32m-> 2240\u001b[0m \u001b[38;5;28;01mreturn\u001b[39;00m \u001b[43m_solveset\u001b[49m\u001b[43m(\u001b[49m\u001b[43mf\u001b[49m\u001b[43m,\u001b[49m\u001b[43m \u001b[49m\u001b[43msymbol\u001b[49m\u001b[43m,\u001b[49m\u001b[43m \u001b[49m\u001b[43mdomain\u001b[49m\u001b[43m,\u001b[49m\u001b[43m \u001b[49m\u001b[43m_check\u001b[49m\u001b[38;5;241;43m=\u001b[39;49m\u001b[38;5;28;43;01mTrue\u001b[39;49;00m\u001b[43m)\u001b[49m\n",
      "File \u001b[0;32m~/miniforge3/lib/python3.9/site-packages/sympy/solvers/solveset.py:1041\u001b[0m, in \u001b[0;36m_solveset\u001b[0;34m(f, symbol, domain, _check)\u001b[0m\n\u001b[1;32m   1039\u001b[0m         result \u001b[38;5;241m+\u001b[39m\u001b[38;5;241m=\u001b[39m solns\n\u001b[1;32m   1040\u001b[0m \u001b[38;5;28;01melif\u001b[39;00m \u001b[38;5;28misinstance\u001b[39m(f, Eq):\n\u001b[0;32m-> 1041\u001b[0m     result \u001b[38;5;241m=\u001b[39m \u001b[43msolver\u001b[49m\u001b[43m(\u001b[49m\u001b[43mAdd\u001b[49m\u001b[43m(\u001b[49m\u001b[43mf\u001b[49m\u001b[38;5;241;43m.\u001b[39;49m\u001b[43mlhs\u001b[49m\u001b[43m,\u001b[49m\u001b[43m \u001b[49m\u001b[38;5;241;43m-\u001b[39;49m\u001b[43m \u001b[49m\u001b[43mf\u001b[49m\u001b[38;5;241;43m.\u001b[39;49m\u001b[43mrhs\u001b[49m\u001b[43m,\u001b[49m\u001b[43m \u001b[49m\u001b[43mevaluate\u001b[49m\u001b[38;5;241;43m=\u001b[39;49m\u001b[38;5;28;43;01mFalse\u001b[39;49;00m\u001b[43m)\u001b[49m\u001b[43m,\u001b[49m\u001b[43m \u001b[49m\u001b[43msymbol\u001b[49m\u001b[43m,\u001b[49m\u001b[43m \u001b[49m\u001b[43mdomain\u001b[49m\u001b[43m)\u001b[49m\n\u001b[1;32m   1043\u001b[0m \u001b[38;5;28;01melif\u001b[39;00m f\u001b[38;5;241m.\u001b[39mis_Relational:\n\u001b[1;32m   1044\u001b[0m     \u001b[38;5;28;01mfrom\u001b[39;00m \u001b[38;5;21;01m.\u001b[39;00m\u001b[38;5;21;01minequalities\u001b[39;00m \u001b[38;5;28;01mimport\u001b[39;00m solve_univariate_inequality\n",
      "File \u001b[0;32m~/miniforge3/lib/python3.9/site-packages/sympy/solvers/solveset.py:1008\u001b[0m, in \u001b[0;36m_solveset.<locals>.<lambda>\u001b[0;34m(f, x, domain)\u001b[0m\n\u001b[1;32m   1005\u001b[0m         f \u001b[38;5;241m=\u001b[39m a\u001b[38;5;241m/\u001b[39mm \u001b[38;5;241m+\u001b[39m h  \u001b[38;5;66;03m# XXX condition `m != 0` should be added to soln\u001b[39;00m\n\u001b[1;32m   1007\u001b[0m \u001b[38;5;66;03m# assign the solvers to use\u001b[39;00m\n\u001b[0;32m-> 1008\u001b[0m solver \u001b[38;5;241m=\u001b[39m \u001b[38;5;28;01mlambda\u001b[39;00m f, x, domain\u001b[38;5;241m=\u001b[39mdomain: \u001b[43m_solveset\u001b[49m\u001b[43m(\u001b[49m\u001b[43mf\u001b[49m\u001b[43m,\u001b[49m\u001b[43m \u001b[49m\u001b[43mx\u001b[49m\u001b[43m,\u001b[49m\u001b[43m \u001b[49m\u001b[43mdomain\u001b[49m\u001b[43m)\u001b[49m\n\u001b[1;32m   1009\u001b[0m inverter \u001b[38;5;241m=\u001b[39m \u001b[38;5;28;01mlambda\u001b[39;00m f, rhs, symbol: _invert(f, rhs, symbol, domain)\n\u001b[1;32m   1011\u001b[0m result \u001b[38;5;241m=\u001b[39m S\u001b[38;5;241m.\u001b[39mEmptySet\n",
      "File \u001b[0;32m~/miniforge3/lib/python3.9/site-packages/sympy/solvers/solveset.py:1028\u001b[0m, in \u001b[0;36m_solveset\u001b[0;34m(f, symbol, domain, _check)\u001b[0m\n\u001b[1;32m   1025\u001b[0m     result \u001b[38;5;241m=\u001b[39m Union(\u001b[38;5;241m*\u001b[39m[solver(m, symbol) \u001b[38;5;28;01mfor\u001b[39;00m m \u001b[38;5;129;01min\u001b[39;00m f\u001b[38;5;241m.\u001b[39margs])\n\u001b[1;32m   1026\u001b[0m \u001b[38;5;28;01melif\u001b[39;00m _is_function_class_equation(TrigonometricFunction, f, symbol) \u001b[38;5;129;01mor\u001b[39;00m \\\n\u001b[1;32m   1027\u001b[0m         _is_function_class_equation(HyperbolicFunction, f, symbol):\n\u001b[0;32m-> 1028\u001b[0m     result \u001b[38;5;241m=\u001b[39m \u001b[43m_solve_trig\u001b[49m\u001b[43m(\u001b[49m\u001b[43mf\u001b[49m\u001b[43m,\u001b[49m\u001b[43m \u001b[49m\u001b[43msymbol\u001b[49m\u001b[43m,\u001b[49m\u001b[43m \u001b[49m\u001b[43mdomain\u001b[49m\u001b[43m)\u001b[49m\n\u001b[1;32m   1029\u001b[0m \u001b[38;5;28;01melif\u001b[39;00m \u001b[38;5;28misinstance\u001b[39m(f, arg):\n\u001b[1;32m   1030\u001b[0m     a \u001b[38;5;241m=\u001b[39m f\u001b[38;5;241m.\u001b[39margs[\u001b[38;5;241m0\u001b[39m]\n",
      "File \u001b[0;32m~/miniforge3/lib/python3.9/site-packages/sympy/solvers/solveset.py:601\u001b[0m, in \u001b[0;36m_solve_trig\u001b[0;34m(f, symbol, domain)\u001b[0m\n\u001b[1;32m    599\u001b[0m sol \u001b[38;5;241m=\u001b[39m \u001b[38;5;28;01mNone\u001b[39;00m\n\u001b[1;32m    600\u001b[0m \u001b[38;5;28;01mtry\u001b[39;00m:\n\u001b[0;32m--> 601\u001b[0m     sol \u001b[38;5;241m=\u001b[39m \u001b[43m_solve_trig1\u001b[49m\u001b[43m(\u001b[49m\u001b[43mf\u001b[49m\u001b[43m,\u001b[49m\u001b[43m \u001b[49m\u001b[43msymbol\u001b[49m\u001b[43m,\u001b[49m\u001b[43m \u001b[49m\u001b[43mdomain\u001b[49m\u001b[43m)\u001b[49m\n\u001b[1;32m    602\u001b[0m \u001b[38;5;28;01mexcept\u001b[39;00m _SolveTrig1Error:\n\u001b[1;32m    603\u001b[0m     \u001b[38;5;28;01mtry\u001b[39;00m:\n",
      "File \u001b[0;32m~/miniforge3/lib/python3.9/site-packages/sympy/solvers/solveset.py:705\u001b[0m, in \u001b[0;36m_solve_trig1\u001b[0;34m(f, symbol, domain)\u001b[0m\n\u001b[1;32m    703\u001b[0m         \u001b[38;5;28;01mreturn\u001b[39;00m ConditionSet(symbol, cond, result)\n\u001b[1;32m    704\u001b[0m     \u001b[38;5;28;01melse\u001b[39;00m:\n\u001b[0;32m--> 705\u001b[0m         \u001b[38;5;28;01mreturn\u001b[39;00m ConditionSet(symbol, cond, \u001b[43mIntersection\u001b[49m\u001b[43m(\u001b[49m\u001b[43mresult\u001b[49m\u001b[43m,\u001b[49m\u001b[43m \u001b[49m\u001b[43mdomain\u001b[49m\u001b[43m)\u001b[49m)\n\u001b[1;32m    706\u001b[0m \u001b[38;5;28;01melif\u001b[39;00m solns \u001b[38;5;129;01mis\u001b[39;00m S\u001b[38;5;241m.\u001b[39mEmptySet:\n\u001b[1;32m    707\u001b[0m     \u001b[38;5;28;01mreturn\u001b[39;00m S\u001b[38;5;241m.\u001b[39mEmptySet\n",
      "File \u001b[0;32m~/miniforge3/lib/python3.9/site-packages/sympy/sets/sets.py:1373\u001b[0m, in \u001b[0;36mIntersection.__new__\u001b[0;34m(cls, *args, **kwargs)\u001b[0m\n\u001b[1;32m   1371\u001b[0m \u001b[38;5;28;01mif\u001b[39;00m evaluate:\n\u001b[1;32m   1372\u001b[0m     args \u001b[38;5;241m=\u001b[39m \u001b[38;5;28mlist\u001b[39m(\u001b[38;5;28mcls\u001b[39m\u001b[38;5;241m.\u001b[39m_new_args_filter(args))\n\u001b[0;32m-> 1373\u001b[0m     \u001b[38;5;28;01mreturn\u001b[39;00m \u001b[43msimplify_intersection\u001b[49m\u001b[43m(\u001b[49m\u001b[43margs\u001b[49m\u001b[43m)\u001b[49m\n\u001b[1;32m   1375\u001b[0m args \u001b[38;5;241m=\u001b[39m \u001b[38;5;28mlist\u001b[39m(ordered(args, Set\u001b[38;5;241m.\u001b[39m_infimum_key))\n\u001b[1;32m   1377\u001b[0m obj \u001b[38;5;241m=\u001b[39m Basic\u001b[38;5;241m.\u001b[39m\u001b[38;5;21m__new__\u001b[39m(\u001b[38;5;28mcls\u001b[39m, \u001b[38;5;241m*\u001b[39margs)\n",
      "File \u001b[0;32m~/miniforge3/lib/python3.9/site-packages/sympy/sets/sets.py:2452\u001b[0m, in \u001b[0;36msimplify_intersection\u001b[0;34m(args)\u001b[0m\n\u001b[1;32m   2450\u001b[0m \u001b[38;5;28;01mif\u001b[39;00m \u001b[38;5;28mlen\u001b[39m(other_sets) \u001b[38;5;241m>\u001b[39m \u001b[38;5;241m0\u001b[39m:\n\u001b[1;32m   2451\u001b[0m     other \u001b[38;5;241m=\u001b[39m Intersection(\u001b[38;5;241m*\u001b[39mother_sets)\n\u001b[0;32m-> 2452\u001b[0m     \u001b[38;5;28;01mreturn\u001b[39;00m \u001b[43mUnion\u001b[49m\u001b[43m(\u001b[49m\u001b[38;5;241;43m*\u001b[39;49m\u001b[43m(\u001b[49m\u001b[43mIntersection\u001b[49m\u001b[43m(\u001b[49m\u001b[43marg\u001b[49m\u001b[43m,\u001b[49m\u001b[43m \u001b[49m\u001b[43mother\u001b[49m\u001b[43m)\u001b[49m\u001b[43m \u001b[49m\u001b[38;5;28;43;01mfor\u001b[39;49;00m\u001b[43m \u001b[49m\u001b[43marg\u001b[49m\u001b[43m \u001b[49m\u001b[38;5;129;43;01min\u001b[39;49;00m\u001b[43m \u001b[49m\u001b[43ms\u001b[49m\u001b[38;5;241;43m.\u001b[39;49m\u001b[43margs\u001b[49m\u001b[43m)\u001b[49m\u001b[43m)\u001b[49m\n\u001b[1;32m   2453\u001b[0m \u001b[38;5;28;01melse\u001b[39;00m:\n\u001b[1;32m   2454\u001b[0m     \u001b[38;5;28;01mreturn\u001b[39;00m Union(\u001b[38;5;241m*\u001b[39m[arg \u001b[38;5;28;01mfor\u001b[39;00m arg \u001b[38;5;129;01min\u001b[39;00m s\u001b[38;5;241m.\u001b[39margs])\n",
      "File \u001b[0;32m~/miniforge3/lib/python3.9/site-packages/sympy/sets/sets.py:2452\u001b[0m, in \u001b[0;36m<genexpr>\u001b[0;34m(.0)\u001b[0m\n\u001b[1;32m   2450\u001b[0m \u001b[38;5;28;01mif\u001b[39;00m \u001b[38;5;28mlen\u001b[39m(other_sets) \u001b[38;5;241m>\u001b[39m \u001b[38;5;241m0\u001b[39m:\n\u001b[1;32m   2451\u001b[0m     other \u001b[38;5;241m=\u001b[39m Intersection(\u001b[38;5;241m*\u001b[39mother_sets)\n\u001b[0;32m-> 2452\u001b[0m     \u001b[38;5;28;01mreturn\u001b[39;00m Union(\u001b[38;5;241m*\u001b[39m(\u001b[43mIntersection\u001b[49m\u001b[43m(\u001b[49m\u001b[43marg\u001b[49m\u001b[43m,\u001b[49m\u001b[43m \u001b[49m\u001b[43mother\u001b[49m\u001b[43m)\u001b[49m \u001b[38;5;28;01mfor\u001b[39;00m arg \u001b[38;5;129;01min\u001b[39;00m s\u001b[38;5;241m.\u001b[39margs))\n\u001b[1;32m   2453\u001b[0m \u001b[38;5;28;01melse\u001b[39;00m:\n\u001b[1;32m   2454\u001b[0m     \u001b[38;5;28;01mreturn\u001b[39;00m Union(\u001b[38;5;241m*\u001b[39m[arg \u001b[38;5;28;01mfor\u001b[39;00m arg \u001b[38;5;129;01min\u001b[39;00m s\u001b[38;5;241m.\u001b[39margs])\n",
      "File \u001b[0;32m~/miniforge3/lib/python3.9/site-packages/sympy/sets/sets.py:1373\u001b[0m, in \u001b[0;36mIntersection.__new__\u001b[0;34m(cls, *args, **kwargs)\u001b[0m\n\u001b[1;32m   1371\u001b[0m \u001b[38;5;28;01mif\u001b[39;00m evaluate:\n\u001b[1;32m   1372\u001b[0m     args \u001b[38;5;241m=\u001b[39m \u001b[38;5;28mlist\u001b[39m(\u001b[38;5;28mcls\u001b[39m\u001b[38;5;241m.\u001b[39m_new_args_filter(args))\n\u001b[0;32m-> 1373\u001b[0m     \u001b[38;5;28;01mreturn\u001b[39;00m \u001b[43msimplify_intersection\u001b[49m\u001b[43m(\u001b[49m\u001b[43margs\u001b[49m\u001b[43m)\u001b[49m\n\u001b[1;32m   1375\u001b[0m args \u001b[38;5;241m=\u001b[39m \u001b[38;5;28mlist\u001b[39m(ordered(args, Set\u001b[38;5;241m.\u001b[39m_infimum_key))\n\u001b[1;32m   1377\u001b[0m obj \u001b[38;5;241m=\u001b[39m Basic\u001b[38;5;241m.\u001b[39m\u001b[38;5;21m__new__\u001b[39m(\u001b[38;5;28mcls\u001b[39m, \u001b[38;5;241m*\u001b[39margs)\n",
      "File \u001b[0;32m~/miniforge3/lib/python3.9/site-packages/sympy/sets/sets.py:2476\u001b[0m, in \u001b[0;36msimplify_intersection\u001b[0;34m(args)\u001b[0m\n\u001b[1;32m   2474\u001b[0m new_args \u001b[38;5;241m=\u001b[39m \u001b[38;5;28;01mFalse\u001b[39;00m\n\u001b[1;32m   2475\u001b[0m \u001b[38;5;28;01mfor\u001b[39;00m t \u001b[38;5;129;01min\u001b[39;00m args \u001b[38;5;241m-\u001b[39m {s}:\n\u001b[0;32m-> 2476\u001b[0m     new_set \u001b[38;5;241m=\u001b[39m \u001b[43mintersection_sets\u001b[49m\u001b[43m(\u001b[49m\u001b[43ms\u001b[49m\u001b[43m,\u001b[49m\u001b[43m \u001b[49m\u001b[43mt\u001b[49m\u001b[43m)\u001b[49m\n\u001b[1;32m   2477\u001b[0m     \u001b[38;5;66;03m# This returns None if s does not know how to intersect\u001b[39;00m\n\u001b[1;32m   2478\u001b[0m     \u001b[38;5;66;03m# with t. Returns the newly intersected set otherwise\u001b[39;00m\n\u001b[1;32m   2480\u001b[0m     \u001b[38;5;28;01mif\u001b[39;00m new_set \u001b[38;5;129;01mis\u001b[39;00m \u001b[38;5;129;01mnot\u001b[39;00m \u001b[38;5;28;01mNone\u001b[39;00m:\n",
      "File \u001b[0;32m~/miniforge3/lib/python3.9/site-packages/sympy/multipledispatch/dispatcher.py:243\u001b[0m, in \u001b[0;36mDispatcher.__call__\u001b[0;34m(self, *args, **kwargs)\u001b[0m\n\u001b[1;32m    241\u001b[0m     \u001b[38;5;28mself\u001b[39m\u001b[38;5;241m.\u001b[39m_cache[types] \u001b[38;5;241m=\u001b[39m func\n\u001b[1;32m    242\u001b[0m \u001b[38;5;28;01mtry\u001b[39;00m:\n\u001b[0;32m--> 243\u001b[0m     \u001b[38;5;28;01mreturn\u001b[39;00m \u001b[43mfunc\u001b[49m\u001b[43m(\u001b[49m\u001b[38;5;241;43m*\u001b[39;49m\u001b[43margs\u001b[49m\u001b[43m,\u001b[49m\u001b[43m \u001b[49m\u001b[38;5;241;43m*\u001b[39;49m\u001b[38;5;241;43m*\u001b[39;49m\u001b[43mkwargs\u001b[49m\u001b[43m)\u001b[49m\n\u001b[1;32m    245\u001b[0m \u001b[38;5;28;01mexcept\u001b[39;00m MDNotImplementedError:\n\u001b[1;32m    246\u001b[0m     funcs \u001b[38;5;241m=\u001b[39m \u001b[38;5;28mself\u001b[39m\u001b[38;5;241m.\u001b[39mdispatch_iter(\u001b[38;5;241m*\u001b[39mtypes)\n",
      "File \u001b[0;32m~/miniforge3/lib/python3.9/site-packages/sympy/sets/handlers/intersection.py:378\u001b[0m, in \u001b[0;36m_\u001b[0;34m(self, other)\u001b[0m\n\u001b[1;32m    373\u001b[0m range_set \u001b[38;5;241m=\u001b[39m S\u001b[38;5;241m.\u001b[39mEmptySet\n\u001b[1;32m    375\u001b[0m \u001b[38;5;28;01mif\u001b[39;00m \u001b[38;5;28mall\u001b[39m(i\u001b[38;5;241m.\u001b[39mis_real \u001b[38;5;28;01mfor\u001b[39;00m i \u001b[38;5;129;01min\u001b[39;00m (new_sup, new_inf)):\n\u001b[1;32m    376\u001b[0m     \u001b[38;5;66;03m# this assumes continuity of underlying function\u001b[39;00m\n\u001b[1;32m    377\u001b[0m     \u001b[38;5;66;03m# however fixes the case when it is decreasing\u001b[39;00m\n\u001b[0;32m--> 378\u001b[0m     \u001b[38;5;28;01mif\u001b[39;00m new_inf \u001b[38;5;241m>\u001b[39m new_sup:\n\u001b[1;32m    379\u001b[0m         new_inf, new_sup \u001b[38;5;241m=\u001b[39m new_sup, new_inf\n\u001b[1;32m    380\u001b[0m     new_interval \u001b[38;5;241m=\u001b[39m Interval(new_inf, new_sup, new_lopen, new_ropen)\n",
      "File \u001b[0;32m~/miniforge3/lib/python3.9/site-packages/sympy/core/relational.py:511\u001b[0m, in \u001b[0;36mRelational.__bool__\u001b[0;34m(self)\u001b[0m\n\u001b[1;32m    510\u001b[0m \u001b[38;5;28;01mdef\u001b[39;00m \u001b[38;5;21m__bool__\u001b[39m(\u001b[38;5;28mself\u001b[39m):\n\u001b[0;32m--> 511\u001b[0m     \u001b[38;5;28;01mraise\u001b[39;00m \u001b[38;5;167;01mTypeError\u001b[39;00m(\u001b[38;5;124m\"\u001b[39m\u001b[38;5;124mcannot determine truth value of Relational\u001b[39m\u001b[38;5;124m\"\u001b[39m)\n",
      "\u001b[0;31mTypeError\u001b[0m: cannot determine truth value of Relational"
     ]
    }
   ],
   "source": [
    "find_transitions(-y + traj, angles, x, y, domain)  # fails bc Intersection type poorly handled"
   ]
  },
  {
   "cell_type": "code",
   "execution_count": 107,
   "id": "9a29a5fe",
   "metadata": {},
   "outputs": [
    {
     "ename": "TypeError",
     "evalue": "cannot determine truth value of Relational",
     "output_type": "error",
     "traceback": [
      "\u001b[0;31m---------------------------------------------------------------------------\u001b[0m",
      "\u001b[0;31mTypeError\u001b[0m                                 Traceback (most recent call last)",
      "Input \u001b[0;32mIn [107]\u001b[0m, in \u001b[0;36m<cell line: 1>\u001b[0;34m()\u001b[0m\n\u001b[0;32m----> 1\u001b[0m solveres \u001b[38;5;241m=\u001b[39m \u001b[43msolveset\u001b[49m\u001b[43m(\u001b[49m\u001b[43mEq\u001b[49m\u001b[43m(\u001b[49m\u001b[43mdiff\u001b[49m\u001b[43m(\u001b[49m\u001b[43ma\u001b[49m\u001b[38;5;241;43m*\u001b[39;49m\u001b[43msin\u001b[49m\u001b[43m(\u001b[49m\u001b[43mb\u001b[49m\u001b[38;5;241;43m*\u001b[39;49m\u001b[43mx\u001b[49m\u001b[43m)\u001b[49m\u001b[43m,\u001b[49m\u001b[43m \u001b[49m\u001b[43mx\u001b[49m\u001b[43m)\u001b[49m\u001b[43m,\u001b[49m\u001b[43m \u001b[49m\u001b[38;5;241;43m0\u001b[39;49m\u001b[43m)\u001b[49m\u001b[43m,\u001b[49m\u001b[43m \u001b[49m\u001b[43mx\u001b[49m\u001b[43m,\u001b[49m\u001b[43m \u001b[49m\u001b[43mdomain\u001b[49m\u001b[43m)\u001b[49m\n",
      "File \u001b[0;32m~/miniforge3/lib/python3.9/site-packages/sympy/solvers/solveset.py:2216\u001b[0m, in \u001b[0;36msolveset\u001b[0;34m(f, symbol, domain)\u001b[0m\n\u001b[1;32m   2214\u001b[0m \u001b[38;5;28;01mif\u001b[39;00m symbol \u001b[38;5;129;01mnot\u001b[39;00m \u001b[38;5;129;01min\u001b[39;00m _rc:\n\u001b[1;32m   2215\u001b[0m     x \u001b[38;5;241m=\u001b[39m _rc[\u001b[38;5;241m0\u001b[39m] \u001b[38;5;28;01mif\u001b[39;00m domain\u001b[38;5;241m.\u001b[39mis_subset(S\u001b[38;5;241m.\u001b[39mReals) \u001b[38;5;28;01melse\u001b[39;00m _rc[\u001b[38;5;241m1\u001b[39m]\n\u001b[0;32m-> 2216\u001b[0m     rv \u001b[38;5;241m=\u001b[39m \u001b[43msolveset\u001b[49m\u001b[43m(\u001b[49m\u001b[43mf\u001b[49m\u001b[38;5;241;43m.\u001b[39;49m\u001b[43mxreplace\u001b[49m\u001b[43m(\u001b[49m\u001b[43m{\u001b[49m\u001b[43msymbol\u001b[49m\u001b[43m:\u001b[49m\u001b[43m \u001b[49m\u001b[43mx\u001b[49m\u001b[43m}\u001b[49m\u001b[43m)\u001b[49m\u001b[43m,\u001b[49m\u001b[43m \u001b[49m\u001b[43mx\u001b[49m\u001b[43m,\u001b[49m\u001b[43m \u001b[49m\u001b[43mdomain\u001b[49m\u001b[43m)\u001b[49m\n\u001b[1;32m   2217\u001b[0m     \u001b[38;5;66;03m# try to use the original symbol if possible\u001b[39;00m\n\u001b[1;32m   2218\u001b[0m     \u001b[38;5;28;01mtry\u001b[39;00m:\n",
      "File \u001b[0;32m~/miniforge3/lib/python3.9/site-packages/sympy/solvers/solveset.py:2240\u001b[0m, in \u001b[0;36msolveset\u001b[0;34m(f, symbol, domain)\u001b[0m\n\u001b[1;32m   2237\u001b[0m     f \u001b[38;5;241m=\u001b[39m f\u001b[38;5;241m.\u001b[39mxreplace({d: e})\n\u001b[1;32m   2238\u001b[0m f \u001b[38;5;241m=\u001b[39m piecewise_fold(f)\n\u001b[0;32m-> 2240\u001b[0m \u001b[38;5;28;01mreturn\u001b[39;00m \u001b[43m_solveset\u001b[49m\u001b[43m(\u001b[49m\u001b[43mf\u001b[49m\u001b[43m,\u001b[49m\u001b[43m \u001b[49m\u001b[43msymbol\u001b[49m\u001b[43m,\u001b[49m\u001b[43m \u001b[49m\u001b[43mdomain\u001b[49m\u001b[43m,\u001b[49m\u001b[43m \u001b[49m\u001b[43m_check\u001b[49m\u001b[38;5;241;43m=\u001b[39;49m\u001b[38;5;28;43;01mTrue\u001b[39;49;00m\u001b[43m)\u001b[49m\n",
      "File \u001b[0;32m~/miniforge3/lib/python3.9/site-packages/sympy/solvers/solveset.py:1041\u001b[0m, in \u001b[0;36m_solveset\u001b[0;34m(f, symbol, domain, _check)\u001b[0m\n\u001b[1;32m   1039\u001b[0m         result \u001b[38;5;241m+\u001b[39m\u001b[38;5;241m=\u001b[39m solns\n\u001b[1;32m   1040\u001b[0m \u001b[38;5;28;01melif\u001b[39;00m \u001b[38;5;28misinstance\u001b[39m(f, Eq):\n\u001b[0;32m-> 1041\u001b[0m     result \u001b[38;5;241m=\u001b[39m \u001b[43msolver\u001b[49m\u001b[43m(\u001b[49m\u001b[43mAdd\u001b[49m\u001b[43m(\u001b[49m\u001b[43mf\u001b[49m\u001b[38;5;241;43m.\u001b[39;49m\u001b[43mlhs\u001b[49m\u001b[43m,\u001b[49m\u001b[43m \u001b[49m\u001b[38;5;241;43m-\u001b[39;49m\u001b[43m \u001b[49m\u001b[43mf\u001b[49m\u001b[38;5;241;43m.\u001b[39;49m\u001b[43mrhs\u001b[49m\u001b[43m,\u001b[49m\u001b[43m \u001b[49m\u001b[43mevaluate\u001b[49m\u001b[38;5;241;43m=\u001b[39;49m\u001b[38;5;28;43;01mFalse\u001b[39;49;00m\u001b[43m)\u001b[49m\u001b[43m,\u001b[49m\u001b[43m \u001b[49m\u001b[43msymbol\u001b[49m\u001b[43m,\u001b[49m\u001b[43m \u001b[49m\u001b[43mdomain\u001b[49m\u001b[43m)\u001b[49m\n\u001b[1;32m   1043\u001b[0m \u001b[38;5;28;01melif\u001b[39;00m f\u001b[38;5;241m.\u001b[39mis_Relational:\n\u001b[1;32m   1044\u001b[0m     \u001b[38;5;28;01mfrom\u001b[39;00m \u001b[38;5;21;01m.\u001b[39;00m\u001b[38;5;21;01minequalities\u001b[39;00m \u001b[38;5;28;01mimport\u001b[39;00m solve_univariate_inequality\n",
      "File \u001b[0;32m~/miniforge3/lib/python3.9/site-packages/sympy/solvers/solveset.py:1008\u001b[0m, in \u001b[0;36m_solveset.<locals>.<lambda>\u001b[0;34m(f, x, domain)\u001b[0m\n\u001b[1;32m   1005\u001b[0m         f \u001b[38;5;241m=\u001b[39m a\u001b[38;5;241m/\u001b[39mm \u001b[38;5;241m+\u001b[39m h  \u001b[38;5;66;03m# XXX condition `m != 0` should be added to soln\u001b[39;00m\n\u001b[1;32m   1007\u001b[0m \u001b[38;5;66;03m# assign the solvers to use\u001b[39;00m\n\u001b[0;32m-> 1008\u001b[0m solver \u001b[38;5;241m=\u001b[39m \u001b[38;5;28;01mlambda\u001b[39;00m f, x, domain\u001b[38;5;241m=\u001b[39mdomain: \u001b[43m_solveset\u001b[49m\u001b[43m(\u001b[49m\u001b[43mf\u001b[49m\u001b[43m,\u001b[49m\u001b[43m \u001b[49m\u001b[43mx\u001b[49m\u001b[43m,\u001b[49m\u001b[43m \u001b[49m\u001b[43mdomain\u001b[49m\u001b[43m)\u001b[49m\n\u001b[1;32m   1009\u001b[0m inverter \u001b[38;5;241m=\u001b[39m \u001b[38;5;28;01mlambda\u001b[39;00m f, rhs, symbol: _invert(f, rhs, symbol, domain)\n\u001b[1;32m   1011\u001b[0m result \u001b[38;5;241m=\u001b[39m S\u001b[38;5;241m.\u001b[39mEmptySet\n",
      "File \u001b[0;32m~/miniforge3/lib/python3.9/site-packages/sympy/solvers/solveset.py:1028\u001b[0m, in \u001b[0;36m_solveset\u001b[0;34m(f, symbol, domain, _check)\u001b[0m\n\u001b[1;32m   1025\u001b[0m     result \u001b[38;5;241m=\u001b[39m Union(\u001b[38;5;241m*\u001b[39m[solver(m, symbol) \u001b[38;5;28;01mfor\u001b[39;00m m \u001b[38;5;129;01min\u001b[39;00m f\u001b[38;5;241m.\u001b[39margs])\n\u001b[1;32m   1026\u001b[0m \u001b[38;5;28;01melif\u001b[39;00m _is_function_class_equation(TrigonometricFunction, f, symbol) \u001b[38;5;129;01mor\u001b[39;00m \\\n\u001b[1;32m   1027\u001b[0m         _is_function_class_equation(HyperbolicFunction, f, symbol):\n\u001b[0;32m-> 1028\u001b[0m     result \u001b[38;5;241m=\u001b[39m \u001b[43m_solve_trig\u001b[49m\u001b[43m(\u001b[49m\u001b[43mf\u001b[49m\u001b[43m,\u001b[49m\u001b[43m \u001b[49m\u001b[43msymbol\u001b[49m\u001b[43m,\u001b[49m\u001b[43m \u001b[49m\u001b[43mdomain\u001b[49m\u001b[43m)\u001b[49m\n\u001b[1;32m   1029\u001b[0m \u001b[38;5;28;01melif\u001b[39;00m \u001b[38;5;28misinstance\u001b[39m(f, arg):\n\u001b[1;32m   1030\u001b[0m     a \u001b[38;5;241m=\u001b[39m f\u001b[38;5;241m.\u001b[39margs[\u001b[38;5;241m0\u001b[39m]\n",
      "File \u001b[0;32m~/miniforge3/lib/python3.9/site-packages/sympy/solvers/solveset.py:601\u001b[0m, in \u001b[0;36m_solve_trig\u001b[0;34m(f, symbol, domain)\u001b[0m\n\u001b[1;32m    599\u001b[0m sol \u001b[38;5;241m=\u001b[39m \u001b[38;5;28;01mNone\u001b[39;00m\n\u001b[1;32m    600\u001b[0m \u001b[38;5;28;01mtry\u001b[39;00m:\n\u001b[0;32m--> 601\u001b[0m     sol \u001b[38;5;241m=\u001b[39m \u001b[43m_solve_trig1\u001b[49m\u001b[43m(\u001b[49m\u001b[43mf\u001b[49m\u001b[43m,\u001b[49m\u001b[43m \u001b[49m\u001b[43msymbol\u001b[49m\u001b[43m,\u001b[49m\u001b[43m \u001b[49m\u001b[43mdomain\u001b[49m\u001b[43m)\u001b[49m\n\u001b[1;32m    602\u001b[0m \u001b[38;5;28;01mexcept\u001b[39;00m _SolveTrig1Error:\n\u001b[1;32m    603\u001b[0m     \u001b[38;5;28;01mtry\u001b[39;00m:\n",
      "File \u001b[0;32m~/miniforge3/lib/python3.9/site-packages/sympy/solvers/solveset.py:705\u001b[0m, in \u001b[0;36m_solve_trig1\u001b[0;34m(f, symbol, domain)\u001b[0m\n\u001b[1;32m    703\u001b[0m         \u001b[38;5;28;01mreturn\u001b[39;00m ConditionSet(symbol, cond, result)\n\u001b[1;32m    704\u001b[0m     \u001b[38;5;28;01melse\u001b[39;00m:\n\u001b[0;32m--> 705\u001b[0m         \u001b[38;5;28;01mreturn\u001b[39;00m ConditionSet(symbol, cond, \u001b[43mIntersection\u001b[49m\u001b[43m(\u001b[49m\u001b[43mresult\u001b[49m\u001b[43m,\u001b[49m\u001b[43m \u001b[49m\u001b[43mdomain\u001b[49m\u001b[43m)\u001b[49m)\n\u001b[1;32m    706\u001b[0m \u001b[38;5;28;01melif\u001b[39;00m solns \u001b[38;5;129;01mis\u001b[39;00m S\u001b[38;5;241m.\u001b[39mEmptySet:\n\u001b[1;32m    707\u001b[0m     \u001b[38;5;28;01mreturn\u001b[39;00m S\u001b[38;5;241m.\u001b[39mEmptySet\n",
      "File \u001b[0;32m~/miniforge3/lib/python3.9/site-packages/sympy/sets/sets.py:1373\u001b[0m, in \u001b[0;36mIntersection.__new__\u001b[0;34m(cls, *args, **kwargs)\u001b[0m\n\u001b[1;32m   1371\u001b[0m \u001b[38;5;28;01mif\u001b[39;00m evaluate:\n\u001b[1;32m   1372\u001b[0m     args \u001b[38;5;241m=\u001b[39m \u001b[38;5;28mlist\u001b[39m(\u001b[38;5;28mcls\u001b[39m\u001b[38;5;241m.\u001b[39m_new_args_filter(args))\n\u001b[0;32m-> 1373\u001b[0m     \u001b[38;5;28;01mreturn\u001b[39;00m \u001b[43msimplify_intersection\u001b[49m\u001b[43m(\u001b[49m\u001b[43margs\u001b[49m\u001b[43m)\u001b[49m\n\u001b[1;32m   1375\u001b[0m args \u001b[38;5;241m=\u001b[39m \u001b[38;5;28mlist\u001b[39m(ordered(args, Set\u001b[38;5;241m.\u001b[39m_infimum_key))\n\u001b[1;32m   1377\u001b[0m obj \u001b[38;5;241m=\u001b[39m Basic\u001b[38;5;241m.\u001b[39m\u001b[38;5;21m__new__\u001b[39m(\u001b[38;5;28mcls\u001b[39m, \u001b[38;5;241m*\u001b[39margs)\n",
      "File \u001b[0;32m~/miniforge3/lib/python3.9/site-packages/sympy/sets/sets.py:2452\u001b[0m, in \u001b[0;36msimplify_intersection\u001b[0;34m(args)\u001b[0m\n\u001b[1;32m   2450\u001b[0m \u001b[38;5;28;01mif\u001b[39;00m \u001b[38;5;28mlen\u001b[39m(other_sets) \u001b[38;5;241m>\u001b[39m \u001b[38;5;241m0\u001b[39m:\n\u001b[1;32m   2451\u001b[0m     other \u001b[38;5;241m=\u001b[39m Intersection(\u001b[38;5;241m*\u001b[39mother_sets)\n\u001b[0;32m-> 2452\u001b[0m     \u001b[38;5;28;01mreturn\u001b[39;00m \u001b[43mUnion\u001b[49m\u001b[43m(\u001b[49m\u001b[38;5;241;43m*\u001b[39;49m\u001b[43m(\u001b[49m\u001b[43mIntersection\u001b[49m\u001b[43m(\u001b[49m\u001b[43marg\u001b[49m\u001b[43m,\u001b[49m\u001b[43m \u001b[49m\u001b[43mother\u001b[49m\u001b[43m)\u001b[49m\u001b[43m \u001b[49m\u001b[38;5;28;43;01mfor\u001b[39;49;00m\u001b[43m \u001b[49m\u001b[43marg\u001b[49m\u001b[43m \u001b[49m\u001b[38;5;129;43;01min\u001b[39;49;00m\u001b[43m \u001b[49m\u001b[43ms\u001b[49m\u001b[38;5;241;43m.\u001b[39;49m\u001b[43margs\u001b[49m\u001b[43m)\u001b[49m\u001b[43m)\u001b[49m\n\u001b[1;32m   2453\u001b[0m \u001b[38;5;28;01melse\u001b[39;00m:\n\u001b[1;32m   2454\u001b[0m     \u001b[38;5;28;01mreturn\u001b[39;00m Union(\u001b[38;5;241m*\u001b[39m[arg \u001b[38;5;28;01mfor\u001b[39;00m arg \u001b[38;5;129;01min\u001b[39;00m s\u001b[38;5;241m.\u001b[39margs])\n",
      "File \u001b[0;32m~/miniforge3/lib/python3.9/site-packages/sympy/sets/sets.py:2452\u001b[0m, in \u001b[0;36m<genexpr>\u001b[0;34m(.0)\u001b[0m\n\u001b[1;32m   2450\u001b[0m \u001b[38;5;28;01mif\u001b[39;00m \u001b[38;5;28mlen\u001b[39m(other_sets) \u001b[38;5;241m>\u001b[39m \u001b[38;5;241m0\u001b[39m:\n\u001b[1;32m   2451\u001b[0m     other \u001b[38;5;241m=\u001b[39m Intersection(\u001b[38;5;241m*\u001b[39mother_sets)\n\u001b[0;32m-> 2452\u001b[0m     \u001b[38;5;28;01mreturn\u001b[39;00m Union(\u001b[38;5;241m*\u001b[39m(\u001b[43mIntersection\u001b[49m\u001b[43m(\u001b[49m\u001b[43marg\u001b[49m\u001b[43m,\u001b[49m\u001b[43m \u001b[49m\u001b[43mother\u001b[49m\u001b[43m)\u001b[49m \u001b[38;5;28;01mfor\u001b[39;00m arg \u001b[38;5;129;01min\u001b[39;00m s\u001b[38;5;241m.\u001b[39margs))\n\u001b[1;32m   2453\u001b[0m \u001b[38;5;28;01melse\u001b[39;00m:\n\u001b[1;32m   2454\u001b[0m     \u001b[38;5;28;01mreturn\u001b[39;00m Union(\u001b[38;5;241m*\u001b[39m[arg \u001b[38;5;28;01mfor\u001b[39;00m arg \u001b[38;5;129;01min\u001b[39;00m s\u001b[38;5;241m.\u001b[39margs])\n",
      "File \u001b[0;32m~/miniforge3/lib/python3.9/site-packages/sympy/sets/sets.py:1373\u001b[0m, in \u001b[0;36mIntersection.__new__\u001b[0;34m(cls, *args, **kwargs)\u001b[0m\n\u001b[1;32m   1371\u001b[0m \u001b[38;5;28;01mif\u001b[39;00m evaluate:\n\u001b[1;32m   1372\u001b[0m     args \u001b[38;5;241m=\u001b[39m \u001b[38;5;28mlist\u001b[39m(\u001b[38;5;28mcls\u001b[39m\u001b[38;5;241m.\u001b[39m_new_args_filter(args))\n\u001b[0;32m-> 1373\u001b[0m     \u001b[38;5;28;01mreturn\u001b[39;00m \u001b[43msimplify_intersection\u001b[49m\u001b[43m(\u001b[49m\u001b[43margs\u001b[49m\u001b[43m)\u001b[49m\n\u001b[1;32m   1375\u001b[0m args \u001b[38;5;241m=\u001b[39m \u001b[38;5;28mlist\u001b[39m(ordered(args, Set\u001b[38;5;241m.\u001b[39m_infimum_key))\n\u001b[1;32m   1377\u001b[0m obj \u001b[38;5;241m=\u001b[39m Basic\u001b[38;5;241m.\u001b[39m\u001b[38;5;21m__new__\u001b[39m(\u001b[38;5;28mcls\u001b[39m, \u001b[38;5;241m*\u001b[39margs)\n",
      "File \u001b[0;32m~/miniforge3/lib/python3.9/site-packages/sympy/sets/sets.py:2476\u001b[0m, in \u001b[0;36msimplify_intersection\u001b[0;34m(args)\u001b[0m\n\u001b[1;32m   2474\u001b[0m new_args \u001b[38;5;241m=\u001b[39m \u001b[38;5;28;01mFalse\u001b[39;00m\n\u001b[1;32m   2475\u001b[0m \u001b[38;5;28;01mfor\u001b[39;00m t \u001b[38;5;129;01min\u001b[39;00m args \u001b[38;5;241m-\u001b[39m {s}:\n\u001b[0;32m-> 2476\u001b[0m     new_set \u001b[38;5;241m=\u001b[39m \u001b[43mintersection_sets\u001b[49m\u001b[43m(\u001b[49m\u001b[43ms\u001b[49m\u001b[43m,\u001b[49m\u001b[43m \u001b[49m\u001b[43mt\u001b[49m\u001b[43m)\u001b[49m\n\u001b[1;32m   2477\u001b[0m     \u001b[38;5;66;03m# This returns None if s does not know how to intersect\u001b[39;00m\n\u001b[1;32m   2478\u001b[0m     \u001b[38;5;66;03m# with t. Returns the newly intersected set otherwise\u001b[39;00m\n\u001b[1;32m   2480\u001b[0m     \u001b[38;5;28;01mif\u001b[39;00m new_set \u001b[38;5;129;01mis\u001b[39;00m \u001b[38;5;129;01mnot\u001b[39;00m \u001b[38;5;28;01mNone\u001b[39;00m:\n",
      "File \u001b[0;32m~/miniforge3/lib/python3.9/site-packages/sympy/multipledispatch/dispatcher.py:243\u001b[0m, in \u001b[0;36mDispatcher.__call__\u001b[0;34m(self, *args, **kwargs)\u001b[0m\n\u001b[1;32m    241\u001b[0m     \u001b[38;5;28mself\u001b[39m\u001b[38;5;241m.\u001b[39m_cache[types] \u001b[38;5;241m=\u001b[39m func\n\u001b[1;32m    242\u001b[0m \u001b[38;5;28;01mtry\u001b[39;00m:\n\u001b[0;32m--> 243\u001b[0m     \u001b[38;5;28;01mreturn\u001b[39;00m \u001b[43mfunc\u001b[49m\u001b[43m(\u001b[49m\u001b[38;5;241;43m*\u001b[39;49m\u001b[43margs\u001b[49m\u001b[43m,\u001b[49m\u001b[43m \u001b[49m\u001b[38;5;241;43m*\u001b[39;49m\u001b[38;5;241;43m*\u001b[39;49m\u001b[43mkwargs\u001b[49m\u001b[43m)\u001b[49m\n\u001b[1;32m    245\u001b[0m \u001b[38;5;28;01mexcept\u001b[39;00m MDNotImplementedError:\n\u001b[1;32m    246\u001b[0m     funcs \u001b[38;5;241m=\u001b[39m \u001b[38;5;28mself\u001b[39m\u001b[38;5;241m.\u001b[39mdispatch_iter(\u001b[38;5;241m*\u001b[39mtypes)\n",
      "File \u001b[0;32m~/miniforge3/lib/python3.9/site-packages/sympy/sets/handlers/intersection.py:378\u001b[0m, in \u001b[0;36m_\u001b[0;34m(self, other)\u001b[0m\n\u001b[1;32m    373\u001b[0m range_set \u001b[38;5;241m=\u001b[39m S\u001b[38;5;241m.\u001b[39mEmptySet\n\u001b[1;32m    375\u001b[0m \u001b[38;5;28;01mif\u001b[39;00m \u001b[38;5;28mall\u001b[39m(i\u001b[38;5;241m.\u001b[39mis_real \u001b[38;5;28;01mfor\u001b[39;00m i \u001b[38;5;129;01min\u001b[39;00m (new_sup, new_inf)):\n\u001b[1;32m    376\u001b[0m     \u001b[38;5;66;03m# this assumes continuity of underlying function\u001b[39;00m\n\u001b[1;32m    377\u001b[0m     \u001b[38;5;66;03m# however fixes the case when it is decreasing\u001b[39;00m\n\u001b[0;32m--> 378\u001b[0m     \u001b[38;5;28;01mif\u001b[39;00m new_inf \u001b[38;5;241m>\u001b[39m new_sup:\n\u001b[1;32m    379\u001b[0m         new_inf, new_sup \u001b[38;5;241m=\u001b[39m new_sup, new_inf\n\u001b[1;32m    380\u001b[0m     new_interval \u001b[38;5;241m=\u001b[39m Interval(new_inf, new_sup, new_lopen, new_ropen)\n",
      "File \u001b[0;32m~/miniforge3/lib/python3.9/site-packages/sympy/core/relational.py:511\u001b[0m, in \u001b[0;36mRelational.__bool__\u001b[0;34m(self)\u001b[0m\n\u001b[1;32m    510\u001b[0m \u001b[38;5;28;01mdef\u001b[39;00m \u001b[38;5;21m__bool__\u001b[39m(\u001b[38;5;28mself\u001b[39m):\n\u001b[0;32m--> 511\u001b[0m     \u001b[38;5;28;01mraise\u001b[39;00m \u001b[38;5;167;01mTypeError\u001b[39;00m(\u001b[38;5;124m\"\u001b[39m\u001b[38;5;124mcannot determine truth value of Relational\u001b[39m\u001b[38;5;124m\"\u001b[39m)\n",
      "\u001b[0;31mTypeError\u001b[0m: cannot determine truth value of Relational"
     ]
    }
   ],
   "source": [
    "solveres = solveset(Eq(diff(a*sin(b*x), x), 0), x, domain)"
   ]
  },
  {
   "cell_type": "code",
   "execution_count": 85,
   "id": "ba7dd20b",
   "metadata": {
    "scrolled": true
   },
   "outputs": [
    {
     "data": {
      "text/latex": [
       "$\\displaystyle \\left\\{\\frac{2 n \\pi + \\frac{\\pi}{2}}{b}\\; \\middle|\\; n \\in \\mathbb{Z}\\right\\} \\cup \\left\\{\\frac{2 n \\pi - \\frac{\\pi}{2}}{b}\\; \\middle|\\; n \\in \\mathbb{Z}\\right\\}$"
      ],
      "text/plain": [
       "⎧        π │      ⎫   ⎧        π │      ⎫\n",
       "⎪2⋅n⋅π + ─ │      ⎪   ⎪2⋅n⋅π - ─ │      ⎪\n",
       "⎨        2 │      ⎬   ⎨        2 │      ⎬\n",
       "⎪───────── │ n ∊ ℤ⎪ ∪ ⎪───────── │ n ∊ ℤ⎪\n",
       "⎩    b     │      ⎭   ⎩    b     │      ⎭"
      ]
     },
     "execution_count": 85,
     "metadata": {},
     "output_type": "execute_result"
    }
   ],
   "source": [
    "solveres = solveset(Eq(diff(a*sin(b*x), x), 0), x, Reals)\n",
    "solveres"
   ]
  },
  {
   "cell_type": "code",
   "execution_count": 113,
   "id": "64a5ef39",
   "metadata": {},
   "outputs": [
    {
     "data": {
      "image/png": "[encoded data removed]",
      "text/latex": [
       "$\\displaystyle \\left\\{- \\frac{15 \\pi}{4}, - \\frac{13 \\pi}{4}, - \\frac{11 \\pi}{4}, - \\frac{9 \\pi}{4}, - \\frac{7 \\pi}{4}, - \\frac{5 \\pi}{4}, - \\frac{3 \\pi}{4}, - \\frac{\\pi}{4}, \\frac{\\pi}{4}, \\frac{3 \\pi}{4}, \\frac{5 \\pi}{4}, \\frac{7 \\pi}{4}, \\frac{9 \\pi}{4}, \\frac{11 \\pi}{4}\\right\\}$"
      ],
      "text/plain": [
       "⎧-15⋅π   -13⋅π   -11⋅π   -9⋅π   -7⋅π   -5⋅π   -3⋅π   -π   π  3⋅π  5⋅π  7⋅π  9⋅π  11⋅π⎫\n",
       "⎨──────, ──────, ──────, ─────, ─────, ─────, ─────, ───, ─, ───, ───, ───, ───, ────⎬\n",
       "⎩  4       4       4       4      4      4      4     4   4   4    4    4    4    4  ⎭"
      ]
     },
     "execution_count": 113,
     "metadata": {},
     "output_type": "execute_result"
    }
   ],
   "source": [
    "# potentially useful and clean way of real-ify-ing this at the end\n",
    "solveres.subs(b, 2).intersect(domain)"
   ]
  },
  {
   "cell_type": "code",
   "execution_count": 87,
   "id": "1e50a485",
   "metadata": {},
   "outputs": [
    {
     "data": {
      "text/latex": [
       "$\\displaystyle \\left( \\left\\{\\frac{2 n \\pi + \\frac{\\pi}{2}}{b}\\; \\middle|\\; n \\in \\mathbb{Z}\\right\\}, \\  \\left\\{\\frac{2 n \\pi - \\frac{\\pi}{2}}{b}\\; \\middle|\\; n \\in \\mathbb{Z}\\right\\}\\right)$"
      ],
      "text/plain": [
       "⎛⎧        π │      ⎫  ⎧        π │      ⎫⎞\n",
       "⎜⎪2⋅n⋅π + ─ │      ⎪  ⎪2⋅n⋅π - ─ │      ⎪⎟\n",
       "⎜⎨        2 │      ⎬  ⎨        2 │      ⎬⎟\n",
       "⎜⎪───────── │ n ∊ ℤ⎪, ⎪───────── │ n ∊ ℤ⎪⎟\n",
       "⎝⎩    b     │      ⎭  ⎩    b     │      ⎭⎠"
      ]
     },
     "execution_count": 87,
     "metadata": {},
     "output_type": "execute_result"
    }
   ],
   "source": [
    "solveres.args"
   ]
  },
  {
   "cell_type": "code",
   "execution_count": 106,
   "id": "96a3ba5d",
   "metadata": {},
   "outputs": [
    {
     "name": "stdout",
     "output_type": "stream",
     "text": [
      "<class 'sympy.core.function.Lambda'>\n"
     ]
    },
    {
     "data": {
      "image/png": "[encoded data removed]",
      "text/latex": [
       "$\\displaystyle \\left( \\left( n \\mapsto \\frac{2 n \\pi + \\frac{\\pi}{2}}{b} \\right), \\  \\mathbb{Z}\\right)$"
      ],
      "text/plain": [
       "⎛            π   ⎞\n",
       "⎜    2⋅n⋅π + ─   ⎟\n",
       "⎜            2   ⎟\n",
       "⎜n ↦ ─────────, ℤ⎟\n",
       "⎝        b       ⎠"
      ]
     },
     "execution_count": 106,
     "metadata": {},
     "output_type": "execute_result"
    }
   ],
   "source": [
    "print(type(solveres.args[0].args[0]))\n",
    "solveres.args[0].args"
   ]
  },
  {
   "cell_type": "code",
   "execution_count": 104,
   "id": "fc4f661e",
   "metadata": {},
   "outputs": [
    {
     "data": {
      "image/png": "[encoded data removed]",
      "text/latex": [
       "$\\displaystyle \\left( \\left( n,\\right), \\  \\frac{2 n \\pi + \\frac{\\pi}{2}}{b}\\right)$"
      ],
      "text/plain": [
       "⎛              π⎞\n",
       "⎜      2⋅n⋅π + ─⎟\n",
       "⎜              2⎟\n",
       "⎜(n,), ─────────⎟\n",
       "⎝          b    ⎠"
      ]
     },
     "execution_count": 104,
     "metadata": {},
     "output_type": "execute_result"
    }
   ],
   "source": [
    "# split union\n",
    "# then extract the lambda \n",
    "solveres.args[0].args[0].args"
   ]
  },
  {
   "cell_type": "code",
   "execution_count": 105,
   "id": "2266ec76",
   "metadata": {},
   "outputs": [
    {
     "data": {
      "image/png": "[encoded data removed]",
      "text/latex": [
       "$\\displaystyle \\frac{2 n \\pi + \\frac{\\pi}{2}}{b}$"
      ],
      "text/plain": [
       "        π\n",
       "2⋅n⋅π + ─\n",
       "        2\n",
       "─────────\n",
       "    b    "
      ]
     },
     "execution_count": 105,
     "metadata": {},
     "output_type": "execute_result"
    }
   ],
   "source": [
    "# then split the lambda into lhs and rhs\n",
    "solveres.args[0].args[0].args[1]"
   ]
  },
  {
   "cell_type": "code",
   "execution_count": null,
   "id": "1a944086",
   "metadata": {},
   "outputs": [],
   "source": []
  },
  {
   "cell_type": "markdown",
   "id": "34e7b7a7",
   "metadata": {},
   "source": [
    "## Piecewise"
   ]
  },
  {
   "cell_type": "code",
   "execution_count": 380,
   "id": "19259549",
   "metadata": {},
   "outputs": [
    {
     "data": {
      "image/png": "[encoded data removed]",
      "text/plain": [
       "<Figure size 432x288 with 1 Axes>"
      ]
     },
     "metadata": {
      "needs_background": "light"
     },
     "output_type": "display_data"
    },
    {
     "data": {
      "text/latex": [
       "$\\displaystyle \\begin{cases} c x^{2} & \\text{for}\\: b > x \\\\b^{2} c + 2 b c \\left(- b + x\\right) & \\text{otherwise} \\end{cases}$"
      ],
      "text/plain": [
       "⎧           2                    \n",
       "⎪        c⋅x            for b > x\n",
       "⎨                                \n",
       "⎪ 2                              \n",
       "⎩b ⋅c + 2⋅b⋅c⋅(-b + x)  otherwise"
      ]
     },
     "execution_count": 380,
     "metadata": {},
     "output_type": "execute_result"
    }
   ],
   "source": [
    "c = Symbol(\"c\", real=True, nonzero=True) # curvature\n",
    "b = Symbol('b', real=True, positive=True) # boundary\n",
    "# b = Symbol('b', real=True) # boundary\n",
    "\n",
    "traj_piecewise = Piecewise(\n",
    "                    (c*x**2, x < b),\n",
    "                    (2*b*c*(x-b) + b**2*c, x >= b),\n",
    "                )\n",
    "plot(traj_piecewise.subs(c, 0.5).subs(b, 2))\n",
    "traj_piecewise"
   ]
  },
  {
   "cell_type": "code",
   "execution_count": 257,
   "id": "bbeb9e43",
   "metadata": {},
   "outputs": [],
   "source": [
    "# NOTE: for b strictly positive, it's a lucky coincidence \n",
    "# TODO: how to specify b > 1 somehow as an assumption? "
   ]
  },
  {
   "cell_type": "code",
   "execution_count": 258,
   "id": "ba3dfd7f",
   "metadata": {},
   "outputs": [
    {
     "data": {
      "image/png": "[encoded data removed]",
      "text/latex": [
       "$\\displaystyle \\left\\{0\\right\\}$"
      ],
      "text/plain": [
       "{0}"
      ]
     },
     "execution_count": 258,
     "metadata": {},
     "output_type": "execute_result"
    }
   ],
   "source": [
    "solveset(Eq(0, -2*c*x), x, Reals)"
   ]
  },
  {
   "cell_type": "code",
   "execution_count": 259,
   "id": "c7c53a57",
   "metadata": {},
   "outputs": [
    {
     "ename": "NotImplementedError",
     "evalue": "\nmultivariate conditions are not handled.",
     "output_type": "error",
     "traceback": [
      "\u001b[0;31m---------------------------------------------------------------------------\u001b[0m",
      "\u001b[0;31mNotImplementedError\u001b[0m                       Traceback (most recent call last)",
      "Input \u001b[0;32mIn [259]\u001b[0m, in \u001b[0;36m<cell line: 2>\u001b[0;34m()\u001b[0m\n\u001b[1;32m      1\u001b[0m \u001b[38;5;66;03m# TODO: why doesn't this work?\u001b[39;00m\n\u001b[0;32m----> 2\u001b[0m \u001b[43msolveset\u001b[49m\u001b[43m(\u001b[49m\u001b[43mEq\u001b[49m\u001b[43m(\u001b[49m\u001b[43mdiff\u001b[49m\u001b[43m(\u001b[49m\u001b[43mtraj_piecewise\u001b[49m\u001b[43m,\u001b[49m\u001b[43m \u001b[49m\u001b[43mx\u001b[49m\u001b[43m)\u001b[49m\u001b[43m,\u001b[49m\u001b[38;5;241;43m0\u001b[39;49m\u001b[43m)\u001b[49m\u001b[43m,\u001b[49m\u001b[43m \u001b[49m\u001b[43mx\u001b[49m\u001b[43m,\u001b[49m\u001b[43m \u001b[49m\u001b[43mReals\u001b[49m\u001b[43m)\u001b[49m\n",
      "File \u001b[0;32m~/miniforge3/lib/python3.9/site-packages/sympy/solvers/solveset.py:2216\u001b[0m, in \u001b[0;36msolveset\u001b[0;34m(f, symbol, domain)\u001b[0m\n\u001b[1;32m   2214\u001b[0m \u001b[38;5;28;01mif\u001b[39;00m symbol \u001b[38;5;129;01mnot\u001b[39;00m \u001b[38;5;129;01min\u001b[39;00m _rc:\n\u001b[1;32m   2215\u001b[0m     x \u001b[38;5;241m=\u001b[39m _rc[\u001b[38;5;241m0\u001b[39m] \u001b[38;5;28;01mif\u001b[39;00m domain\u001b[38;5;241m.\u001b[39mis_subset(S\u001b[38;5;241m.\u001b[39mReals) \u001b[38;5;28;01melse\u001b[39;00m _rc[\u001b[38;5;241m1\u001b[39m]\n\u001b[0;32m-> 2216\u001b[0m     rv \u001b[38;5;241m=\u001b[39m \u001b[43msolveset\u001b[49m\u001b[43m(\u001b[49m\u001b[43mf\u001b[49m\u001b[38;5;241;43m.\u001b[39;49m\u001b[43mxreplace\u001b[49m\u001b[43m(\u001b[49m\u001b[43m{\u001b[49m\u001b[43msymbol\u001b[49m\u001b[43m:\u001b[49m\u001b[43m \u001b[49m\u001b[43mx\u001b[49m\u001b[43m}\u001b[49m\u001b[43m)\u001b[49m\u001b[43m,\u001b[49m\u001b[43m \u001b[49m\u001b[43mx\u001b[49m\u001b[43m,\u001b[49m\u001b[43m \u001b[49m\u001b[43mdomain\u001b[49m\u001b[43m)\u001b[49m\n\u001b[1;32m   2217\u001b[0m     \u001b[38;5;66;03m# try to use the original symbol if possible\u001b[39;00m\n\u001b[1;32m   2218\u001b[0m     \u001b[38;5;28;01mtry\u001b[39;00m:\n",
      "File \u001b[0;32m~/miniforge3/lib/python3.9/site-packages/sympy/solvers/solveset.py:2240\u001b[0m, in \u001b[0;36msolveset\u001b[0;34m(f, symbol, domain)\u001b[0m\n\u001b[1;32m   2237\u001b[0m     f \u001b[38;5;241m=\u001b[39m f\u001b[38;5;241m.\u001b[39mxreplace({d: e})\n\u001b[1;32m   2238\u001b[0m f \u001b[38;5;241m=\u001b[39m piecewise_fold(f)\n\u001b[0;32m-> 2240\u001b[0m \u001b[38;5;28;01mreturn\u001b[39;00m \u001b[43m_solveset\u001b[49m\u001b[43m(\u001b[49m\u001b[43mf\u001b[49m\u001b[43m,\u001b[49m\u001b[43m \u001b[49m\u001b[43msymbol\u001b[49m\u001b[43m,\u001b[49m\u001b[43m \u001b[49m\u001b[43mdomain\u001b[49m\u001b[43m,\u001b[49m\u001b[43m \u001b[49m\u001b[43m_check\u001b[49m\u001b[38;5;241;43m=\u001b[39;49m\u001b[38;5;28;43;01mTrue\u001b[39;49;00m\u001b[43m)\u001b[49m\n",
      "File \u001b[0;32m~/miniforge3/lib/python3.9/site-packages/sympy/solvers/solveset.py:1034\u001b[0m, in \u001b[0;36m_solveset\u001b[0;34m(f, symbol, domain, _check)\u001b[0m\n\u001b[1;32m   1031\u001b[0m     result \u001b[38;5;241m=\u001b[39m Intersection(_solveset(re(a) \u001b[38;5;241m>\u001b[39m \u001b[38;5;241m0\u001b[39m, symbol, domain),\n\u001b[1;32m   1032\u001b[0m                           _solveset(im(a), symbol, domain))\n\u001b[1;32m   1033\u001b[0m \u001b[38;5;28;01melif\u001b[39;00m f\u001b[38;5;241m.\u001b[39mis_Piecewise:\n\u001b[0;32m-> 1034\u001b[0m     expr_set_pairs \u001b[38;5;241m=\u001b[39m \u001b[43mf\u001b[49m\u001b[38;5;241;43m.\u001b[39;49m\u001b[43mas_expr_set_pairs\u001b[49m\u001b[43m(\u001b[49m\u001b[43mdomain\u001b[49m\u001b[43m)\u001b[49m\n\u001b[1;32m   1035\u001b[0m     \u001b[38;5;28;01mfor\u001b[39;00m (expr, in_set) \u001b[38;5;129;01min\u001b[39;00m expr_set_pairs:\n\u001b[1;32m   1036\u001b[0m         \u001b[38;5;28;01mif\u001b[39;00m in_set\u001b[38;5;241m.\u001b[39mis_Relational:\n",
      "File \u001b[0;32m~/miniforge3/lib/python3.9/site-packages/sympy/functions/elementary/piecewise.py:943\u001b[0m, in \u001b[0;36mPiecewise.as_expr_set_pairs\u001b[0;34m(self, domain)\u001b[0m\n\u001b[1;32m    941\u001b[0m cond_free \u001b[38;5;241m|\u001b[39m\u001b[38;5;241m=\u001b[39m cond\u001b[38;5;241m.\u001b[39mfree_symbols\n\u001b[1;32m    942\u001b[0m \u001b[38;5;28;01mif\u001b[39;00m \u001b[38;5;28mlen\u001b[39m(cond_free) \u001b[38;5;241m>\u001b[39m \u001b[38;5;241m1\u001b[39m:\n\u001b[0;32m--> 943\u001b[0m     \u001b[38;5;28;01mraise\u001b[39;00m \u001b[38;5;167;01mNotImplementedError\u001b[39;00m(filldedent(\u001b[38;5;124m'''\u001b[39m\n\u001b[1;32m    944\u001b[0m \u001b[38;5;124m        multivariate conditions are not handled.\u001b[39m\u001b[38;5;124m'''\u001b[39m))\n\u001b[1;32m    945\u001b[0m \u001b[38;5;28;01mif\u001b[39;00m \u001b[38;5;28mcomplex\u001b[39m:\n\u001b[1;32m    946\u001b[0m     \u001b[38;5;28;01mfor\u001b[39;00m i \u001b[38;5;129;01min\u001b[39;00m cond\u001b[38;5;241m.\u001b[39matoms(Relational):\n",
      "\u001b[0;31mNotImplementedError\u001b[0m: \nmultivariate conditions are not handled."
     ]
    }
   ],
   "source": [
    "# TODO: why doesn't this work?\n",
    "solveset(Eq(diff(traj_piecewise, x),0), x, Reals)"
   ]
  },
  {
   "cell_type": "code",
   "execution_count": 219,
   "id": "83c59e28",
   "metadata": {},
   "outputs": [
    {
     "name": "stdout",
     "output_type": "stream",
     "text": [
      "c*x**2\n"
     ]
    }
   ],
   "source": [
    "transition_x = 0\n",
    "for piece in traj_piecewise.args:\n",
    "    func, cond = piece\n",
    "    if cond.subs(x, transition_x):\n",
    "        print(func)\n",
    "        break"
   ]
  },
  {
   "cell_type": "code",
   "execution_count": 205,
   "id": "9fbe4792",
   "metadata": {},
   "outputs": [
    {
     "data": {
      "text/latex": [
       "$\\displaystyle \\left( \\left( c x^{2}, \\  b > x\\right), \\  \\left( b^{2} c + 2 b c \\left(- b + x\\right), \\  \\text{True}\\right)\\right)$"
      ],
      "text/plain": [
       "⎛⎛   2       ⎞  ⎛ 2                         ⎞⎞\n",
       "⎝⎝c⋅x , b > x⎠, ⎝b ⋅c + 2⋅b⋅c⋅(-b + x), True⎠⎠"
      ]
     },
     "execution_count": 205,
     "metadata": {},
     "output_type": "execute_result"
    }
   ],
   "source": [
    "traj_piecewise.args"
   ]
  },
  {
   "cell_type": "code",
   "execution_count": 208,
   "id": "d16236f3",
   "metadata": {},
   "outputs": [
    {
     "data": {
      "text/latex": [
       "$\\displaystyle \\text{True}$"
      ],
      "text/plain": [
       "True"
      ]
     },
     "execution_count": 208,
     "metadata": {},
     "output_type": "execute_result"
    }
   ],
   "source": [
    "(b > x).subs(x, 0)"
   ]
  },
  {
   "cell_type": "code",
   "execution_count": 207,
   "id": "86deaab4",
   "metadata": {},
   "outputs": [
    {
     "data": {
      "text/latex": [
       "$\\displaystyle \\text{True}$"
      ],
      "text/plain": [
       "True"
      ]
     },
     "execution_count": 207,
     "metadata": {},
     "output_type": "execute_result"
    }
   ],
   "source": [
    "b > 0"
   ]
  },
  {
   "cell_type": "code",
   "execution_count": 212,
   "id": "b39d9e2a",
   "metadata": {},
   "outputs": [
    {
     "name": "stdout",
     "output_type": "stream",
     "text": [
      "[0]\n",
      "c*x**2\n"
     ]
    }
   ],
   "source": [
    "transition_x = 0\n",
    "for piece in traj_piecewise.args:\n",
    "    func, cond = piece\n",
    "    soln = solve(Eq(diff(func, x), 0), x)\n",
    "    if soln:\n",
    "        print(soln)\n",
    "        if cond.subs(x, soln[0]):\n",
    "            print(func)"
   ]
  },
  {
   "cell_type": "code",
   "execution_count": 229,
   "id": "e443af01",
   "metadata": {},
   "outputs": [
    {
     "data": {
      "image/png": "[encoded data removed]",
      "text/latex": [
       "$\\displaystyle \\left[ \\left(-\\infty, b\\right], \\  \\left[b, \\infty\\right)\\right]$"
      ],
      "text/plain": [
       "[(-∞, b], [b, ∞)]"
      ]
     },
     "execution_count": 229,
     "metadata": {},
     "output_type": "execute_result"
    }
   ],
   "source": [
    "piecewise_intervals = [Interval(-oo, b), Interval(b, oo)]\n",
    "piecewise_intervals"
   ]
  },
  {
   "cell_type": "code",
   "execution_count": 162,
   "id": "a76b4ea3",
   "metadata": {},
   "outputs": [
    {
     "data": {
      "text/latex": [
       "$\\displaystyle \\left[ \\left( \\left( c x^{2}, \\  b > x\\right), \\  \\left(-\\infty, b\\right]\\right), \\  \\left( \\left( b^{2} c + 2 b c \\left(- b + x\\right), \\  \\text{True}\\right), \\  \\left[b, \\infty\\right)\\right)\\right]$"
      ],
      "text/plain": [
       "⎡⎛⎛   2       ⎞         ⎞  ⎛⎛ 2                         ⎞        ⎞⎤\n",
       "⎣⎝⎝c⋅x , b > x⎠, (-∞, b]⎠, ⎝⎝b ⋅c + 2⋅b⋅c⋅(-b + x), True⎠, [b, ∞)⎠⎦"
      ]
     },
     "execution_count": 162,
     "metadata": {},
     "output_type": "execute_result"
    }
   ],
   "source": [
    "list(zip(traj_piecewise.args, piecewise_intervals))"
   ]
  },
  {
   "cell_type": "code",
   "execution_count": 290,
   "id": "68b2836d",
   "metadata": {},
   "outputs": [
    {
     "data": {
      "text/plain": [
       "False"
      ]
     },
     "execution_count": 290,
     "metadata": {},
     "output_type": "execute_result"
    }
   ],
   "source": [
    "(-oo).is_imaginary"
   ]
  },
  {
   "cell_type": "code",
   "execution_count": 294,
   "id": "f56009a0",
   "metadata": {},
   "outputs": [
    {
     "data": {
      "text/plain": [
       "False"
      ]
     },
     "execution_count": 294,
     "metadata": {},
     "output_type": "execute_result"
    }
   ],
   "source": [
    "(oo*c).is_imaginary"
   ]
  },
  {
   "cell_type": "code",
   "execution_count": 412,
   "id": "ae027afc",
   "metadata": {},
   "outputs": [
    {
     "data": {
      "image/png": "[encoded data removed]",
      "text/plain": [
       "<Figure size 432x288 with 1 Axes>"
      ]
     },
     "metadata": {
      "needs_background": "light"
     },
     "output_type": "display_data"
    },
    {
     "data": {
      "text/plain": [
       "<sympy.plotting.plot.Plot at 0x169e5bbb0>"
      ]
     },
     "execution_count": 412,
     "metadata": {},
     "output_type": "execute_result"
    }
   ],
   "source": [
    "plot(traj_piecewise.subs(c, 0.5).subs(b, 2))"
   ]
  },
  {
   "cell_type": "code",
   "execution_count": 421,
   "id": "e9d80d3d",
   "metadata": {},
   "outputs": [
    {
     "data": {
      "text/latex": [
       "$\\displaystyle \\left(x \\geq b - \\frac{1}{2} \\wedge \\left(y - \\begin{cases} b^{2} c & \\text{for}\\: b > x - \\frac{1}{2} \\\\b^{2} c + 2 b c \\left(- b + x - \\frac{1}{2}\\right) & \\text{for}\\: x \\leq \\infty \\end{cases} - \\frac{1}{2}\\right) \\left(y - \\begin{cases} b^{2} c & \\text{for}\\: b > x + \\frac{1}{2} \\\\b^{2} c + 2 b c \\left(- b + x + \\frac{1}{2}\\right) & \\text{for}\\: x \\leq \\infty \\end{cases} + \\frac{1}{2}\\right) \\leq 0\\right) \\vee \\left(x \\geq b - \\frac{1}{2} \\wedge \\left(y - \\begin{cases} b^{2} c & \\text{for}\\: b > x - \\frac{1}{2} \\\\b^{2} c + 2 b c \\left(- b + x - \\frac{1}{2}\\right) & \\text{for}\\: x \\leq \\infty \\end{cases} + \\frac{1}{2}\\right) \\left(y - \\begin{cases} b^{2} c & \\text{for}\\: b > x + \\frac{1}{2} \\\\b^{2} c + 2 b c \\left(- b + x + \\frac{1}{2}\\right) & \\text{for}\\: x \\leq \\infty \\end{cases} - \\frac{1}{2}\\right) \\leq 0\\right) \\vee \\left(x \\leq \\frac{1}{2} \\wedge \\left(y - \\begin{cases} c \\left(x - \\frac{1}{2}\\right)^{2} & \\text{for}\\: x \\leq \\frac{1}{2} \\\\0 & \\text{otherwise} \\end{cases} - \\frac{1}{2}\\right) \\left(y - \\begin{cases} c \\left(x + \\frac{1}{2}\\right)^{2} & \\text{for}\\: x \\leq - \\frac{1}{2} \\\\0 & \\text{otherwise} \\end{cases} + \\frac{1}{2}\\right) \\leq 0\\right) \\vee \\left(x \\leq \\frac{1}{2} \\wedge \\left(y - \\begin{cases} c \\left(x - \\frac{1}{2}\\right)^{2} & \\text{for}\\: x \\leq \\frac{1}{2} \\\\0 & \\text{otherwise} \\end{cases} + \\frac{1}{2}\\right) \\left(y - \\begin{cases} c \\left(x + \\frac{1}{2}\\right)^{2} & \\text{for}\\: x \\leq - \\frac{1}{2} \\\\0 & \\text{otherwise} \\end{cases} - \\frac{1}{2}\\right) \\leq 0\\right) \\vee \\left(x \\geq - \\frac{1}{2} \\wedge x \\leq b + \\frac{1}{2} \\wedge \\left(- \\frac{x}{2} + \\frac{y}{2}\\right) \\left(\\frac{b \\left(- b c + 1\\right)}{2} - \\frac{x}{2} + \\frac{y}{2}\\right) \\leq 0 \\wedge \\left(y - \\begin{cases} 0 & \\text{for}\\: x < - \\frac{1}{2} \\\\c \\left(x + \\frac{1}{2}\\right)^{2} & \\text{for}\\: b \\geq x + \\frac{1}{2} \\\\b^{2} c & \\text{otherwise} \\end{cases} + \\frac{1}{2}\\right) \\left(y - \\begin{cases} 0 & \\text{for}\\: x < \\frac{1}{2} \\\\c \\left(x - \\frac{1}{2}\\right)^{2} & \\text{for}\\: b \\geq x - \\frac{1}{2} \\\\b^{2} c & \\text{otherwise} \\end{cases} - \\frac{1}{2}\\right) \\leq 0\\right) \\vee \\left(x \\geq - \\frac{1}{2} \\wedge x \\leq b + \\frac{1}{2} \\wedge \\left(\\frac{x}{2} + \\frac{y}{2}\\right) \\left(\\frac{b \\left(- b c - 1\\right)}{2} + \\frac{x}{2} + \\frac{y}{2}\\right) \\leq 0 \\wedge \\left(y - \\begin{cases} 0 & \\text{for}\\: x < - \\frac{1}{2} \\\\c \\left(x + \\frac{1}{2}\\right)^{2} & \\text{for}\\: b \\geq x + \\frac{1}{2} \\\\b^{2} c & \\text{otherwise} \\end{cases} - \\frac{1}{2}\\right) \\left(y - \\begin{cases} 0 & \\text{for}\\: x < \\frac{1}{2} \\\\c \\left(x - \\frac{1}{2}\\right)^{2} & \\text{for}\\: b \\geq x - \\frac{1}{2} \\\\b^{2} c & \\text{otherwise} \\end{cases} + \\frac{1}{2}\\right) \\leq 0\\right) \\vee \\left(\\frac{1}{2} - x \\geq 0 \\wedge \\frac{1}{2} - y \\geq 0 \\wedge x + \\frac{1}{2} \\geq 0 \\wedge y + \\frac{1}{2} \\geq 0\\right) \\vee \\left(- b + x + \\frac{1}{2} \\geq 0 \\wedge b - x + \\frac{1}{2} \\geq 0 \\wedge - b^{2} c + y + \\frac{1}{2} \\geq 0 \\wedge b^{2} c - y + \\frac{1}{2} \\geq 0\\right) \\vee \\left(\\frac{1}{2} - x \\leq 0 \\wedge \\frac{1}{2} - y \\leq 0 \\wedge x + \\frac{1}{2} \\leq 0 \\wedge y + \\frac{1}{2} \\leq 0\\right) \\vee \\left(- b + x + \\frac{1}{2} \\leq 0 \\wedge b - x + \\frac{1}{2} \\leq 0 \\wedge - b^{2} c + y + \\frac{1}{2} \\leq 0 \\wedge b^{2} c - y + \\frac{1}{2} \\leq 0\\right)$"
      ],
      "text/plain": [
       "                                                                                                        \n",
       "⎛              ⎛    ⎛⎧            2                               ⎞    ⎞ ⎛    ⎛⎧            2           \n",
       "⎜              ⎜    ⎜⎪           b ⋅c              for b > x - 1/2⎟   1⎟ ⎜    ⎜⎪           b ⋅c         \n",
       "⎜x ≥ b - 1/2 ∧ ⎜y - ⎜⎨                                            ⎟ - ─⎟⋅⎜y - ⎜⎨                        \n",
       "⎜              ⎜    ⎜⎪ 2                                          ⎟   2⎟ ⎜    ⎜⎪ 2                      \n",
       "⎝              ⎝    ⎝⎩b ⋅c + 2⋅b⋅c⋅(-b + x - 1/2)     for x ≤ ∞   ⎠    ⎠ ⎝    ⎝⎩b ⋅c + 2⋅b⋅c⋅(-b + x + 1\n",
       "                                                                                                        \n",
       "\n",
       "                                                                                                        \n",
       "                    ⎞    ⎞    ⎞   ⎛              ⎛    ⎛⎧            2                               ⎞   \n",
       "     for b > x + 1/2⎟   1⎟    ⎟   ⎜              ⎜    ⎜⎪           b ⋅c              for b > x - 1/2⎟   \n",
       "                    ⎟ + ─⎟ ≤ 0⎟ ∨ ⎜x ≥ b - 1/2 ∧ ⎜y - ⎜⎨                                            ⎟ + \n",
       "                    ⎟   2⎟    ⎟   ⎜              ⎜    ⎜⎪ 2                                          ⎟   \n",
       "/2)     for x ≤ ∞   ⎠    ⎠    ⎠   ⎝              ⎝    ⎝⎩b ⋅c + 2⋅b⋅c⋅(-b + x - 1/2)     for x ≤ ∞   ⎠   \n",
       "                                                                                                        \n",
       "\n",
       "                                                                                                        \n",
       " ⎞ ⎛    ⎛⎧            2                               ⎞    ⎞    ⎞   ⎛          ⎛    ⎛⎧           2      \n",
       "1⎟ ⎜    ⎜⎪           b ⋅c              for b > x + 1/2⎟   1⎟    ⎟   ⎜          ⎜    ⎜⎪c⋅(x - 1/2)   for \n",
       "─⎟⋅⎜y - ⎜⎨                                            ⎟ - ─⎟ ≤ 0⎟ ∨ ⎜x ≤ 1/2 ∧ ⎜y - ⎜⎨                  \n",
       "2⎟ ⎜    ⎜⎪ 2                                          ⎟   2⎟    ⎟   ⎜          ⎜    ⎜⎪     0         oth\n",
       " ⎠ ⎝    ⎝⎩b ⋅c + 2⋅b⋅c⋅(-b + x + 1/2)     for x ≤ ∞   ⎠    ⎠    ⎠   ⎝          ⎝    ⎝⎩                  \n",
       "                                                                                                        \n",
       "\n",
       "                                                                                                        \n",
       "       ⎞    ⎞ ⎛    ⎛⎧           2              ⎞    ⎞    ⎞   ⎛          ⎛    ⎛⎧           2             \n",
       "x ≤ 1/2⎟   1⎟ ⎜    ⎜⎪c⋅(x + 1/2)   for x ≤ -1/2⎟   1⎟    ⎟   ⎜          ⎜    ⎜⎪c⋅(x - 1/2)   for x ≤ 1/2\n",
       "       ⎟ - ─⎟⋅⎜y - ⎜⎨                          ⎟ + ─⎟ ≤ 0⎟ ∨ ⎜x ≤ 1/2 ∧ ⎜y - ⎜⎨                         \n",
       "erwise ⎟   2⎟ ⎜    ⎜⎪     0         otherwise  ⎟   2⎟    ⎟   ⎜          ⎜    ⎜⎪     0         otherwise \n",
       "       ⎠    ⎠ ⎝    ⎝⎩                          ⎠    ⎠    ⎠   ⎝          ⎝    ⎝⎩                         \n",
       "                                                                                                        \n",
       "\n",
       "                                                      ⎛                                                 \n",
       "⎞    ⎞ ⎛    ⎛⎧           2              ⎞    ⎞    ⎞   ⎜                                                 \n",
       "⎟   1⎟ ⎜    ⎜⎪c⋅(x + 1/2)   for x ≤ -1/2⎟   1⎟    ⎟   ⎜                         ⎛  x   y⎞ ⎛b⋅(-b⋅c + 1) \n",
       "⎟ + ─⎟⋅⎜y - ⎜⎨                          ⎟ - ─⎟ ≤ 0⎟ ∨ ⎜x ≥ -1/2 ∧ x ≤ b + 1/2 ∧ ⎜- ─ + ─⎟⋅⎜──────────── \n",
       "⎟   2⎟ ⎜    ⎜⎪     0         otherwise  ⎟   2⎟    ⎟   ⎜                         ⎝  2   2⎠ ⎝     2       \n",
       "⎠    ⎠ ⎝    ⎝⎩                          ⎠    ⎠    ⎠   ⎜                                                 \n",
       "                                                      ⎝                                                 \n",
       "\n",
       "               ⎛    ⎛⎧     0         for x < -1/2  ⎞    ⎞ ⎛    ⎛⎧     0          for x < 1/2  ⎞    ⎞    \n",
       "               ⎜    ⎜⎪                             ⎟    ⎟ ⎜    ⎜⎪                             ⎟    ⎟    \n",
       "  x   y⎞       ⎜    ⎜⎪           2                 ⎟   1⎟ ⎜    ⎜⎪           2                 ⎟   1⎟    \n",
       "- ─ + ─⎟ ≤ 0 ∧ ⎜y - ⎜⎨c⋅(x + 1/2)   for b ≥ x + 1/2⎟ + ─⎟⋅⎜y - ⎜⎨c⋅(x - 1/2)   for b ≥ x - 1/2⎟ - ─⎟ ≤ 0\n",
       "  2   2⎠       ⎜    ⎜⎪                             ⎟   2⎟ ⎜    ⎜⎪                             ⎟   2⎟    \n",
       "               ⎜    ⎜⎪     2                       ⎟    ⎟ ⎜    ⎜⎪     2                       ⎟    ⎟    \n",
       "               ⎝    ⎝⎩    b ⋅c         otherwise   ⎠    ⎠ ⎝    ⎝⎩    b ⋅c         otherwise   ⎠    ⎠    \n",
       "\n",
       "⎞   ⎛                                                              ⎛    ⎛⎧     0         for x < -1/2  ⎞\n",
       "⎟   ⎜                                                              ⎜    ⎜⎪                             ⎟\n",
       "⎟   ⎜                         ⎛x   y⎞ ⎛b⋅(-b⋅c - 1)   x   y⎞       ⎜    ⎜⎪           2                 ⎟\n",
       "⎟ ∨ ⎜x ≥ -1/2 ∧ x ≤ b + 1/2 ∧ ⎜─ + ─⎟⋅⎜──────────── + ─ + ─⎟ ≤ 0 ∧ ⎜y - ⎜⎨c⋅(x + 1/2)   for b ≥ x + 1/2⎟\n",
       "⎟   ⎜                         ⎝2   2⎠ ⎝     2         2   2⎠       ⎜    ⎜⎪                             ⎟\n",
       "⎟   ⎜                                                              ⎜    ⎜⎪     2                       ⎟\n",
       "⎠   ⎝                                                              ⎝    ⎝⎩    b ⋅c         otherwise   ⎠\n",
       "\n",
       "    ⎞ ⎛    ⎛⎧     0          for x < 1/2  ⎞    ⎞    ⎞                                                   \n",
       "    ⎟ ⎜    ⎜⎪                             ⎟    ⎟    ⎟                                                   \n",
       "   1⎟ ⎜    ⎜⎪           2                 ⎟   1⎟    ⎟                                                   \n",
       " - ─⎟⋅⎜y - ⎜⎨c⋅(x - 1/2)   for b ≥ x - 1/2⎟ + ─⎟ ≤ 0⎟ ∨ (1/2 - x ≥ 0 ∧ 1/2 - y ≥ 0 ∧ x + 1/2 ≥ 0 ∧ y + 1\n",
       "   2⎟ ⎜    ⎜⎪                             ⎟   2⎟    ⎟                                                   \n",
       "    ⎟ ⎜    ⎜⎪     2                       ⎟    ⎟    ⎟                                                   \n",
       "    ⎠ ⎝    ⎝⎩    b ⋅c         otherwise   ⎠    ⎠    ⎠                                                   \n",
       "\n",
       "                                                                                                        \n",
       "                                                                                                        \n",
       "          ⎛                                        2         1        2         1    ⎞                  \n",
       "/2 ≥ 0) ∨ ⎜-b + x + 1/2 ≥ 0 ∧ b - x + 1/2 ≥ 0 ∧ - b ⋅c + y + ─ ≥ 0 ∧ b ⋅c - y + ─ ≥ 0⎟ ∨ (1/2 - x ≤ 0 ∧ \n",
       "          ⎝                                                  2                  2    ⎠                  \n",
       "                                                                                                        \n",
       "                                                                                                        \n",
       "\n",
       "                                                                                                        \n",
       "                                                                                                        \n",
       "                                           ⎛                                        2         1        2\n",
       "1/2 - y ≤ 0 ∧ x + 1/2 ≤ 0 ∧ y + 1/2 ≤ 0) ∨ ⎜-b + x + 1/2 ≤ 0 ∧ b - x + 1/2 ≤ 0 ∧ - b ⋅c + y + ─ ≤ 0 ∧ b \n",
       "                                           ⎝                                                  2         \n",
       "                                                                                                        \n",
       "                                                                                                        \n",
       "\n",
       "               \n",
       "               \n",
       "         1    ⎞\n",
       "⋅c - y + ─ ≤ 0⎟\n",
       "         2    ⎠\n",
       "               \n",
       "               "
      ]
     },
     "execution_count": 421,
     "metadata": {},
     "output_type": "execute_result"
    }
   ],
   "source": [
    "domain = Interval(-12, 9)\n",
    "xbounds = [-10, 10]\n",
    "ybounds = [-4, 10]\n",
    "example_name = \"symbolic ACAS X\"\n",
    "\n",
    "\n",
    "cond = compute_unsafe_cond_symbolic(\n",
    "    x,\n",
    "    y,\n",
    "    square,\n",
    "    traj_piecewise,\n",
    "    Reals,\n",
    "    add_notches=True,\n",
    "    intervals = piecewise_intervals # NOTE: new \n",
    ")\n",
    "cond"
   ]
  },
  {
   "cell_type": "code",
   "execution_count": 424,
   "id": "7a3f1df9",
   "metadata": {},
   "outputs": [
    {
     "data": {
      "image/png": "[encoded data removed]",
      "text/plain": [
       "<Figure size 1200x800 with 1 Axes>"
      ]
     },
     "metadata": {
      "needs_background": "light"
     },
     "output_type": "display_data"
    }
   ],
   "source": [
    "plot_condition(x, y, cond.subs(c, 0.25).subs(b, 1), xbounds, ybounds, title=example_name, resolution = 0.125)"
   ]
  },
  {
   "cell_type": "code",
   "execution_count": 425,
   "id": "c8c18073",
   "metadata": {},
   "outputs": [],
   "source": [
    "resolution=0.25\n",
    "title = example_name"
   ]
  },
  {
   "cell_type": "code",
   "execution_count": 427,
   "id": "d3870b8b",
   "metadata": {},
   "outputs": [
    {
     "data": {
      "image/png": "[encoded data removed]",
      "text/plain": [
       "<Figure size 1200x800 with 1 Axes>"
      ]
     },
     "metadata": {
      "needs_background": "light"
     },
     "output_type": "display_data"
    }
   ],
   "source": [
    "condsub = cond.subs(c, 0.25).subs(b, 2)\n",
    "\n",
    "fig = plt.figure()\n",
    "fig.set_dpi(200)\n",
    "ax = fig.gca()\n",
    "\n",
    "# nelem = (xbounds[1] - xbounds[0]) * (ybounds[1] - ybounds[0]) / (resolution ** 2)\n",
    "# count = 0\n",
    "SAFE_COLOR = \"#1f77b4\"\n",
    "UNSAFE_COLOR = \"#ff7f0e\"\n",
    "if resolution < 0.5:\n",
    "    dotscale = 6\n",
    "elif resolution < 1:\n",
    "    dotscale = 4\n",
    "else:\n",
    "    dotscale = 3\n",
    "\n",
    "xpoints_safe = []\n",
    "xpoints_unsafe = []\n",
    "ypoints_safe = []\n",
    "ypoints_unsafe = []\n",
    "for x0 in np.arange(xbounds[0], xbounds[1], resolution):\n",
    "    for y0 in np.arange(ybounds[0], ybounds[1], resolution):\n",
    "        # count += 1\n",
    "        # TODO: use is_safe\n",
    "        is_safe = (~condsub).subs([(x, x0), (y, y0)])\n",
    "        if is_safe:\n",
    "            xpoints_safe.append(x0)\n",
    "            ypoints_safe.append(y0)\n",
    "        else:\n",
    "            xpoints_unsafe.append(x0)\n",
    "            ypoints_unsafe.append(y0)\n",
    "ax.scatter(xpoints_safe, ypoints_safe, s=resolution * dotscale, c=SAFE_COLOR)\n",
    "ax.scatter(\n",
    "    xpoints_unsafe,\n",
    "    ypoints_unsafe,\n",
    "    s=resolution * dotscale,\n",
    "    c=UNSAFE_COLOR,\n",
    "    marker=\"^\",\n",
    ")\n",
    "ax.legend([\"safe\", \"unsafe\"])\n",
    "ax.axis(\"equal\")\n",
    "\n",
    "ax.set_title(title)\n",
    "plt.show()"
   ]
  },
  {
   "cell_type": "code",
   "execution_count": null,
   "id": "3d9a70ab",
   "metadata": {},
   "outputs": [],
   "source": [
    "x0"
   ]
  },
  {
   "cell_type": "code",
   "execution_count": null,
   "id": "dbf693c9",
   "metadata": {},
   "outputs": [],
   "source": [
    "y0"
   ]
  },
  {
   "cell_type": "code",
   "execution_count": null,
   "id": "4c3344b1",
   "metadata": {},
   "outputs": [],
   "source": [
    "cond"
   ]
  },
  {
   "cell_type": "code",
   "execution_count": null,
   "id": "c8295b0b",
   "metadata": {},
   "outputs": [],
   "source": [
    "condsub.subs(x, x0)"
   ]
  },
  {
   "cell_type": "code",
   "execution_count": null,
   "id": "0a0f446b",
   "metadata": {},
   "outputs": [],
   "source": [
    "condsub.subs(y, y0)"
   ]
  },
  {
   "cell_type": "code",
   "execution_count": null,
   "id": "ce1766ec",
   "metadata": {},
   "outputs": [],
   "source": [
    "condsub.subs(x, x0).subs(y, y0)"
   ]
  },
  {
   "cell_type": "code",
   "execution_count": null,
   "id": "e90861b9",
   "metadata": {},
   "outputs": [],
   "source": [
    "plot_condition(x, y, cond.subs(c, 0.5).subs(b, 2), xbounds, ybounds, title=example_name)"
   ]
  },
  {
   "cell_type": "code",
   "execution_count": null,
   "id": "645ac2cf",
   "metadata": {},
   "outputs": [],
   "source": []
  },
  {
   "cell_type": "code",
   "execution_count": 181,
   "id": "fd3245ee",
   "metadata": {},
   "outputs": [
    {
     "data": {
      "image/png": "[encoded data removed]",
      "text/latex": [
       "$\\displaystyle b > x$"
      ],
      "text/plain": [
       "b > x"
      ]
     },
     "execution_count": 181,
     "metadata": {},
     "output_type": "execute_result"
    }
   ],
   "source": [
    "traj_piecewise.args[0][1] # [interval [c, oo]]"
   ]
  },
  {
   "cell_type": "code",
   "execution_count": 179,
   "id": "d88a55b0",
   "metadata": {},
   "outputs": [
    {
     "data": {
      "text/latex": [
       "$\\displaystyle \\text{True}$"
      ],
      "text/plain": [
       "True"
      ]
     },
     "execution_count": 179,
     "metadata": {},
     "output_type": "execute_result"
    }
   ],
   "source": [
    "traj_piecewise.args[1][1]"
   ]
  },
  {
   "cell_type": "code",
   "execution_count": 126,
   "id": "69edcdc3",
   "metadata": {},
   "outputs": [
    {
     "data": {
      "text/plain": [
       "list[(c*x**2, b > x), (b**2*c + 2*b*c*(-b + x), True)]"
      ]
     },
     "execution_count": 126,
     "metadata": {},
     "output_type": "execute_result"
    }
   ],
   "source": [
    "traj_piecewise.args"
   ]
  },
  {
   "cell_type": "code",
   "execution_count": null,
   "id": "974d7cde",
   "metadata": {},
   "outputs": [],
   "source": []
  },
  {
   "cell_type": "code",
   "execution_count": null,
   "id": "587b5182",
   "metadata": {},
   "outputs": [],
   "source": []
  },
  {
   "cell_type": "code",
   "execution_count": 338,
   "id": "6d9c8c54",
   "metadata": {},
   "outputs": [],
   "source": [
    "poly = square\n",
    "trajectory = traj_piecewise\n",
    "domain = Reals\n",
    "intervals = piecewise_intervals # NOTE: new "
   ]
  },
  {
   "cell_type": "code",
   "execution_count": 352,
   "id": "adf25cad",
   "metadata": {},
   "outputs": [
    {
     "name": "stdout",
     "output_type": "stream",
     "text": [
      "transitions as set: {BoundaryPoint2D(0, 0) for function Eq(c*x**2 - y, 0), BoundaryPoint2D(b, b**2*c) for function c*x**2, BoundaryPoint2D(-oo, oo*c) for function c*x**2, BoundaryPoint2D(oo, b**2*c + oo*c) for function b**2*c + 2*b*c*(-b + x)}\n"
     ]
    }
   ],
   "source": [
    "angles, vertex_pairs = compute_polygon_angles(poly)\n",
    "verts = poly.vertices\n",
    "if y not in trajectory.free_symbols:\n",
    "    func_var = x\n",
    "    keyfunc = lambda p: p.x\n",
    "elif x not in trajectory.free_symbols:\n",
    "    func_var = y\n",
    "    keyfunc = lambda p: p.y\n",
    "else:\n",
    "    raise Exception(\"Trajectory had two variables!\")\n",
    "\n",
    "# compute width to use in g() function later\n",
    "# for functions f(y), this is actually height\n",
    "w_point = max(\n",
    "    [\n",
    "        -1 * min([v - poly.centroid for v in verts], key=keyfunc),\n",
    "        max([v - poly.centroid for v in verts], key=keyfunc),\n",
    "    ],\n",
    "    key=keyfunc,\n",
    ")\n",
    "w = getattr(w_point, str(func_var))\n",
    "\n",
    "# construct a large set of transitions\n",
    "# set_of_transitions = TransitionPointSet()\n",
    "set_of_transitions = set()\n",
    "unique_transition_points = set()\n",
    "lookup_dict = {}\n",
    "if type(trajectory) == Piecewise:\n",
    "    # For piecewise trajectories, we need to find transitions for each piece\n",
    "    # for (subtraj, subcond) in trajectory.as_expr_set_pairs():\n",
    "    # as_expr_set_pairs doesn't work for multivariate (symbolic) trajectories\n",
    "    for i, (subtraj, subcond) in enumerate(trajectory.args):\n",
    "        # trim domain by computing intersection, so we don't find transitions\n",
    "        # outside of the domain for each piece of the trajectory\n",
    "        # TODO fix hardcoding\n",
    "        # subdomain = subcond.intersect(domain)  # invalid for symbolic\n",
    "        subdomain = Reals  # for symbolic just leave as Reals??\n",
    "        # print(f\"\\nPiecewise: {subtraj} for condition {subcond}\")\n",
    "\n",
    "        if y not in subtraj.free_symbols:  # form y=f(x)\n",
    "            # TODO: domain? for finding outside of piecewise range\n",
    "            subset_of_transitions = find_transitions_symbolic(\n",
    "                -y + subtraj, angles, x, y, domain=domain\n",
    "            )\n",
    "            # add piecewise boundary\n",
    "            if (\n",
    "                intervals[i].inf.is_imaginary\n",
    "                or subtraj.subs(func_var, intervals[i].inf).is_imaginary\n",
    "            ):\n",
    "                print(\n",
    "                    \"imaginary!\",\n",
    "                    intervals[i].inf,\n",
    "                    subtraj.subs(func_var, intervals[i].inf),\n",
    "                )\n",
    "                left_bound = None\n",
    "            else:\n",
    "                left_bound = Point(\n",
    "                    intervals[i].inf, subtraj.subs(func_var, intervals[i].inf)\n",
    "                )\n",
    "            if (\n",
    "                intervals[i].sup.is_imaginary\n",
    "                or subtraj.subs(func_var, intervals[i].sup).is_imaginary\n",
    "            ):\n",
    "                print(\n",
    "                    \"imaginary!\",\n",
    "                    intervals[i].sup,\n",
    "                    subtraj.subs(func_var, intervals[i].sup),\n",
    "                )\n",
    "                right_bound = None\n",
    "            else:\n",
    "                right_bound = Point(\n",
    "                    intervals[i].sup, subtraj.subs(func_var, intervals[i].sup)\n",
    "                )\n",
    "        elif x not in subtraj.free_symbols:  # form x=f(y)\n",
    "            # TODO: domain? for finding outside of piecewise range\n",
    "            subset_of_transitions = find_transitions_symbolic(\n",
    "                -x + subtraj, angles, x, y, domain=domain\n",
    "            )\n",
    "            # add piecewise boundary\n",
    "            if (\n",
    "                subtraj.subs(func_var, intervals[i].inf).is_imaginary\n",
    "                or intervals[i].inf.is_imaginary\n",
    "            ):\n",
    "                left_bound = None\n",
    "            else:\n",
    "                left_bound = Point(\n",
    "                    subtraj.subs(func_var, intervals[i].inf), intervals[i].inf\n",
    "                )\n",
    "            if (\n",
    "                subtraj.subs(func_var, intervals[i].sup).is_imaginary\n",
    "                or intervals[i].sup.is_imaginary\n",
    "            ):\n",
    "                right_bound = None\n",
    "            else:\n",
    "                right_bound = Point(\n",
    "                    subtraj.subs(func_var, intervals[i].sup), intervals[i].sup\n",
    "                )\n",
    "        # set_of_transitions.update(subset_of_transitions)\n",
    "        for elem in subset_of_transitions:\n",
    "            if elem.point not in unique_transition_points:\n",
    "                set_of_transitions.add(elem)\n",
    "                unique_transition_points.add(elem.point)\n",
    "            point_var = getattr(elem.point, str(func_var))\n",
    "            if point_var in lookup_dict:\n",
    "                lookup_dict[point_var].append(subtraj)\n",
    "            else:\n",
    "                lookup_dict[point_var] = [subtraj]\n",
    "\n",
    "        # if left_bound.x.is_finite and left_bound.y.is_finite:\n",
    "        #     set_of_transitions.add(left_bound)\n",
    "        # if right_bound.x.is_finite and right_bound.y.is_finite:\n",
    "        #     set_of_transitions.add(right_bound)\n",
    "        if left_bound:\n",
    "            if left_bound not in unique_transition_points:\n",
    "                set_of_transitions.add(TransitionPoint(left_bound, None, subtraj))\n",
    "                unique_transition_points.add(left_bound)\n",
    "            point_var = getattr(left_bound, str(func_var))\n",
    "            if point_var in lookup_dict:\n",
    "                lookup_dict[point_var].append(subtraj)\n",
    "            else:\n",
    "                lookup_dict[point_var] = [subtraj]\n",
    "\n",
    "\n",
    "        if right_bound:\n",
    "            if right_bound not in unique_transition_points:\n",
    "                set_of_transitions.add(TransitionPoint(right_bound, None, subtraj))\n",
    "                unique_transition_points.add(right_bound)\n",
    "            point_var = getattr(right_bound, str(func_var))\n",
    "            if point_var in lookup_dict:\n",
    "                lookup_dict[point_var].append(subtraj)\n",
    "            else:\n",
    "                lookup_dict[point_var] = [subtraj]\n",
    "\n",
    "else:\n",
    "    if y not in trajectory.free_symbols:\n",
    "        subset_of_transitions = find_transitions_symbolic(\n",
    "            -y + trajectory, angles, x, y, domain=domain\n",
    "        )\n",
    "        # Add left and right boundaries to check for notch there too\n",
    "        left_bound = Point(domain.inf, trajectory.subs(func_var, domain.inf))\n",
    "        right_bound = Point(domain.sup, trajectory.subs(func_var, domain.sup))\n",
    "    elif x not in trajectory.free_symbols:\n",
    "        subset_of_transitions = find_transitions_symbolic(\n",
    "            -x + trajectory, angles, x, y, domain=domain\n",
    "        )\n",
    "        # Add left and right boundaries to check for notch there too\n",
    "        left_bound = Point(trajectory.subs(func_var, domain.inf), domain.inf)\n",
    "        right_bound = Point(trajectory.subs(func_var, domain.sup), domain.sup)\n",
    "\n",
    "    # set_of_transitions.update(subset_of_transitions)\n",
    "    for elem in subset_of_transitions:\n",
    "        if elem.point not in unique_transition_points:\n",
    "            set_of_transitions.add(elem)\n",
    "            unique_transition_points.add(elem.point)\n",
    "        point_var = getattr(elem.point, str(func_var))\n",
    "        if point_var in lookup_dict:\n",
    "            lookup_dict[point_var].append(subtraj)\n",
    "        else:\n",
    "            lookup_dict[point_var] = [subtraj]\n",
    "\n",
    "    # if left_bound.x.is_finite and left_bound.y.is_finite:\n",
    "    #     set_of_transitions.add(left_bound)\n",
    "    # if right_bound.x.is_finite and right_bound.y.is_finite:\n",
    "    #     set_of_transitions.add(right_bound)\n",
    "    if left_bound:\n",
    "        if left_bound not in unique_transition_points:\n",
    "            set_of_transitions.add(TransitionPoint(left_bound, None, subtraj))\n",
    "            unique_transition_points.add(left_bound)\n",
    "        point_var = getattr(left_bound, str(func_var))\n",
    "        if point_var in lookup_dict:\n",
    "            lookup_dict[point_var].append(subtraj)\n",
    "        else:\n",
    "            lookup_dict[point_var] = [subtraj]\n",
    "\n",
    "    if right_bound:\n",
    "        if right_bound not in unique_transition_points:\n",
    "            set_of_transitions.add(TransitionPoint(right_bound, None, subtraj))\n",
    "            unique_transition_points.add(right_bound)\n",
    "        point_var = getattr(right_bound, str(func_var))\n",
    "        if point_var in lookup_dict:\n",
    "            lookup_dict[point_var].append(subtraj)\n",
    "        else:\n",
    "            lookup_dict[point_var] = [subtraj]\n",
    "\n",
    "    # set_of_transitions.add(TransitionPoint(left_bound, None, subtraj))\n",
    "    # set_of_transitions.add(TransitionPoint(right_bound, None, subtraj))\n",
    "\n",
    "# In order to identify which corners are active over which intervals,\n",
    "# sort transitions and identify active corners at the midpoints of the intervals\n",
    "# defined by transition points.\n",
    "# TODO: make sure this works or handle another way? - not guaranteed to work!\n",
    "# print(f\"func_var: {func_var}\")\n",
    "print(f\"transitions as set: {set_of_transitions}\")\n",
    "sorted_transitions: list = sorted(\n",
    "    set_of_transitions,\n",
    "    key=lambda tp: getattr(tp.point, str(func_var)),\n",
    ")"
   ]
  },
  {
   "cell_type": "code",
   "execution_count": 353,
   "id": "7509e708",
   "metadata": {},
   "outputs": [
    {
     "data": {
      "image/png": "[encoded data removed]",
      "text/latex": [
       "$\\displaystyle \\left\\{ -\\infty : \\left[ c x^{2}\\right], \\  0 : \\left[ c x^{2}, \\  c x^{2}\\right], \\  \\infty : \\left[ b^{2} c + 2 b c \\left(- b + x\\right)\\right], \\  b : \\left[ c x^{2}, \\  b^{2} c + 2 b c \\left(- b + x\\right)\\right]\\right\\}$"
      ],
      "text/plain": [
       "⎧    ⎡   2⎤     ⎡   2     2⎤     ⎡ 2                   ⎤     ⎡   2   2                   ⎤⎫\n",
       "⎨-∞: ⎣c⋅x ⎦, 0: ⎣c⋅x , c⋅x ⎦, ∞: ⎣b ⋅c + 2⋅b⋅c⋅(-b + x)⎦, b: ⎣c⋅x , b ⋅c + 2⋅b⋅c⋅(-b + x)⎦⎬\n",
       "⎩                                                                                         ⎭"
      ]
     },
     "execution_count": 353,
     "metadata": {},
     "output_type": "execute_result"
    }
   ],
   "source": [
    "lookup_dict"
   ]
  },
  {
   "cell_type": "code",
   "execution_count": 372,
   "id": "073c4afe",
   "metadata": {},
   "outputs": [
    {
     "name": "stdout",
     "output_type": "stream",
     "text": [
      "func_var_transitions: [-oo, 0, b, oo]\n",
      "var intervals: [(-oo, 0), (0, b), (b, oo)]\n",
      "\\left(x \\geq b - \\frac{1}{2} \\wedge \\left(y - \\begin{cases} b^{2} c & \\text{for}\\: b > x - \\frac{1}{2} \\\\b^{2} c + 2 b c \\left(- b + x - \\frac{1}{2}\\right) & \\text{for}\\: x \\leq \\infty \\end{cases} - \\frac{1}{2}\\right) \\left(y - \\begin{cases} b^{2} c & \\text{for}\\: b > x + \\frac{1}{2} \\\\b^{2} c + 2 b c \\left(- b + x + \\frac{1}{2}\\right) & \\text{for}\\: x \\leq \\infty \\end{cases} + \\frac{1}{2}\\right) \\leq 0\\right) \\vee \\left(x \\geq b - \\frac{1}{2} \\wedge \\left(y - \\begin{cases} b^{2} c & \\text{for}\\: b > x - \\frac{1}{2} \\\\b^{2} c + 2 b c \\left(- b + x - \\frac{1}{2}\\right) & \\text{for}\\: x \\leq \\infty \\end{cases} + \\frac{1}{2}\\right) \\left(y - \\begin{cases} b^{2} c & \\text{for}\\: b > x + \\frac{1}{2} \\\\b^{2} c + 2 b c \\left(- b + x + \\frac{1}{2}\\right) & \\text{for}\\: x \\leq \\infty \\end{cases} - \\frac{1}{2}\\right) \\leq 0\\right) \\vee \\left(x \\leq \\frac{1}{2} \\wedge \\left(y - \\begin{cases} c \\left(x - \\frac{1}{2}\\right)^{2} & \\text{for}\\: x \\leq \\frac{1}{2} \\\\0 & \\text{otherwise} \\end{cases} - \\frac{1}{2}\\right) \\left(y - \\begin{cases} c \\left(x + \\frac{1}{2}\\right)^{2} & \\text{for}\\: x \\leq - \\frac{1}{2} \\\\0 & \\text{otherwise} \\end{cases} + \\frac{1}{2}\\right) \\leq 0\\right) \\vee \\left(x \\leq \\frac{1}{2} \\wedge \\left(y - \\begin{cases} c \\left(x - \\frac{1}{2}\\right)^{2} & \\text{for}\\: x \\leq \\frac{1}{2} \\\\0 & \\text{otherwise} \\end{cases} + \\frac{1}{2}\\right) \\left(y - \\begin{cases} c \\left(x + \\frac{1}{2}\\right)^{2} & \\text{for}\\: x \\leq - \\frac{1}{2} \\\\0 & \\text{otherwise} \\end{cases} - \\frac{1}{2}\\right) \\leq 0\\right) \\vee \\left(x \\geq - \\frac{1}{2} \\wedge x \\leq b + \\frac{1}{2} \\wedge \\left(y - \\begin{cases} 0 & \\text{for}\\: x < - \\frac{1}{2} \\\\c \\left(x + \\frac{1}{2}\\right)^{2} & \\text{for}\\: b \\geq x + \\frac{1}{2} \\\\b^{2} c & \\text{otherwise} \\end{cases} - \\frac{1}{2}\\right) \\left(y - \\begin{cases} 0 & \\text{for}\\: x < \\frac{1}{2} \\\\c \\left(x - \\frac{1}{2}\\right)^{2} & \\text{for}\\: b \\geq x - \\frac{1}{2} \\\\b^{2} c & \\text{otherwise} \\end{cases} + \\frac{1}{2}\\right) \\leq 0\\right) \\vee \\left(x \\geq - \\frac{1}{2} \\wedge x \\leq b + \\frac{1}{2} \\wedge \\left(y - \\begin{cases} 0 & \\text{for}\\: x < - \\frac{1}{2} \\\\c \\left(x + \\frac{1}{2}\\right)^{2} & \\text{for}\\: b \\geq x + \\frac{1}{2} \\\\b^{2} c & \\text{otherwise} \\end{cases} + \\frac{1}{2}\\right) \\left(y - \\begin{cases} 0 & \\text{for}\\: x < \\frac{1}{2} \\\\c \\left(x - \\frac{1}{2}\\right)^{2} & \\text{for}\\: b \\geq x - \\frac{1}{2} \\\\b^{2} c & \\text{otherwise} \\end{cases} - \\frac{1}{2}\\right) \\leq 0\\right) \\vee \\left(\\frac{1}{2} - x \\geq 0 \\wedge \\frac{1}{2} - y \\geq 0 \\wedge x + \\frac{1}{2} \\geq 0 \\wedge y + \\frac{1}{2} \\geq 0\\right) \\vee \\left(- b + x + \\frac{1}{2} \\geq 0 \\wedge b - x + \\frac{1}{2} \\geq 0 \\wedge - b^{2} c + y + \\frac{1}{2} \\geq 0 \\wedge b^{2} c - y + \\frac{1}{2} \\geq 0\\right) \\vee \\left(\\frac{1}{2} - x \\leq 0 \\wedge \\frac{1}{2} - y \\leq 0 \\wedge x + \\frac{1}{2} \\leq 0 \\wedge y + \\frac{1}{2} \\leq 0\\right) \\vee \\left(- b + x + \\frac{1}{2} \\leq 0 \\wedge b - x + \\frac{1}{2} \\leq 0 \\wedge - b^{2} c + y + \\frac{1}{2} \\leq 0 \\wedge b^{2} c - y + \\frac{1}{2} \\leq 0\\right)\n"
     ]
    },
    {
     "data": {
      "text/latex": [
       "$\\displaystyle \\left(x \\geq b - \\frac{1}{2} \\wedge \\left(y - \\begin{cases} b^{2} c & \\text{for}\\: b > x - \\frac{1}{2} \\\\b^{2} c + 2 b c \\left(- b + x - \\frac{1}{2}\\right) & \\text{for}\\: x \\leq \\infty \\end{cases} - \\frac{1}{2}\\right) \\left(y - \\begin{cases} b^{2} c & \\text{for}\\: b > x + \\frac{1}{2} \\\\b^{2} c + 2 b c \\left(- b + x + \\frac{1}{2}\\right) & \\text{for}\\: x \\leq \\infty \\end{cases} + \\frac{1}{2}\\right) \\leq 0\\right) \\vee \\left(x \\geq b - \\frac{1}{2} \\wedge \\left(y - \\begin{cases} b^{2} c & \\text{for}\\: b > x - \\frac{1}{2} \\\\b^{2} c + 2 b c \\left(- b + x - \\frac{1}{2}\\right) & \\text{for}\\: x \\leq \\infty \\end{cases} + \\frac{1}{2}\\right) \\left(y - \\begin{cases} b^{2} c & \\text{for}\\: b > x + \\frac{1}{2} \\\\b^{2} c + 2 b c \\left(- b + x + \\frac{1}{2}\\right) & \\text{for}\\: x \\leq \\infty \\end{cases} - \\frac{1}{2}\\right) \\leq 0\\right) \\vee \\left(x \\leq \\frac{1}{2} \\wedge \\left(y - \\begin{cases} c \\left(x - \\frac{1}{2}\\right)^{2} & \\text{for}\\: x \\leq \\frac{1}{2} \\\\0 & \\text{otherwise} \\end{cases} - \\frac{1}{2}\\right) \\left(y - \\begin{cases} c \\left(x + \\frac{1}{2}\\right)^{2} & \\text{for}\\: x \\leq - \\frac{1}{2} \\\\0 & \\text{otherwise} \\end{cases} + \\frac{1}{2}\\right) \\leq 0\\right) \\vee \\left(x \\leq \\frac{1}{2} \\wedge \\left(y - \\begin{cases} c \\left(x - \\frac{1}{2}\\right)^{2} & \\text{for}\\: x \\leq \\frac{1}{2} \\\\0 & \\text{otherwise} \\end{cases} + \\frac{1}{2}\\right) \\left(y - \\begin{cases} c \\left(x + \\frac{1}{2}\\right)^{2} & \\text{for}\\: x \\leq - \\frac{1}{2} \\\\0 & \\text{otherwise} \\end{cases} - \\frac{1}{2}\\right) \\leq 0\\right) \\vee \\left(x \\geq - \\frac{1}{2} \\wedge x \\leq b + \\frac{1}{2} \\wedge \\left(y - \\begin{cases} 0 & \\text{for}\\: x < - \\frac{1}{2} \\\\c \\left(x + \\frac{1}{2}\\right)^{2} & \\text{for}\\: b \\geq x + \\frac{1}{2} \\\\b^{2} c & \\text{otherwise} \\end{cases} - \\frac{1}{2}\\right) \\left(y - \\begin{cases} 0 & \\text{for}\\: x < \\frac{1}{2} \\\\c \\left(x - \\frac{1}{2}\\right)^{2} & \\text{for}\\: b \\geq x - \\frac{1}{2} \\\\b^{2} c & \\text{otherwise} \\end{cases} + \\frac{1}{2}\\right) \\leq 0\\right) \\vee \\left(x \\geq - \\frac{1}{2} \\wedge x \\leq b + \\frac{1}{2} \\wedge \\left(y - \\begin{cases} 0 & \\text{for}\\: x < - \\frac{1}{2} \\\\c \\left(x + \\frac{1}{2}\\right)^{2} & \\text{for}\\: b \\geq x + \\frac{1}{2} \\\\b^{2} c & \\text{otherwise} \\end{cases} + \\frac{1}{2}\\right) \\left(y - \\begin{cases} 0 & \\text{for}\\: x < \\frac{1}{2} \\\\c \\left(x - \\frac{1}{2}\\right)^{2} & \\text{for}\\: b \\geq x - \\frac{1}{2} \\\\b^{2} c & \\text{otherwise} \\end{cases} - \\frac{1}{2}\\right) \\leq 0\\right) \\vee \\left(\\frac{1}{2} - x \\geq 0 \\wedge \\frac{1}{2} - y \\geq 0 \\wedge x + \\frac{1}{2} \\geq 0 \\wedge y + \\frac{1}{2} \\geq 0\\right) \\vee \\left(- b + x + \\frac{1}{2} \\geq 0 \\wedge b - x + \\frac{1}{2} \\geq 0 \\wedge - b^{2} c + y + \\frac{1}{2} \\geq 0 \\wedge b^{2} c - y + \\frac{1}{2} \\geq 0\\right) \\vee \\left(\\frac{1}{2} - x \\leq 0 \\wedge \\frac{1}{2} - y \\leq 0 \\wedge x + \\frac{1}{2} \\leq 0 \\wedge y + \\frac{1}{2} \\leq 0\\right) \\vee \\left(- b + x + \\frac{1}{2} \\leq 0 \\wedge b - x + \\frac{1}{2} \\leq 0 \\wedge - b^{2} c + y + \\frac{1}{2} \\leq 0 \\wedge b^{2} c - y + \\frac{1}{2} \\leq 0\\right)$"
      ],
      "text/plain": [
       "                                                                                                        \n",
       "⎛              ⎛    ⎛⎧            2                               ⎞    ⎞ ⎛    ⎛⎧            2           \n",
       "⎜              ⎜    ⎜⎪           b ⋅c              for b > x - 1/2⎟   1⎟ ⎜    ⎜⎪           b ⋅c         \n",
       "⎜x ≥ b - 1/2 ∧ ⎜y - ⎜⎨                                            ⎟ - ─⎟⋅⎜y - ⎜⎨                        \n",
       "⎜              ⎜    ⎜⎪ 2                                          ⎟   2⎟ ⎜    ⎜⎪ 2                      \n",
       "⎝              ⎝    ⎝⎩b ⋅c + 2⋅b⋅c⋅(-b + x - 1/2)     for x ≤ ∞   ⎠    ⎠ ⎝    ⎝⎩b ⋅c + 2⋅b⋅c⋅(-b + x + 1\n",
       "                                                                                                        \n",
       "\n",
       "                                                                                                        \n",
       "                    ⎞    ⎞    ⎞   ⎛              ⎛    ⎛⎧            2                               ⎞   \n",
       "     for b > x + 1/2⎟   1⎟    ⎟   ⎜              ⎜    ⎜⎪           b ⋅c              for b > x - 1/2⎟   \n",
       "                    ⎟ + ─⎟ ≤ 0⎟ ∨ ⎜x ≥ b - 1/2 ∧ ⎜y - ⎜⎨                                            ⎟ + \n",
       "                    ⎟   2⎟    ⎟   ⎜              ⎜    ⎜⎪ 2                                          ⎟   \n",
       "/2)     for x ≤ ∞   ⎠    ⎠    ⎠   ⎝              ⎝    ⎝⎩b ⋅c + 2⋅b⋅c⋅(-b + x - 1/2)     for x ≤ ∞   ⎠   \n",
       "                                                                                                        \n",
       "\n",
       "                                                                                                        \n",
       " ⎞ ⎛    ⎛⎧            2                               ⎞    ⎞    ⎞   ⎛          ⎛    ⎛⎧           2      \n",
       "1⎟ ⎜    ⎜⎪           b ⋅c              for b > x + 1/2⎟   1⎟    ⎟   ⎜          ⎜    ⎜⎪c⋅(x - 1/2)   for \n",
       "─⎟⋅⎜y - ⎜⎨                                            ⎟ - ─⎟ ≤ 0⎟ ∨ ⎜x ≤ 1/2 ∧ ⎜y - ⎜⎨                  \n",
       "2⎟ ⎜    ⎜⎪ 2                                          ⎟   2⎟    ⎟   ⎜          ⎜    ⎜⎪     0         oth\n",
       " ⎠ ⎝    ⎝⎩b ⋅c + 2⋅b⋅c⋅(-b + x + 1/2)     for x ≤ ∞   ⎠    ⎠    ⎠   ⎝          ⎝    ⎝⎩                  \n",
       "                                                                                                        \n",
       "\n",
       "                                                                                                        \n",
       "       ⎞    ⎞ ⎛    ⎛⎧           2              ⎞    ⎞    ⎞   ⎛          ⎛    ⎛⎧           2             \n",
       "x ≤ 1/2⎟   1⎟ ⎜    ⎜⎪c⋅(x + 1/2)   for x ≤ -1/2⎟   1⎟    ⎟   ⎜          ⎜    ⎜⎪c⋅(x - 1/2)   for x ≤ 1/2\n",
       "       ⎟ - ─⎟⋅⎜y - ⎜⎨                          ⎟ + ─⎟ ≤ 0⎟ ∨ ⎜x ≤ 1/2 ∧ ⎜y - ⎜⎨                         \n",
       "erwise ⎟   2⎟ ⎜    ⎜⎪     0         otherwise  ⎟   2⎟    ⎟   ⎜          ⎜    ⎜⎪     0         otherwise \n",
       "       ⎠    ⎠ ⎝    ⎝⎩                          ⎠    ⎠    ⎠   ⎝          ⎝    ⎝⎩                         \n",
       "                                                                                                        \n",
       "\n",
       "                                                      ⎛                         ⎛    ⎛⎧     0         fo\n",
       "⎞    ⎞ ⎛    ⎛⎧           2              ⎞    ⎞    ⎞   ⎜                         ⎜    ⎜⎪                 \n",
       "⎟   1⎟ ⎜    ⎜⎪c⋅(x + 1/2)   for x ≤ -1/2⎟   1⎟    ⎟   ⎜                         ⎜    ⎜⎪           2     \n",
       "⎟ + ─⎟⋅⎜y - ⎜⎨                          ⎟ - ─⎟ ≤ 0⎟ ∨ ⎜x ≥ -1/2 ∧ x ≤ b + 1/2 ∧ ⎜y - ⎜⎨c⋅(x + 1/2)   for\n",
       "⎟   2⎟ ⎜    ⎜⎪     0         otherwise  ⎟   2⎟    ⎟   ⎜                         ⎜    ⎜⎪                 \n",
       "⎠    ⎠ ⎝    ⎝⎩                          ⎠    ⎠    ⎠   ⎜                         ⎜    ⎜⎪     2           \n",
       "                                                      ⎝                         ⎝    ⎝⎩    b ⋅c         \n",
       "\n",
       "r x < -1/2  ⎞    ⎞ ⎛    ⎛⎧     0          for x < 1/2  ⎞    ⎞    ⎞   ⎛                         ⎛    ⎛⎧  \n",
       "            ⎟    ⎟ ⎜    ⎜⎪                             ⎟    ⎟    ⎟   ⎜                         ⎜    ⎜⎪  \n",
       "            ⎟   1⎟ ⎜    ⎜⎪           2                 ⎟   1⎟    ⎟   ⎜                         ⎜    ⎜⎪  \n",
       " b ≥ x + 1/2⎟ - ─⎟⋅⎜y - ⎜⎨c⋅(x - 1/2)   for b ≥ x - 1/2⎟ + ─⎟ ≤ 0⎟ ∨ ⎜x ≥ -1/2 ∧ x ≤ b + 1/2 ∧ ⎜y - ⎜⎨c⋅\n",
       "            ⎟   2⎟ ⎜    ⎜⎪                             ⎟   2⎟    ⎟   ⎜                         ⎜    ⎜⎪  \n",
       "            ⎟    ⎟ ⎜    ⎜⎪     2                       ⎟    ⎟    ⎟   ⎜                         ⎜    ⎜⎪  \n",
       "otherwise   ⎠    ⎠ ⎝    ⎝⎩    b ⋅c         otherwise   ⎠    ⎠    ⎠   ⎝                         ⎝    ⎝⎩  \n",
       "\n",
       "   0         for x < -1/2  ⎞    ⎞ ⎛    ⎛⎧     0          for x < 1/2  ⎞    ⎞    ⎞                       \n",
       "                           ⎟    ⎟ ⎜    ⎜⎪                             ⎟    ⎟    ⎟                       \n",
       "         2                 ⎟   1⎟ ⎜    ⎜⎪           2                 ⎟   1⎟    ⎟                       \n",
       "(x + 1/2)   for b ≥ x + 1/2⎟ + ─⎟⋅⎜y - ⎜⎨c⋅(x - 1/2)   for b ≥ x - 1/2⎟ - ─⎟ ≤ 0⎟ ∨ (1/2 - x ≥ 0 ∧ 1/2 -\n",
       "                           ⎟   2⎟ ⎜    ⎜⎪                             ⎟   2⎟    ⎟                       \n",
       "   2                       ⎟    ⎟ ⎜    ⎜⎪     2                       ⎟    ⎟    ⎟                       \n",
       "  b ⋅c         otherwise   ⎠    ⎠ ⎝    ⎝⎩    b ⋅c         otherwise   ⎠    ⎠    ⎠                       \n",
       "\n",
       "                                                                                                        \n",
       "                                                                                                        \n",
       "                                      ⎛                                        2         1        2     \n",
       " y ≥ 0 ∧ x + 1/2 ≥ 0 ∧ y + 1/2 ≥ 0) ∨ ⎜-b + x + 1/2 ≥ 0 ∧ b - x + 1/2 ≥ 0 ∧ - b ⋅c + y + ─ ≥ 0 ∧ b ⋅c - \n",
       "                                      ⎝                                                  2              \n",
       "                                                                                                        \n",
       "                                                                                                        \n",
       "\n",
       "                                                                                                        \n",
       "                                                                                                        \n",
       "    1    ⎞                                                             ⎛                                \n",
       "y + ─ ≥ 0⎟ ∨ (1/2 - x ≤ 0 ∧ 1/2 - y ≤ 0 ∧ x + 1/2 ≤ 0 ∧ y + 1/2 ≤ 0) ∨ ⎜-b + x + 1/2 ≤ 0 ∧ b - x + 1/2 ≤\n",
       "    2    ⎠                                                             ⎝                                \n",
       "                                                                                                        \n",
       "                                                                                                        \n",
       "\n",
       "                                           \n",
       "                                           \n",
       "        2         1        2         1    ⎞\n",
       " 0 ∧ - b ⋅c + y + ─ ≤ 0 ∧ b ⋅c - y + ─ ≤ 0⎟\n",
       "                  2                  2    ⎠\n",
       "                                           \n",
       "                                           "
      ]
     },
     "execution_count": 372,
     "metadata": {},
     "output_type": "execute_result"
    }
   ],
   "source": [
    "func_var_transitions = [\n",
    "    getattr(tp.point, str(func_var)) for tp in sorted_transitions\n",
    "]\n",
    "print(f\"func_var_transitions: {func_var_transitions}\")\n",
    "\n",
    "# # Map each midpoint angle to the active corner. Because we're only supporting\n",
    "# # symmetric polygons so far, we only need to find a single active corner here,\n",
    "# # and we can use its opposing corner (due to central symmetry) later.\n",
    "# active_corners: dict = {}\n",
    "# for midpoint_angle in midpoint_angles:\n",
    "#     for k, v in corners_to_angles.items():\n",
    "#         print(midpoint_angle)\n",
    "#         print(v)\n",
    "#         # NOTE: fails for symbolic trajectory parameters\n",
    "#         if midpoint_angle % (2 * pi) in v:\n",
    "#             active_corners[midpoint_angle] = k\n",
    "var_intervals = list(\n",
    "    zip(func_var_transitions[:-1], func_var_transitions[1:])\n",
    ")  # same len as midpoints\n",
    "assert var_intervals, f\"var_intervals: {var_intervals}. Evaluated to False.\"\n",
    "\n",
    "print(f\"var intervals: {var_intervals}\")\n",
    "\n",
    "# Construct the full boolean formulation of the *unsafe* region\n",
    "total_cond = None\n",
    "for i, var_interval in enumerate(var_intervals):\n",
    "    if func_var == x:\n",
    "        x_left = var_interval[0]\n",
    "        y_left = trajectory.subs(x, x_left)\n",
    "        x_right = var_interval[1]\n",
    "        y_right = trajectory.subs(x, x_right)\n",
    "    elif func_var == y:\n",
    "        y_left = var_interval[0]\n",
    "        x_left = trajectory.subs(y, y_left)\n",
    "        y_right = var_interval[1]\n",
    "        x_right = trajectory.subs(y, y_right)\n",
    "\n",
    "    poly_center_left = Point(x_left, y_left)\n",
    "    poly_center_right = Point(x_right, y_right)\n",
    "\n",
    "    # # Assume symmetric polygon.\n",
    "    # active_corner_offset = active_corners[midpoint_angles[i]]\n",
    "    # line_left = Line(poly_center_left, poly_center_left + active_corner_offset)\n",
    "    # line_right = Line(poly_center_right, poly_center_right + active_corner_offset)\n",
    "    # # using Line.equation() creates duplicate x,y variables and ruins .subs() call later\n",
    "    # # Ensure this check only applies between the active corners at the start and end of the interval\n",
    "    # left_a, left_b, left_c = line_left.coefficients\n",
    "    # right_a, right_b, right_c = line_right.coefficients\n",
    "    # left_eq = left_a * x + left_b * y + left_c\n",
    "    # right_eq = right_a * x + right_b * y + right_c\n",
    "    # corner_cond = left_eq * right_eq <= 0\n",
    "\n",
    "    # Ensure this check only applies between the transition points (plus/minus width)\n",
    "    # Discard nonsense > -inf or < +inf\n",
    "    if func_var == x:\n",
    "        if x_left is -oo:\n",
    "            func_var_cond = x <= (x_right + w)\n",
    "        elif x_right is oo:\n",
    "            func_var_cond = x >= (x_left - w)\n",
    "        else:\n",
    "            func_var_cond = (x >= (x_left - w)) & (x <= (x_right + w))\n",
    "    elif func_var == y:\n",
    "        # note that w is actually height when found above\n",
    "        if y_left is -oo:\n",
    "            func_var_cond = y <= (y_right + w)\n",
    "        elif y_right is oo:\n",
    "            func_var_cond = y >= (y_left - w)\n",
    "        else:\n",
    "            func_var_cond = (y >= (y_left - w)) & (y <= (y_right + w))\n",
    "\n",
    "    # construct g functions\n",
    "    # same trajectory over this interval, held constant outside of it\n",
    "    if type(trajectory) == Piecewise:\n",
    "        if func_var == x:\n",
    "            # Use an open interval in case two cases hold exactly at x_left\n",
    "            # TODO: make sure this works symbolically\n",
    "            # TODO: write code to map interval or transition point to function\n",
    "            left_funcs = set(lookup_dict[x_left])\n",
    "            right_funcs = set(lookup_dict[x_right])\n",
    "            common_funcs = left_funcs.intersection(right_funcs)\n",
    "            assert len(common_funcs) == 1, \"Ambiguous which function to use here!\"\n",
    "            current_fn = common_funcs.pop()\n",
    "            # Discard nonsense infinities\n",
    "            # TODO(nishant): pull this logic out into a different function\n",
    "            if x_left is -oo:\n",
    "                g = y - Piecewise(\n",
    "                    (current_fn, x <= x_right),\n",
    "                    (y_right, x > x_right),\n",
    "                )\n",
    "            elif x_right is oo:\n",
    "                g = y - Piecewise(\n",
    "                    (y_left, x < x_left),\n",
    "                    (current_fn, x <= x_right),\n",
    "                )\n",
    "            else:\n",
    "                g = y - Piecewise(\n",
    "                    (y_left, x < x_left),\n",
    "                    (current_fn, x <= x_right),\n",
    "                    (y_right, x > x_right),\n",
    "                )\n",
    "        elif func_var == y:\n",
    "            # Use an open interval in case two cases hold exactly at y_left\n",
    "            current_piece = trajectory.as_expr_set_pairs(\n",
    "                Interval.open(y_left, y_right)\n",
    "            )\n",
    "            if len(current_piece) > 1:\n",
    "                print(\n",
    "                    f\"Warning! more than one piecewise segment detected \\\n",
    "                    over interval ({y_left}, {y_right}). Results may be \\\n",
    "                    erroneous due to mis-specified piecewise functions.\"\n",
    "                )\n",
    "            current_fn = current_piece[0][0]\n",
    "            if y_left is -oo:\n",
    "                g = x - Piecewise(\n",
    "                    (current_fn, y <= y_right),\n",
    "                    (x_right, y > y_right),\n",
    "                )\n",
    "            elif y_right is oo:\n",
    "                g = x - Piecewise(\n",
    "                    (x_left, y < y_left),\n",
    "                    (current_fn, y <= y_right),\n",
    "                )\n",
    "            else:\n",
    "                g = x - Piecewise(\n",
    "                    (x_left, y < y_left),\n",
    "                    (current_fn, y <= y_right),\n",
    "                    (x_right, y > y_right),\n",
    "                )\n",
    "    else:\n",
    "        if func_var == x:\n",
    "            # Discard nonsense infinities\n",
    "            if x_left is -oo:\n",
    "                g = y - Piecewise(\n",
    "                    (trajectory, x <= x_right),\n",
    "                    (y_right, x > x_right),\n",
    "                )\n",
    "            elif x_right is oo:\n",
    "                g = y - Piecewise(\n",
    "                    (y_left, x < x_left),\n",
    "                    (trajectory, x <= x_right),\n",
    "                )\n",
    "            else:\n",
    "                g = y - Piecewise(\n",
    "                    (y_left, x < x_left),\n",
    "                    (trajectory, x <= x_right),\n",
    "                    (y_right, x > x_right),\n",
    "                )\n",
    "        elif func_var == y:\n",
    "            # Discard nonsense infinities\n",
    "            if y_left is -oo:\n",
    "                g = x - Piecewise(\n",
    "                    (trajectory, y <= y_right),\n",
    "                    (x_right, y > y_right),\n",
    "                )\n",
    "            elif y_right is oo:\n",
    "                g = x - Piecewise(\n",
    "                    (x_left, y < y_left),\n",
    "                    (trajectory, y <= y_right),\n",
    "                )\n",
    "            else:\n",
    "                g = x - Piecewise(\n",
    "                    (x_left, y < y_left),\n",
    "                    (trajectory, y <= y_right),\n",
    "                    (x_right, y > y_right),\n",
    "                )\n",
    "\n",
    "    # Assume symmetric polygon and test all active corner pairs\n",
    "    full_cond = None\n",
    "    for vert in verts[0 : len(verts) // 2]:\n",
    "        g1 = g.subs(x, x - vert.x).subs(y, y - vert.y)\n",
    "        g2 = g.subs(x, x + vert.x).subs(y, y + vert.y)\n",
    "        # full_cond = corner_cond & func_var_cond & (g1 * g2 <= 0)\n",
    "        if full_cond is None:\n",
    "            full_cond = func_var_cond & (g1 * g2 <= 0)\n",
    "        else:\n",
    "            full_cond = full_cond | (func_var_cond & (g1 * g2 <= 0))\n",
    "\n",
    "    if total_cond is None:\n",
    "        # print(full_cond)\n",
    "        total_cond = full_cond\n",
    "    else:\n",
    "        # print(full_cond, \"not none\")\n",
    "        total_cond = total_cond | full_cond\n",
    "\n",
    "if True:\n",
    "    # adding notches\n",
    "    for transition_point in set_of_transitions:\n",
    "        if transition_point.point.x.is_finite and transition_point.point.y.is_finite:\n",
    "            # neg for left side, 0 for on edge, pos for on right side\n",
    "            # inside polygon IF all neg or IF all pos\n",
    "            shifted_vertex_pairs = [\n",
    "                (v + transition_point.point, nextv + transition_point.point)\n",
    "                for (v, nextv) in vertex_pairs\n",
    "            ]  # [(v1, v2), (v2, v3), ..., (vn, v1)]\n",
    "            # source: https://inginious.org/course/competitive-programming/geometry-pointinconvex\n",
    "            # source: https://www.eecs.umich.edu/courses/eecs380/HANDOUTS/PROJ2/InsidePoly.html\n",
    "            side_conds = [\n",
    "                (y - v.y) * (nextv.x - v.x) - (x - v.x) * (nextv.y - v.y)\n",
    "                for (v, nextv) in shifted_vertex_pairs\n",
    "            ]\n",
    "            # construct both cases inside\n",
    "            cond1 = true  # init to sympy.true since we're cascading Ands\n",
    "            cond2 = true  # init to sympy.true since we're cascading Ands\n",
    "            for side_cond in side_conds:\n",
    "                cond1 = cond1 & (side_cond <= 0)\n",
    "                cond2 = cond2 & (side_cond >= 0)\n",
    "            total_cond = total_cond | cond1 | cond2\n",
    "\n",
    "if print_latex:\n",
    "    print(latex(total_cond))\n",
    "\n",
    "total_cond"
   ]
  },
  {
   "cell_type": "code",
   "execution_count": 355,
   "id": "b92c817f",
   "metadata": {},
   "outputs": [
    {
     "data": {
      "image/png": "[encoded data removed]",
      "text/latex": [
       "$\\displaystyle \\left[ \\left( -\\infty, \\  0\\right), \\  \\left( 0, \\  b\\right), \\  \\left( b, \\  \\infty\\right)\\right]$"
      ],
      "text/plain": [
       "[(-∞, 0), (0, b), (b, ∞)]"
      ]
     },
     "execution_count": 355,
     "metadata": {},
     "output_type": "execute_result"
    }
   ],
   "source": [
    "var_intervals"
   ]
  },
  {
   "cell_type": "code",
   "execution_count": 356,
   "id": "0724cb77",
   "metadata": {},
   "outputs": [
    {
     "data": {
      "image/png": "[encoded data removed]",
      "text/latex": [
       "$\\displaystyle \\left( -\\infty, \\  0\\right)$"
      ],
      "text/plain": [
       "(-∞, 0)"
      ]
     },
     "execution_count": 356,
     "metadata": {},
     "output_type": "execute_result"
    }
   ],
   "source": [
    "vi = var_intervals[0]\n",
    "vi"
   ]
  },
  {
   "cell_type": "code",
   "execution_count": 357,
   "id": "cc310d56",
   "metadata": {},
   "outputs": [
    {
     "data": {
      "image/png": "[encoded data removed]",
      "text/latex": [
       "$\\displaystyle \\left\\{ -\\infty : \\left[ c x^{2}\\right], \\  0 : \\left[ c x^{2}, \\  c x^{2}\\right], \\  \\infty : \\left[ b^{2} c + 2 b c \\left(- b + x\\right)\\right], \\  b : \\left[ c x^{2}, \\  b^{2} c + 2 b c \\left(- b + x\\right)\\right]\\right\\}$"
      ],
      "text/plain": [
       "⎧    ⎡   2⎤     ⎡   2     2⎤     ⎡ 2                   ⎤     ⎡   2   2                   ⎤⎫\n",
       "⎨-∞: ⎣c⋅x ⎦, 0: ⎣c⋅x , c⋅x ⎦, ∞: ⎣b ⋅c + 2⋅b⋅c⋅(-b + x)⎦, b: ⎣c⋅x , b ⋅c + 2⋅b⋅c⋅(-b + x)⎦⎬\n",
       "⎩                                                                                         ⎭"
      ]
     },
     "execution_count": 357,
     "metadata": {},
     "output_type": "execute_result"
    }
   ],
   "source": [
    "lookup_dict"
   ]
  },
  {
   "cell_type": "code",
   "execution_count": 358,
   "id": "aae95880",
   "metadata": {},
   "outputs": [
    {
     "data": {
      "image/png": "[encoded data removed]",
      "text/latex": [
       "$\\displaystyle \\left[ c x^{2}\\right]$"
      ],
      "text/plain": [
       "⎡   2⎤\n",
       "⎣c⋅x ⎦"
      ]
     },
     "execution_count": 358,
     "metadata": {},
     "output_type": "execute_result"
    }
   ],
   "source": [
    "lookup_dict[vi[0]]"
   ]
  },
  {
   "cell_type": "code",
   "execution_count": 359,
   "id": "0c500c23",
   "metadata": {},
   "outputs": [
    {
     "data": {
      "image/png": "[encoded data removed]",
      "text/latex": [
       "$\\displaystyle \\left[ c x^{2}, \\  c x^{2}\\right]$"
      ],
      "text/plain": [
       "⎡   2     2⎤\n",
       "⎣c⋅x , c⋅x ⎦"
      ]
     },
     "execution_count": 359,
     "metadata": {},
     "output_type": "execute_result"
    }
   ],
   "source": [
    "lookup_dict[vi[1]]"
   ]
  },
  {
   "cell_type": "code",
   "execution_count": 366,
   "id": "b761e0f4",
   "metadata": {},
   "outputs": [],
   "source": [
    "s1 = set(lookup_dict[vi[0]])\n",
    "s2 = set(lookup_dict[vi[1]])"
   ]
  },
  {
   "cell_type": "code",
   "execution_count": 367,
   "id": "d283d0ba",
   "metadata": {},
   "outputs": [
    {
     "data": {
      "image/png": "[encoded data removed]",
      "text/latex": [
       "$\\displaystyle \\left\\{c x^{2}\\right\\}$"
      ],
      "text/plain": [
       "⎧   2⎫\n",
       "⎨c⋅x ⎬\n",
       "⎩    ⎭"
      ]
     },
     "execution_count": 367,
     "metadata": {},
     "output_type": "execute_result"
    }
   ],
   "source": [
    "s1.intersection(s2)"
   ]
  },
  {
   "cell_type": "code",
   "execution_count": null,
   "id": "a6262272",
   "metadata": {},
   "outputs": [],
   "source": []
  }
 ],
 "metadata": {
  "kernelspec": {
   "display_name": "Python 3 (ipykernel)",
   "language": "python",
   "name": "python3"
  },
  "language_info": {
   "codemirror_mode": {
    "name": "ipython",
    "version": 3
   },
   "file_extension": ".py",
   "mimetype": "text/x-python",
   "name": "python",
   "nbconvert_exporter": "python",
   "pygments_lexer": "ipython3",
   "version": "3.9.10"
  }
 },
 "nbformat": 4,
 "nbformat_minor": 5
}
