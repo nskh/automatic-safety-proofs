{
 "cells": [
  {
   "cell_type": "code",
   "execution_count": 32,
   "id": "30d8df9b",
   "metadata": {},
   "outputs": [],
   "source": [
    "from sympy import *\n",
    "from safe_region_utils import *\n",
    "init_printing()\n",
    "\n",
    "%load_ext autoreload\n",
    "%autoreload 2"
   ]
  },
  {
   "cell_type": "markdown",
   "id": "acde9a80",
   "metadata": {},
   "source": [
    "## Setting up example"
   ]
  },
  {
   "cell_type": "code",
   "execution_count": 53,
   "id": "8c556969",
   "metadata": {},
   "outputs": [
    {
     "data": {
      "image/png": "[encoded data removed]",
      "text/plain": [
       "<Figure size 432x288 with 1 Axes>"
      ]
     },
     "metadata": {
      "needs_background": "light"
     },
     "output_type": "display_data"
    },
    {
     "data": {
      "image/png": "[encoded data removed]",
      "text/latex": [
       "$\\displaystyle \\left( \\left[ \\frac{\\pi}{2}, \\  \\pi, \\  \\frac{3 \\pi}{2}, \\  0\\right], \\  \\left[ \\left( \\operatorname{Point2D}\\left(w, - w\\right), \\  \\operatorname{Point2D}\\left(w, w\\right)\\right), \\  \\left( \\operatorname{Point2D}\\left(w, w\\right), \\  \\operatorname{Point2D}\\left(- w, w\\right)\\right), \\  \\left( \\operatorname{Point2D}\\left(- w, w\\right), \\  \\operatorname{Point2D}\\left(- w, - w\\right)\\right), \\  \\left( \\operatorname{Point2D}\\left(- w, - w\\right), \\  \\operatorname{Point2D}\\left(w, - w\\right)\\right)\\right]\\right)$"
      ],
      "text/plain": [
       "⎛⎡π     3⋅π   ⎤                                                                                                        \n",
       "⎜⎢─, π, ───, 0⎥, [(Point2D(w, -w), Point2D(w, w)), (Point2D(w, w), Point2D(-w, w)), (Point2D(-w, w), Point2D(-w, -w)), \n",
       "⎝⎣2      2    ⎦                                                                                                        \n",
       "\n",
       "                                  ⎞\n",
       "(Point2D(-w, -w), Point2D(w, -w))]⎟\n",
       "                                  ⎠"
      ]
     },
     "execution_count": 53,
     "metadata": {},
     "output_type": "execute_result"
    }
   ],
   "source": [
    "x, y = symbols(\"x y\")\n",
    "## Short Example ##\n",
    "w = 0.5\n",
    "square_points: list = [\n",
    "    geometry.Point(val) for val in [[w, -w], [w, w], [-w, w], [-w, -w]]\n",
    "]\n",
    "square: geometry.Polygon = Polygon(*square_points)\n",
    "plot_polygon(square)\n",
    "\n",
    "w = Symbol(\"w\", real=True, positive=True, nonzero=True)\n",
    "square_points: list = [\n",
    "    geometry.Point(val) for val in [[w, -w], [w, w], [-w, w], [-w, -w]]\n",
    "]\n",
    "square_param: geometry.Polygon = Polygon(*square_points)\n",
    "compute_polygon_angles(square_param)\n",
    "# traj_piecewise = Piecewise((sin(x / 2), x < 0), (x / 2, x >= 0))\n",
    "# plot(traj_piecewise)\n",
    "# plt.show()"
   ]
  },
  {
   "cell_type": "code",
   "execution_count": 49,
   "id": "28c0b2c0",
   "metadata": {},
   "outputs": [],
   "source": [
    "a = Symbol(\"a\", real=True, positive=True, nonzero=True)"
   ]
  },
  {
   "cell_type": "code",
   "execution_count": 45,
   "id": "ddbc5535",
   "metadata": {},
   "outputs": [],
   "source": [
    "traj = a*x**2"
   ]
  },
  {
   "cell_type": "code",
   "execution_count": 46,
   "id": "5d364a90",
   "metadata": {},
   "outputs": [
    {
     "data": {
      "image/png": "[encoded data removed]",
      "text/latex": [
       "$\\displaystyle \\left[ \\left\\{ x : 0\\right\\}\\right]$"
      ],
      "text/plain": [
       "[{x: 0}]"
      ]
     },
     "execution_count": 46,
     "metadata": {},
     "output_type": "execute_result"
    }
   ],
   "source": [
    "solve(Eq(diff(traj, x), 0))"
   ]
  },
  {
   "cell_type": "code",
   "execution_count": 51,
   "id": "16043f20",
   "metadata": {},
   "outputs": [
    {
     "name": "stdout",
     "output_type": "stream",
     "text": [
      "[Point2D(-12, 144*a), Point2D(0, 0), Point2D(9, 81*a)]\n",
      "-atan(12*a)\n",
      "Interval(0, pi/2)\n"
     ]
    },
    {
     "ename": "TypeError",
     "evalue": "did not evaluate to a bool: Mod(-atan(12*a), 2*pi) <= pi/2",
     "output_type": "error",
     "traceback": [
      "\u001b[0;31m---------------------------------------------------------------------------\u001b[0m",
      "\u001b[0;31mTypeError\u001b[0m                                 Traceback (most recent call last)",
      "Input \u001b[0;32mIn [51]\u001b[0m, in \u001b[0;36m<cell line: 6>\u001b[0;34m()\u001b[0m\n\u001b[1;32m      3\u001b[0m ybounds \u001b[38;5;241m=\u001b[39m [\u001b[38;5;241m-\u001b[39m\u001b[38;5;241m3\u001b[39m, \u001b[38;5;241m6\u001b[39m]\n\u001b[1;32m      4\u001b[0m example_name \u001b[38;5;241m=\u001b[39m \u001b[38;5;124m\"\u001b[39m\u001b[38;5;124mSine-Linear with Square\u001b[39m\u001b[38;5;124m\"\u001b[39m\n\u001b[0;32m----> 6\u001b[0m cond \u001b[38;5;241m=\u001b[39m \u001b[43mcompute_unsafe_cond\u001b[49m\u001b[43m(\u001b[49m\n\u001b[1;32m      7\u001b[0m \u001b[43m    \u001b[49m\u001b[43mx\u001b[49m\u001b[43m,\u001b[49m\n\u001b[1;32m      8\u001b[0m \u001b[43m    \u001b[49m\u001b[43my\u001b[49m\u001b[43m,\u001b[49m\n\u001b[1;32m      9\u001b[0m \u001b[43m    \u001b[49m\u001b[43msquare\u001b[49m\u001b[43m,\u001b[49m\n\u001b[1;32m     10\u001b[0m \u001b[43m    \u001b[49m\u001b[43mtraj\u001b[49m\u001b[43m,\u001b[49m\n\u001b[1;32m     11\u001b[0m \u001b[43m    \u001b[49m\u001b[43mdomain\u001b[49m\u001b[43m,\u001b[49m\n\u001b[1;32m     12\u001b[0m \u001b[43m)\u001b[49m\n\u001b[1;32m     13\u001b[0m \u001b[38;5;28mprint\u001b[39m(\u001b[38;5;124m\"\u001b[39m\u001b[38;5;124mBoolean condition for unsafe region:\u001b[39m\u001b[38;5;130;01m\\n\u001b[39;00m\u001b[38;5;124m\"\u001b[39m, cond)\n\u001b[1;32m     15\u001b[0m \u001b[38;5;28mprint\u001b[39m(\n\u001b[1;32m     16\u001b[0m     \u001b[38;5;124m\"\u001b[39m\u001b[38;5;130;01m\\n\u001b[39;00m\u001b[38;5;124mPlotting dot grid visualization of safe and unsafe regions. This may take up to 20 seconds to plot.\u001b[39m\u001b[38;5;130;01m\\n\u001b[39;00m\u001b[38;5;124mOnce displayed, close plot to continue example...\u001b[39m\u001b[38;5;130;01m\\n\u001b[39;00m\u001b[38;5;124m\"\u001b[39m\n\u001b[1;32m     17\u001b[0m )\n",
      "File \u001b[0;32m~/Dropbox (University of Michigan)/research/automatic-safety-proofs/safe_region_utils.py:348\u001b[0m, in \u001b[0;36mcompute_unsafe_cond\u001b[0;34m(x, y, poly, trajectory, domain, add_notches, print_latex)\u001b[0m\n\u001b[1;32m    346\u001b[0m         \u001b[38;5;28mprint\u001b[39m(v)\n\u001b[1;32m    347\u001b[0m         \u001b[38;5;66;03m# NOTE: fails for symbolic trajectory parameters\u001b[39;00m\n\u001b[0;32m--> 348\u001b[0m         \u001b[38;5;28;01mif\u001b[39;00m \u001b[43mmidpoint_angle\u001b[49m\u001b[43m \u001b[49m\u001b[38;5;241;43m%\u001b[39;49m\u001b[43m \u001b[49m\u001b[43m(\u001b[49m\u001b[38;5;241;43m2\u001b[39;49m\u001b[43m \u001b[49m\u001b[38;5;241;43m*\u001b[39;49m\u001b[43m \u001b[49m\u001b[43mpi\u001b[49m\u001b[43m)\u001b[49m\u001b[43m \u001b[49m\u001b[38;5;129;43;01min\u001b[39;49;00m\u001b[43m \u001b[49m\u001b[43mv\u001b[49m:\n\u001b[1;32m    349\u001b[0m             active_corners[midpoint_angle] \u001b[38;5;241m=\u001b[39m k\n\u001b[1;32m    350\u001b[0m var_intervals \u001b[38;5;241m=\u001b[39m \u001b[38;5;28mlist\u001b[39m(\n\u001b[1;32m    351\u001b[0m     \u001b[38;5;28mzip\u001b[39m(func_var_transitions[:\u001b[38;5;241m-\u001b[39m\u001b[38;5;241m1\u001b[39m], func_var_transitions[\u001b[38;5;241m1\u001b[39m:])\n\u001b[1;32m    352\u001b[0m )  \u001b[38;5;66;03m# same len as midpoints\u001b[39;00m\n",
      "File \u001b[0;32m~/miniforge3/lib/python3.9/site-packages/sympy/sets/sets.py:702\u001b[0m, in \u001b[0;36mSet.__contains__\u001b[0;34m(self, other)\u001b[0m\n\u001b[1;32m    698\u001b[0m b \u001b[38;5;241m=\u001b[39m tfn[c]\n\u001b[1;32m    699\u001b[0m \u001b[38;5;28;01mif\u001b[39;00m b \u001b[38;5;129;01mis\u001b[39;00m \u001b[38;5;28;01mNone\u001b[39;00m:\n\u001b[1;32m    700\u001b[0m     \u001b[38;5;66;03m# x in y must evaluate to T or F; to entertain a None\u001b[39;00m\n\u001b[1;32m    701\u001b[0m     \u001b[38;5;66;03m# result with Set use y.contains(x)\u001b[39;00m\n\u001b[0;32m--> 702\u001b[0m     \u001b[38;5;28;01mraise\u001b[39;00m \u001b[38;5;167;01mTypeError\u001b[39;00m(\u001b[38;5;124m'\u001b[39m\u001b[38;5;124mdid not evaluate to a bool: \u001b[39m\u001b[38;5;132;01m%r\u001b[39;00m\u001b[38;5;124m'\u001b[39m \u001b[38;5;241m%\u001b[39m c)\n\u001b[1;32m    703\u001b[0m \u001b[38;5;28;01mreturn\u001b[39;00m b\n",
      "\u001b[0;31mTypeError\u001b[0m: did not evaluate to a bool: Mod(-atan(12*a), 2*pi) <= pi/2"
     ]
    }
   ],
   "source": [
    "domain = Interval(-12, 9)\n",
    "xbounds = [-15, 12]\n",
    "ybounds = [-3, 6]\n",
    "example_name = \"Sine-Linear with Square\"\n",
    "\n",
    "cond = compute_unsafe_cond(\n",
    "    x,\n",
    "    y,\n",
    "    square,\n",
    "    traj,\n",
    "    domain,\n",
    ")\n",
    "print(\"Boolean condition for unsafe region:\\n\", cond)\n",
    "\n",
    "print(\n",
    "    \"\\nPlotting dot grid visualization of safe and unsafe regions. This may take up to 20 seconds to plot.\\nOnce displayed, close plot to continue example...\\n\"\n",
    ")\n",
    "\n",
    "plot_condition(x, y, cond, xbounds, ybounds, title=example_name)\n",
    "mathematica_output = print_mathematica(\n",
    "    x, y, cond, xbounds, ybounds, traj_piecewise, square\n",
    ")\n",
    "print(\"Mathematica command for plotting:\\n\", mathematica_output)\n"
   ]
  },
  {
   "cell_type": "code",
   "execution_count": null,
   "id": "59a08f16",
   "metadata": {},
   "outputs": [],
   "source": []
  }
 ],
 "metadata": {
  "kernelspec": {
   "display_name": "Python 3 (ipykernel)",
   "language": "python",
   "name": "python3"
  },
  "language_info": {
   "codemirror_mode": {
    "name": "ipython",
    "version": 3
   },
   "file_extension": ".py",
   "mimetype": "text/x-python",
   "name": "python",
   "nbconvert_exporter": "python",
   "pygments_lexer": "ipython3",
   "version": "3.9.10"
  }
 },
 "nbformat": 4,
 "nbformat_minor": 5
}
