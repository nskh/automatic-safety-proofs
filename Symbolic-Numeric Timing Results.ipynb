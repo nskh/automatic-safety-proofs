{
 "cells": [
  {
   "cell_type": "code",
   "execution_count": 222,
   "id": "73b8bc38",
   "metadata": {},
   "outputs": [
    {
     "name": "stdout",
     "output_type": "stream",
     "text": [
      "The autoreload extension is already loaded. To reload it, use:\n",
      "  %reload_ext autoreload\n"
     ]
    }
   ],
   "source": [
    "%load_ext autoreload\n",
    "%autoreload 2\n",
    "\n",
    "import time\n",
    "from sympy import *\n",
    "from safe_region_utils import *\n",
    "from symbolic_utils import *\n",
    "init_printing()"
   ]
  },
  {
   "cell_type": "markdown",
   "id": "3abfd4a3",
   "metadata": {},
   "source": [
    "# ACAS X Example with Rectangle"
   ]
  },
  {
   "cell_type": "code",
   "execution_count": 223,
   "id": "427d716d",
   "metadata": {},
   "outputs": [
    {
     "data": {
      "image/png": "[encoded data removed]",
      "text/latex": [
       "$\\displaystyle \\left[ \\operatorname{Point2D}\\left(w, - h\\right), \\  \\operatorname{Point2D}\\left(w, h\\right), \\  \\operatorname{Point2D}\\left(- w, h\\right), \\  \\operatorname{Point2D}\\left(- w, - h\\right)\\right]$"
      ],
      "text/plain": [
       "[Point2D(w, -h), Point2D(w, h), Point2D(-w, h), Point2D(-w, -h)]"
      ]
     },
     "execution_count": 223,
     "metadata": {},
     "output_type": "execute_result"
    }
   ],
   "source": [
    "rect_points"
   ]
  },
  {
   "cell_type": "code",
   "execution_count": 231,
   "id": "7184bc31",
   "metadata": {},
   "outputs": [],
   "source": [
    "params = []"
   ]
  },
  {
   "cell_type": "code",
   "execution_count": 241,
   "id": "b8db5305",
   "metadata": {},
   "outputs": [],
   "source": [
    "def full_acas_x_example(params=[]):\n",
    "    t0 = time.time()\n",
    "    x, y = symbols(\"x y\")\n",
    "    w = Symbol(\"w\", real=True, positive=True, nonzero=True)\n",
    "    h = Symbol(\"h\", real=True, positive=True, nonzero=True)\n",
    "    rect_points: list = [\n",
    "        geometry.Point(val) for val in [[w, -h], [w, h], [-w, h], [-w, -h]]\n",
    "    ]\n",
    "    rect_param: geometry.Polygon = Polygon(*rect_points)\n",
    "    c = Symbol(\"c\", real=True, nonzero=True) # curvature\n",
    "    b = Symbol('b', real=True, positive=True) # boundary\n",
    "    # b = Symbol('b', real=True) # boundary\n",
    "\n",
    "\n",
    "    # TODO: change trajectory to not have notch at x=0\n",
    "    traj_piecewise = Piecewise(\n",
    "                        (c*x**2, x < b),\n",
    "                        (2*b*c*(x-b) + b**2*c, x >= b),\n",
    "                    )\n",
    "    \n",
    "    piecewise_intervals = [Interval(-oo, b), Interval(b, oo)]\n",
    "    piecewise_intervals = [sub_int.subs(params) for sub_int in piecewise_intervals]\n",
    "    \n",
    "    clauses_acas, explicit_acas = compute_unsafe_conds_symbolic(\n",
    "        x, y,\n",
    "        rect_param.subs(params),\n",
    "        traj_piecewise.subs(params),\n",
    "        domain=Reals,\n",
    "        intervals = piecewise_intervals,\n",
    "    )\n",
    "    symbolic_time = time.time() - t0\n",
    "    print(f\"Took {symbolic_time} seconds to compute symbolic safe region\")\n",
    "    inst_begin_time = time.time()\n",
    "    \n",
    "    numeric_params = dict([(c, 0.25), (b, 2), (w, 2), (h, 1)])\n",
    "    for (k, v) in params:\n",
    "        if k in numeric_params:\n",
    "            numeric_params.pop(k)\n",
    "            \n",
    "    numeric_acas = explicit_acas.instantiate(list(numeric_params.items()))\n",
    "    inst_duration = time.time() - inst_begin_time\n",
    "    total_duration = time.time() - t0\n",
    "#     print(f\"Took {time.time() - t0} seconds to instantiate\")\n",
    "#     print(numeric_acas.ordering)\n",
    "#     numeric_acas.clause\n",
    "    print(f\"Took {inst_duration} seconds to instantiate and {total_duration} seconds total.\")\n",
    "    return symbolic_time, inst_duration, total_duration"
   ]
  },
  {
   "cell_type": "code",
   "execution_count": 243,
   "id": "b3b7b8f7",
   "metadata": {},
   "outputs": [
    {
     "name": "stdout",
     "output_type": "stream",
     "text": [
      "Took 0.3313920497894287 seconds to compute symbolic safe region\n",
      "Took 0.0005581378936767578 seconds to instantiate and 0.33202409744262695 seconds total.\n"
     ]
    },
    {
     "data": {
      "image/png": "[encoded data removed]",
      "text/latex": [
       "$\\displaystyle \\left( 0.331392049789429, \\  0.000558137893676758, \\  0.332024097442627\\right)$"
      ],
      "text/plain": [
       "(0.3313920497894287, 0.0005581378936767578, 0.33202409744262695)"
      ]
     },
     "execution_count": 243,
     "metadata": {},
     "output_type": "execute_result"
    }
   ],
   "source": [
    "full_acas_x_example()"
   ]
  },
  {
   "cell_type": "code",
   "execution_count": 244,
   "id": "8b81eef2",
   "metadata": {},
   "outputs": [
    {
     "name": "stdout",
     "output_type": "stream",
     "text": [
      "Took 0.2798631191253662 seconds to compute symbolic safe region\n",
      "Took 0.012840032577514648 seconds to instantiate and 0.2927742004394531 seconds total.\n"
     ]
    },
    {
     "data": {
      "image/png": "[encoded data removed]",
      "text/latex": [
       "$\\displaystyle \\left( 0.279863119125366, \\  0.0128400325775146, \\  0.292774200439453\\right)$"
      ],
      "text/plain": [
       "(0.2798631191253662, 0.012840032577514648, 0.2927742004394531)"
      ]
     },
     "execution_count": 244,
     "metadata": {},
     "output_type": "execute_result"
    }
   ],
   "source": [
    "params = [(c, 0.25), (b, 2)]\n",
    "full_acas_x_example(params)"
   ]
  },
  {
   "cell_type": "code",
   "execution_count": 245,
   "id": "973e16f5",
   "metadata": {},
   "outputs": [
    {
     "name": "stdout",
     "output_type": "stream",
     "text": [
      "Took 0.2816588878631592 seconds to compute symbolic safe region\n",
      "Took 0.049610137939453125 seconds to instantiate and 0.3313479423522949 seconds total.\n"
     ]
    },
    {
     "data": {
      "image/png": "[encoded data removed]",
      "text/latex": [
       "$\\displaystyle \\left( 0.281658887863159, \\  0.0496101379394531, \\  0.331347942352295\\right)$"
      ],
      "text/plain": [
       "(0.2816588878631592, 0.049610137939453125, 0.3313479423522949)"
      ]
     },
     "execution_count": 245,
     "metadata": {},
     "output_type": "execute_result"
    }
   ],
   "source": [
    "params = [(w, 2), (h, 1)]\n",
    "full_acas_x_example(params)"
   ]
  },
  {
   "cell_type": "code",
   "execution_count": 246,
   "id": "02fb8e93",
   "metadata": {},
   "outputs": [
    {
     "name": "stdout",
     "output_type": "stream",
     "text": [
      "Took 0.07285189628601074 seconds to compute symbolic safe region\n",
      "Took 0.0003561973571777344 seconds to instantiate and 0.07329726219177246 seconds total.\n"
     ]
    },
    {
     "data": {
      "image/png": "[encoded data removed]",
      "text/latex": [
       "$\\displaystyle \\left( 0.0728518962860107, \\  0.000356197357177734, \\  0.0732972621917725\\right)$"
      ],
      "text/plain": [
       "(0.07285189628601074, 0.0003561973571777344, 0.07329726219177246)"
      ]
     },
     "execution_count": 246,
     "metadata": {},
     "output_type": "execute_result"
    }
   ],
   "source": [
    "params = [(c, 0.25), (b, 2), (w, 2), (h, 1)]\n",
    "full_acas_x_example(params)"
   ]
  },
  {
   "cell_type": "code",
   "execution_count": null,
   "id": "06ead570",
   "metadata": {},
   "outputs": [],
   "source": []
  },
  {
   "cell_type": "code",
   "execution_count": 3,
   "id": "0adc494a",
   "metadata": {},
   "outputs": [],
   "source": [
    "x, y = symbols(\"x y\")\n",
    "w = Symbol(\"w\", real=True, positive=True, nonzero=True)\n",
    "h = Symbol(\"h\", real=True, positive=True, nonzero=True)\n",
    "rect_points: list = [\n",
    "    geometry.Point(val) for val in [[w, -h], [w, h], [-w, h], [-w, -h]]\n",
    "]\n",
    "rect_param: geometry.Polygon = Polygon(*rect_points)"
   ]
  },
  {
   "cell_type": "code",
   "execution_count": 59,
   "id": "94de4efa",
   "metadata": {},
   "outputs": [
    {
     "data": {
      "image/png": "[encoded data removed]",
      "text/latex": [
       "$\\displaystyle b c \\left(- b + 2 x\\right)$"
      ],
      "text/plain": [
       "b⋅c⋅(-b + 2⋅x)"
      ]
     },
     "execution_count": 59,
     "metadata": {},
     "output_type": "execute_result"
    }
   ],
   "source": [
    "simplify(2*b*c*(x-b) + b**2*c)"
   ]
  },
  {
   "cell_type": "code",
   "execution_count": 4,
   "id": "60782f04",
   "metadata": {},
   "outputs": [
    {
     "data": {
      "image/png": "[encoded data removed]",
      "text/plain": [
       "<Figure size 432x288 with 1 Axes>"
      ]
     },
     "metadata": {
      "needs_background": "light"
     },
     "output_type": "display_data"
    },
    {
     "data": {
      "text/latex": [
       "$\\displaystyle \\begin{cases} c x^{2} & \\text{for}\\: b > x \\\\b^{2} c + 2 b c \\left(- b + x\\right) & \\text{otherwise} \\end{cases}$"
      ],
      "text/plain": [
       "⎧           2                    \n",
       "⎪        c⋅x            for b > x\n",
       "⎨                                \n",
       "⎪ 2                              \n",
       "⎩b ⋅c + 2⋅b⋅c⋅(-b + x)  otherwise"
      ]
     },
     "execution_count": 4,
     "metadata": {},
     "output_type": "execute_result"
    }
   ],
   "source": [
    "c = Symbol(\"c\", real=True, nonzero=True) # curvature\n",
    "b = Symbol('b', real=True, positive=True) # boundary\n",
    "# b = Symbol('b', real=True) # boundary\n",
    "\n",
    "\n",
    "# TODO: change trajectory to not have notch at x=0\n",
    "traj_piecewise = Piecewise(\n",
    "                    (c*x**2, x < b),\n",
    "                    (2*b*c*(x-b) + b**2*c, x >= b),\n",
    "                )\n",
    "plot(traj_piecewise.subs(c, 0.25).subs(b, 4))\n",
    "traj_piecewise"
   ]
  },
  {
   "cell_type": "code",
   "execution_count": 5,
   "id": "9822a1ad",
   "metadata": {},
   "outputs": [],
   "source": [
    "piecewise_intervals = [Interval(-oo, b), Interval(b, oo)]"
   ]
  },
  {
   "cell_type": "code",
   "execution_count": 6,
   "id": "4c5860fe",
   "metadata": {},
   "outputs": [
    {
     "name": "stdout",
     "output_type": "stream",
     "text": [
      "[Boundary(-oo, oo*c),\n",
      "Transition(0, 0),\n",
      "Boundary(b, b**2*c),\n",
      "Boundary(oo, b**2*c + oo*c)]\n",
      "\n",
      "Took 0.0007829666137695312 seconds to compute 1 possible orderings.\n",
      "Took 0.20821785926818848 seconds to compute 1 clauses\n"
     ]
    }
   ],
   "source": [
    "clauses_acas, explicit_acas = compute_unsafe_conds_symbolic(\n",
    "    x, y,\n",
    "    rect_param,\n",
    "    traj_piecewise,\n",
    "    domain=Reals,\n",
    "    intervals = piecewise_intervals,\n",
    "    print_runtime=True,\n",
    "    print_orderings=True,\n",
    ")"
   ]
  },
  {
   "cell_type": "code",
   "execution_count": 13,
   "id": "5e11b172",
   "metadata": {},
   "outputs": [
    {
     "name": "stdout",
     "output_type": "stream",
     "text": [
      "Took 0.10971593856811523 seconds to instantiate\n",
      "[Boundary(-oo, oo*c), Transition(0, 0), Boundary(b, b**2*c), Boundary(oo, b**2*c + oo*c)]\n"
     ]
    },
    {
     "data": {
      "text/latex": [
       "$\\displaystyle \\left(x \\geq 0 \\wedge x \\geq 2 y \\wedge \\left(y - \\begin{cases} 1.0 & \\text{for}\\: x < 0 \\\\1.0 x + 1.0 & \\text{for}\\: x \\leq \\infty \\end{cases} + 1\\right) \\left(y - \\begin{cases} 1.0 & \\text{for}\\: x < 4 \\\\1.0 x - 3.0 & \\text{for}\\: x \\leq \\infty \\end{cases} - 1\\right) \\leq 0\\right) \\vee \\left(x \\geq 0 \\wedge x \\geq 4.0 - 2 y \\wedge \\left(y - \\begin{cases} 1.0 & \\text{for}\\: x < 0 \\\\1.0 x + 1.0 & \\text{for}\\: x \\leq \\infty \\end{cases} - 1\\right) \\left(y - \\begin{cases} 1.0 & \\text{for}\\: x < 4 \\\\1.0 x - 3.0 & \\text{for}\\: x \\leq \\infty \\end{cases} + 1\\right) \\leq 0\\right) \\vee \\left(x \\leq 2 \\wedge x \\leq - 2 y \\wedge \\left(y - \\begin{cases} 0.25 \\left(x - 2\\right)^{2} & \\text{for}\\: x \\leq 2 \\\\0 & \\text{otherwise} \\end{cases} + 1\\right) \\left(y - \\begin{cases} 0.25 \\left(x + 2\\right)^{2} & \\text{for}\\: x \\leq -2 \\\\0 & \\text{otherwise} \\end{cases} - 1\\right) \\leq 0\\right) \\vee \\left(x \\leq 2 \\wedge x \\leq 2 y \\wedge \\left(y - \\begin{cases} 0.25 \\left(x - 2\\right)^{2} & \\text{for}\\: x \\leq 2 \\\\0 & \\text{otherwise} \\end{cases} - 1\\right) \\left(y - \\begin{cases} 0.25 \\left(x + 2\\right)^{2} & \\text{for}\\: x \\leq -2 \\\\0 & \\text{otherwise} \\end{cases} + 1\\right) \\leq 0\\right) \\vee \\left(x \\geq -2 \\wedge x \\leq 4 \\wedge \\left(x + 2 y\\right) \\left(x + 2 y - 4.0\\right) \\leq 0 \\wedge \\left(y - \\begin{cases} 0 & \\text{for}\\: x < -2 \\\\0.25 \\left(x + 2\\right)^{2} & \\text{for}\\: x \\leq 0 \\\\1.0 & \\text{otherwise} \\end{cases} - 1\\right) \\left(y - \\begin{cases} 0 & \\text{for}\\: x < 2 \\\\0.25 \\left(x - 2\\right)^{2} & \\text{for}\\: x \\leq 4 \\\\1.0 & \\text{otherwise} \\end{cases} + 1\\right) \\leq 0\\right) \\vee \\left(x \\geq -2 \\wedge x \\leq 4 \\wedge \\left(y - \\begin{cases} 0 & \\text{for}\\: x < -2 \\\\0.25 \\left(x + 2\\right)^{2} & \\text{for}\\: x \\leq 0 \\\\1.0 & \\text{otherwise} \\end{cases} + 1\\right) \\left(y - \\begin{cases} 0 & \\text{for}\\: x < 2 \\\\0.25 \\left(x - 2\\right)^{2} & \\text{for}\\: x \\leq 4 \\\\1.0 & \\text{otherwise} \\end{cases} - 1\\right) \\leq 0 \\wedge \\left(- x + 2 y\\right)^{2} \\leq 0\\right) \\vee \\left(2 x \\geq 0 \\wedge 4 y \\geq 0 \\wedge 8 - 2 x \\geq 0 \\wedge 8.0 - 4 y \\geq 0\\right) \\vee \\left(4 - 2 x \\geq 0 \\wedge 4 - 4 y \\geq 0 \\wedge 2 x + 4 \\geq 0 \\wedge 4 y + 4 \\geq 0\\right) \\vee \\left(2 x \\leq 0 \\wedge 4 y \\leq 0 \\wedge 8 - 2 x \\leq 0 \\wedge 8.0 - 4 y \\leq 0\\right) \\vee \\left(4 - 2 x \\leq 0 \\wedge 4 - 4 y \\leq 0 \\wedge 2 x + 4 \\leq 0 \\wedge 4 y + 4 \\leq 0\\right)$"
      ],
      "text/plain": [
       "                                                                                                        \n",
       "                                                                                                        \n",
       "⎛                  ⎛    ⎛⎧    1.0      for x < 0⎞    ⎞ ⎛    ⎛⎧    1.0      for x < 4⎞    ⎞    ⎞   ⎛     \n",
       "⎜x ≥ 0 ∧ x ≥ 2⋅y ∧ ⎜y - ⎜⎨                      ⎟ + 1⎟⋅⎜y - ⎜⎨                      ⎟ - 1⎟ ≤ 0⎟ ∨ ⎜x ≥ 0\n",
       "⎝                  ⎝    ⎝⎩1.0⋅x + 1.0  for x ≤ ∞⎠    ⎠ ⎝    ⎝⎩1.0⋅x - 3.0  for x ≤ ∞⎠    ⎠    ⎠   ⎝     \n",
       "                                                                                                        \n",
       "                                                                                                        \n",
       "\n",
       "                                                                                                        \n",
       "                                                                                                  ⎛     \n",
       "                   ⎛    ⎛⎧    1.0      for x < 0⎞    ⎞ ⎛    ⎛⎧    1.0      for x < 4⎞    ⎞    ⎞   ⎜     \n",
       " ∧ x ≥ 4.0 - 2⋅y ∧ ⎜y - ⎜⎨                      ⎟ - 1⎟⋅⎜y - ⎜⎨                      ⎟ + 1⎟ ≤ 0⎟ ∨ ⎜x ≤ 2\n",
       "                   ⎝    ⎝⎩1.0⋅x + 1.0  for x ≤ ∞⎠    ⎠ ⎝    ⎝⎩1.0⋅x - 3.0  for x ≤ ∞⎠    ⎠    ⎠   ⎜     \n",
       "                                                                                                  ⎝     \n",
       "                                                                                                        \n",
       "\n",
       "                                                                                                        \n",
       "              ⎛    ⎛⎧            2           ⎞    ⎞ ⎛    ⎛⎧            2            ⎞    ⎞    ⎞   ⎛     \n",
       "              ⎜    ⎜⎪0.25⋅(x - 2)   for x ≤ 2⎟    ⎟ ⎜    ⎜⎪0.25⋅(x + 2)   for x ≤ -2⎟    ⎟    ⎟   ⎜     \n",
       " ∧ x ≤ -2⋅y ∧ ⎜y - ⎜⎨                        ⎟ + 1⎟⋅⎜y - ⎜⎨                         ⎟ - 1⎟ ≤ 0⎟ ∨ ⎜x ≤ 2\n",
       "              ⎜    ⎜⎪      0        otherwise⎟    ⎟ ⎜    ⎜⎪      0        otherwise ⎟    ⎟    ⎟   ⎜     \n",
       "              ⎝    ⎝⎩                        ⎠    ⎠ ⎝    ⎝⎩                         ⎠    ⎠    ⎠   ⎝     \n",
       "                                                                                                        \n",
       "\n",
       "                                                                                                 ⎛      \n",
       "             ⎛    ⎛⎧            2           ⎞    ⎞ ⎛    ⎛⎧            2            ⎞    ⎞    ⎞   ⎜      \n",
       "             ⎜    ⎜⎪0.25⋅(x - 2)   for x ≤ 2⎟    ⎟ ⎜    ⎜⎪0.25⋅(x + 2)   for x ≤ -2⎟    ⎟    ⎟   ⎜      \n",
       " ∧ x ≤ 2⋅y ∧ ⎜y - ⎜⎨                        ⎟ - 1⎟⋅⎜y - ⎜⎨                         ⎟ + 1⎟ ≤ 0⎟ ∨ ⎜x ≥ -2\n",
       "             ⎜    ⎜⎪      0        otherwise⎟    ⎟ ⎜    ⎜⎪      0        otherwise ⎟    ⎟    ⎟   ⎜      \n",
       "             ⎝    ⎝⎩                        ⎠    ⎠ ⎝    ⎝⎩                         ⎠    ⎠    ⎠   ⎜      \n",
       "                                                                                                 ⎝      \n",
       "\n",
       "                                           ⎛    ⎛⎧      0        for x < -2⎞    ⎞ ⎛    ⎛⎧      0        \n",
       "                                           ⎜    ⎜⎪                         ⎟    ⎟ ⎜    ⎜⎪               \n",
       "                                           ⎜    ⎜⎪            2            ⎟    ⎟ ⎜    ⎜⎪            2  \n",
       " ∧ x ≤ 4 ∧ (x + 2⋅y)⋅(x + 2⋅y - 4.0) ≤ 0 ∧ ⎜y - ⎜⎨0.25⋅(x + 2)   for x ≤ 0 ⎟ - 1⎟⋅⎜y - ⎜⎨0.25⋅(x - 2)   \n",
       "                                           ⎜    ⎜⎪                         ⎟    ⎟ ⎜    ⎜⎪               \n",
       "                                           ⎜    ⎜⎪     1.0       otherwise ⎟    ⎟ ⎜    ⎜⎪     1.0       \n",
       "                                           ⎝    ⎝⎩                         ⎠    ⎠ ⎝    ⎝⎩               \n",
       "\n",
       "for x < 2⎞    ⎞    ⎞   ⎛                 ⎛    ⎛⎧      0        for x < -2⎞    ⎞ ⎛    ⎛⎧      0        fo\n",
       "         ⎟    ⎟    ⎟   ⎜                 ⎜    ⎜⎪                         ⎟    ⎟ ⎜    ⎜⎪                 \n",
       "         ⎟    ⎟    ⎟   ⎜                 ⎜    ⎜⎪            2            ⎟    ⎟ ⎜    ⎜⎪            2    \n",
       "for x ≤ 4⎟ + 1⎟ ≤ 0⎟ ∨ ⎜x ≥ -2 ∧ x ≤ 4 ∧ ⎜y - ⎜⎨0.25⋅(x + 2)   for x ≤ 0 ⎟ + 1⎟⋅⎜y - ⎜⎨0.25⋅(x - 2)   fo\n",
       "         ⎟    ⎟    ⎟   ⎜                 ⎜    ⎜⎪                         ⎟    ⎟ ⎜    ⎜⎪                 \n",
       "otherwise⎟    ⎟    ⎟   ⎜                 ⎜    ⎜⎪     1.0       otherwise ⎟    ⎟ ⎜    ⎜⎪     1.0       ot\n",
       "         ⎠    ⎠    ⎠   ⎝                 ⎝    ⎝⎩                         ⎠    ⎠ ⎝    ⎝⎩                 \n",
       "\n",
       "r x < 2⎞    ⎞                      ⎞                                                                    \n",
       "       ⎟    ⎟                      ⎟                                                                    \n",
       "       ⎟    ⎟                 2    ⎟                                                                    \n",
       "r x ≤ 4⎟ - 1⎟ ≤ 0 ∧ (-x + 2⋅y)  ≤ 0⎟ ∨ (2⋅x ≥ 0 ∧ 4⋅y ≥ 0 ∧ 8 - 2⋅x ≥ 0 ∧ 8.0 - 4⋅y ≥ 0) ∨ (4 - 2⋅x ≥ 0 \n",
       "       ⎟    ⎟                      ⎟                                                                    \n",
       "herwise⎟    ⎟                      ⎟                                                                    \n",
       "       ⎠    ⎠                      ⎠                                                                    \n",
       "\n",
       "                                                                                                        \n",
       "                                                                                                        \n",
       "                                                                                                        \n",
       "∧ 4 - 4⋅y ≥ 0 ∧ 2⋅x + 4 ≥ 0 ∧ 4⋅y + 4 ≥ 0) ∨ (2⋅x ≤ 0 ∧ 4⋅y ≤ 0 ∧ 8 - 2⋅x ≤ 0 ∧ 8.0 - 4⋅y ≤ 0) ∨ (4 - 2⋅\n",
       "                                                                                                        \n",
       "                                                                                                        \n",
       "                                                                                                        \n",
       "\n",
       "                                                \n",
       "                                                \n",
       "                                                \n",
       "x ≤ 0 ∧ 4 - 4⋅y ≤ 0 ∧ 2⋅x + 4 ≤ 0 ∧ 4⋅y + 4 ≤ 0)\n",
       "                                                \n",
       "                                                \n",
       "                                                "
      ]
     },
     "execution_count": 13,
     "metadata": {},
     "output_type": "execute_result"
    }
   ],
   "source": [
    "params = [(c, 0.25), (b, 2), (w, 2), (h, 1)]\n",
    "t0 = time.time()\n",
    "numeric_acas = explicit_acas.instantiate(params)\n",
    "print(f\"Took {time.time() - t0} seconds to instantiate\")\n",
    "print(numeric_acas.ordering)\n",
    "numeric_acas.clause"
   ]
  },
  {
   "cell_type": "code",
   "execution_count": 15,
   "id": "131dfc01",
   "metadata": {},
   "outputs": [
    {
     "data": {
      "image/png": "[encoded data removed]",
      "text/plain": [
       "<Figure size 1200x800 with 1 Axes>"
      ]
     },
     "metadata": {
      "needs_background": "light"
     },
     "output_type": "display_data"
    }
   ],
   "source": [
    "xbounds = (-9, 18)\n",
    "ybounds = (-2, 20)\n",
    "resolution = 0.5\n",
    "plot_condition(x, y, numeric_acas.clause, xbounds, ybounds, resolution=resolution)"
   ]
  },
  {
   "cell_type": "code",
   "execution_count": null,
   "id": "827b00d0",
   "metadata": {},
   "outputs": [],
   "source": []
  },
  {
   "cell_type": "markdown",
   "id": "a4190c98",
   "metadata": {},
   "source": [
    "# Adler 2019 UAV"
   ]
  },
  {
   "cell_type": "code",
   "execution_count": 74,
   "id": "bb9f4d77",
   "metadata": {},
   "outputs": [],
   "source": [
    "def full_adler(params):\n",
    "    t0 = time.time()\n",
    "\n",
    "    x, y = symbols(\"x y\")\n",
    "    \n",
    "    R = Symbol(\"R\", real=True, positive=True, nonzero=True) \n",
    "    theta = Symbol('theta', real=True, positive=True, nonzero=True)\n",
    "    w = Symbol(\"w\", real=True, positive=True, nonzero=True) \n",
    "\n",
    "    hexagon = RegularPolygon(Point(0, 0), w, 6)\n",
    "\n",
    "    bound = R / sqrt(tan(theta)**2 + 1)\n",
    "\n",
    "    traj_piecewise = Piecewise(\n",
    "                        (sqrt(R**2 - x**2), x > bound),\n",
    "                        (-1/tan(theta)*(x-R*cos(theta)) + R*sin(theta), x <= bound))\n",
    "    \n",
    "    piecewise_intervals = [Interval(bound, R), Interval(-oo, bound)]\n",
    "    piecewise_intervals = [sub_int.subs(params) for sub_int in piecewise_intervals]\n",
    "\n",
    "    clauses_hex, explicit_hex = compute_unsafe_conds_symbolic(\n",
    "        x, y,\n",
    "        hexagon.subs(params),\n",
    "        traj_piecewise.subs(params),\n",
    "        domain=Reals,\n",
    "        intervals=piecewise_intervals,\n",
    "    )\n",
    "    \n",
    "    symbolic_time = time.time() - t0\n",
    "    print(f\"Took {symbolic_time} seconds to compute symbolic safe region\")\n",
    "    inst_begin_time = time.time()\n",
    "    \n",
    "    numeric_params = dict([(R, 4), (theta, pi/3), (w, 2)])\n",
    "    for (k, v) in params:\n",
    "        if k in numeric_params:\n",
    "            numeric_params.pop(k)\n",
    "            \n",
    "    numeric_acas = explicit_acas.instantiate(list(numeric_params.items()))\n",
    "    inst_duration = time.time() - inst_begin_time\n",
    "    total_duration = time.time() - t0\n",
    "#     print(f\"Took {time.time() - t0} seconds to instantiate\")\n",
    "#     print(numeric_acas.ordering)\n",
    "#     numeric_acas.clause\n",
    "    print(f\"Took {inst_duration} seconds to instantiate and {total_duration} seconds total.\")\n",
    "    return symbolic_time, inst_duration, total_duration    "
   ]
  },
  {
   "cell_type": "code",
   "execution_count": 75,
   "id": "80266d0c",
   "metadata": {},
   "outputs": [],
   "source": [
    "R = Symbol(\"R\", real=True, positive=True, nonzero=True) \n",
    "theta = Symbol('theta', real=True, positive=True, nonzero=True)\n",
    "w = Symbol(\"w\", real=True, positive=True, nonzero=True) "
   ]
  },
  {
   "cell_type": "code",
   "execution_count": 79,
   "id": "d39b8dd8",
   "metadata": {},
   "outputs": [
    {
     "name": "stdout",
     "output_type": "stream",
     "text": [
      "Took 44.97182321548462 seconds to compute symbolic safe region\n",
      "Took 0.04816007614135742 seconds to instantiate and 45.02008390426636 seconds total.\n"
     ]
    },
    {
     "data": {
      "image/png": "[encoded data removed]",
      "text/latex": [
       "$\\displaystyle \\left( 44.9718232154846, \\  0.0481600761413574, \\  45.0200839042664\\right)$"
      ],
      "text/plain": [
       "(44.97182321548462, 0.04816007614135742, 45.02008390426636)"
      ]
     },
     "execution_count": 79,
     "metadata": {},
     "output_type": "execute_result"
    }
   ],
   "source": [
    "full_adler([])"
   ]
  },
  {
   "cell_type": "code",
   "execution_count": 83,
   "id": "c1958bbb",
   "metadata": {},
   "outputs": [
    {
     "name": "stdout",
     "output_type": "stream",
     "text": [
      "Took 38.006564140319824 seconds to compute symbolic safe region\n",
      "Took 0.020237207412719727 seconds to instantiate and 38.0268931388855 seconds total.\n"
     ]
    },
    {
     "data": {
      "image/png": "[encoded data removed]",
      "text/latex": [
       "$\\displaystyle \\left( 38.0065641403198, \\  0.0202372074127197, \\  38.0268931388855\\right)$"
      ],
      "text/plain": [
       "(38.006564140319824, 0.020237207412719727, 38.0268931388855)"
      ]
     },
     "execution_count": 83,
     "metadata": {},
     "output_type": "execute_result"
    }
   ],
   "source": [
    "full_adler([(w, 2)])"
   ]
  },
  {
   "cell_type": "code",
   "execution_count": 220,
   "id": "ae59c8fd",
   "metadata": {},
   "outputs": [
    {
     "name": "stdout",
     "output_type": "stream",
     "text": [
      "Took 0.8217787742614746 seconds to compute symbolic safe region\n",
      "Took 6.508827209472656e-05 seconds to instantiate and 0.821915864944458 seconds total.\n"
     ]
    },
    {
     "data": {
      "image/png": "[encoded data removed]",
      "text/latex": [
       "$\\displaystyle \\left( 0.821778774261475, \\  6.50882720947266 \\cdot 10^{-5}, \\  0.821915864944458\\right)$"
      ],
      "text/plain": [
       "(0.8217787742614746, 6.508827209472656e-05, 0.821915864944458)"
      ]
     },
     "execution_count": 220,
     "metadata": {},
     "output_type": "execute_result"
    }
   ],
   "source": [
    "full_adler([(R, 4), (theta, pi/3)])"
   ]
  },
  {
   "cell_type": "code",
   "execution_count": 221,
   "id": "28c5dcd0",
   "metadata": {},
   "outputs": [
    {
     "name": "stdout",
     "output_type": "stream",
     "text": [
      "Took 0.48080897331237793 seconds to compute symbolic safe region\n",
      "Took 7.033348083496094e-05 seconds to instantiate and 0.48096799850463867 seconds total.\n"
     ]
    },
    {
     "data": {
      "image/png": "[encoded data removed]",
      "text/latex": [
       "$\\displaystyle \\left( 0.480808973312378, \\  7.03334808349609 \\cdot 10^{-5}, \\  0.480967998504639\\right)$"
      ],
      "text/plain": [
       "(0.48080897331237793, 7.033348083496094e-05, 0.48096799850463867)"
      ]
     },
     "execution_count": 221,
     "metadata": {},
     "output_type": "execute_result"
    }
   ],
   "source": [
    "full_adler([(R, 4), (theta, pi/3), (w, 2)])"
   ]
  },
  {
   "cell_type": "code",
   "execution_count": null,
   "id": "4a8e3692",
   "metadata": {},
   "outputs": [],
   "source": []
  },
  {
   "cell_type": "code",
   "execution_count": null,
   "id": "87efd9bf",
   "metadata": {},
   "outputs": [],
   "source": []
  },
  {
   "cell_type": "markdown",
   "id": "87979717",
   "metadata": {},
   "source": [
    "## Symbolic hexagon shape"
   ]
  },
  {
   "cell_type": "code",
   "execution_count": 209,
   "id": "a76b5d96",
   "metadata": {},
   "outputs": [],
   "source": [
    "params = [(R, 4), (theta, pi/3)]\n",
    "# params = [(theta, pi/3)]"
   ]
  },
  {
   "cell_type": "code",
   "execution_count": 210,
   "id": "a1123550",
   "metadata": {},
   "outputs": [
    {
     "data": {
      "image/png": "[encoded data removed]",
      "text/latex": [
       "$\\displaystyle \\operatorname{RegularPolygon}\\left(\\operatorname{Point2D}\\left(0, 0\\right), w, 6, 0\\right)$"
      ],
      "text/plain": [
       "RegularPolygon(Point2D(0, 0), w, 6, 0)"
      ]
     },
     "execution_count": 210,
     "metadata": {},
     "output_type": "execute_result"
    }
   ],
   "source": [
    "hexagon.subs(params)"
   ]
  },
  {
   "cell_type": "code",
   "execution_count": 211,
   "id": "b28e61cb",
   "metadata": {},
   "outputs": [
    {
     "data": {
      "image/png": "[encoded data removed]",
      "text/plain": [
       "<Figure size 432x288 with 1 Axes>"
      ]
     },
     "metadata": {
      "needs_background": "light"
     },
     "output_type": "display_data"
    },
    {
     "data": {
      "text/plain": [
       "<sympy.plotting.plot.Plot at 0x137ff2580>"
      ]
     },
     "execution_count": 211,
     "metadata": {},
     "output_type": "execute_result"
    }
   ],
   "source": [
    "plot(traj_piecewise.subs(params))"
   ]
  },
  {
   "cell_type": "code",
   "execution_count": 212,
   "id": "8b3a6e8c",
   "metadata": {},
   "outputs": [],
   "source": [
    "t0 = time.time()\n",
    "\n",
    "x, y = symbols(\"x y\")\n",
    "\n",
    "R = Symbol(\"R\", real=True, positive=True, nonzero=True) \n",
    "theta = Symbol('theta', real=True, positive=True, nonzero=True)\n",
    "w = Symbol(\"w\", real=True, positive=True, nonzero=True) \n",
    "\n",
    "hexagon = RegularPolygon(Point(0, 0), w, 6)\n",
    "\n",
    "bound = R / sqrt(tan(theta)**2 + 1)\n",
    "\n",
    "traj_piecewise = Piecewise(\n",
    "                    (sqrt(R**2 - x**2), x > bound),\n",
    "                    (-1/tan(theta)*(x-R*cos(theta)) + R*sin(theta), x <= bound))\n",
    "\n",
    "piecewise_intervals = [Interval(bound, R), Interval(-oo, bound)]\n",
    "piecewise_intervals = [sub_int.subs(params) for sub_int in piecewise_intervals]\n",
    "\n",
    "transitions, lookup, func_var = compute_all_transitions(\n",
    "    x,\n",
    "    y,\n",
    "#     hexagon,\n",
    "#     traj_piecewise,\n",
    "    hexagon.subs(params),\n",
    "    traj_piecewise.subs(params),\n",
    "    domain=Reals,\n",
    "    intervals=piecewise_intervals,\n",
    ")"
   ]
  },
  {
   "cell_type": "code",
   "execution_count": 213,
   "id": "148ce174",
   "metadata": {},
   "outputs": [
    {
     "data": {
      "text/latex": [
       "$\\displaystyle \\begin{cases} \\sqrt{16 - x^{2}} & \\text{for}\\: x > 2 \\\\- \\frac{\\sqrt{3} \\left(x - 2\\right)}{3} + 2 \\sqrt{3} & \\text{otherwise} \\end{cases}$"
      ],
      "text/plain": [
       "⎧      _________               \n",
       "⎪     ╱       2                \n",
       "⎪   ╲╱  16 - x        for x > 2\n",
       "⎨                              \n",
       "⎪  √3⋅(x - 2)                  \n",
       "⎪- ────────── + 2⋅√3  otherwise\n",
       "⎩      3                       "
      ]
     },
     "execution_count": 213,
     "metadata": {},
     "output_type": "execute_result"
    }
   ],
   "source": [
    "traj_piecewise.subs(params)"
   ]
  },
  {
   "cell_type": "code",
   "execution_count": 214,
   "id": "99ddd1fe",
   "metadata": {},
   "outputs": [
    {
     "data": {
      "text/plain": [
       "({Boundary(-oo, oo),\n",
       "  Boundary(2, 2*sqrt(3)),\n",
       "  Boundary(4, 0),\n",
       "  Transition(-2*sqrt(3), 2),\n",
       "  Transition(0, 4),\n",
       "  Transition(2*sqrt(3), 2)},\n",
       " {-2*sqrt(3): [sqrt(16 - x**2), sqrt(16 - x**2)],\n",
       "  0: [sqrt(16 - x**2), sqrt(16 - x**2)],\n",
       "  2*sqrt(3): [sqrt(16 - x**2), sqrt(16 - x**2)],\n",
       "  2: [sqrt(16 - x**2), -sqrt(3)*(x - 2)/3 + 2*sqrt(3)],\n",
       "  4: [sqrt(16 - x**2)],\n",
       "  -oo: [-sqrt(3)*(x - 2)/3 + 2*sqrt(3)]},\n",
       " x)"
      ]
     },
     "execution_count": 214,
     "metadata": {},
     "output_type": "execute_result"
    }
   ],
   "source": [
    "compute_all_transitions(x,y, hexagon, traj_piecewise.subs(params), domain=Reals, intervals =piecewise_intervals)"
   ]
  },
  {
   "cell_type": "code",
   "execution_count": 215,
   "id": "53772899",
   "metadata": {},
   "outputs": [
    {
     "data": {
      "text/plain": [
       "{Boundary(-oo, oo),\n",
       " Boundary(2, 2*sqrt(3)),\n",
       " Boundary(4, 0),\n",
       " Transition(-2*sqrt(3), 2),\n",
       " Transition(0, 4),\n",
       " Transition(2*sqrt(3), 2)}"
      ]
     },
     "execution_count": 215,
     "metadata": {},
     "output_type": "execute_result"
    }
   ],
   "source": [
    "transitions"
   ]
  },
  {
   "cell_type": "code",
   "execution_count": 216,
   "id": "eee25d36",
   "metadata": {},
   "outputs": [
    {
     "data": {
      "image/png": "[encoded data removed]",
      "text/latex": [
       "$\\displaystyle \\left\\{ -\\infty : \\left[ - \\frac{\\sqrt{3} \\left(x - 2\\right)}{3} + 2 \\sqrt{3}\\right], \\  0 : \\left[ \\sqrt{16 - x^{2}}, \\  \\sqrt{16 - x^{2}}\\right], \\  2 : \\left[ \\sqrt{16 - x^{2}}, \\  - \\frac{\\sqrt{3} \\left(x - 2\\right)}{3} + 2 \\sqrt{3}\\right], \\  4 : \\left[ \\sqrt{16 - x^{2}}\\right], \\  - 2 \\sqrt{3} : \\left[ \\sqrt{16 - x^{2}}, \\  \\sqrt{16 - x^{2}}\\right], \\  2 \\sqrt{3} : \\left[ \\sqrt{16 - x^{2}}, \\  \\sqrt{16 - x^{2}}\\right]\\right\\}$"
      ],
      "text/plain": [
       "⎧                              ⎡   _________     _________⎤     ⎡   _________                     ⎤     \n",
       "⎪    ⎡  √3⋅(x - 2)       ⎤     ⎢  ╱       2     ╱       2 ⎥     ⎢  ╱       2     √3⋅(x - 2)       ⎥     \n",
       "⎨-∞: ⎢- ────────── + 2⋅√3⎥, 0: ⎣╲╱  16 - x  , ╲╱  16 - x  ⎦, 2: ⎢╲╱  16 - x  , - ────────── + 2⋅√3⎥, 4: \n",
       "⎪    ⎣      3            ⎦                                      ⎣                    3            ⎦     \n",
       "⎩                                                                                                       \n",
       "\n",
       "⎡   _________⎤         ⎡   _________     _________⎤        ⎡   _________     _________⎤⎫\n",
       "⎢  ╱       2 ⎥         ⎢  ╱       2     ╱       2 ⎥        ⎢  ╱       2     ╱       2 ⎥⎪\n",
       "⎣╲╱  16 - x  ⎦, -2⋅√3: ⎣╲╱  16 - x  , ╲╱  16 - x  ⎦, 2⋅√3: ⎣╲╱  16 - x  , ╲╱  16 - x  ⎦⎬\n",
       "                                                                                       ⎪\n",
       "                                                                                       ⎭"
      ]
     },
     "execution_count": 216,
     "metadata": {},
     "output_type": "execute_result"
    }
   ],
   "source": [
    "lookup"
   ]
  },
  {
   "cell_type": "code",
   "execution_count": 217,
   "id": "e9dd045b",
   "metadata": {},
   "outputs": [
    {
     "name": "stdout",
     "output_type": "stream",
     "text": [
      "{2, -oo, 4}\n"
     ]
    }
   ],
   "source": [
    "transition_orderings = sort_or_order(transitions, lookup, func_var)"
   ]
  },
  {
   "cell_type": "code",
   "execution_count": 218,
   "id": "c8087e70",
   "metadata": {},
   "outputs": [
    {
     "data": {
      "text/plain": [
       "[[Boundary(-oo, oo), Boundary(2, 2*sqrt(3)), Boundary(4, 0)],\n",
       " [Boundary(-oo, oo),\n",
       "  Boundary(2, 2*sqrt(3)),\n",
       "  Transition(2*sqrt(3), 2),\n",
       "  Boundary(4, 0)]]"
      ]
     },
     "execution_count": 218,
     "metadata": {},
     "output_type": "execute_result"
    }
   ],
   "source": [
    "transition_orderings"
   ]
  },
  {
   "cell_type": "code",
   "execution_count": 196,
   "id": "80c929bd",
   "metadata": {},
   "outputs": [
    {
     "data": {
      "text/plain": [
       "{Boundary(-oo, oo),\n",
       " Boundary(R, 0),\n",
       " Boundary(R/2, sqrt(3)*R/2),\n",
       " Transition(-sqrt(3)*R/2, R/2),\n",
       " Transition(0, R),\n",
       " Transition(sqrt(3)*R/2, R/2)}"
      ]
     },
     "execution_count": 196,
     "metadata": {},
     "output_type": "execute_result"
    }
   ],
   "source": [
    "transitions"
   ]
  },
  {
   "cell_type": "code",
   "execution_count": 197,
   "id": "0dedfc4f",
   "metadata": {},
   "outputs": [
    {
     "data": {
      "text/plain": [
       "[[Boundary(-oo, oo), Boundary(R/2, sqrt(3)*R/2), Boundary(R, 0)],\n",
       " [Boundary(-oo, oo),\n",
       "  Boundary(R/2, sqrt(3)*R/2),\n",
       "  Transition(sqrt(3)*R/2, R/2),\n",
       "  Boundary(R, 0)]]"
      ]
     },
     "execution_count": 197,
     "metadata": {},
     "output_type": "execute_result"
    }
   ],
   "source": [
    "transition_orderings"
   ]
  },
  {
   "cell_type": "code",
   "execution_count": 198,
   "id": "988fc1ed",
   "metadata": {},
   "outputs": [
    {
     "data": {
      "text/plain": [
       "{0: [Transition(0, 4)],\n",
       " -2*sqrt(3): [Transition(-2*sqrt(3), 2)],\n",
       " 2*sqrt(3): [Transition(2*sqrt(3), 2)],\n",
       " 4: [Boundary(4, 0)],\n",
       " -oo: [Boundary(-oo, oo)],\n",
       " 2: [Boundary(2, 2*sqrt(3))]}"
      ]
     },
     "execution_count": 198,
     "metadata": {},
     "output_type": "execute_result"
    }
   ],
   "source": [
    "var_to_transition"
   ]
  },
  {
   "cell_type": "code",
   "execution_count": 199,
   "id": "dc4fd188",
   "metadata": {},
   "outputs": [],
   "source": [
    "var_to_transition: Dict = {}\n",
    "for transition in transitions:\n",
    "    lookup_coord = getattr(transition.point, str(func_var))\n",
    "    if lookup_coord in var_to_transition:\n",
    "        var_to_transition[lookup_coord].append(transition)\n",
    "    else:\n",
    "        var_to_transition[lookup_coord] = [transition]"
   ]
  },
  {
   "cell_type": "code",
   "execution_count": 142,
   "id": "e2b3b201",
   "metadata": {},
   "outputs": [
    {
     "data": {
      "text/plain": [
       "[[Boundary(-oo, oo),\n",
       "  Transition(-2*sqrt(3), 2),\n",
       "  Transition(0, 4),\n",
       "  Boundary(2, 2*sqrt(3)),\n",
       "  Transition(2*sqrt(3), 2),\n",
       "  Boundary(4, 0)]]"
      ]
     },
     "execution_count": 142,
     "metadata": {},
     "output_type": "execute_result"
    }
   ],
   "source": [
    "transition_orderings"
   ]
  },
  {
   "cell_type": "code",
   "execution_count": 158,
   "id": "2df44321",
   "metadata": {},
   "outputs": [],
   "source": [
    "t0 = [tp.point.x for tp in transition_orderings[0][1:]]"
   ]
  },
  {
   "cell_type": "code",
   "execution_count": 159,
   "id": "d2b43eb3",
   "metadata": {},
   "outputs": [
    {
     "name": "stdout",
     "output_type": "stream",
     "text": [
      "-2*sqrt(3)\n",
      "set()\n"
     ]
    },
    {
     "data": {
      "text/plain": [
       "False"
      ]
     },
     "execution_count": 159,
     "metadata": {},
     "output_type": "execute_result"
    }
   ],
   "source": [
    "check_ordering(t0, var_to_transition, lookup, True, False)"
   ]
  },
  {
   "cell_type": "code",
   "execution_count": 201,
   "id": "c36c7a90",
   "metadata": {},
   "outputs": [
    {
     "name": "stdout",
     "output_type": "stream",
     "text": [
      "{R/2, -oo, R}\n",
      "[Boundary(-oo, oo),\n",
      "Boundary(R/2, sqrt(3)*R/2),\n",
      "Boundary(R, 0)]\n",
      "[Boundary(-oo, oo),\n",
      "Boundary(R/2, sqrt(3)*R/2),\n",
      "Transition(sqrt(3)*R/2, R/2),\n",
      "Boundary(R, 0)]\n",
      "\n",
      "Took 0.0015139579772949219 seconds to compute 2 possible orderings.\n",
      "Took 1.0373399257659912 seconds to compute 2 clauses\n",
      "Took 48.55754899978638 seconds to compute symbolic safe region\n",
      "Took 0.03568220138549805 seconds to instantiate and 48.59331822395325 seconds total.\n"
     ]
    }
   ],
   "source": [
    "clauses_hex, explicit_hex = compute_unsafe_conds_symbolic(\n",
    "    x, y,\n",
    "    hexagon.subs(params),\n",
    "    traj_piecewise.subs(params),\n",
    "    domain=Reals,\n",
    "    intervals=piecewise_intervals,\n",
    "    print_runtime=True,\n",
    "    print_orderings=True,\n",
    ")\n",
    "\n",
    "symbolic_time = time.time() - t0\n",
    "print(f\"Took {symbolic_time} seconds to compute symbolic safe region\")\n",
    "inst_begin_time = time.time()\n",
    "\n",
    "numeric_params = dict([(R, 4), (theta, pi/3), (w, 2)])\n",
    "for (k, v) in params:\n",
    "    if k in numeric_params:\n",
    "        numeric_params.pop(k)\n",
    "\n",
    "numeric_acas = explicit_acas.instantiate(list(numeric_params.items()))\n",
    "inst_duration = time.time() - inst_begin_time\n",
    "total_duration = time.time() - t0\n",
    "#     print(f\"Took {time.time() - t0} seconds to instantiate\")\n",
    "#     print(numeric_acas.ordering)\n",
    "#     numeric_acas.clause\n",
    "print(f\"Took {inst_duration} seconds to instantiate and {total_duration} seconds total.\")"
   ]
  },
  {
   "cell_type": "code",
   "execution_count": null,
   "id": "5a946ffa",
   "metadata": {},
   "outputs": [],
   "source": [
    "params = [(R, 4), (theta, pi/3)]"
   ]
  }
 ],
 "metadata": {
  "kernelspec": {
   "display_name": "Python 3 (ipykernel)",
   "language": "python",
   "name": "python3"
  },
  "language_info": {
   "codemirror_mode": {
    "name": "ipython",
    "version": 3
   },
   "file_extension": ".py",
   "mimetype": "text/x-python",
   "name": "python",
   "nbconvert_exporter": "python",
   "pygments_lexer": "ipython3",
   "version": "3.9.10"
  }
 },
 "nbformat": 4,
 "nbformat_minor": 5
}
