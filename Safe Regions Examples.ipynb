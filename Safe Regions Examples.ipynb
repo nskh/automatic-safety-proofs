{
 "cells": [
  {
   "cell_type": "code",
   "execution_count": null,
   "id": "34ec0f7d",
   "metadata": {},
   "outputs": [],
   "source": [
    "%load_ext autoreload\n",
    "%autoreload 2\n",
    "\n",
    "from sympy import *\n",
    "from safe_region_utils import *\n",
    "init_printing()"
   ]
  },
  {
   "cell_type": "markdown",
   "id": "577f940c",
   "metadata": {},
   "source": [
    "# ACAS X Example"
   ]
  },
  {
   "cell_type": "markdown",
   "id": "b8b12e6f",
   "metadata": {},
   "source": [
    "## Define a polygon"
   ]
  },
  {
   "cell_type": "code",
   "execution_count": null,
   "id": "e6a630e6",
   "metadata": {},
   "outputs": [],
   "source": [
    "w = 0.75\n",
    "rect_points: list = [\n",
    "    geometry.Point(val)\n",
    "    for val in [[2 * w, -w], [2 * w, w], [-2 * w, w], [-2 * w, -w]]\n",
    "]\n",
    "rectangle: geometry.Polygon = Polygon(*rect_points)\n",
    "plot_polygon(rectangle)"
   ]
  },
  {
   "cell_type": "markdown",
   "id": "3e276816",
   "metadata": {},
   "source": [
    "## Define a trajectory"
   ]
  },
  {
   "cell_type": "code",
   "execution_count": null,
   "id": "411340c7",
   "metadata": {},
   "outputs": [],
   "source": [
    "x, y = symbols(\"x y\")\n",
    "\n",
    "traj_piecewise = Piecewise(\n",
    "                    (x**2 / 16, x < 4),\n",
    "                    (x/2 - 1, x >= 4))\n",
    "plot(traj_piecewise)"
   ]
  },
  {
   "cell_type": "markdown",
   "id": "34516bea",
   "metadata": {},
   "source": [
    "## Define domain and plotting bounds"
   ]
  },
  {
   "cell_type": "code",
   "execution_count": null,
   "id": "1de23915",
   "metadata": {},
   "outputs": [],
   "source": [
    "domain = Interval(-6, 15)\n",
    "xbounds = (domain.inf-3, domain.sup+3)\n",
    "ybounds = (-2, 9)"
   ]
  },
  {
   "cell_type": "code",
   "execution_count": null,
   "id": "ee4da5f6",
   "metadata": {},
   "outputs": [],
   "source": [
    "example_name = \"ACAS X Climb with Rectangle\"\n",
    "\n",
    "cond = compute_unsafe_cond(\n",
    "    x, y,\n",
    "    rectangle,\n",
    "    traj_piecewise,\n",
    "    domain = domain, \n",
    ")\n",
    "cond"
   ]
  },
  {
   "cell_type": "code",
   "execution_count": null,
   "id": "c2cdcb13",
   "metadata": {},
   "outputs": [],
   "source": [
    "plot_condition(x, y, cond, xbounds, ybounds, title=example_name)\n",
    "mathematica_output = print_mathematica(x, y, cond, xbounds, ybounds, traj_piecewise, rectangle)\n",
    "print(mathematica_output)"
   ]
  },
  {
   "cell_type": "markdown",
   "id": "9d70f2bd",
   "metadata": {},
   "source": [
    "# UAV top-down collision avoidance\n",
    "\n",
    "## Define a polygon"
   ]
  },
  {
   "cell_type": "code",
   "execution_count": null,
   "id": "58e726cd",
   "metadata": {},
   "outputs": [],
   "source": [
    "rp = 2\n",
    "hexagon = RegularPolygon(Point(0, 0), rp, 6)\n",
    "\n",
    "plot_polygon(hexagon)"
   ]
  },
  {
   "cell_type": "markdown",
   "id": "9b3dffca",
   "metadata": {},
   "source": [
    "## Define a trajectory"
   ]
  },
  {
   "cell_type": "code",
   "execution_count": null,
   "id": "fc524e59",
   "metadata": {},
   "outputs": [],
   "source": [
    "R = 10\n",
    "theta = pi/3\n",
    "# y = sqrt(R**2 - x**2)\n",
    "bound = R / sqrt(tan(theta)**2 + 1)\n",
    "\n",
    "traj_piecewise = Piecewise(\n",
    "                    (sqrt(R**2 - x**2), x > bound),\n",
    "                    (-1/tan(theta)*(x-R*cos(theta)) + R*sin(theta), x <= bound))\n",
    "plot(traj_piecewise)"
   ]
  },
  {
   "cell_type": "markdown",
   "id": "d9f90a29",
   "metadata": {},
   "source": [
    "## Define domain and plot bounds"
   ]
  },
  {
   "cell_type": "code",
   "execution_count": null,
   "id": "13ff0725",
   "metadata": {},
   "outputs": [],
   "source": [
    "domain = Interval(-12, 10)\n",
    "xbounds = (domain.inf-3, domain.sup+3)\n",
    "ybounds = (-3, 19)"
   ]
  },
  {
   "cell_type": "markdown",
   "id": "746c14e3",
   "metadata": {},
   "source": [
    "## Run algorithm"
   ]
  },
  {
   "cell_type": "code",
   "execution_count": null,
   "id": "5aaf6a87",
   "metadata": {},
   "outputs": [],
   "source": [
    "example_name = \"Top-Down UAV Trajectory\"\n",
    "\n",
    "cond = compute_unsafe_cond(\n",
    "    x, y,\n",
    "    hexagon,\n",
    "    traj_piecewise,\n",
    "    domain = domain, \n",
    ")\n",
    "cond"
   ]
  },
  {
   "cell_type": "code",
   "execution_count": null,
   "id": "a71ac1d0",
   "metadata": {},
   "outputs": [],
   "source": [
    "plot_condition(x, y, cond, xbounds, ybounds, title=example_name, resolution=0.75)\n",
    "mathematica_output = print_mathematica(x, y, cond, xbounds, ybounds, traj_piecewise, hexagon)\n",
    "print(mathematica_output)"
   ]
  },
  {
   "cell_type": "markdown",
   "id": "1de215db",
   "metadata": {},
   "source": [
    "# Short Examples"
   ]
  },
  {
   "cell_type": "code",
   "execution_count": null,
   "id": "22b3fbbd",
   "metadata": {},
   "outputs": [],
   "source": [
    "w = 0.5\n",
    "square_points: list = [\n",
    "    geometry.Point(val) for val in [[w, -w], [w, w], [-w, w], [-w, -w]]\n",
    "]\n",
    "square: geometry.Polygon = Polygon(*square_points)\n",
    "\n",
    "traj_piecewise = Piecewise(\n",
    "                    (sin(x/2), x < 0),\n",
    "                    (x/2, x >= 0))\n",
    "plot(traj_piecewise)"
   ]
  },
  {
   "cell_type": "code",
   "execution_count": null,
   "id": "6ea3c3b3",
   "metadata": {},
   "outputs": [],
   "source": [
    "domain = Interval(-12, 9)\n",
    "xbounds = [-15, 12]\n",
    "ybounds = [-3, 9]\n",
    "\n",
    "cond = compute_unsafe_cond(\n",
    "    x,\n",
    "    y,\n",
    "    square,\n",
    "    traj_piecewise,\n",
    "    domain,\n",
    ")\n",
    "\n",
    "cond"
   ]
  },
  {
   "cell_type": "code",
   "execution_count": null,
   "id": "fc0d49ac",
   "metadata": {},
   "outputs": [],
   "source": [
    "plot_condition(x, y, cond, xbounds, ybounds, title=example_name)\n",
    "mathematica_output = print_mathematica(x, y, cond, xbounds, ybounds, traj_piecewise, square, False)\n",
    "print(mathematica_output)"
   ]
  },
  {
   "cell_type": "markdown",
   "id": "ec4eab8d",
   "metadata": {},
   "source": [
    "## Testing $x = f(y)$"
   ]
  },
  {
   "cell_type": "code",
   "execution_count": null,
   "id": "4803bbf3",
   "metadata": {},
   "outputs": [],
   "source": [
    "square: geometry.Polygon = Polygon(*square_points)\n",
    "plot_polygon(square)\n",
    "\n",
    "domain = Interval(0, 10)\n",
    "traj_piecewise = Piecewise((4*sqrt(y), y < 1), (2*y + 2, y >= 1))\n",
    "# plot_implicit(traj_piecewise)"
   ]
  },
  {
   "cell_type": "code",
   "execution_count": null,
   "id": "a452fd44",
   "metadata": {},
   "outputs": [],
   "source": [
    "domain = Interval(0, 4)\n",
    "xbounds = [-2, 12]\n",
    "ybounds = [-2, 6]\n",
    "\n",
    "cond = compute_unsafe_cond(\n",
    "    x,\n",
    "    y,\n",
    "    square,\n",
    "    traj_piecewise,\n",
    "    domain,\n",
    ")\n",
    "cond"
   ]
  },
  {
   "cell_type": "code",
   "execution_count": null,
   "id": "16af5587",
   "metadata": {},
   "outputs": [],
   "source": [
    "mathematica_command = print_mathematica(x, y, cond, xbounds, ybounds, traj_piecewise, square)\n",
    "print(mathematica_command)"
   ]
  },
  {
   "cell_type": "code",
   "execution_count": null,
   "id": "bac4e656",
   "metadata": {},
   "outputs": [],
   "source": [
    "plot_condition(x, y, cond, xbounds, ybounds, title=\"f(y)\")"
   ]
  },
  {
   "cell_type": "markdown",
   "id": "821812d4",
   "metadata": {},
   "source": [
    "## Symbolic [in progress]"
   ]
  },
  {
   "cell_type": "code",
   "execution_count": null,
   "id": "e8e6698a",
   "metadata": {},
   "outputs": [],
   "source": [
    "a = Symbol(\"a\", real=True, nonzero=True)\n",
    "b = Symbol(\"b\", real=True, nonzero=True)\n",
    "c = Symbol(\"c\", real=True, nonzero=True)\n",
    "\n",
    "w = Symbol(\"w\", real=True, positive=True, nonzero=True)\n",
    "square_points: list = [\n",
    "    geometry.Point(val) for val in [[w, -w], [w, w], [-w, w], [-w, -w]]\n",
    "]\n",
    "square_param: geometry.Polygon = Polygon(*square_points)\n",
    "\n",
    "domain = Interval(-12, 9)\n",
    "xbounds = [-15, 12]\n",
    "ybounds = [-3, 6]\n",
    "example_name = \"Symbolic parabola\"\n",
    "\n",
    "traj = a*x**2 + b*x +c\n",
    "\n",
    "cond = compute_unsafe_cond_symbolic(\n",
    "    x,\n",
    "    y,\n",
    "    square_param,\n",
    "    traj,\n",
    "    Reals,\n",
    "    add_notches=False,\n",
    ")\n",
    "print(\"Boolean condition for unsafe region:\\n\", cond)"
   ]
  },
  {
   "cell_type": "code",
   "execution_count": null,
   "id": "adaa425d",
   "metadata": {},
   "outputs": [],
   "source": [
    "plot_condition(x, y, cond, xbounds, ybounds, title=example_name)"
   ]
  },
  {
   "cell_type": "code",
   "execution_count": null,
   "id": "7e540922",
   "metadata": {},
   "outputs": [],
   "source": [
    "plot_condition(x, y, cond.subs(a, 1/4).subs(b, 1).subs(c, 2).subs(w, 0.5), xbounds, ybounds, title=example_name)"
   ]
  },
  {
   "cell_type": "code",
   "execution_count": null,
   "id": "37e0546e",
   "metadata": {},
   "outputs": [],
   "source": []
  }
 ],
 "metadata": {
  "kernelspec": {
   "display_name": "Python 3 (ipykernel)",
   "language": "python",
   "name": "python3"
  },
  "language_info": {
   "codemirror_mode": {
    "name": "ipython",
    "version": 3
   },
   "file_extension": ".py",
   "mimetype": "text/x-python",
   "name": "python",
   "nbconvert_exporter": "python",
   "pygments_lexer": "ipython3",
   "version": "3.9.10"
  }
 },
 "nbformat": 4,
 "nbformat_minor": 5
}
