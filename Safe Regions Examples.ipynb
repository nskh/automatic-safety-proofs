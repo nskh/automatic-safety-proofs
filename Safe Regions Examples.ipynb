{
 "cells": [
  {
   "cell_type": "code",
   "execution_count": null,
   "id": "34ec0f7d",
   "metadata": {},
   "outputs": [],
   "source": [
    "%load_ext autoreload\n",
    "%autoreload 2\n",
    "\n",
    "from sympy import *\n",
    "from safe_region_utils import *\n",
    "init_printing()"
   ]
  },
  {
   "cell_type": "markdown",
   "id": "577f940c",
   "metadata": {},
   "source": [
    "# ACAS X Example"
   ]
  },
  {
   "cell_type": "markdown",
   "id": "b8b12e6f",
   "metadata": {},
   "source": [
    "## Define a polygon"
   ]
  },
  {
   "cell_type": "code",
   "execution_count": null,
   "id": "e6a630e6",
   "metadata": {},
   "outputs": [],
   "source": [
    "w = 0.75\n",
    "rect_points: list = [\n",
    "    geometry.Point(val)\n",
    "    for val in [[2 * w, -w], [2 * w, w], [-2 * w, w], [-2 * w, -w]]\n",
    "]\n",
    "rectangle: geometry.Polygon = Polygon(*rect_points)\n",
    "plot_polygon(rectangle)"
   ]
  },
  {
   "cell_type": "markdown",
   "id": "3e276816",
   "metadata": {},
   "source": [
    "## Define a trajectory"
   ]
  },
  {
   "cell_type": "code",
   "execution_count": null,
   "id": "411340c7",
   "metadata": {},
   "outputs": [],
   "source": [
    "x, y = symbols(\"x y\")\n",
    "\n",
    "traj_piecewise = Piecewise(\n",
    "                    (x**2 / 16, x < 4),\n",
    "                    (x/2 - 1, x >= 4))\n",
    "plot(traj_piecewise)"
   ]
  },
  {
   "cell_type": "markdown",
   "id": "34516bea",
   "metadata": {},
   "source": [
    "## Define domain and plotting bounds"
   ]
  },
  {
   "cell_type": "code",
   "execution_count": null,
   "id": "1de23915",
   "metadata": {},
   "outputs": [],
   "source": [
    "domain = Interval(-6, 15)\n",
    "xbounds = (domain.inf-3, domain.sup+3)\n",
    "ybounds = (-2, 9)"
   ]
  },
  {
   "cell_type": "code",
   "execution_count": null,
   "id": "ee4da5f6",
   "metadata": {},
   "outputs": [],
   "source": [
    "example_name = \"ACAS X Climb with Rectangle\"\n",
    "\n",
    "cond = compute_unsafe_cond(\n",
    "    x, y,\n",
    "    rectangle,\n",
    "    traj_piecewise,\n",
    "    domain = domain, \n",
    ")\n",
    "cond"
   ]
  },
  {
   "cell_type": "code",
   "execution_count": null,
   "id": "c2cdcb13",
   "metadata": {},
   "outputs": [],
   "source": [
    "# plot_condition(x, y, cond, xbounds, ybounds, title=example_name)\n",
    "mathematica_output = print_mathematica(x, y, cond, xbounds, ybounds, traj_piecewise, rectangle)\n",
    "print(mathematica_output)"
   ]
  },
  {
   "cell_type": "code",
   "execution_count": null,
   "id": "01640fbe",
   "metadata": {},
   "outputs": [],
   "source": [
    "(xbounds[1]+xbounds[0]) / 2"
   ]
  },
  {
   "cell_type": "markdown",
   "id": "9d70f2bd",
   "metadata": {},
   "source": [
    "# UAV top-down collision avoidance\n",
    "\n",
    "## Define a polygon"
   ]
  },
  {
   "cell_type": "code",
   "execution_count": null,
   "id": "eceeaf60",
   "metadata": {},
   "outputs": [],
   "source": []
  },
  {
   "cell_type": "code",
   "execution_count": null,
   "id": "58e726cd",
   "metadata": {},
   "outputs": [],
   "source": [
    "rp = 2\n",
    "hexagon = RegularPolygon(Point(0, 0), rp, 6)\n",
    "\n",
    "plot_polygon(hexagon)"
   ]
  },
  {
   "cell_type": "markdown",
   "id": "9b3dffca",
   "metadata": {},
   "source": [
    "## Define a trajectory"
   ]
  },
  {
   "cell_type": "code",
   "execution_count": null,
   "id": "fc524e59",
   "metadata": {},
   "outputs": [],
   "source": [
    "R = 10\n",
    "theta = pi/3\n",
    "# y = sqrt(R**2 - x**2)\n",
    "bound = R / sqrt(tan(theta)**2 + 1)\n",
    "\n",
    "traj_piecewise = Piecewise(\n",
    "                    (sqrt(R**2 - x**2), x > bound),\n",
    "                    (-1/tan(theta)*(x-R*cos(theta)) + R*sin(theta), x <= bound))\n",
    "plot(traj_piecewise)"
   ]
  },
  {
   "cell_type": "markdown",
   "id": "d9f90a29",
   "metadata": {},
   "source": [
    "## Define domain and plot bounds"
   ]
  },
  {
   "cell_type": "code",
   "execution_count": null,
   "id": "13ff0725",
   "metadata": {},
   "outputs": [],
   "source": [
    "domain = Interval(-12, 10)\n",
    "xbounds = (domain.inf-3, domain.sup+3)\n",
    "ybounds = (-3, 19)"
   ]
  },
  {
   "cell_type": "markdown",
   "id": "746c14e3",
   "metadata": {},
   "source": [
    "## Run algorithm"
   ]
  },
  {
   "cell_type": "code",
   "execution_count": null,
   "id": "5aaf6a87",
   "metadata": {},
   "outputs": [],
   "source": [
    "example_name = \"Top-Down UAV Trajectory\"\n",
    "\n",
    "cond = compute_unsafe_cond(\n",
    "    x, y,\n",
    "    hexagon,\n",
    "    traj_piecewise,\n",
    "    domain = domain, \n",
    ")\n",
    "cond"
   ]
  },
  {
   "cell_type": "code",
   "execution_count": null,
   "id": "a71ac1d0",
   "metadata": {},
   "outputs": [],
   "source": [
    "plot_condition(x, y, cond, xbounds, ybounds, title=example_name, resolution=0.75)\n",
    "mathematica_output = print_mathematica(x, y, cond, xbounds, ybounds, traj_piecewise, hexagon)\n",
    "print(mathematica_output)"
   ]
  },
  {
   "cell_type": "markdown",
   "id": "1de215db",
   "metadata": {},
   "source": [
    "# Short Examples"
   ]
  },
  {
   "cell_type": "code",
   "execution_count": null,
   "id": "22b3fbbd",
   "metadata": {},
   "outputs": [],
   "source": [
    "w = 0.5\n",
    "square_points: list = [\n",
    "    geometry.Point(val) for val in [[w, -w], [w, w], [-w, w], [-w, -w]]\n",
    "]\n",
    "square: geometry.Polygon = Polygon(*square_points)\n",
    "\n",
    "traj_piecewise = Piecewise(\n",
    "                    (sin(x/2), x < 0),\n",
    "                    (x/2, x >= 0))\n",
    "plot(traj_piecewise)"
   ]
  },
  {
   "cell_type": "code",
   "execution_count": null,
   "id": "d473cfce",
   "metadata": {},
   "outputs": [],
   "source": [
    "traj_piecewise.free_symbols"
   ]
  },
  {
   "cell_type": "code",
   "execution_count": null,
   "id": "6ea3c3b3",
   "metadata": {},
   "outputs": [],
   "source": [
    "domain = Interval(-12, 9)\n",
    "xbounds = [-15, 12]\n",
    "ybounds = [-3, 9]\n",
    "\n",
    "cond = compute_unsafe_cond(\n",
    "    x,\n",
    "    y,\n",
    "    square,\n",
    "    traj_piecewise,\n",
    "    domain,\n",
    ")\n",
    "\n",
    "cond"
   ]
  },
  {
   "cell_type": "code",
   "execution_count": null,
   "id": "fc0d49ac",
   "metadata": {},
   "outputs": [],
   "source": [
    "plot_condition(x, y, cond, xbounds, ybounds, title=example_name)\n",
    "mathematica_output = print_mathematica(x, y, cond, xbounds, ybounds, traj_piecewise, square, False)\n",
    "print(mathematica_output)"
   ]
  },
  {
   "cell_type": "code",
   "execution_count": null,
   "id": "526883de",
   "metadata": {},
   "outputs": [],
   "source": [
    "domain = Interval(-12, 9)\n",
    "xbounds = [-15, 12]\n",
    "ybounds = [-3, 9]\n",
    "\n",
    "cond = compute_unsafe_cond(\n",
    "    x,\n",
    "    y,\n",
    "    square,\n",
    "    0.8 * x,\n",
    "    domain,\n",
    ")\n",
    "\n",
    "cond"
   ]
  },
  {
   "cell_type": "code",
   "execution_count": null,
   "id": "e356a219",
   "metadata": {},
   "outputs": [],
   "source": [
    "plot_condition(x, y, cond, xbounds, ybounds, title=example_name)\n",
    "mathematica_output = print_mathematica(x, y, cond, xbounds, ybounds, traj_piecewise, square, False)\n",
    "print(mathematica_output)"
   ]
  },
  {
   "cell_type": "markdown",
   "id": "ec4eab8d",
   "metadata": {},
   "source": [
    "## Testing $x = f(y)$"
   ]
  },
  {
   "cell_type": "code",
   "execution_count": null,
   "id": "4803bbf3",
   "metadata": {},
   "outputs": [],
   "source": [
    "square: geometry.Polygon = Polygon(*square_points)\n",
    "plot_polygon(square)\n",
    "\n",
    "domain = Interval(0, 10)\n",
    "traj_piecewise = Piecewise((4*sqrt(y), y < 1), (2*y + 2, y >= 1))\n",
    "# plot_implicit(traj_piecewise)"
   ]
  },
  {
   "cell_type": "code",
   "execution_count": null,
   "id": "926f1fa8",
   "metadata": {},
   "outputs": [],
   "source": [
    "plot(traj_piecewise)"
   ]
  },
  {
   "cell_type": "code",
   "execution_count": null,
   "id": "25e38039",
   "metadata": {},
   "outputs": [],
   "source": [
    "plot_implicit(Eq(x, 2*y + 2))"
   ]
  },
  {
   "cell_type": "code",
   "execution_count": null,
   "id": "97efef3d",
   "metadata": {},
   "outputs": [],
   "source": [
    "plot_implicit(Eq(x, 4*sqrt(y)))"
   ]
  },
  {
   "cell_type": "code",
   "execution_count": null,
   "id": "a452fd44",
   "metadata": {},
   "outputs": [],
   "source": [
    "domain = Interval(0, 15)\n",
    "xbounds = [-2, 15]\n",
    "ybounds = [-3, 9]\n",
    "\n",
    "cond = compute_unsafe_cond(\n",
    "    x,\n",
    "    y,\n",
    "    square,\n",
    "    traj_piecewise,\n",
    "    domain,\n",
    ")\n",
    "cond"
   ]
  },
  {
   "cell_type": "code",
   "execution_count": null,
   "id": "16af5587",
   "metadata": {},
   "outputs": [],
   "source": [
    "mathematica_command = print_mathematica(x, y, cond, xbounds, ybounds, traj_piecewise, square)\n",
    "print(mathematica_command)"
   ]
  },
  {
   "cell_type": "code",
   "execution_count": null,
   "id": "20844101",
   "metadata": {},
   "outputs": [],
   "source": [
    "cond = compute_unsafe_cond(\n",
    "    x,\n",
    "    y,\n",
    "    hexagon,\n",
    "    4*sqrt(y),\n",
    "    domain,\n",
    ")\n",
    "cond"
   ]
  },
  {
   "cell_type": "code",
   "execution_count": null,
   "id": "e260b90c",
   "metadata": {},
   "outputs": [],
   "source": [
    "mathematica_command = print_mathematica(x, y, cond, xbounds, ybounds, 4*sqrt(y), hexagon)\n",
    "print(mathematica_command)"
   ]
  },
  {
   "cell_type": "code",
   "execution_count": null,
   "id": "eb789031",
   "metadata": {},
   "outputs": [],
   "source": [
    "plot_condition(x, y, cond, xbounds, ybounds, resolution=0.75, title=\"test\")"
   ]
  },
  {
   "cell_type": "code",
   "execution_count": null,
   "id": "386c3977",
   "metadata": {},
   "outputs": [],
   "source": [
    "diff(x**2 / 16, x).subs(x, 8*sqrt(3))"
   ]
  },
  {
   "cell_type": "code",
   "execution_count": null,
   "id": "54ad87fe",
   "metadata": {},
   "outputs": [],
   "source": [
    "plot_polygon(hexagon)  # side is 60 deg indeed"
   ]
  },
  {
   "cell_type": "code",
   "execution_count": null,
   "id": "7791bf3a",
   "metadata": {},
   "outputs": [],
   "source": [
    "diff(x**2 / 16, x)"
   ]
  },
  {
   "cell_type": "code",
   "execution_count": null,
   "id": "8cd868ca",
   "metadata": {},
   "outputs": [],
   "source": [
    "1 / diff(4*sqrt(y), y)"
   ]
  },
  {
   "cell_type": "code",
   "execution_count": null,
   "id": "5743ffcc",
   "metadata": {},
   "outputs": [],
   "source": [
    "x_val = 8\n",
    "y_val = (x**2 / 16).subs(x, x_val)\n",
    "y_val"
   ]
  },
  {
   "cell_type": "code",
   "execution_count": null,
   "id": "4ed90d26",
   "metadata": {},
   "outputs": [],
   "source": [
    "(4 * sqrt(y)).subs(y, y_val) == x_val"
   ]
  },
  {
   "cell_type": "code",
   "execution_count": null,
   "id": "aa8306d6",
   "metadata": {},
   "outputs": [],
   "source": [
    "diff(x**2 / 16, x).subs(x, x_val) == (1 / diff(4*sqrt(y), y)).subs(y, y_val)"
   ]
  },
  {
   "cell_type": "code",
   "execution_count": null,
   "id": "905b2547",
   "metadata": {},
   "outputs": [],
   "source": [
    "# seems this works\n",
    "for x_val in np.arange(0, 100):\n",
    "    y_val = (x**2 / 16).subs(x, x_val)\n",
    "    if (4 * sqrt(y)).subs(y, y_val) != x_val or diff(x**2 / 16, x).subs(x, x_val) != (1 / diff(4*sqrt(y), y)).subs(y, y_val):\n",
    "            print(x_val, y_val)"
   ]
  },
  {
   "cell_type": "code",
   "execution_count": null,
   "id": "b0aaf932",
   "metadata": {},
   "outputs": [],
   "source": [
    "if None:\n",
    "    print(\"test\")"
   ]
  },
  {
   "cell_type": "markdown",
   "id": "705527ee",
   "metadata": {},
   "source": [
    "## testing slope sym"
   ]
  },
  {
   "cell_type": "code",
   "execution_count": null,
   "id": "cea4d1f9",
   "metadata": {},
   "outputs": [],
   "source": [
    "plot_polygon(hexagon)\n",
    "angles, vertex_pairs = compute_polygon_angles(hexagon)\n",
    "angles"
   ]
  },
  {
   "cell_type": "code",
   "execution_count": null,
   "id": "a38ce833",
   "metadata": {},
   "outputs": [],
   "source": [
    "type(sin_traj)"
   ]
  },
  {
   "cell_type": "code",
   "execution_count": null,
   "id": "fb81147c",
   "metadata": {},
   "outputs": [],
   "source": [
    "sin_traj = sin(2*x)\n",
    "plot(sin_traj)"
   ]
  },
  {
   "cell_type": "code",
   "execution_count": null,
   "id": "c7beb0f9",
   "metadata": {},
   "outputs": [],
   "source": [
    "slope_sym(sin_traj, x, y)"
   ]
  },
  {
   "cell_type": "code",
   "execution_count": null,
   "id": "ce2d84b6",
   "metadata": {},
   "outputs": [],
   "source": [
    "slope_sym(-y + sin_traj, x, y)"
   ]
  },
  {
   "cell_type": "code",
   "execution_count": null,
   "id": "839f7619",
   "metadata": {},
   "outputs": [],
   "source": [
    "diff(sin_traj, x)"
   ]
  },
  {
   "cell_type": "code",
   "execution_count": null,
   "id": "339f55ff",
   "metadata": {},
   "outputs": [],
   "source": [
    "dtrans, settrans = find_transitions(-y + sin_traj, angles, x, y, domain = Interval(-10, 10))"
   ]
  },
  {
   "cell_type": "code",
   "execution_count": null,
   "id": "09b7dfb8",
   "metadata": {},
   "outputs": [],
   "source": [
    "dtrans[pi/3]"
   ]
  },
  {
   "cell_type": "code",
   "execution_count": null,
   "id": "2b73ac22",
   "metadata": {},
   "outputs": [],
   "source": [
    "dtrans[4*pi/3]"
   ]
  },
  {
   "cell_type": "code",
   "execution_count": null,
   "id": "039a1208",
   "metadata": {},
   "outputs": [],
   "source": [
    "dtrans[2*pi/3]"
   ]
  },
  {
   "cell_type": "code",
   "execution_count": null,
   "id": "9d990d71",
   "metadata": {},
   "outputs": [],
   "source": [
    "dtrans[5*pi/3]"
   ]
  },
  {
   "cell_type": "code",
   "execution_count": null,
   "id": "0db12e78",
   "metadata": {},
   "outputs": [],
   "source": [
    "diff(sin_traj, x).subs(x, pi/12)"
   ]
  },
  {
   "cell_type": "code",
   "execution_count": null,
   "id": "fe2929fe",
   "metadata": {},
   "outputs": [],
   "source": [
    "diff(sin_traj, x).subs(x, 11*pi/12)"
   ]
  },
  {
   "cell_type": "code",
   "execution_count": null,
   "id": "2e0f3cad",
   "metadata": {},
   "outputs": [],
   "source": [
    "diff(sin_traj, x).subs(x, 13*pi/12)"
   ]
  },
  {
   "cell_type": "code",
   "execution_count": null,
   "id": "7241a0ac",
   "metadata": {},
   "outputs": [],
   "source": [
    "dtrans, settrans = find_transitions(-sin_traj, angles, x, y, domain = Interval(-10, 10))"
   ]
  },
  {
   "cell_type": "code",
   "execution_count": null,
   "id": "95f8b769",
   "metadata": {},
   "outputs": [],
   "source": [
    "plot(-sin_traj)"
   ]
  },
  {
   "cell_type": "code",
   "execution_count": null,
   "id": "f9b7a61c",
   "metadata": {},
   "outputs": [],
   "source": [
    "slope_sym"
   ]
  },
  {
   "cell_type": "code",
   "execution_count": null,
   "id": "3bb80300",
   "metadata": {},
   "outputs": [],
   "source": [
    "piecewise_traj"
   ]
  },
  {
   "cell_type": "markdown",
   "id": "c000e081",
   "metadata": {},
   "source": [
    "## testing left inclusive piecewise filtering"
   ]
  },
  {
   "cell_type": "code",
   "execution_count": null,
   "id": "b0cb9ab7",
   "metadata": {},
   "outputs": [],
   "source": [
    "w = 0.5\n",
    "square_points: list = [\n",
    "    geometry.Point(val) for val in [[w, -w], [w, w], [-w, w], [-w, -w]]\n",
    "]\n",
    "square: geometry.Polygon = Polygon(*square_points)\n",
    "\n",
    "traj_piecewise = Piecewise(\n",
    "                    (sin(x/2), x < 0),\n",
    "                    (x/2, x >= 0))\n",
    "plot(traj_piecewise)"
   ]
  },
  {
   "cell_type": "code",
   "execution_count": null,
   "id": "ab7ab8a9",
   "metadata": {},
   "outputs": [],
   "source": [
    "traj_piecewise = Piecewise(\n",
    "                    (sin(x/2), x <= 0),\n",
    "                    (x/2, x >= 0))\n",
    "plot(traj_piecewise)\n",
    "\n",
    "piece = Interval(0, 5)\n",
    "traj_piecewise.as_expr_set_pairs(piece)"
   ]
  },
  {
   "cell_type": "code",
   "execution_count": null,
   "id": "f037d326",
   "metadata": {},
   "outputs": [],
   "source": [
    "len(traj_piecewise.as_expr_set_pairs(piece))"
   ]
  },
  {
   "cell_type": "code",
   "execution_count": null,
   "id": "70147c8c",
   "metadata": {},
   "outputs": [],
   "source": [
    "traj_piecewise = Piecewise(\n",
    "                    (sin(x/2), x <= 0),\n",
    "                    (x/2, x > 0))\n",
    "plot(traj_piecewise)\n",
    "\n",
    "piece = Interval(0, 5)\n",
    "traj_piecewise.as_expr_set_pairs(piece)"
   ]
  },
  {
   "cell_type": "code",
   "execution_count": null,
   "id": "fcc4a383",
   "metadata": {},
   "outputs": [],
   "source": [
    "traj_piecewise = Piecewise(\n",
    "                    (sin(x/2), x < 0),\n",
    "                    (x/2, x > 0))\n",
    "plot(traj_piecewise)\n",
    "\n",
    "piece = Interval(0, 5)\n",
    "traj_piecewise.as_expr_set_pairs(piece)"
   ]
  },
  {
   "cell_type": "code",
   "execution_count": null,
   "id": "1560391a",
   "metadata": {},
   "outputs": [],
   "source": [
    "# left inclusive will get it first, which is bad - use open intervals to query?"
   ]
  },
  {
   "cell_type": "code",
   "execution_count": null,
   "id": "fb500ede",
   "metadata": {},
   "outputs": [],
   "source": [
    "traj_piecewise = Piecewise(\n",
    "                    (sin(x/2), x <= 0),\n",
    "                    (x/2, x >= 0))\n",
    "plot(traj_piecewise)\n",
    "\n",
    "piece = Interval.open(0, 5)\n",
    "traj_piecewise.as_expr_set_pairs(piece)"
   ]
  },
  {
   "cell_type": "code",
   "execution_count": null,
   "id": "b862ced0",
   "metadata": {},
   "outputs": [],
   "source": [
    "traj_piecewise = Piecewise(\n",
    "                    (sin(x/2), x <= 0),\n",
    "                    (x/2, x > 0))\n",
    "plot(traj_piecewise)\n",
    "\n",
    "piece = Interval.open(0, 5)\n",
    "traj_piecewise.as_expr_set_pairs(piece)"
   ]
  },
  {
   "cell_type": "code",
   "execution_count": null,
   "id": "9f91dcd9",
   "metadata": {},
   "outputs": [],
   "source": [
    "len(traj_piecewise.as_expr_set_pairs(piece))"
   ]
  },
  {
   "cell_type": "code",
   "execution_count": null,
   "id": "49b49fbd",
   "metadata": {},
   "outputs": [],
   "source": [
    "# open intervals seem to fix boundary problems"
   ]
  }
 ],
 "metadata": {
  "kernelspec": {
   "display_name": "Python 3 (ipykernel)",
   "language": "python",
   "name": "python3"
  },
  "language_info": {
   "codemirror_mode": {
    "name": "ipython",
    "version": 3
   },
   "file_extension": ".py",
   "mimetype": "text/x-python",
   "name": "python",
   "nbconvert_exporter": "python",
   "pygments_lexer": "ipython3",
   "version": "3.9.7"
  }
 },
 "nbformat": 4,
 "nbformat_minor": 5
}
