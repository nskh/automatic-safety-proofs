{
 "cells": [
  {
   "cell_type": "code",
   "execution_count": 1,
   "id": "34ec0f7d",
   "metadata": {},
   "outputs": [],
   "source": [
    "%load_ext autoreload\n",
    "%autoreload 2\n",
    "\n",
    "from sympy import *\n",
    "from safe_region_utils import *\n",
    "from symbolic_utils import *\n",
    "init_printing()"
   ]
  },
  {
   "cell_type": "markdown",
   "id": "577f940c",
   "metadata": {},
   "source": [
    "# ACAS X Example"
   ]
  },
  {
   "cell_type": "markdown",
   "id": "b8b12e6f",
   "metadata": {},
   "source": [
    "## Define a polygon"
   ]
  },
  {
   "cell_type": "code",
   "execution_count": 73,
   "id": "e6a630e6",
   "metadata": {},
   "outputs": [
    {
     "data": {
      "image/png": "[encoded data removed]",
      "text/plain": [
       "<Figure size 432x288 with 1 Axes>"
      ]
     },
     "metadata": {
      "needs_background": "light"
     },
     "output_type": "display_data"
    }
   ],
   "source": [
    "w = 0.75\n",
    "rect_points: list = [\n",
    "    geometry.Point(val)\n",
    "    for val in [[2 * w, -w], [2 * w, w], [-2 * w, w], [-2 * w, -w]]\n",
    "]\n",
    "rectangle: geometry.Polygon = Polygon(*rect_points)\n",
    "plot_polygon(rectangle)"
   ]
  },
  {
   "cell_type": "markdown",
   "id": "3e276816",
   "metadata": {},
   "source": [
    "## Define a trajectory"
   ]
  },
  {
   "cell_type": "code",
   "execution_count": 2,
   "id": "411340c7",
   "metadata": {},
   "outputs": [
    {
     "data": {
      "image/png": "[encoded data removed]",
      "text/plain": [
       "<Figure size 432x288 with 1 Axes>"
      ]
     },
     "metadata": {
      "needs_background": "light"
     },
     "output_type": "display_data"
    },
    {
     "data": {
      "text/plain": [
       "<sympy.plotting.plot.Plot at 0x1069cc970>"
      ]
     },
     "execution_count": 2,
     "metadata": {},
     "output_type": "execute_result"
    }
   ],
   "source": [
    "x, y = symbols(\"x y\")\n",
    "\n",
    "traj_piecewise = Piecewise(\n",
    "                    (x**2 / 16, x < 4),\n",
    "                    (x/2 - 1, x >= 4))\n",
    "plot(traj_piecewise)"
   ]
  },
  {
   "cell_type": "markdown",
   "id": "34516bea",
   "metadata": {},
   "source": [
    "## Define domain and plotting bounds"
   ]
  },
  {
   "cell_type": "code",
   "execution_count": 75,
   "id": "1de23915",
   "metadata": {},
   "outputs": [],
   "source": [
    "domain = Interval(-6, 15)\n",
    "xbounds = (domain.inf-3, domain.sup+3)\n",
    "ybounds = (-2, 9)"
   ]
  },
  {
   "cell_type": "code",
   "execution_count": 76,
   "id": "ee4da5f6",
   "metadata": {},
   "outputs": [
    {
     "name": "stdout",
     "output_type": "stream",
     "text": [
      "solveset solution: EmptySet\n",
      "solveset solution: {0}\n",
      "solution when finding transitions for angle pi: {0}\n",
      "solveset solution: EmptySet\n",
      "solveset solution: {0}\n",
      "solution when finding transitions for angle 0: {0}\n",
      "pair used for transition point finding: {x: 0}\n",
      "pair used for transition point finding: {x: 0}\n",
      "solveset solution: EmptySet\n",
      "solveset solution: EmptySet\n",
      "solveset solution: EmptySet\n",
      "solveset solution: EmptySet\n"
     ]
    },
    {
     "data": {
      "text/latex": [
       "$\\displaystyle \\left(x \\geq - \\frac{15}{2} \\wedge x \\leq \\frac{3}{2} \\wedge \\left(\\frac{3 x}{4} - \\frac{3 y}{2}\\right) \\left(\\frac{3 x}{4} - \\frac{3 y}{2} + \\frac{63}{8}\\right) \\leq 0 \\wedge \\left(y - \\begin{cases} \\frac{9}{4} & \\text{for}\\: x < - \\frac{15}{2} \\\\\\frac{\\left(x + \\frac{3}{2}\\right)^{2}}{16} & \\text{for}\\: x \\leq - \\frac{3}{2} \\\\0 & \\text{otherwise} \\end{cases} + \\frac{3}{4}\\right) \\left(y - \\begin{cases} \\frac{9}{4} & \\text{for}\\: x < - \\frac{9}{2} \\\\\\frac{\\left(x - \\frac{3}{2}\\right)^{2}}{16} & \\text{for}\\: x \\leq \\frac{3}{2} \\\\0 & \\text{otherwise} \\end{cases} - \\frac{3}{4}\\right) \\leq 0\\right) \\vee \\left(x \\geq - \\frac{3}{2} \\wedge x \\leq \\frac{11}{2} \\wedge \\left(\\frac{3 x}{4} + \\frac{3 y}{2}\\right) \\left(\\frac{3 x}{4} + \\frac{3 y}{2} - \\frac{9}{2}\\right) \\leq 0 \\wedge \\left(y - \\begin{cases} 0 & \\text{for}\\: x < - \\frac{3}{2} \\\\\\frac{\\left(x + \\frac{3}{2}\\right)^{2}}{16} & \\text{for}\\: x \\leq \\frac{5}{2} \\\\1 & \\text{otherwise} \\end{cases} - \\frac{3}{4}\\right) \\left(y - \\begin{cases} 0 & \\text{for}\\: x < \\frac{3}{2} \\\\\\frac{\\left(x - \\frac{3}{2}\\right)^{2}}{16} & \\text{for}\\: x \\leq \\frac{11}{2} \\\\1 & \\text{otherwise} \\end{cases} + \\frac{3}{4}\\right) \\leq 0\\right) \\vee \\left(x \\geq \\frac{5}{2} \\wedge x \\leq \\frac{33}{2} \\wedge \\left(\\frac{3 x}{4} + \\frac{3 y}{2} - 21\\right) \\left(\\frac{3 x}{4} + \\frac{3 y}{2} - \\frac{9}{2}\\right) \\leq 0 \\wedge \\left(y - \\begin{cases} 1 & \\text{for}\\: x < \\frac{5}{2} \\\\\\frac{x}{2} - \\frac{1}{4} & \\text{for}\\: x \\leq \\frac{27}{2} \\\\\\frac{13}{2} & \\text{otherwise} \\end{cases} - \\frac{3}{4}\\right) \\left(y - \\begin{cases} 1 & \\text{for}\\: x < \\frac{11}{2} \\\\\\frac{x}{2} - \\frac{7}{4} & \\text{for}\\: x \\leq \\frac{33}{2} \\\\\\frac{13}{2} & \\text{otherwise} \\end{cases} + \\frac{3}{4}\\right) \\leq 0\\right) \\vee \\left(\\frac{9}{4} - \\frac{3 x}{2} \\geq 0 \\wedge \\frac{9}{4} - 3 y \\geq 0 \\wedge \\frac{3 x}{2} + \\frac{9}{4} \\geq 0 \\wedge 3 y + \\frac{9}{4} \\geq 0\\right) \\vee \\left(\\frac{21}{4} - 3 y \\geq 0 \\wedge \\frac{33}{4} - \\frac{3 x}{2} \\geq 0 \\wedge \\frac{3 x}{2} - \\frac{15}{4} \\geq 0 \\wedge 3 y - \\frac{3}{4} \\geq 0\\right) \\vee \\left(9 - 3 y \\geq 0 \\wedge - \\frac{3 x}{2} - \\frac{27}{4} \\geq 0 \\wedge \\frac{3 x}{2} + \\frac{45}{4} \\geq 0 \\wedge 3 y - \\frac{9}{2} \\geq 0\\right) \\vee \\left(\\frac{87}{4} - 3 y \\geq 0 \\wedge \\frac{99}{4} - \\frac{3 x}{2} \\geq 0 \\wedge \\frac{3 x}{2} - \\frac{81}{4} \\geq 0 \\wedge 3 y - \\frac{69}{4} \\geq 0\\right) \\vee \\left(\\frac{9}{4} - \\frac{3 x}{2} \\leq 0 \\wedge \\frac{9}{4} - 3 y \\leq 0 \\wedge \\frac{3 x}{2} + \\frac{9}{4} \\leq 0 \\wedge 3 y + \\frac{9}{4} \\leq 0\\right) \\vee \\left(\\frac{21}{4} - 3 y \\leq 0 \\wedge \\frac{33}{4} - \\frac{3 x}{2} \\leq 0 \\wedge \\frac{3 x}{2} - \\frac{15}{4} \\leq 0 \\wedge 3 y - \\frac{3}{4} \\leq 0\\right) \\vee \\left(9 - 3 y \\leq 0 \\wedge - \\frac{3 x}{2} - \\frac{27}{4} \\leq 0 \\wedge \\frac{3 x}{2} + \\frac{45}{4} \\leq 0 \\wedge 3 y - \\frac{9}{2} \\leq 0\\right) \\vee \\left(\\frac{87}{4} - 3 y \\leq 0 \\wedge \\frac{99}{4} - \\frac{3 x}{2} \\leq 0 \\wedge \\frac{3 x}{2} - \\frac{81}{4} \\leq 0 \\wedge 3 y - \\frac{69}{4} \\leq 0\\right)$"
      ],
      "text/plain": [
       "⎛                                                         ⎛    ⎛⎧   9/4      for x < -15/2⎞    ⎞ ⎛    ⎛⎧\n",
       "⎜                                                         ⎜    ⎜⎪                         ⎟    ⎟ ⎜    ⎜⎪\n",
       "⎜                                                         ⎜    ⎜⎪         2               ⎟    ⎟ ⎜    ⎜⎪\n",
       "⎜                      ⎛3⋅x   3⋅y⎞ ⎛3⋅x   3⋅y   63⎞       ⎜    ⎜⎪(x + 3/2)                ⎟   3⎟ ⎜    ⎜⎪\n",
       "⎜x ≥ -15/2 ∧ x ≤ 3/2 ∧ ⎜─── - ───⎟⋅⎜─── - ─── + ──⎟ ≤ 0 ∧ ⎜y - ⎜⎨──────────  for x ≤ -3/2 ⎟ + ─⎟⋅⎜y - ⎜⎨\n",
       "⎜                      ⎝ 4     2 ⎠ ⎝ 4     2    8 ⎠       ⎜    ⎜⎪    16                   ⎟   4⎟ ⎜    ⎜⎪\n",
       "⎜                                                         ⎜    ⎜⎪                         ⎟    ⎟ ⎜    ⎜⎪\n",
       "⎜                                                         ⎜    ⎜⎪    0         otherwise  ⎟    ⎟ ⎜    ⎜⎪\n",
       "⎝                                                         ⎝    ⎝⎩                         ⎠    ⎠ ⎝    ⎝⎩\n",
       "\n",
       "   9/4      for x < -9/2⎞    ⎞    ⎞   ⎛                                                        ⎛    ⎛⎧  \n",
       "                        ⎟    ⎟    ⎟   ⎜                                                        ⎜    ⎜⎪  \n",
       "         2              ⎟    ⎟    ⎟   ⎜                                                        ⎜    ⎜⎪  \n",
       "(x - 3/2)               ⎟   3⎟    ⎟   ⎜                      ⎛3⋅x   3⋅y⎞ ⎛3⋅x   3⋅y   9⎞       ⎜    ⎜⎪(x\n",
       "──────────  for x ≤ 3/2 ⎟ - ─⎟ ≤ 0⎟ ∨ ⎜x ≥ -3/2 ∧ x ≤ 11/2 ∧ ⎜─── + ───⎟⋅⎜─── + ─── - ─⎟ ≤ 0 ∧ ⎜y - ⎜⎨──\n",
       "    16                  ⎟   4⎟    ⎟   ⎜                      ⎝ 4     2 ⎠ ⎝ 4     2    2⎠       ⎜    ⎜⎪  \n",
       "                        ⎟    ⎟    ⎟   ⎜                                                        ⎜    ⎜⎪  \n",
       "    0        otherwise  ⎟    ⎟    ⎟   ⎜                                                        ⎜    ⎜⎪  \n",
       "                        ⎠    ⎠    ⎠   ⎝                                                        ⎝    ⎝⎩  \n",
       "\n",
       "  0       for x < -3/2⎞    ⎞ ⎛    ⎛⎧    0       for x < 3/2 ⎞    ⎞    ⎞                                 \n",
       "                      ⎟    ⎟ ⎜    ⎜⎪                        ⎟    ⎟    ⎟   ⎛                             \n",
       "       2              ⎟    ⎟ ⎜    ⎜⎪         2              ⎟    ⎟    ⎟   ⎜                             \n",
       " + 3/2)               ⎟   3⎟ ⎜    ⎜⎪(x - 3/2)               ⎟   3⎟    ⎟   ⎜                     ⎛3⋅x   3\n",
       "────────  for x ≤ 5/2 ⎟ - ─⎟⋅⎜y - ⎜⎨──────────  for x ≤ 11/2⎟ + ─⎟ ≤ 0⎟ ∨ ⎜x ≥ 5/2 ∧ x ≤ 33/2 ∧ ⎜─── + ─\n",
       "  16                  ⎟   4⎟ ⎜    ⎜⎪    16                  ⎟   4⎟    ⎟   ⎜                     ⎝ 4     \n",
       "                      ⎟    ⎟ ⎜    ⎜⎪                        ⎟    ⎟    ⎟   ⎜                             \n",
       "  1        otherwise  ⎟    ⎟ ⎜    ⎜⎪    1        otherwise  ⎟    ⎟    ⎟   ⎝                             \n",
       "                      ⎠    ⎠ ⎝    ⎝⎩                        ⎠    ⎠    ⎠                                 \n",
       "\n",
       "                                                                                                        \n",
       "                               ⎛    ⎛⎧  1    for x < 5/2 ⎞    ⎞ ⎛    ⎛⎧  1    for x < 11/2⎞    ⎞    ⎞   \n",
       "                               ⎜    ⎜⎪                   ⎟    ⎟ ⎜    ⎜⎪                   ⎟    ⎟    ⎟   \n",
       "⋅y     ⎞ ⎛3⋅x   3⋅y   9⎞       ⎜    ⎜⎪x   1              ⎟   3⎟ ⎜    ⎜⎪x   7              ⎟   3⎟    ⎟   \n",
       "── - 21⎟⋅⎜─── + ─── - ─⎟ ≤ 0 ∧ ⎜y - ⎜⎨─ - ─  for x ≤ 27/2⎟ - ─⎟⋅⎜y - ⎜⎨─ - ─  for x ≤ 33/2⎟ + ─⎟ ≤ 0⎟ ∨ \n",
       "2      ⎠ ⎝ 4     2    2⎠       ⎜    ⎜⎪2   4              ⎟   4⎟ ⎜    ⎜⎪2   4              ⎟   4⎟    ⎟   \n",
       "                               ⎜    ⎜⎪                   ⎟    ⎟ ⎜    ⎜⎪                   ⎟    ⎟    ⎟   \n",
       "                               ⎝    ⎝⎩13/2    otherwise  ⎠    ⎠ ⎝    ⎝⎩13/2    otherwise  ⎠    ⎠    ⎠   \n",
       "                                                                                                        \n",
       "\n",
       "                                                                                                        \n",
       "                                                                                                        \n",
       "                                                                                                        \n",
       "⎛9   3⋅x                       3⋅x   9                    ⎞   ⎛                 33   3⋅x       3⋅x   15 \n",
       "⎜─ - ─── ≥ 0 ∧ 9/4 - 3⋅y ≥ 0 ∧ ─── + ─ ≥ 0 ∧ 3⋅y + 9/4 ≥ 0⎟ ∨ ⎜21/4 - 3⋅y ≥ 0 ∧ ── - ─── ≥ 0 ∧ ─── - ── \n",
       "⎝4    2                         2    4                    ⎠   ⎝                 4     2         2    4  \n",
       "                                                                                                        \n",
       "                                                                                                        \n",
       "                                                                                                        \n",
       "\n",
       "                                                                                                        \n",
       "                                                                                                        \n",
       "                                                                                                        \n",
       "                   ⎞   ⎛                3⋅x   27       3⋅x   45                    ⎞   ⎛                \n",
       "≥ 0 ∧ 3⋅y - 3/4 ≥ 0⎟ ∨ ⎜9 - 3⋅y ≥ 0 ∧ - ─── - ── ≥ 0 ∧ ─── + ── ≥ 0 ∧ 3⋅y - 9/2 ≥ 0⎟ ∨ ⎜87/4 - 3⋅y ≥ 0 ∧\n",
       "                   ⎠   ⎝                 2    4         2    4                     ⎠   ⎝                \n",
       "                                                                                                        \n",
       "                                                                                                        \n",
       "                                                                                                        \n",
       "\n",
       "                                                                                                        \n",
       "                                                                                                        \n",
       "                                                                                                        \n",
       " 99   3⋅x       3⋅x   81                     ⎞   ⎛9   3⋅x                       3⋅x   9                 \n",
       " ── - ─── ≥ 0 ∧ ─── - ── ≥ 0 ∧ 3⋅y - 69/4 ≥ 0⎟ ∨ ⎜─ - ─── ≤ 0 ∧ 9/4 - 3⋅y ≤ 0 ∧ ─── + ─ ≤ 0 ∧ 3⋅y + 9/4 \n",
       " 4     2         2    4                      ⎠   ⎝4    2                         2    4                 \n",
       "                                                                                                        \n",
       "                                                                                                        \n",
       "                                                                                                        \n",
       "\n",
       "                                                                                                        \n",
       "                                                                                                        \n",
       "                                                                                                        \n",
       "   ⎞   ⎛                 33   3⋅x       3⋅x   15                    ⎞   ⎛                3⋅x   27       \n",
       "≤ 0⎟ ∨ ⎜21/4 - 3⋅y ≤ 0 ∧ ── - ─── ≤ 0 ∧ ─── - ── ≤ 0 ∧ 3⋅y - 3/4 ≤ 0⎟ ∨ ⎜9 - 3⋅y ≤ 0 ∧ - ─── - ── ≤ 0 ∧ \n",
       "   ⎠   ⎝                 4     2         2    4                     ⎠   ⎝                 2    4        \n",
       "                                                                                                        \n",
       "                                                                                                        \n",
       "                                                                                                        \n",
       "\n",
       "                                                                                               \n",
       "                                                                                               \n",
       "                                                                                               \n",
       "3⋅x   45                    ⎞   ⎛                 99   3⋅x       3⋅x   81                     ⎞\n",
       "─── + ── ≤ 0 ∧ 3⋅y - 9/2 ≤ 0⎟ ∨ ⎜87/4 - 3⋅y ≤ 0 ∧ ── - ─── ≤ 0 ∧ ─── - ── ≤ 0 ∧ 3⋅y - 69/4 ≤ 0⎟\n",
       " 2    4                     ⎠   ⎝                 4     2         2    4                      ⎠\n",
       "                                                                                               \n",
       "                                                                                               \n",
       "                                                                                               "
      ]
     },
     "execution_count": 76,
     "metadata": {},
     "output_type": "execute_result"
    }
   ],
   "source": [
    "example_name = \"ACAS X Climb with Rectangle\"\n",
    "\n",
    "cond = compute_unsafe_cond(\n",
    "    x, y,\n",
    "    rectangle,\n",
    "    traj_piecewise,\n",
    "    domain = domain, \n",
    ")\n",
    "cond"
   ]
  },
  {
   "cell_type": "code",
   "execution_count": 77,
   "id": "c2cdcb13",
   "metadata": {},
   "outputs": [
    {
     "data": {
      "image/png": "[encoded data removed]",
      "text/plain": [
       "<Figure size 1200x800 with 1 Axes>"
      ]
     },
     "metadata": {
      "needs_background": "light"
     },
     "output_type": "display_data"
    },
    {
     "name": "stdout",
     "output_type": "stream",
     "text": [
      "\n",
      "Show[\n",
      "    RegionPlot[((9/4 - 3*x/2 >= 0) && (9/4 - 3*y >= 0) && (3*x/2 + 9/4 >= 0) && (3*y + 9/4 >= 0)) || ((21/4 - 3*y >= 0) && (33/4 - 3*x/2 >= 0) && (3*x/2 - 15/4 >= 0) && (3*y - 3/4 >= 0)) || ((9 - 3*y >= 0) && (-3*x/2 - 27/4 >= 0) && (3*x/2 + 45/4 >= 0) && (3*y - 9/2 >= 0)) || ((87/4 - 3*y >= 0) && (99/4 - 3*x/2 >= 0) && (3*x/2 - 81/4 >= 0) && (3*y - 69/4 >= 0)) || ((9/4 - 3*x/2 <= 0) && (9/4 - 3*y <= 0) && (3*x/2 + 9/4 <= 0) && (3*y + 9/4 <= 0)) || ((21/4 - 3*y <= 0) && (33/4 - 3*x/2 <= 0) && (3*x/2 - 15/4 <= 0) && (3*y - 3/4 <= 0)) || ((9 - 3*y <= 0) && (-3*x/2 - 27/4 <= 0) && (3*x/2 + 45/4 <= 0) && (3*y - 9/2 <= 0)) || ((87/4 - 3*y <= 0) && (99/4 - 3*x/2 <= 0) && (3*x/2 - 81/4 <= 0) && (3*y - 69/4 <= 0)) || ((x >= 5/2) && (x <= 33/2) && ((3*x/4 + 3*y/2 - 21)*(3*x/4 + 3*y/2 - 9/2) <= 0) && ((y - Piecewise[{{1, x < 5/2}, {x/2 - 1/4, x <= 27/2}, {13/2, True}}] - 3/4)*(y - Piecewise[{{1, x < 11/2}, {x/2 - 7/4, x <= 33/2}, {13/2, True}}] + 3/4) <= 0)) || ((x >= -15/2) && (x <= 3/2) && ((3*x/4 - 3*y/2)*(3*x/4 - 3*y/2 + 63/8) <= 0) && ((y - Piecewise[{{9/4, x < -15/2}, {(x + 3/2)^2/16, x <= -3/2}, {0, True}}] + 3/4)*(y - Piecewise[{{9/4, x < -9/2}, {(x - 3/2)^2/16, x <= 3/2}, {0, True}}] - 3/4) <= 0)) || ((x >= -3/2) && (x <= 11/2) && ((3*x/4 + 3*y/2)*(3*x/4 + 3*y/2 - 9/2) <= 0) && ((y - Piecewise[{{0, x < -3/2}, {(x + 3/2)^2/16, x <= 5/2}, {1, True}}] - 3/4)*(y - Piecewise[{{0, x < 3/2}, {(x - 3/2)^2/16, x <= 11/2}, {1, True}}] + 3/4) <= 0)),  {x, -9, 18}, {y, -2, 9}, PlotPoints -> 60,  MaxRecursion -> 5],\n",
      "    Plot[Piecewise[{{x^2/16, x < 4}, {x/2 - 1, True}}],  {x, -9, 18}, PlotStyle->{Purple, Dashed}],\n",
      "    Graphics[ {FaceForm[None], EdgeForm[Green], Polygon[{{6, 1/2}, {6, 2}, {3, 2}, {3, 1/2}}] } ],\n",
      "    GridLines->Automatic, Ticks->Automatic, AspectRatio->Automatic\n",
      "]\n",
      "\n"
     ]
    }
   ],
   "source": [
    "plot_condition(x, y, cond, xbounds, ybounds, title=example_name)\n",
    "mathematica_output = print_mathematica(x, y, cond, xbounds, ybounds, traj_piecewise, rectangle)\n",
    "print(mathematica_output)"
   ]
  },
  {
   "cell_type": "markdown",
   "id": "9d70f2bd",
   "metadata": {},
   "source": [
    "# UAV top-down collision avoidance\n",
    "\n",
    "## Define a polygon"
   ]
  },
  {
   "cell_type": "code",
   "execution_count": 393,
   "id": "58e726cd",
   "metadata": {},
   "outputs": [
    {
     "data": {
      "image/png": "[encoded data removed]",
      "text/plain": [
       "<Figure size 432x288 with 1 Axes>"
      ]
     },
     "metadata": {
      "needs_background": "light"
     },
     "output_type": "display_data"
    }
   ],
   "source": [
    "rp = 2\n",
    "# TODO: symbolic radius for hexagon\n",
    "hexagon = RegularPolygon(Point(0, 0), rp, 6)\n",
    "\n",
    "plot_polygon(hexagon)"
   ]
  },
  {
   "cell_type": "markdown",
   "id": "9b3dffca",
   "metadata": {},
   "source": [
    "## Define a trajectory"
   ]
  },
  {
   "cell_type": "code",
   "execution_count": 428,
   "id": "fc524e59",
   "metadata": {},
   "outputs": [
    {
     "data": {
      "image/png": "[encoded data removed]",
      "text/plain": [
       "<Figure size 432x288 with 1 Axes>"
      ]
     },
     "metadata": {
      "needs_background": "light"
     },
     "output_type": "display_data"
    },
    {
     "data": {
      "text/plain": [
       "<sympy.plotting.plot.Plot at 0x12961e340>"
      ]
     },
     "execution_count": 428,
     "metadata": {},
     "output_type": "execute_result"
    }
   ],
   "source": [
    "R = 10\n",
    "theta = pi/3\n",
    "# y = sqrt(R**2 - x**2)\n",
    "bound = R / sqrt(tan(theta)**2 + 1)\n",
    "\n",
    "traj_piecewise = Piecewise(\n",
    "                    (sqrt(R**2 - x**2), x > bound),\n",
    "                    (-1/tan(theta)*(x-R*cos(theta)) + R*sin(theta), x <= bound))\n",
    "plot(traj_piecewise)"
   ]
  },
  {
   "cell_type": "code",
   "execution_count": 431,
   "id": "7b0704a7",
   "metadata": {},
   "outputs": [
    {
     "data": {
      "text/latex": [
       "$\\displaystyle \\begin{cases} \\sqrt{100 - x^{2}} & \\text{for}\\: x > 5 \\\\- \\frac{\\sqrt{3} \\left(x - 5\\right)}{3} + 5 \\sqrt{3} & \\text{otherwise} \\end{cases}$"
      ],
      "text/plain": [
       "⎧      __________              \n",
       "⎪     ╱        2               \n",
       "⎪   ╲╱  100 - x       for x > 5\n",
       "⎨                              \n",
       "⎪  √3⋅(x - 5)                  \n",
       "⎪- ────────── + 5⋅√3  otherwise\n",
       "⎩      3                       "
      ]
     },
     "execution_count": 431,
     "metadata": {},
     "output_type": "execute_result"
    }
   ],
   "source": [
    "traj_piecewise"
   ]
  },
  {
   "cell_type": "code",
   "execution_count": 481,
   "id": "3aa0196b",
   "metadata": {},
   "outputs": [
    {
     "data": {
      "image/png": "[encoded data removed]",
      "text/plain": [
       "<Figure size 432x288 with 1 Axes>"
      ]
     },
     "metadata": {
      "needs_background": "light"
     },
     "output_type": "display_data"
    },
    {
     "data": {
      "text/latex": [
       "$\\displaystyle \\begin{cases} \\sqrt{R^{2} - x^{2}} & \\text{for}\\: x > \\frac{R}{\\sqrt{\\tan^{2}{\\left(\\theta \\right)} + 1}} \\\\R \\sin{\\left(\\theta \\right)} - \\frac{- R \\cos{\\left(\\theta \\right)} + x}{\\tan{\\left(\\theta \\right)}} & \\text{otherwise} \\end{cases}$"
      ],
      "text/plain": [
       "⎧         _________                                \n",
       "⎪        ╱  2    2                        R        \n",
       "⎪      ╲╱  R  - x          for x > ────────────────\n",
       "⎪                                     _____________\n",
       "⎪                                    ╱    2        \n",
       "⎨                                  ╲╱  tan (θ) + 1 \n",
       "⎪                                                  \n",
       "⎪           -R⋅cos(θ) + x                          \n",
       "⎪R⋅sin(θ) - ─────────────         otherwise        \n",
       "⎪               tan(θ)                             \n",
       "⎩                                                  "
      ]
     },
     "execution_count": 481,
     "metadata": {},
     "output_type": "execute_result"
    }
   ],
   "source": [
    "R = Symbol(\"R\", real=True, positive=True, nonzero=True) \n",
    "theta = Symbol('theta', real=True, positive=True, nonzero=True)\n",
    "bound = R / sqrt(tan(theta)**2 + 1)\n",
    "\n",
    "traj_piecewise = Piecewise(\n",
    "                    (sqrt(R**2 - x**2), x > bound),\n",
    "                    (-1/tan(theta)*(x-R*cos(theta)) + R*sin(theta), x <= bound))\n",
    "plot(traj_piecewise.subs(R, 10).subs(theta, pi/3))\n",
    "traj_piecewise"
   ]
  },
  {
   "cell_type": "code",
   "execution_count": 461,
   "id": "e55c13e6",
   "metadata": {},
   "outputs": [
    {
     "data": {
      "text/latex": [
       "$\\displaystyle \\begin{cases} \\sqrt{R^{2} - x^{2}} & \\text{for}\\: x > \\frac{R}{\\sqrt{\\tan^{2}{\\left(\\theta \\right)} + 1}} \\\\R \\sin{\\left(\\theta \\right)} - \\frac{- R \\cos{\\left(\\theta \\right)} + x}{\\tan{\\left(\\theta \\right)}} & \\text{otherwise} \\end{cases}$"
      ],
      "text/plain": [
       "⎧         _________                                \n",
       "⎪        ╱  2    2                        R        \n",
       "⎪      ╲╱  R  - x          for x > ────────────────\n",
       "⎪                                     _____________\n",
       "⎪                                    ╱    2        \n",
       "⎨                                  ╲╱  tan (θ) + 1 \n",
       "⎪                                                  \n",
       "⎪           -R⋅cos(θ) + x                          \n",
       "⎪R⋅sin(θ) - ─────────────         otherwise        \n",
       "⎪               tan(θ)                             \n",
       "⎩                                                  "
      ]
     },
     "execution_count": 461,
     "metadata": {},
     "output_type": "execute_result"
    }
   ],
   "source": [
    "traj_piecewise"
   ]
  },
  {
   "cell_type": "code",
   "execution_count": 462,
   "id": "bed3bf66",
   "metadata": {},
   "outputs": [
    {
     "data": {
      "image/png": "[encoded data removed]",
      "text/plain": [
       "<Figure size 432x288 with 1 Axes>"
      ]
     },
     "metadata": {
      "needs_background": "light"
     },
     "output_type": "display_data"
    },
    {
     "data": {
      "text/plain": [
       "<sympy.plotting.plot.Plot at 0x16a8f5e20>"
      ]
     },
     "execution_count": 462,
     "metadata": {},
     "output_type": "execute_result"
    }
   ],
   "source": [
    "plot(traj_piecewise.subs(R, 10).subs(theta, pi/2))\n"
   ]
  },
  {
   "cell_type": "code",
   "execution_count": 463,
   "id": "ce9d5594",
   "metadata": {},
   "outputs": [
    {
     "data": {
      "image/png": "[encoded data removed]",
      "text/latex": [
       "$\\displaystyle - \\frac{x}{\\sqrt{R^{2} - x^{2}}}$"
      ],
      "text/plain": [
       "    -x      \n",
       "────────────\n",
       "   _________\n",
       "  ╱  2    2 \n",
       "╲╱  R  - x  "
      ]
     },
     "execution_count": 463,
     "metadata": {},
     "output_type": "execute_result"
    }
   ],
   "source": [
    "diff(sqrt(R**2 - x**2), x)"
   ]
  },
  {
   "cell_type": "code",
   "execution_count": 519,
   "id": "942ba251",
   "metadata": {},
   "outputs": [
    {
     "data": {
      "text/plain": [
       "{Boundary(-oo, R*sin(theta) + oo/tan(theta)),\n",
       " Boundary(R, 0),\n",
       " Boundary(R/sqrt(tan(theta)**2 + 1), R*sin(theta) - (-R*cos(theta) + R/sqrt(tan(theta)**2 + 1))/tan(theta)),\n",
       " Boundary(R/sqrt(tan(theta)**2 + 1), sqrt(R**2 - R**2/(tan(theta)**2 + 1))),\n",
       " Transition(-sqrt(3)*R/2, R/2),\n",
       " Transition(0, R),\n",
       " Transition(sqrt(3)*R/2, R/2)}"
      ]
     },
     "execution_count": 519,
     "metadata": {},
     "output_type": "execute_result"
    }
   ],
   "source": [
    "transitions, lookup, func_var = compute_all_transitions(\n",
    "    x, y,\n",
    "    hexagon,\n",
    "    traj_piecewise,\n",
    "    domain = Reals, \n",
    "    intervals = [Interval(bound, R), Interval(-oo, bound)],\n",
    ")\n",
    "transitions"
   ]
  },
  {
   "cell_type": "code",
   "execution_count": 508,
   "id": "30f5884c",
   "metadata": {},
   "outputs": [],
   "source": [
    "# soln = solveset(Eq(df_dx * sin(angle), df_dy * cos(angle)), x, domain=domain)"
   ]
  },
  {
   "cell_type": "code",
   "execution_count": 509,
   "id": "16478250",
   "metadata": {},
   "outputs": [
    {
     "data": {
      "image/png": "[encoded data removed]",
      "text/latex": [
       "$\\displaystyle \\left\\{ -\\infty : \\left[ R \\sin{\\left(\\theta \\right)} - \\frac{- R \\cos{\\left(\\theta \\right)} + x}{\\tan{\\left(\\theta \\right)}}\\right], \\  0 : \\left[ \\sqrt{R^{2} - x^{2}}, \\  \\sqrt{R^{2} - x^{2}}\\right], \\  R : \\left[ \\sqrt{R^{2} - x^{2}}\\right], \\  - \\frac{\\sqrt{3} R}{2} : \\left[ \\sqrt{R^{2} - x^{2}}, \\  \\sqrt{R^{2} - x^{2}}, \\  \\sqrt{R^{2} - x^{2}}, \\  \\sqrt{R^{2} - x^{2}}\\right], \\  \\frac{\\sqrt{3} R}{2} : \\left[ \\sqrt{R^{2} - x^{2}}, \\  \\sqrt{R^{2} - x^{2}}, \\  \\sqrt{R^{2} - x^{2}}, \\  \\sqrt{R^{2} - x^{2}}\\right], \\  \\frac{R}{\\sqrt{\\tan^{2}{\\left(\\theta \\right)} + 1}} : \\left[ \\sqrt{R^{2} - x^{2}}, \\  R \\sin{\\left(\\theta \\right)} - \\frac{- R \\cos{\\left(\\theta \\right)} + x}{\\tan{\\left(\\theta \\right)}}\\right]\\right\\}$"
      ],
      "text/plain": [
       "⎧                                   ⎡   _________     _________⎤     ⎡   _________⎤          ⎡   _______\n",
       "⎪    ⎡           -R⋅cos(θ) + x⎤     ⎢  ╱  2    2     ╱  2    2 ⎥     ⎢  ╱  2    2 ⎥  -√3⋅R   ⎢  ╱  2    \n",
       "⎪-∞: ⎢R⋅sin(θ) - ─────────────⎥, 0: ⎣╲╱  R  - x  , ╲╱  R  - x  ⎦, R: ⎣╲╱  R  - x  ⎦, ──────: ⎣╲╱  R  - x\n",
       "⎨    ⎣               tan(θ)   ⎦                                                        2                \n",
       "⎪                                                                                                       \n",
       "⎪                                                                                                       \n",
       "⎩                                                                                                       \n",
       "\n",
       "__     _________     _________     _________⎤        ⎡   _________     _________     _________     _____\n",
       "2     ╱  2    2     ╱  2    2     ╱  2    2 ⎥  √3⋅R  ⎢  ╱  2    2     ╱  2    2     ╱  2    2     ╱  2  \n",
       "  , ╲╱  R  - x  , ╲╱  R  - x  , ╲╱  R  - x  ⎦, ────: ⎣╲╱  R  - x  , ╲╱  R  - x  , ╲╱  R  - x  , ╲╱  R  -\n",
       "                                                2                                                       \n",
       "                                                                                                        \n",
       "                                                                                                        \n",
       "                                                                                                        \n",
       "\n",
       "____⎤                    ⎡   _________                          ⎤⎫\n",
       "  2 ⎥         R          ⎢  ╱  2    2              -R⋅cos(θ) + x⎥⎪\n",
       " x  ⎦, ────────────────: ⎢╲╱  R  - x  , R⋅sin(θ) - ─────────────⎥⎪\n",
       "          _____________  ⎣                             tan(θ)   ⎦⎬\n",
       "         ╱    2                                                  ⎪\n",
       "       ╲╱  tan (θ) + 1                                           ⎪\n",
       "                                                                 ⎭"
      ]
     },
     "execution_count": 509,
     "metadata": {},
     "output_type": "execute_result"
    }
   ],
   "source": [
    "lookup"
   ]
  },
  {
   "cell_type": "code",
   "execution_count": 510,
   "id": "0ada6538",
   "metadata": {},
   "outputs": [],
   "source": [
    "# x_a from f_a\n",
    "# boundary_a from f_a or f_b\n",
    "# VLAID"
   ]
  },
  {
   "cell_type": "code",
   "execution_count": 511,
   "id": "db93df7f",
   "metadata": {},
   "outputs": [],
   "source": [
    "# boundary_0 from f_a\n",
    "# transition_1 from f_a\n",
    "# transition_0 from f_a\n",
    "# boundary_1 from f_a or f_b\n",
    "# transition_2 from f_b"
   ]
  },
  {
   "cell_type": "code",
   "execution_count": 512,
   "id": "b3f38593",
   "metadata": {},
   "outputs": [],
   "source": [
    "# boundary_0 from f_a\n",
    "# transition_0 from f_a\n",
    "# transition_1 from f_a\n",
    "# boundary_1 from f_a or f_b\n",
    "# transition_2 from f_b"
   ]
  },
  {
   "cell_type": "code",
   "execution_count": 513,
   "id": "5c24f94d",
   "metadata": {},
   "outputs": [],
   "source": [
    "from symbolic_utils import *"
   ]
  },
  {
   "cell_type": "code",
   "execution_count": 514,
   "id": "1f0bd5a8",
   "metadata": {},
   "outputs": [],
   "source": [
    "\n",
    "import itertools\n"
   ]
  },
  {
   "cell_type": "code",
   "execution_count": 515,
   "id": "17bb0b15",
   "metadata": {},
   "outputs": [
    {
     "data": {
      "image/png": "[encoded data removed]",
      "text/latex": [
       "$\\displaystyle x$"
      ],
      "text/plain": [
       "x"
      ]
     },
     "execution_count": 515,
     "metadata": {},
     "output_type": "execute_result"
    }
   ],
   "source": [
    "func_var"
   ]
  },
  {
   "cell_type": "code",
   "execution_count": 516,
   "id": "18992317",
   "metadata": {},
   "outputs": [
    {
     "data": {
      "text/plain": [
       "{Boundary(-oo, R*sin(theta) + oo/tan(theta)),\n",
       " Boundary(R, 0),\n",
       " Boundary(R/sqrt(tan(theta)**2 + 1), R*sin(theta) - (-R*cos(theta) + R/sqrt(tan(theta)**2 + 1))/tan(theta)),\n",
       " Boundary(R/sqrt(tan(theta)**2 + 1), sqrt(R**2 - R**2/(tan(theta)**2 + 1))),\n",
       " Transition(-sqrt(3)*R/2, R/2),\n",
       " Transition(0, R),\n",
       " Transition(sqrt(3)*R/2, R/2)}"
      ]
     },
     "execution_count": 516,
     "metadata": {},
     "output_type": "execute_result"
    }
   ],
   "source": [
    "transitions"
   ]
  },
  {
   "cell_type": "code",
   "execution_count": 520,
   "id": "03b98a86",
   "metadata": {},
   "outputs": [
    {
     "data": {
      "text/plain": [
       "{Boundary(-oo, R*sin(theta) + oo/tan(theta)),\n",
       " Boundary(R, 0),\n",
       " Boundary(R/sqrt(tan(theta)**2 + 1), R*sin(theta) - (-R*cos(theta) + R/sqrt(tan(theta)**2 + 1))/tan(theta)),\n",
       " Boundary(R/sqrt(tan(theta)**2 + 1), sqrt(R**2 - R**2/(tan(theta)**2 + 1))),\n",
       " Transition(-sqrt(3)*R/2, R/2),\n",
       " Transition(0, R),\n",
       " Transition(sqrt(3)*R/2, R/2)}"
      ]
     },
     "execution_count": 520,
     "metadata": {},
     "output_type": "execute_result"
    }
   ],
   "source": [
    "transitions"
   ]
  },
  {
   "cell_type": "code",
   "execution_count": 521,
   "id": "865f04cc",
   "metadata": {},
   "outputs": [
    {
     "name": "stdout",
     "output_type": "stream",
     "text": [
      "Took 0.0012679100036621094 seconds to compute 4 possible orderings.\n"
     ]
    },
    {
     "data": {
      "text/plain": [
       "[[Boundary(-oo, R*sin(theta) + oo/tan(theta)),\n",
       "  Boundary(R/sqrt(tan(theta)**2 + 1), sqrt(R**2 - R**2/(tan(theta)**2 + 1))),\n",
       "  Boundary(R/sqrt(tan(theta)**2 + 1), R*sin(theta) - (-R*cos(theta) + R/sqrt(tan(theta)**2 + 1))/tan(theta)),\n",
       "  Boundary(R, 0)],\n",
       " [Boundary(-oo, R*sin(theta) + oo/tan(theta)),\n",
       "  Boundary(R/sqrt(tan(theta)**2 + 1), sqrt(R**2 - R**2/(tan(theta)**2 + 1))),\n",
       "  Boundary(R/sqrt(tan(theta)**2 + 1), R*sin(theta) - (-R*cos(theta) + R/sqrt(tan(theta)**2 + 1))/tan(theta)),\n",
       "  Transition(0, R),\n",
       "  Boundary(R, 0)],\n",
       " [Boundary(-oo, R*sin(theta) + oo/tan(theta)),\n",
       "  Boundary(R/sqrt(tan(theta)**2 + 1), sqrt(R**2 - R**2/(tan(theta)**2 + 1))),\n",
       "  Boundary(R/sqrt(tan(theta)**2 + 1), R*sin(theta) - (-R*cos(theta) + R/sqrt(tan(theta)**2 + 1))/tan(theta)),\n",
       "  Transition(sqrt(3)*R/2, R/2),\n",
       "  Boundary(R, 0)],\n",
       " [Boundary(-oo, R*sin(theta) + oo/tan(theta)),\n",
       "  Boundary(R/sqrt(tan(theta)**2 + 1), sqrt(R**2 - R**2/(tan(theta)**2 + 1))),\n",
       "  Boundary(R/sqrt(tan(theta)**2 + 1), R*sin(theta) - (-R*cos(theta) + R/sqrt(tan(theta)**2 + 1))/tan(theta)),\n",
       "  Transition(0, R),\n",
       "  Transition(sqrt(3)*R/2, R/2),\n",
       "  Boundary(R, 0)]]"
      ]
     },
     "execution_count": 521,
     "metadata": {},
     "output_type": "execute_result"
    }
   ],
   "source": [
    "t0 = time.time()\n",
    "transition_orderings = sort_or_order(transitions, lookup, func_var)\n",
    "print(f\"Took {time.time()-t0} seconds to compute\", \n",
    "      f\"{len(transition_orderings)} possible orderings.\")\n",
    "transition_orderings"
   ]
  },
  {
   "cell_type": "code",
   "execution_count": 522,
   "id": "ee833d2e",
   "metadata": {},
   "outputs": [
    {
     "name": "stdout",
     "output_type": "stream",
     "text": [
      "Transition(0, R)\n"
     ]
    },
    {
     "data": {
      "image/png": "[encoded data removed]",
      "text/latex": [
       "$\\displaystyle \\left[ \\sqrt{R^{2} - x^{2}}, \\  \\sqrt{R^{2} - x^{2}}\\right]$"
      ],
      "text/plain": [
       "⎡   _________     _________⎤\n",
       "⎢  ╱  2    2     ╱  2    2 ⎥\n",
       "⎣╲╱  R  - x  , ╲╱  R  - x  ⎦"
      ]
     },
     "execution_count": 522,
     "metadata": {},
     "output_type": "execute_result"
    }
   ],
   "source": [
    "print(transition_orderings[3][3])\n",
    "lookup[transition_orderings[3][3].point.x]"
   ]
  },
  {
   "cell_type": "code",
   "execution_count": 523,
   "id": "8fa794fa",
   "metadata": {
    "scrolled": true
   },
   "outputs": [
    {
     "name": "stdout",
     "output_type": "stream",
     "text": [
      "Transition(sqrt(3)*R/2, R/2)\n"
     ]
    },
    {
     "data": {
      "image/png": "[encoded data removed]",
      "text/latex": [
       "$\\displaystyle \\left[ \\sqrt{R^{2} - x^{2}}, \\  \\sqrt{R^{2} - x^{2}}, \\  \\sqrt{R^{2} - x^{2}}, \\  \\sqrt{R^{2} - x^{2}}\\right]$"
      ],
      "text/plain": [
       "⎡   _________     _________     _________     _________⎤\n",
       "⎢  ╱  2    2     ╱  2    2     ╱  2    2     ╱  2    2 ⎥\n",
       "⎣╲╱  R  - x  , ╲╱  R  - x  , ╲╱  R  - x  , ╲╱  R  - x  ⎦"
      ]
     },
     "execution_count": 523,
     "metadata": {},
     "output_type": "execute_result"
    }
   ],
   "source": [
    "print(transition_orderings[3][4])\n",
    "lookup[transition_orderings[3][4].point.x]"
   ]
  },
  {
   "cell_type": "code",
   "execution_count": 524,
   "id": "7ae6e6f9",
   "metadata": {
    "scrolled": true
   },
   "outputs": [
    {
     "data": {
      "text/latex": [
       "$\\displaystyle \\begin{cases} \\sqrt{R^{2} - x^{2}} & \\text{for}\\: x > \\frac{R}{\\sqrt{\\tan^{2}{\\left(\\theta \\right)} + 1}} \\\\R \\sin{\\left(\\theta \\right)} - \\frac{- R \\cos{\\left(\\theta \\right)} + x}{\\tan{\\left(\\theta \\right)}} & \\text{otherwise} \\end{cases}$"
      ],
      "text/plain": [
       "⎧         _________                                \n",
       "⎪        ╱  2    2                        R        \n",
       "⎪      ╲╱  R  - x          for x > ────────────────\n",
       "⎪                                     _____________\n",
       "⎪                                    ╱    2        \n",
       "⎨                                  ╲╱  tan (θ) + 1 \n",
       "⎪                                                  \n",
       "⎪           -R⋅cos(θ) + x                          \n",
       "⎪R⋅sin(θ) - ─────────────         otherwise        \n",
       "⎪               tan(θ)                             \n",
       "⎩                                                  "
      ]
     },
     "execution_count": 524,
     "metadata": {},
     "output_type": "execute_result"
    }
   ],
   "source": [
    "traj_piecewise"
   ]
  },
  {
   "cell_type": "code",
   "execution_count": 358,
   "id": "f2f482b5",
   "metadata": {},
   "outputs": [
    {
     "data": {
      "image/png": "[encoded data removed]",
      "text/latex": [
       "$\\displaystyle \\left\\{ -\\infty : \\left[ R \\sin{\\left(\\theta \\right)} - \\frac{- R \\cos{\\left(\\theta \\right)} + x}{\\tan{\\left(\\theta \\right)}}\\right], \\  0 : \\left[ \\sqrt{R^{2} - x^{2}}, \\  \\sqrt{R^{2} - x^{2}}\\right], \\  R : \\left[ \\sqrt{R^{2} - x^{2}}\\right], \\  - \\frac{\\sqrt{3} R}{2} : \\left[ \\sqrt{R^{2} - x^{2}}, \\  \\sqrt{R^{2} - x^{2}}, \\  \\sqrt{R^{2} - x^{2}}, \\  \\sqrt{R^{2} - x^{2}}\\right], \\  \\frac{\\sqrt{3} R}{2} : \\left[ \\sqrt{R^{2} - x^{2}}, \\  \\sqrt{R^{2} - x^{2}}, \\  \\sqrt{R^{2} - x^{2}}, \\  \\sqrt{R^{2} - x^{2}}\\right], \\  \\frac{R}{\\sqrt{\\tan^{2}{\\left(\\theta \\right)} + 1}} : \\left[ \\sqrt{R^{2} - x^{2}}, \\  R \\sin{\\left(\\theta \\right)} - \\frac{- R \\cos{\\left(\\theta \\right)} + x}{\\tan{\\left(\\theta \\right)}}\\right]\\right\\}$"
      ],
      "text/plain": [
       "⎧                                   ⎡   _________     _________⎤     ⎡   _________⎤          ⎡   _______\n",
       "⎪    ⎡           -R⋅cos(θ) + x⎤     ⎢  ╱  2    2     ╱  2    2 ⎥     ⎢  ╱  2    2 ⎥  -√3⋅R   ⎢  ╱  2    \n",
       "⎪-∞: ⎢R⋅sin(θ) - ─────────────⎥, 0: ⎣╲╱  R  - x  , ╲╱  R  - x  ⎦, R: ⎣╲╱  R  - x  ⎦, ──────: ⎣╲╱  R  - x\n",
       "⎨    ⎣               tan(θ)   ⎦                                                        2                \n",
       "⎪                                                                                                       \n",
       "⎪                                                                                                       \n",
       "⎩                                                                                                       \n",
       "\n",
       "__     _________     _________     _________⎤        ⎡   _________     _________     _________     _____\n",
       "2     ╱  2    2     ╱  2    2     ╱  2    2 ⎥  √3⋅R  ⎢  ╱  2    2     ╱  2    2     ╱  2    2     ╱  2  \n",
       "  , ╲╱  R  - x  , ╲╱  R  - x  , ╲╱  R  - x  ⎦, ────: ⎣╲╱  R  - x  , ╲╱  R  - x  , ╲╱  R  - x  , ╲╱  R  -\n",
       "                                                2                                                       \n",
       "                                                                                                        \n",
       "                                                                                                        \n",
       "                                                                                                        \n",
       "\n",
       "____⎤                    ⎡   _________                          ⎤⎫\n",
       "  2 ⎥         R          ⎢  ╱  2    2              -R⋅cos(θ) + x⎥⎪\n",
       " x  ⎦, ────────────────: ⎢╲╱  R  - x  , R⋅sin(θ) - ─────────────⎥⎪\n",
       "          _____________  ⎣                             tan(θ)   ⎦⎬\n",
       "         ╱    2                                                  ⎪\n",
       "       ╲╱  tan (θ) + 1                                           ⎪\n",
       "                                                                 ⎭"
      ]
     },
     "execution_count": 358,
     "metadata": {},
     "output_type": "execute_result"
    }
   ],
   "source": [
    "lookup"
   ]
  },
  {
   "cell_type": "code",
   "execution_count": 555,
   "id": "6f5b0a41",
   "metadata": {},
   "outputs": [
    {
     "name": "stdout",
     "output_type": "stream",
     "text": [
      "Took 0.44481706619262695 seconds to compute 4 clauses\n"
     ]
    }
   ],
   "source": [
    "t0 = time.time()\n",
    "clauses = [generate_clause(x,y, hexagon, traj_piecewise, sorted_transitions, lookup, add_notches=False)\n",
    "           for sorted_transitions in transition_orderings]\n",
    "print(f\"Took {time.time()-t0} seconds to compute {len(clauses)} clauses\")"
   ]
  },
  {
   "cell_type": "code",
   "execution_count": 556,
   "id": "c7bf5109",
   "metadata": {},
   "outputs": [
    {
     "data": {
      "image/png": "[encoded data removed]",
      "text/latex": [
       "$\\displaystyle \\left\\{ -\\infty : \\left[ R \\sin{\\left(\\theta \\right)} - \\frac{- R \\cos{\\left(\\theta \\right)} + x}{\\tan{\\left(\\theta \\right)}}\\right], \\  0 : \\left[ \\sqrt{R^{2} - x^{2}}, \\  \\sqrt{R^{2} - x^{2}}\\right], \\  R : \\left[ \\sqrt{R^{2} - x^{2}}\\right], \\  - \\frac{\\sqrt{3} R}{2} : \\left[ \\sqrt{R^{2} - x^{2}}, \\  \\sqrt{R^{2} - x^{2}}, \\  \\sqrt{R^{2} - x^{2}}, \\  \\sqrt{R^{2} - x^{2}}\\right], \\  \\frac{\\sqrt{3} R}{2} : \\left[ \\sqrt{R^{2} - x^{2}}, \\  \\sqrt{R^{2} - x^{2}}, \\  \\sqrt{R^{2} - x^{2}}, \\  \\sqrt{R^{2} - x^{2}}\\right], \\  \\frac{R}{\\sqrt{\\tan^{2}{\\left(\\theta \\right)} + 1}} : \\left[ \\sqrt{R^{2} - x^{2}}, \\  R \\sin{\\left(\\theta \\right)} - \\frac{- R \\cos{\\left(\\theta \\right)} + x}{\\tan{\\left(\\theta \\right)}}\\right]\\right\\}$"
      ],
      "text/plain": [
       "⎧                                   ⎡   _________     _________⎤     ⎡   _________⎤          ⎡   _______\n",
       "⎪    ⎡           -R⋅cos(θ) + x⎤     ⎢  ╱  2    2     ╱  2    2 ⎥     ⎢  ╱  2    2 ⎥  -√3⋅R   ⎢  ╱  2    \n",
       "⎪-∞: ⎢R⋅sin(θ) - ─────────────⎥, 0: ⎣╲╱  R  - x  , ╲╱  R  - x  ⎦, R: ⎣╲╱  R  - x  ⎦, ──────: ⎣╲╱  R  - x\n",
       "⎨    ⎣               tan(θ)   ⎦                                                        2                \n",
       "⎪                                                                                                       \n",
       "⎪                                                                                                       \n",
       "⎩                                                                                                       \n",
       "\n",
       "__     _________     _________     _________⎤        ⎡   _________     _________     _________     _____\n",
       "2     ╱  2    2     ╱  2    2     ╱  2    2 ⎥  √3⋅R  ⎢  ╱  2    2     ╱  2    2     ╱  2    2     ╱  2  \n",
       "  , ╲╱  R  - x  , ╲╱  R  - x  , ╲╱  R  - x  ⎦, ────: ⎣╲╱  R  - x  , ╲╱  R  - x  , ╲╱  R  - x  , ╲╱  R  -\n",
       "                                                2                                                       \n",
       "                                                                                                        \n",
       "                                                                                                        \n",
       "                                                                                                        \n",
       "\n",
       "____⎤                    ⎡   _________                          ⎤⎫\n",
       "  2 ⎥         R          ⎢  ╱  2    2              -R⋅cos(θ) + x⎥⎪\n",
       " x  ⎦, ────────────────: ⎢╲╱  R  - x  , R⋅sin(θ) - ─────────────⎥⎪\n",
       "          _____________  ⎣                             tan(θ)   ⎦⎬\n",
       "         ╱    2                                                  ⎪\n",
       "       ╲╱  tan (θ) + 1                                           ⎪\n",
       "                                                                 ⎭"
      ]
     },
     "execution_count": 556,
     "metadata": {},
     "output_type": "execute_result"
    }
   ],
   "source": [
    "lookup"
   ]
  },
  {
   "cell_type": "code",
   "execution_count": 557,
   "id": "48ada88e",
   "metadata": {},
   "outputs": [
    {
     "data": {
      "image/png": "[encoded data removed]",
      "text/plain": [
       "<Figure size 432x288 with 1 Axes>"
      ]
     },
     "metadata": {
      "needs_background": "light"
     },
     "output_type": "display_data"
    },
    {
     "data": {
      "text/plain": [
       "<sympy.plotting.plot.Plot at 0x16abdfc40>"
      ]
     },
     "execution_count": 557,
     "metadata": {},
     "output_type": "execute_result"
    }
   ],
   "source": [
    "plot(traj_piecewise.subs(R, 4).subs(theta, pi/3))"
   ]
  },
  {
   "cell_type": "code",
   "execution_count": 558,
   "id": "79a5f88b",
   "metadata": {},
   "outputs": [
    {
     "data": {
      "image/png": "[encoded data removed]",
      "text/latex": [
       "$\\displaystyle \\left(- 2 y + 2 \\sqrt{3} \\geq 0 \\wedge - y - \\sqrt{3} \\left(- R + x - 2\\right) \\geq 0 \\wedge y + \\sqrt{3} \\left(- R + x + 2\\right) \\geq 0 \\wedge 2 y + 2 \\sqrt{3} \\geq 0 \\wedge - y + \\sqrt{3} \\left(- R + x + 1\\right) + \\sqrt{3} \\geq 0 \\wedge y - \\sqrt{3} \\left(- R + x - 1\\right) + \\sqrt{3} \\geq 0\\right) \\vee \\left(- 2 R + 2 y + 2 \\sqrt{3} \\geq 0 \\wedge - R + y + \\sqrt{3} \\left(x + 2\\right) \\geq 0 \\wedge R - y - \\sqrt{3} \\left(x - 2\\right) \\geq 0 \\wedge 2 R - 2 y + 2 \\sqrt{3} \\geq 0 \\wedge - R + y - \\sqrt{3} \\left(x - 1\\right) + \\sqrt{3} \\geq 0 \\wedge R - y + \\sqrt{3} \\left(x + 1\\right) + \\sqrt{3} \\geq 0\\right) \\vee \\left(- R + 2 y + 2 \\sqrt{3} \\geq 0 \\wedge - \\frac{R}{2} + y + \\sqrt{3} \\left(- \\frac{\\sqrt{3} R}{2} + x + 2\\right) \\geq 0 \\wedge \\frac{R}{2} - y - \\sqrt{3} \\left(- \\frac{\\sqrt{3} R}{2} + x - 2\\right) \\geq 0 \\wedge R - 2 y + 2 \\sqrt{3} \\geq 0 \\wedge - \\frac{R}{2} + y - \\sqrt{3} \\left(- \\frac{\\sqrt{3} R}{2} + x - 1\\right) + \\sqrt{3} \\geq 0 \\wedge \\frac{R}{2} - y + \\sqrt{3} \\left(- \\frac{\\sqrt{3} R}{2} + x + 1\\right) + \\sqrt{3} \\geq 0\\right) \\vee \\left(- 2 y + 2 \\sqrt{3} \\leq 0 \\wedge - y - \\sqrt{3} \\left(- R + x - 2\\right) \\leq 0 \\wedge y + \\sqrt{3} \\left(- R + x + 2\\right) \\leq 0 \\wedge 2 y + 2 \\sqrt{3} \\leq 0 \\wedge - y + \\sqrt{3} \\left(- R + x + 1\\right) + \\sqrt{3} \\leq 0 \\wedge y - \\sqrt{3} \\left(- R + x - 1\\right) + \\sqrt{3} \\leq 0\\right) \\vee \\left(- 2 R + 2 y + 2 \\sqrt{3} \\leq 0 \\wedge - R + y + \\sqrt{3} \\left(x + 2\\right) \\leq 0 \\wedge R - y - \\sqrt{3} \\left(x - 2\\right) \\leq 0 \\wedge 2 R - 2 y + 2 \\sqrt{3} \\leq 0 \\wedge - R + y - \\sqrt{3} \\left(x - 1\\right) + \\sqrt{3} \\leq 0 \\wedge R - y + \\sqrt{3} \\left(x + 1\\right) + \\sqrt{3} \\leq 0\\right) \\vee \\left(- R + 2 y + 2 \\sqrt{3} \\leq 0 \\wedge - \\frac{R}{2} + y + \\sqrt{3} \\left(- \\frac{\\sqrt{3} R}{2} + x + 2\\right) \\leq 0 \\wedge \\frac{R}{2} - y - \\sqrt{3} \\left(- \\frac{\\sqrt{3} R}{2} + x - 2\\right) \\leq 0 \\wedge R - 2 y + 2 \\sqrt{3} \\leq 0 \\wedge - \\frac{R}{2} + y - \\sqrt{3} \\left(- \\frac{\\sqrt{3} R}{2} + x - 1\\right) + \\sqrt{3} \\leq 0 \\wedge \\frac{R}{2} - y + \\sqrt{3} \\left(- \\frac{\\sqrt{3} R}{2} + x + 1\\right) + \\sqrt{3} \\leq 0\\right)$"
      ],
      "text/plain": [
       "                                                                                                        \n",
       "(-2⋅y + 2⋅√3 ≥ 0 ∧ -y - √3⋅(-R + x - 2) ≥ 0 ∧ y + √3⋅(-R + x + 2) ≥ 0 ∧ 2⋅y + 2⋅√3 ≥ 0 ∧ -y + √3⋅(-R + x\n",
       "                                                                                                        \n",
       "\n",
       "                                                                                                        \n",
       " + 1) + √3 ≥ 0 ∧ y - √3⋅(-R + x - 1) + √3 ≥ 0) ∨ (-2⋅R + 2⋅y + 2⋅√3 ≥ 0 ∧ -R + y + √3⋅(x + 2) ≥ 0 ∧ R - \n",
       "                                                                                                        \n",
       "\n",
       "                                                                                                        \n",
       "y - √3⋅(x - 2) ≥ 0 ∧ 2⋅R - 2⋅y + 2⋅√3 ≥ 0 ∧ -R + y - √3⋅(x - 1) + √3 ≥ 0 ∧ R - y + √3⋅(x + 1) + √3 ≥ 0) \n",
       "                                                                                                        \n",
       "\n",
       "  ⎛                        R          ⎛  √3⋅R        ⎞       R          ⎛  √3⋅R        ⎞                \n",
       "∨ ⎜-R + 2⋅y + 2⋅√3 ≥ 0 ∧ - ─ + y + √3⋅⎜- ──── + x + 2⎟ ≥ 0 ∧ ─ - y - √3⋅⎜- ──── + x - 2⎟ ≥ 0 ∧ R - 2⋅y +\n",
       "  ⎝                        2          ⎝   2          ⎠       2          ⎝   2          ⎠                \n",
       "\n",
       "              R          ⎛  √3⋅R        ⎞            R          ⎛  √3⋅R        ⎞         ⎞              \n",
       " 2⋅√3 ≥ 0 ∧ - ─ + y - √3⋅⎜- ──── + x - 1⎟ + √3 ≥ 0 ∧ ─ - y + √3⋅⎜- ──── + x + 1⎟ + √3 ≥ 0⎟ ∨ (-2⋅y + 2⋅√\n",
       "              2          ⎝   2          ⎠            2          ⎝   2          ⎠         ⎠              \n",
       "\n",
       "                                                                                                        \n",
       "3 ≤ 0 ∧ -y - √3⋅(-R + x - 2) ≤ 0 ∧ y + √3⋅(-R + x + 2) ≤ 0 ∧ 2⋅y + 2⋅√3 ≤ 0 ∧ -y + √3⋅(-R + x + 1) + √3 \n",
       "                                                                                                        \n",
       "\n",
       "                                                                                                        \n",
       "≤ 0 ∧ y - √3⋅(-R + x - 1) + √3 ≤ 0) ∨ (-2⋅R + 2⋅y + 2⋅√3 ≤ 0 ∧ -R + y + √3⋅(x + 2) ≤ 0 ∧ R - y - √3⋅(x -\n",
       "                                                                                                        \n",
       "\n",
       "                                                                                               ⎛        \n",
       " 2) ≤ 0 ∧ 2⋅R - 2⋅y + 2⋅√3 ≤ 0 ∧ -R + y - √3⋅(x - 1) + √3 ≤ 0 ∧ R - y + √3⋅(x + 1) + √3 ≤ 0) ∨ ⎜-R + 2⋅y\n",
       "                                                                                               ⎝        \n",
       "\n",
       "                R          ⎛  √3⋅R        ⎞       R          ⎛  √3⋅R        ⎞                           \n",
       " + 2⋅√3 ≤ 0 ∧ - ─ + y + √3⋅⎜- ──── + x + 2⎟ ≤ 0 ∧ ─ - y - √3⋅⎜- ──── + x - 2⎟ ≤ 0 ∧ R - 2⋅y + 2⋅√3 ≤ 0 ∧\n",
       "                2          ⎝   2          ⎠       2          ⎝   2          ⎠                           \n",
       "\n",
       "   R          ⎛  √3⋅R        ⎞            R          ⎛  √3⋅R        ⎞         ⎞\n",
       " - ─ + y - √3⋅⎜- ──── + x - 1⎟ + √3 ≤ 0 ∧ ─ - y + √3⋅⎜- ──── + x + 1⎟ + √3 ≤ 0⎟\n",
       "   2          ⎝   2          ⎠            2          ⎝   2          ⎠         ⎠"
      ]
     },
     "execution_count": 558,
     "metadata": {},
     "output_type": "execute_result"
    }
   ],
   "source": [
    "clauses[3]"
   ]
  },
  {
   "cell_type": "code",
   "execution_count": 559,
   "id": "255bef19",
   "metadata": {},
   "outputs": [
    {
     "data": {
      "image/png": "[encoded data removed]",
      "text/plain": [
       "<Figure size 432x288 with 1 Axes>"
      ]
     },
     "metadata": {
      "needs_background": "light"
     },
     "output_type": "display_data"
    },
    {
     "data": {
      "text/plain": [
       "<sympy.plotting.plot.Plot at 0x15eed0fd0>"
      ]
     },
     "execution_count": 559,
     "metadata": {},
     "output_type": "execute_result"
    }
   ],
   "source": [
    "plot(traj_piecewise.subs(R, 4).subs(theta, pi/3))"
   ]
  },
  {
   "cell_type": "code",
   "execution_count": 562,
   "id": "d270b61f",
   "metadata": {},
   "outputs": [
    {
     "data": {
      "image/png": "[encoded data removed]",
      "text/plain": [
       "<Figure size 1200x800 with 1 Axes>"
      ]
     },
     "metadata": {
      "needs_background": "light"
     },
     "output_type": "display_data"
    }
   ],
   "source": [
    "# NOTCHES ONLY: look correct\n",
    "xbounds = [-4, 6]\n",
    "ybounds = [-2, 7]\n",
    "resolution = 0.2\n",
    "plot_condition(x, y, clauses[3].subs(R, 4).subs(theta, pi/3), xbounds, ybounds, resolution=resolution)"
   ]
  },
  {
   "cell_type": "code",
   "execution_count": 560,
   "id": "afc8e1ad",
   "metadata": {},
   "outputs": [
    {
     "data": {
      "image/png": "[encoded data removed]",
      "text/plain": [
       "<Figure size 1200x800 with 1 Axes>"
      ]
     },
     "metadata": {
      "needs_background": "light"
     },
     "output_type": "display_data"
    }
   ],
   "source": [
    "xbounds = [-10, 8]\n",
    "ybounds = [-3, 18]\n",
    "resolution = 0.5\n",
    "plot_condition(x, y, clauses[3].subs(R, 4).subs(theta, pi/3), xbounds, ybounds, resolution=resolution)"
   ]
  },
  {
   "cell_type": "markdown",
   "id": "95a024d1",
   "metadata": {},
   "source": [
    "## IDEA\n",
    "- first, pull out infinities\n",
    "- then generate all permutations\n",
    "- discard permutations that do not obey what we know\n",
    "    - just step through and check relative ordering\n",
    "\n",
    "### eventually\n",
    "write my own sorting algorithm?? that branches based when it fails to make a comparison"
   ]
  },
  {
   "cell_type": "code",
   "execution_count": 78,
   "id": "03d76987",
   "metadata": {},
   "outputs": [],
   "source": [
    "import itertools\n",
    "import time"
   ]
  },
  {
   "cell_type": "code",
   "execution_count": 207,
   "id": "56ac98e7",
   "metadata": {},
   "outputs": [],
   "source": [
    "def check_ordering(ordering, verbose=False):\n",
    "    # TODO: make this more efficient (nlogn somehow)\n",
    "    for i, elem1 in enumerate(ordering):\n",
    "        # check if each element smaller than successive ones\n",
    "        for elem2 in ordering[i+1:]:\n",
    "            try:\n",
    "                if verbose:\n",
    "                    print(f\"ensuring {elem1} < {elem2}\")\n",
    "                if elem1 > elem2:\n",
    "                    return False\n",
    "            except TypeError:\n",
    "                pass\n",
    "    return True"
   ]
  },
  {
   "cell_type": "code",
   "execution_count": null,
   "id": "346062a0",
   "metadata": {},
   "outputs": [],
   "source": [
    "def reconstruct_transition_points(transitions, ordering, add_neg_inf, add_pos_inf):\n",
    "    # construct dict mapping x-val (or y-val) to transition object\n",
    "    var_to_transition: Dict = {}\n",
    "    for transition in transitions:\n",
    "        lookup_coord = getattr(transition.point, str(func_var))\n",
    "        if lookup_coord in var_to_transition:\n",
    "            var_to_transition[lookup_coord].append(transition)\n",
    "        else:\n",
    "            var_to_transition[lookup_coord] = [transition]\n",
    "    \n",
    "    ordered_transitions = []\n",
    "    # use extend because var_to_transition maps coordinates (x or y) to lists\n",
    "    if add_neg_inf:\n",
    "        ordered_transitions.extend(var_to_transition[-oo])\n",
    "    elif not var_to_transition[ordering[0]].is_bound:\n",
    "        # must begin with a boundary type transition point\n",
    "        return []\n",
    "    if add_pos_inf:\n",
    "        ordered_transitions.extend(var_to_transition[oo])\n",
    "    elif not var_to_transition[ordering[-1]].is_bound:\n",
    "#         must also end with a boundary type transition point\n",
    "        return []\n",
    "\n",
    "    for coord in ordering:\n",
    "        ordered_transitions.extend(var_to_transition[coord])\n",
    "    return ordered_transitions"
   ]
  },
  {
   "cell_type": "code",
   "execution_count": 208,
   "id": "be1d4352",
   "metadata": {},
   "outputs": [
    {
     "data": {
      "image/png": "[encoded data removed]",
      "text/latex": [
       "$\\displaystyle \\left\\{0, R, - \\frac{\\sqrt{3} R}{2}, \\frac{\\sqrt{3} R}{2}, \\frac{R}{\\sqrt{\\tan^{2}{\\left(\\theta \\right)} + 1}}\\right\\}$"
      ],
      "text/plain": [
       "⎧      -√3⋅R   √3⋅R         R        ⎫\n",
       "⎪0, R, ──────, ────, ────────────────⎪\n",
       "⎨        2      2       _____________⎬\n",
       "⎪                      ╱    2        ⎪\n",
       "⎩                    ╲╱  tan (θ) + 1 ⎭"
      ]
     },
     "execution_count": 208,
     "metadata": {},
     "output_type": "execute_result"
    }
   ],
   "source": [
    "add_neg_inf = False\n",
    "add_pos_inf = False\n",
    "txl = set(map(lambda tp: getattr(tp.point, str(func_var)), transitions))\n",
    "if -oo in txl:\n",
    "    add_neg_inf = True\n",
    "    txl.remove(-oo)\n",
    "if oo in txl:\n",
    "    add_pos_inf = True\n",
    "    txl.remove(oo)\n",
    "txl"
   ]
  },
  {
   "cell_type": "code",
   "execution_count": 285,
   "id": "bb83c48a",
   "metadata": {},
   "outputs": [
    {
     "data": {
      "image/png": "[encoded data removed]",
      "text/latex": [
       "$\\displaystyle \\left\\{0, R, - \\frac{\\sqrt{3} R}{2}, \\frac{\\sqrt{3} R}{2}, \\frac{R}{\\sqrt{\\tan^{2}{\\left(\\theta \\right)} + 1}}\\right\\}$"
      ],
      "text/plain": [
       "⎧      -√3⋅R   √3⋅R         R        ⎫\n",
       "⎪0, R, ──────, ────, ────────────────⎪\n",
       "⎨        2      2       _____________⎬\n",
       "⎪                      ╱    2        ⎪\n",
       "⎩                    ╲╱  tan (θ) + 1 ⎭"
      ]
     },
     "execution_count": 285,
     "metadata": {},
     "output_type": "execute_result"
    }
   ],
   "source": [
    "txl"
   ]
  },
  {
   "cell_type": "code",
   "execution_count": 286,
   "id": "33d2e78b",
   "metadata": {},
   "outputs": [
    {
     "data": {
      "text/plain": [
       "{Boundary(-oo, R*sin(theta) + oo/tan(theta)),\n",
       " Boundary(R, 0),\n",
       " Boundary(R/sqrt(tan(theta)**2 + 1), R*sin(theta) - (-R*cos(theta) + R/sqrt(tan(theta)**2 + 1))/tan(theta)),\n",
       " Boundary(R/sqrt(tan(theta)**2 + 1), sqrt(R**2 - R**2/(tan(theta)**2 + 1))),\n",
       " Transition(-sqrt(3)*R/2, R/2),\n",
       " Transition(0, R),\n",
       " Transition(sqrt(3)*R/2, R/2)}"
      ]
     },
     "execution_count": 286,
     "metadata": {},
     "output_type": "execute_result"
    }
   ],
   "source": [
    "transitions"
   ]
  },
  {
   "cell_type": "code",
   "execution_count": 288,
   "id": "9f38bd16",
   "metadata": {},
   "outputs": [
    {
     "data": {
      "text/plain": [
       "[Boundary(R/sqrt(tan(theta)**2 + 1), sqrt(R**2 - R**2/(tan(theta)**2 + 1))),\n",
       " Boundary(R/sqrt(tan(theta)**2 + 1), R*sin(theta) - (-R*cos(theta) + R/sqrt(tan(theta)**2 + 1))/tan(theta)),\n",
       " Boundary(R, 0),\n",
       " Boundary(-oo, R*sin(theta) + oo/tan(theta))]"
      ]
     },
     "execution_count": 288,
     "metadata": {},
     "output_type": "execute_result"
    }
   ],
   "source": [
    "boundaries = list(filter(lambda t: t.is_bound, transitions))\n",
    "boundaries"
   ]
  },
  {
   "cell_type": "code",
   "execution_count": 291,
   "id": "a41dece8",
   "metadata": {},
   "outputs": [
    {
     "data": {
      "image/png": "[encoded data removed]",
      "text/latex": [
       "$\\displaystyle \\left\\{-\\infty, R, \\frac{R}{\\sqrt{\\tan^{2}{\\left(\\theta \\right)} + 1}}\\right\\}$"
      ],
      "text/plain": [
       "⎧              R        ⎫\n",
       "⎪-∞, R, ────────────────⎪\n",
       "⎨          _____________⎬\n",
       "⎪         ╱    2        ⎪\n",
       "⎩       ╲╱  tan (θ) + 1 ⎭"
      ]
     },
     "execution_count": 291,
     "metadata": {},
     "output_type": "execute_result"
    }
   ],
   "source": [
    "bxs = set(map(lambda tp: getattr(tp.point, str(func_var)), \n",
    "              filter(lambda t: t.is_bound, transitions)))\n",
    "bxs"
   ]
  },
  {
   "cell_type": "code",
   "execution_count": 290,
   "id": "017055d1",
   "metadata": {},
   "outputs": [
    {
     "data": {
      "text/plain": [
       "[Transition(sqrt(3)*R/2, R/2), Transition(0, R), Transition(-sqrt(3)*R/2, R/2)]"
      ]
     },
     "execution_count": 290,
     "metadata": {},
     "output_type": "execute_result"
    }
   ],
   "source": [
    "true_transitions = list(filter(lambda t: not t.is_bound, transitions))\n",
    "true_transitions"
   ]
  },
  {
   "cell_type": "code",
   "execution_count": 293,
   "id": "ea6c1cbc",
   "metadata": {},
   "outputs": [
    {
     "data": {
      "image/png": "[encoded data removed]",
      "text/latex": [
       "$\\displaystyle \\left\\{0, - \\frac{\\sqrt{3} R}{2}, \\frac{\\sqrt{3} R}{2}\\right\\}$"
      ],
      "text/plain": [
       "⎧   -√3⋅R   √3⋅R⎫\n",
       "⎨0, ──────, ────⎬\n",
       "⎩     2      2  ⎭"
      ]
     },
     "execution_count": 293,
     "metadata": {},
     "output_type": "execute_result"
    }
   ],
   "source": [
    "txs = set(map(lambda tp: getattr(tp.point, str(func_var)), \n",
    "              filter(lambda t: not t.is_bound, transitions)))\n",
    "txs"
   ]
  },
  {
   "cell_type": "code",
   "execution_count": 297,
   "id": "073b9e5a",
   "metadata": {},
   "outputs": [
    {
     "name": "stdout",
     "output_type": "stream",
     "text": [
      "⎡⎛   √3⋅R⎞  ⎛   -√3⋅R ⎞  ⎛√3⋅R   ⎞  ⎛√3⋅R  -√3⋅R ⎞  ⎛-√3⋅R    ⎞  ⎛-√3⋅R   √3⋅R⎞⎤\n",
      "⎢⎜0, ────⎟, ⎜0, ──────⎟, ⎜────, 0⎟, ⎜────, ──────⎟, ⎜──────, 0⎟, ⎜──────, ────⎟⎥\n",
      "⎣⎝    2  ⎠  ⎝     2   ⎠  ⎝ 2     ⎠  ⎝ 2      2   ⎠  ⎝  2      ⎠  ⎝  2      2  ⎠⎦\n"
     ]
    }
   ],
   "source": [
    "pretty_print(list(itertools.permutations(txs, 0)))\n",
    "pretty_print(list(itertools.permutations(txs, 1)))\n",
    "pretty_print(list(itertools.permutations(txs, 2)))\n",
    "pretty_print(list(itertools.permutations(txs, 3)))"
   ]
  },
  {
   "cell_type": "code",
   "execution_count": 298,
   "id": "2413bbe0",
   "metadata": {},
   "outputs": [
    {
     "name": "stdout",
     "output_type": "stream",
     "text": [
      "[()]\n",
      "⎡      ⎛√3⋅R ⎞  ⎛-√3⋅R  ⎞⎤\n",
      "⎢(0,), ⎜────,⎟, ⎜──────,⎟⎥\n",
      "⎣      ⎝ 2   ⎠  ⎝  2    ⎠⎦\n",
      "⎡⎛   √3⋅R⎞  ⎛   -√3⋅R ⎞  ⎛√3⋅R  -√3⋅R ⎞⎤\n",
      "⎢⎜0, ────⎟, ⎜0, ──────⎟, ⎜────, ──────⎟⎥\n",
      "⎣⎝    2  ⎠  ⎝     2   ⎠  ⎝ 2      2   ⎠⎦\n",
      "⎡⎛   √3⋅R  -√3⋅R ⎞⎤\n",
      "⎢⎜0, ────, ──────⎟⎥\n",
      "⎣⎝    2      2   ⎠⎦\n"
     ]
    }
   ],
   "source": [
    "pretty_print(list(itertools.combinations(txs, 0)))\n",
    "pretty_print(list(itertools.combinations(txs, 1)))\n",
    "pretty_print(list(itertools.combinations(txs, 2)))\n",
    "pretty_print(list(itertools.combinations(txs, 3)))"
   ]
  },
  {
   "cell_type": "code",
   "execution_count": 301,
   "id": "e6988235",
   "metadata": {},
   "outputs": [
    {
     "name": "stdout",
     "output_type": "stream",
     "text": [
      "{R/sqrt(tan(theta)**2 + 1), -oo, R}\n",
      "{0, R/sqrt(tan(theta)**2 + 1), -oo, R}\n",
      "{R/sqrt(tan(theta)**2 + 1), sqrt(3)*R/2, -oo, R}\n",
      "{R/sqrt(tan(theta)**2 + 1), -sqrt(3)*R/2, -oo, R}\n",
      "{0, R/sqrt(tan(theta)**2 + 1), sqrt(3)*R/2, -oo, R}\n",
      "{0, R/sqrt(tan(theta)**2 + 1), -sqrt(3)*R/2, -oo, R}\n",
      "{R/sqrt(tan(theta)**2 + 1), sqrt(3)*R/2, -oo, R, -sqrt(3)*R/2}\n",
      "{0, R/sqrt(tan(theta)**2 + 1), sqrt(3)*R/2, -oo, R, -sqrt(3)*R/2}\n"
     ]
    }
   ],
   "source": [
    "for i in range(len(txs)+1):\n",
    "    for comb in itertools.combinations(txs, i):\n",
    "        print(bxs | set(comb))"
   ]
  },
  {
   "cell_type": "code",
   "execution_count": null,
   "id": "30b24ec6",
   "metadata": {},
   "outputs": [],
   "source": []
  },
  {
   "cell_type": "code",
   "execution_count": null,
   "id": "09671421",
   "metadata": {},
   "outputs": [],
   "source": []
  },
  {
   "cell_type": "code",
   "execution_count": 209,
   "id": "a181a05c",
   "metadata": {},
   "outputs": [
    {
     "data": {
      "text/plain": [
       "False"
      ]
     },
     "execution_count": 209,
     "metadata": {},
     "output_type": "execute_result"
    }
   ],
   "source": [
    "oo in txs"
   ]
  },
  {
   "cell_type": "code",
   "execution_count": 210,
   "id": "38a224a2",
   "metadata": {},
   "outputs": [
    {
     "data": {
      "text/plain": [
       "True"
      ]
     },
     "execution_count": 210,
     "metadata": {},
     "output_type": "execute_result"
    }
   ],
   "source": [
    "-oo in txs"
   ]
  },
  {
   "cell_type": "code",
   "execution_count": 211,
   "id": "bdce6d22",
   "metadata": {},
   "outputs": [
    {
     "data": {
      "image/png": "[encoded data removed]",
      "text/latex": [
       "$\\displaystyle 0$"
      ],
      "text/plain": [
       "0"
      ]
     },
     "execution_count": 211,
     "metadata": {},
     "output_type": "execute_result"
    }
   ],
   "source": [
    "len(list(all_orderings))"
   ]
  },
  {
   "cell_type": "code",
   "execution_count": 212,
   "id": "c84cedc8",
   "metadata": {},
   "outputs": [],
   "source": [
    "all_orderings = itertools.permutations(txl)"
   ]
  },
  {
   "cell_type": "code",
   "execution_count": 213,
   "id": "a527723d",
   "metadata": {},
   "outputs": [
    {
     "data": {
      "image/png": "[encoded data removed]",
      "text/latex": [
       "$\\displaystyle \\left( 0, \\  \\frac{R}{\\sqrt{\\tan^{2}{\\left(\\theta \\right)} + 1}}, \\  - \\frac{\\sqrt{3} R}{2}, \\  R, \\  \\frac{\\sqrt{3} R}{2}\\right)$"
      ],
      "text/plain": [
       "⎛          R          -√3⋅R      √3⋅R⎞\n",
       "⎜0, ────────────────, ──────, R, ────⎟\n",
       "⎜      _____________    2         2  ⎟\n",
       "⎜     ╱    2                         ⎟\n",
       "⎝   ╲╱  tan (θ) + 1                  ⎠"
      ]
     },
     "execution_count": 213,
     "metadata": {},
     "output_type": "execute_result"
    }
   ],
   "source": [
    "all_orderings = itertools.permutations(txl)\n",
    "o1 = list(all_orderings)[0]\n",
    "o1"
   ]
  },
  {
   "cell_type": "code",
   "execution_count": 214,
   "id": "841c4239",
   "metadata": {},
   "outputs": [
    {
     "data": {
      "text/plain": [
       "False"
      ]
     },
     "execution_count": 214,
     "metadata": {},
     "output_type": "execute_result"
    }
   ],
   "source": [
    "check_ordering(o1)"
   ]
  },
  {
   "cell_type": "code",
   "execution_count": 215,
   "id": "f23392b8",
   "metadata": {},
   "outputs": [
    {
     "data": {
      "image/png": "[encoded data removed]",
      "text/latex": [
       "$\\displaystyle 0 < \\frac{R}{\\sqrt{\\tan^{2}{\\left(\\theta \\right)} + 1}}$"
      ],
      "text/plain": [
       "           R        \n",
       "0 < ────────────────\n",
       "       _____________\n",
       "      ╱    2        \n",
       "    ╲╱  tan (θ) + 1 "
      ]
     },
     "execution_count": 215,
     "metadata": {},
     "output_type": "execute_result"
    }
   ],
   "source": [
    "o1[0] < o1[1]"
   ]
  },
  {
   "cell_type": "code",
   "execution_count": 234,
   "id": "b162f4fb",
   "metadata": {},
   "outputs": [
    {
     "name": "stdout",
     "output_type": "stream",
     "text": [
      "took 0.005208730697631836 sec to check 120 possible orderings and find 8 valid ones\n"
     ]
    }
   ],
   "source": [
    "t0 = time.time()\n",
    "all_orderings = itertools.permutations(txl)\n",
    "possible_orderings = []\n",
    "count = 0\n",
    "for ordering in all_orderings:\n",
    "    count += 1\n",
    "    if check_ordering(ordering):\n",
    "        possible_orderings.append(ordering)\n",
    "print(f\"took {time.time() - t0} sec to check {count} possible orderings and find {len(possible_orderings)} valid ones\")"
   ]
  },
  {
   "cell_type": "markdown",
   "id": "a169ea63",
   "metadata": {},
   "source": [
    "## try reconstructing"
   ]
  },
  {
   "cell_type": "code",
   "execution_count": 235,
   "id": "8e0631ec",
   "metadata": {},
   "outputs": [
    {
     "data": {
      "image/png": "[encoded data removed]",
      "text/latex": [
       "$\\displaystyle \\left( - \\frac{\\sqrt{3} R}{2}, \\  0, \\  \\frac{R}{\\sqrt{\\tan^{2}{\\left(\\theta \\right)} + 1}}, \\  \\frac{\\sqrt{3} R}{2}, \\  R\\right)$"
      ],
      "text/plain": [
       "⎛-√3⋅R             R          √3⋅R   ⎞\n",
       "⎜──────, 0, ────────────────, ────, R⎟\n",
       "⎜  2           _____________   2     ⎟\n",
       "⎜             ╱    2                 ⎟\n",
       "⎝           ╲╱  tan (θ) + 1          ⎠"
      ]
     },
     "execution_count": 235,
     "metadata": {},
     "output_type": "execute_result"
    }
   ],
   "source": [
    "p0"
   ]
  },
  {
   "cell_type": "code",
   "execution_count": 236,
   "id": "db8ad4b3",
   "metadata": {},
   "outputs": [
    {
     "data": {
      "text/plain": [
       "{Boundary(-oo, R*sin(theta) + oo/tan(theta)),\n",
       " Boundary(R, 0),\n",
       " Boundary(R/sqrt(tan(theta)**2 + 1), R*sin(theta) - (-R*cos(theta) + R/sqrt(tan(theta)**2 + 1))/tan(theta)),\n",
       " Boundary(R/sqrt(tan(theta)**2 + 1), sqrt(R**2 - R**2/(tan(theta)**2 + 1))),\n",
       " Transition(-sqrt(3)*R/2, R/2),\n",
       " Transition(0, R),\n",
       " Transition(sqrt(3)*R/2, R/2)}"
      ]
     },
     "execution_count": 236,
     "metadata": {},
     "output_type": "execute_result"
    }
   ],
   "source": [
    "transitions"
   ]
  },
  {
   "cell_type": "code",
   "execution_count": 240,
   "id": "74f75eeb",
   "metadata": {},
   "outputs": [
    {
     "data": {
      "text/plain": [
       "{sqrt(3)*R/2: [Transition(sqrt(3)*R/2, R/2)],\n",
       " -sqrt(3)*R/2: [Transition(-sqrt(3)*R/2, R/2)],\n",
       " 0: [Transition(0, R)],\n",
       " R/sqrt(tan(theta)**2 + 1): [Boundary(R/sqrt(tan(theta)**2 + 1), R*sin(theta) - (-R*cos(theta) + R/sqrt(tan(theta)**2 + 1))/tan(theta)),\n",
       "  Boundary(R/sqrt(tan(theta)**2 + 1), sqrt(R**2 - R**2/(tan(theta)**2 + 1)))],\n",
       " -oo: [Boundary(-oo, R*sin(theta) + oo/tan(theta))],\n",
       " R: [Boundary(R, 0)]}"
      ]
     },
     "execution_count": 240,
     "metadata": {},
     "output_type": "execute_result"
    }
   ],
   "source": [
    "# construct dict mapping x-val (or y-val) to transition object\n",
    "var_to_transition: Dict = {}\n",
    "for transition in transitions:\n",
    "    lookup_coord = getattr(transition.point, str(func_var))\n",
    "    if lookup_coord in var_to_transition:\n",
    "        var_to_transition[lookup_coord].append(transition)\n",
    "    else:\n",
    "        var_to_transition[lookup_coord] = [transition]\n",
    "        \n",
    "var_to_transition"
   ]
  },
  {
   "cell_type": "code",
   "execution_count": 250,
   "id": "b86779db",
   "metadata": {},
   "outputs": [
    {
     "data": {
      "text/plain": [
       "[Boundary(-oo, R*sin(theta) + oo/tan(theta)),\n",
       " Transition(-sqrt(3)*R/2, R/2),\n",
       " Transition(0, R),\n",
       " Boundary(R/sqrt(tan(theta)**2 + 1), R*sin(theta) - (-R*cos(theta) + R/sqrt(tan(theta)**2 + 1))/tan(theta)),\n",
       " Boundary(R/sqrt(tan(theta)**2 + 1), sqrt(R**2 - R**2/(tan(theta)**2 + 1))),\n",
       " Boundary(R, 0),\n",
       " Transition(sqrt(3)*R/2, R/2)]"
      ]
     },
     "execution_count": 250,
     "metadata": {},
     "output_type": "execute_result"
    }
   ],
   "source": [
    "ordered_transitions = []\n",
    "# use extend because var_to_transition maps coordinates (x or y) to lists\n",
    "if add_neg_inf:\n",
    "    ordered_transitions.extend(var_to_transition[-oo])\n",
    "if add_pos_inf:\n",
    "    ordered_transitions.extend(var_to_transition[oo])\n",
    "for coord in possible_orderings[0]:\n",
    "    ordered_transitions.extend(var_to_transition[coord])\n",
    "ordered_transitions"
   ]
  },
  {
   "cell_type": "code",
   "execution_count": 251,
   "id": "8cee5a1a",
   "metadata": {},
   "outputs": [
    {
     "data": {
      "text/plain": [
       "[Boundary(-oo, R*sin(theta) + oo/tan(theta)),\n",
       " Transition(-sqrt(3)*R/2, R/2),\n",
       " Transition(0, R),\n",
       " Boundary(R/sqrt(tan(theta)**2 + 1), R*sin(theta) - (-R*cos(theta) + R/sqrt(tan(theta)**2 + 1))/tan(theta)),\n",
       " Boundary(R/sqrt(tan(theta)**2 + 1), sqrt(R**2 - R**2/(tan(theta)**2 + 1))),\n",
       " Transition(sqrt(3)*R/2, R/2),\n",
       " Boundary(R, 0)]"
      ]
     },
     "execution_count": 251,
     "metadata": {},
     "output_type": "execute_result"
    }
   ],
   "source": [
    "ordered_transitions = []\n",
    "# use extend because var_to_transition maps coordinates (x or y) to lists\n",
    "if add_neg_inf:\n",
    "    ordered_transitions.extend(var_to_transition[-oo])\n",
    "if add_pos_inf:\n",
    "    ordered_transitions.extend(var_to_transition[oo])\n",
    "for coord in possible_orderings[1]:\n",
    "    ordered_transitions.extend(var_to_transition[coord])\n",
    "ordered_transitions"
   ]
  },
  {
   "cell_type": "code",
   "execution_count": 217,
   "id": "a69af8fe",
   "metadata": {},
   "outputs": [
    {
     "data": {
      "image/png": "[encoded data removed]",
      "text/latex": [
       "$\\displaystyle 8$"
      ],
      "text/plain": [
       "8"
      ]
     },
     "execution_count": 217,
     "metadata": {},
     "output_type": "execute_result"
    }
   ],
   "source": [
    "len(possible_orderings)"
   ]
  },
  {
   "cell_type": "code",
   "execution_count": 218,
   "id": "988f80d4",
   "metadata": {},
   "outputs": [
    {
     "data": {
      "image/png": "[encoded data removed]",
      "text/latex": [
       "$\\displaystyle \\left( - \\frac{\\sqrt{3} R}{2}, \\  0, \\  \\frac{R}{\\sqrt{\\tan^{2}{\\left(\\theta \\right)} + 1}}, \\  R, \\  \\frac{\\sqrt{3} R}{2}\\right)$"
      ],
      "text/plain": [
       "⎛-√3⋅R             R             √3⋅R⎞\n",
       "⎜──────, 0, ────────────────, R, ────⎟\n",
       "⎜  2           _____________      2  ⎟\n",
       "⎜             ╱    2                 ⎟\n",
       "⎝           ╲╱  tan (θ) + 1          ⎠"
      ]
     },
     "execution_count": 218,
     "metadata": {},
     "output_type": "execute_result"
    }
   ],
   "source": [
    "possible_orderings[0]"
   ]
  },
  {
   "cell_type": "code",
   "execution_count": 219,
   "id": "e1405029",
   "metadata": {},
   "outputs": [
    {
     "data": {
      "image/png": "[encoded data removed]",
      "text/latex": [
       "$\\displaystyle \\left( - \\frac{\\sqrt{3} R}{2}, \\  0, \\  \\frac{R}{\\sqrt{\\tan^{2}{\\left(\\theta \\right)} + 1}}, \\  \\frac{\\sqrt{3} R}{2}, \\  R\\right)$"
      ],
      "text/plain": [
       "⎛-√3⋅R             R          √3⋅R   ⎞\n",
       "⎜──────, 0, ────────────────, ────, R⎟\n",
       "⎜  2           _____________   2     ⎟\n",
       "⎜             ╱    2                 ⎟\n",
       "⎝           ╲╱  tan (θ) + 1          ⎠"
      ]
     },
     "execution_count": 219,
     "metadata": {},
     "output_type": "execute_result"
    }
   ],
   "source": [
    "possible_orderings[1]"
   ]
  },
  {
   "cell_type": "code",
   "execution_count": 220,
   "id": "5dbd814f",
   "metadata": {},
   "outputs": [
    {
     "data": {
      "image/png": "[encoded data removed]",
      "text/latex": [
       "$\\displaystyle \\left( - \\frac{\\sqrt{3} R}{2}, \\  0, \\  R, \\  \\frac{R}{\\sqrt{\\tan^{2}{\\left(\\theta \\right)} + 1}}, \\  \\frac{\\sqrt{3} R}{2}\\right)$"
      ],
      "text/plain": [
       "⎛-√3⋅R                R          √3⋅R⎞\n",
       "⎜──────, 0, R, ────────────────, ────⎟\n",
       "⎜  2              _____________   2  ⎟\n",
       "⎜                ╱    2              ⎟\n",
       "⎝              ╲╱  tan (θ) + 1       ⎠"
      ]
     },
     "execution_count": 220,
     "metadata": {},
     "output_type": "execute_result"
    }
   ],
   "source": [
    "possible_orderings[2]"
   ]
  },
  {
   "cell_type": "code",
   "execution_count": 168,
   "id": "a4940e50",
   "metadata": {},
   "outputs": [
    {
     "data": {
      "image/png": "[encoded data removed]",
      "text/latex": [
       "$\\displaystyle \\left( - \\frac{\\sqrt{3} R}{2}, \\  0, \\  R, \\  \\frac{\\sqrt{3} R}{2}, \\  \\frac{R}{\\sqrt{\\tan^{2}{\\left(\\theta \\right)} + 1}}\\right)$"
      ],
      "text/plain": [
       "⎛-√3⋅R         √3⋅R         R        ⎞\n",
       "⎜──────, 0, R, ────, ────────────────⎟\n",
       "⎜  2            2       _____________⎟\n",
       "⎜                      ╱    2        ⎟\n",
       "⎝                    ╲╱  tan (θ) + 1 ⎠"
      ]
     },
     "execution_count": 168,
     "metadata": {},
     "output_type": "execute_result"
    }
   ],
   "source": [
    "possible_orderings[3]"
   ]
  },
  {
   "cell_type": "code",
   "execution_count": 169,
   "id": "e9c8d6ae",
   "metadata": {},
   "outputs": [
    {
     "data": {
      "image/png": "[encoded data removed]",
      "text/latex": [
       "$\\displaystyle \\left( - \\frac{\\sqrt{3} R}{2}, \\  0, \\  \\frac{\\sqrt{3} R}{2}, \\  \\frac{R}{\\sqrt{\\tan^{2}{\\left(\\theta \\right)} + 1}}, \\  R\\right)$"
      ],
      "text/plain": [
       "⎛-√3⋅R      √3⋅R         R           ⎞\n",
       "⎜──────, 0, ────, ────────────────, R⎟\n",
       "⎜  2         2       _____________   ⎟\n",
       "⎜                   ╱    2           ⎟\n",
       "⎝                 ╲╱  tan (θ) + 1    ⎠"
      ]
     },
     "execution_count": 169,
     "metadata": {},
     "output_type": "execute_result"
    }
   ],
   "source": [
    "possible_orderings[4]"
   ]
  },
  {
   "cell_type": "code",
   "execution_count": 170,
   "id": "908853e2",
   "metadata": {},
   "outputs": [
    {
     "data": {
      "image/png": "[encoded data removed]",
      "text/latex": [
       "$\\displaystyle \\left( - \\frac{\\sqrt{3} R}{2}, \\  0, \\  \\frac{\\sqrt{3} R}{2}, \\  R, \\  \\frac{R}{\\sqrt{\\tan^{2}{\\left(\\theta \\right)} + 1}}\\right)$"
      ],
      "text/plain": [
       "⎛-√3⋅R      √3⋅R            R        ⎞\n",
       "⎜──────, 0, ────, R, ────────────────⎟\n",
       "⎜  2         2          _____________⎟\n",
       "⎜                      ╱    2        ⎟\n",
       "⎝                    ╲╱  tan (θ) + 1 ⎠"
      ]
     },
     "execution_count": 170,
     "metadata": {},
     "output_type": "execute_result"
    }
   ],
   "source": [
    "possible_orderings[5]"
   ]
  },
  {
   "cell_type": "code",
   "execution_count": 171,
   "id": "cf095ead",
   "metadata": {
    "scrolled": true
   },
   "outputs": [
    {
     "data": {
      "image/png": "[encoded data removed]",
      "text/latex": [
       "$\\displaystyle \\left( - \\frac{\\sqrt{3} R}{2}, \\  \\frac{R}{\\sqrt{\\tan^{2}{\\left(\\theta \\right)} + 1}}, \\  0, \\  R, \\  \\frac{\\sqrt{3} R}{2}\\right)$"
      ],
      "text/plain": [
       "⎛-√3⋅R          R                √3⋅R⎞\n",
       "⎜──────, ────────────────, 0, R, ────⎟\n",
       "⎜  2        _____________         2  ⎟\n",
       "⎜          ╱    2                    ⎟\n",
       "⎝        ╲╱  tan (θ) + 1             ⎠"
      ]
     },
     "execution_count": 171,
     "metadata": {},
     "output_type": "execute_result"
    }
   ],
   "source": [
    "possible_orderings[6]"
   ]
  },
  {
   "cell_type": "code",
   "execution_count": 172,
   "id": "01358fe4",
   "metadata": {},
   "outputs": [
    {
     "data": {
      "image/png": "[encoded data removed]",
      "text/latex": [
       "$\\displaystyle \\left( - \\frac{\\sqrt{3} R}{2}, \\  \\frac{R}{\\sqrt{\\tan^{2}{\\left(\\theta \\right)} + 1}}, \\  0, \\  \\frac{\\sqrt{3} R}{2}, \\  R\\right)$"
      ],
      "text/plain": [
       "⎛-√3⋅R          R             √3⋅R   ⎞\n",
       "⎜──────, ────────────────, 0, ────, R⎟\n",
       "⎜  2        _____________      2     ⎟\n",
       "⎜          ╱    2                    ⎟\n",
       "⎝        ╲╱  tan (θ) + 1             ⎠"
      ]
     },
     "execution_count": 172,
     "metadata": {},
     "output_type": "execute_result"
    }
   ],
   "source": [
    "possible_orderings[7]"
   ]
  },
  {
   "cell_type": "code",
   "execution_count": 189,
   "id": "b38f16f9",
   "metadata": {},
   "outputs": [
    {
     "data": {
      "text/latex": [
       "$\\displaystyle \\text{True}$"
      ],
      "text/plain": [
       "True"
      ]
     },
     "execution_count": 189,
     "metadata": {},
     "output_type": "execute_result"
    }
   ],
   "source": [
    "sqrt(tan(theta)**2 + 1) > 0"
   ]
  },
  {
   "cell_type": "code",
   "execution_count": 190,
   "id": "f9839294",
   "metadata": {},
   "outputs": [
    {
     "data": {
      "text/latex": [
       "$\\displaystyle \\text{True}$"
      ],
      "text/plain": [
       "True"
      ]
     },
     "execution_count": 190,
     "metadata": {},
     "output_type": "execute_result"
    }
   ],
   "source": [
    "R > 0"
   ]
  },
  {
   "cell_type": "code",
   "execution_count": null,
   "id": "12b341e3",
   "metadata": {},
   "outputs": [],
   "source": []
  },
  {
   "cell_type": "code",
   "execution_count": 231,
   "id": "1c7f7592",
   "metadata": {},
   "outputs": [
    {
     "data": {
      "image/png": "[encoded data removed]",
      "text/latex": [
       "$\\displaystyle c > \\frac{\\sqrt{3} c}{2}$"
      ],
      "text/plain": [
       "    √3⋅c\n",
       "c > ────\n",
       "     2  "
      ]
     },
     "execution_count": 231,
     "metadata": {},
     "output_type": "execute_result"
    }
   ],
   "source": [
    "c = Symbol(\"c\", real=True, positive=True, nonzero=True) \n",
    "(c > sqrt(3)/2*c).doit()"
   ]
  },
  {
   "cell_type": "code",
   "execution_count": 233,
   "id": "2fe3538c",
   "metadata": {},
   "outputs": [
    {
     "data": {
      "text/latex": [
       "$\\displaystyle \\text{True}$"
      ],
      "text/plain": [
       "True"
      ]
     },
     "execution_count": 233,
     "metadata": {},
     "output_type": "execute_result"
    }
   ],
   "source": [
    "1 > sqrt(3)/2"
   ]
  },
  {
   "cell_type": "code",
   "execution_count": 341,
   "id": "1a1aec58",
   "metadata": {},
   "outputs": [
    {
     "ename": "TypeError",
     "evalue": "cannot determine truth value of Relational",
     "output_type": "error",
     "traceback": [
      "\u001b[0;31m---------------------------------------------------------------------------\u001b[0m",
      "\u001b[0;31mTypeError\u001b[0m                                 Traceback (most recent call last)",
      "Input \u001b[0;32mIn [341]\u001b[0m, in \u001b[0;36m<cell line: 1>\u001b[0;34m()\u001b[0m\n\u001b[0;32m----> 1\u001b[0m \u001b[38;5;28;43mbool\u001b[39;49m\u001b[43m(\u001b[49m\u001b[43mR\u001b[49m\u001b[43m \u001b[49m\u001b[38;5;241;43m>\u001b[39;49m\u001b[43m \u001b[49m\u001b[43msqrt\u001b[49m\u001b[43m(\u001b[49m\u001b[38;5;241;43m3\u001b[39;49m\u001b[43m)\u001b[49m\u001b[38;5;241;43m*\u001b[39;49m\u001b[43mR\u001b[49m\u001b[38;5;241;43m/\u001b[39;49m\u001b[38;5;241;43m2\u001b[39;49m\u001b[43m)\u001b[49m\n",
      "File \u001b[0;32m~/miniforge3/lib/python3.9/site-packages/sympy/core/relational.py:511\u001b[0m, in \u001b[0;36mRelational.__bool__\u001b[0;34m(self)\u001b[0m\n\u001b[1;32m    510\u001b[0m \u001b[38;5;28;01mdef\u001b[39;00m \u001b[38;5;21m__bool__\u001b[39m(\u001b[38;5;28mself\u001b[39m):\n\u001b[0;32m--> 511\u001b[0m     \u001b[38;5;28;01mraise\u001b[39;00m \u001b[38;5;167;01mTypeError\u001b[39;00m(\u001b[38;5;124m\"\u001b[39m\u001b[38;5;124mcannot determine truth value of Relational\u001b[39m\u001b[38;5;124m\"\u001b[39m)\n",
      "\u001b[0;31mTypeError\u001b[0m: cannot determine truth value of Relational"
     ]
    }
   ],
   "source": [
    "bool(R > sqrt(3)*R/2)"
   ]
  },
  {
   "cell_type": "code",
   "execution_count": 225,
   "id": "8d6b2087",
   "metadata": {},
   "outputs": [
    {
     "data": {
      "image/png": "[encoded data removed]",
      "text/latex": [
       "$\\displaystyle R < \\frac{\\sqrt{3} R}{2}$"
      ],
      "text/plain": [
       "    √3⋅R\n",
       "R < ────\n",
       "     2  "
      ]
     },
     "execution_count": 225,
     "metadata": {},
     "output_type": "execute_result"
    }
   ],
   "source": [
    "R < sqrt(3)*R/2"
   ]
  },
  {
   "cell_type": "code",
   "execution_count": 232,
   "id": "a4c9506c",
   "metadata": {},
   "outputs": [
    {
     "data": {
      "image/png": "[encoded data removed]",
      "text/latex": [
       "$\\displaystyle \\frac{\\sqrt{3} R}{2} < 1$"
      ],
      "text/plain": [
       "√3⋅R    \n",
       "──── < 1\n",
       " 2      "
      ]
     },
     "execution_count": 232,
     "metadata": {},
     "output_type": "execute_result"
    }
   ],
   "source": [
    "1 > sqrt(3)*R/2"
   ]
  },
  {
   "cell_type": "code",
   "execution_count": 195,
   "id": "de6f98d2",
   "metadata": {},
   "outputs": [
    {
     "ename": "TypeError",
     "evalue": "check_ordering() takes 1 positional argument but 2 were given",
     "output_type": "error",
     "traceback": [
      "\u001b[0;31m---------------------------------------------------------------------------\u001b[0m",
      "\u001b[0;31mTypeError\u001b[0m                                 Traceback (most recent call last)",
      "Input \u001b[0;32mIn [195]\u001b[0m, in \u001b[0;36m<cell line: 1>\u001b[0;34m()\u001b[0m\n\u001b[0;32m----> 1\u001b[0m \u001b[43mcheck_ordering\u001b[49m\u001b[43m(\u001b[49m\u001b[43mpossible_orderings\u001b[49m\u001b[43m[\u001b[49m\u001b[38;5;241;43m6\u001b[39;49m\u001b[43m]\u001b[49m\u001b[43m,\u001b[49m\u001b[43m \u001b[49m\u001b[38;5;28;43;01mTrue\u001b[39;49;00m\u001b[43m)\u001b[49m\n",
      "\u001b[0;31mTypeError\u001b[0m: check_ordering() takes 1 positional argument but 2 were given"
     ]
    }
   ],
   "source": [
    "check_ordering(possible_orderings[6], True)"
   ]
  },
  {
   "cell_type": "code",
   "execution_count": 196,
   "id": "6cccc403",
   "metadata": {},
   "outputs": [
    {
     "ename": "TypeError",
     "evalue": "check_ordering() got an unexpected keyword argument 'verbose'",
     "output_type": "error",
     "traceback": [
      "\u001b[0;31m---------------------------------------------------------------------------\u001b[0m",
      "\u001b[0;31mTypeError\u001b[0m                                 Traceback (most recent call last)",
      "Input \u001b[0;32mIn [196]\u001b[0m, in \u001b[0;36m<cell line: 1>\u001b[0;34m()\u001b[0m\n\u001b[0;32m----> 1\u001b[0m \u001b[43mcheck_ordering\u001b[49m\u001b[43m(\u001b[49m\u001b[43mpossible_orderings\u001b[49m\u001b[43m[\u001b[49m\u001b[38;5;241;43m7\u001b[39;49m\u001b[43m]\u001b[49m\u001b[43m,\u001b[49m\u001b[43m \u001b[49m\u001b[43mverbose\u001b[49m\u001b[38;5;241;43m=\u001b[39;49m\u001b[38;5;28;43;01mTrue\u001b[39;49;00m\u001b[43m)\u001b[49m\n",
      "\u001b[0;31mTypeError\u001b[0m: check_ordering() got an unexpected keyword argument 'verbose'"
     ]
    }
   ],
   "source": [
    "check_ordering(possible_orderings[7], verbose=True)"
   ]
  },
  {
   "cell_type": "code",
   "execution_count": 174,
   "id": "fb88e123",
   "metadata": {},
   "outputs": [
    {
     "data": {
      "text/latex": [
       "$\\displaystyle \\text{True}$"
      ],
      "text/plain": [
       "True"
      ]
     },
     "execution_count": 174,
     "metadata": {},
     "output_type": "execute_result"
    }
   ],
   "source": [
    "possible_orderings[7][0] < possible_orderings[7][1]"
   ]
  },
  {
   "cell_type": "code",
   "execution_count": 175,
   "id": "b1082c67",
   "metadata": {},
   "outputs": [
    {
     "data": {
      "text/latex": [
       "$\\displaystyle \\text{False}$"
      ],
      "text/plain": [
       "False"
      ]
     },
     "execution_count": 175,
     "metadata": {},
     "output_type": "execute_result"
    }
   ],
   "source": [
    "possible_orderings[7][1] < possible_orderings[7][2]"
   ]
  },
  {
   "cell_type": "code",
   "execution_count": 14,
   "id": "41d4ec5c",
   "metadata": {},
   "outputs": [
    {
     "ename": "TypeError",
     "evalue": "cannot determine truth value of Relational",
     "output_type": "error",
     "traceback": [
      "\u001b[0;31m---------------------------------------------------------------------------\u001b[0m",
      "\u001b[0;31mTypeError\u001b[0m                                 Traceback (most recent call last)",
      "Input \u001b[0;32mIn [14]\u001b[0m, in \u001b[0;36m<cell line: 2>\u001b[0;34m()\u001b[0m\n\u001b[1;32m      1\u001b[0m func_var \u001b[38;5;241m=\u001b[39m x\n\u001b[0;32m----> 2\u001b[0m \u001b[38;5;28;43msorted\u001b[39;49m\u001b[43m(\u001b[49m\u001b[43mtransitions\u001b[49m\u001b[43m,\u001b[49m\u001b[43m \u001b[49m\u001b[43mkey\u001b[49m\u001b[38;5;241;43m=\u001b[39;49m\u001b[38;5;28;43;01mlambda\u001b[39;49;00m\u001b[43m \u001b[49m\u001b[43mtp\u001b[49m\u001b[43m:\u001b[49m\u001b[43m \u001b[49m\u001b[38;5;28;43mgetattr\u001b[39;49m\u001b[43m(\u001b[49m\u001b[43mtp\u001b[49m\u001b[38;5;241;43m.\u001b[39;49m\u001b[43mpoint\u001b[49m\u001b[43m,\u001b[49m\u001b[43m \u001b[49m\u001b[38;5;28;43mstr\u001b[39;49m\u001b[43m(\u001b[49m\u001b[43mfunc_var\u001b[49m\u001b[43m)\u001b[49m\u001b[43m)\u001b[49m\u001b[43m,\u001b[49m\u001b[43m)\u001b[49m\n",
      "File \u001b[0;32m~/miniforge3/lib/python3.9/site-packages/sympy/core/relational.py:511\u001b[0m, in \u001b[0;36mRelational.__bool__\u001b[0;34m(self)\u001b[0m\n\u001b[1;32m    510\u001b[0m \u001b[38;5;28;01mdef\u001b[39;00m \u001b[38;5;21m__bool__\u001b[39m(\u001b[38;5;28mself\u001b[39m):\n\u001b[0;32m--> 511\u001b[0m     \u001b[38;5;28;01mraise\u001b[39;00m \u001b[38;5;167;01mTypeError\u001b[39;00m(\u001b[38;5;124m\"\u001b[39m\u001b[38;5;124mcannot determine truth value of Relational\u001b[39m\u001b[38;5;124m\"\u001b[39m)\n",
      "\u001b[0;31mTypeError\u001b[0m: cannot determine truth value of Relational"
     ]
    }
   ],
   "source": [
    "func_var = x\n",
    "sorted(transitions, key=lambda tp: getattr(tp.point, str(func_var)),)"
   ]
  },
  {
   "cell_type": "code",
   "execution_count": null,
   "id": "c807be52",
   "metadata": {},
   "outputs": [],
   "source": []
  },
  {
   "cell_type": "code",
   "execution_count": 59,
   "id": "b61b30d2",
   "metadata": {},
   "outputs": [
    {
     "data": {
      "image/png": "[encoded data removed]",
      "text/latex": [
       "$\\displaystyle \\left[ \\frac{\\sqrt{3} R}{2}, \\  - \\frac{\\sqrt{3} R}{2}, \\  0, \\  \\frac{R}{\\sqrt{\\tan^{2}{\\left(\\theta \\right)} + 1}}, \\  \\frac{R}{\\sqrt{\\tan^{2}{\\left(\\theta \\right)} + 1}}, \\  R\\right]$"
      ],
      "text/plain": [
       "⎡√3⋅R  -√3⋅R             R                 R           ⎤\n",
       "⎢────, ──────, 0, ────────────────, ────────────────, R⎥\n",
       "⎢ 2      2           _____________     _____________   ⎥\n",
       "⎢                   ╱    2            ╱    2           ⎥\n",
       "⎣                 ╲╱  tan (θ) + 1   ╲╱  tan (θ) + 1    ⎦"
      ]
     },
     "execution_count": 59,
     "metadata": {},
     "output_type": "execute_result"
    }
   ],
   "source": [
    "txl"
   ]
  },
  {
   "cell_type": "code",
   "execution_count": 58,
   "id": "d1b39514",
   "metadata": {},
   "outputs": [
    {
     "name": "stdout",
     "output_type": "stream",
     "text": [
      "[]\n"
     ]
    }
   ],
   "source": [
    "print(list(all_orderings))"
   ]
  },
  {
   "cell_type": "code",
   "execution_count": 67,
   "id": "b45497ed",
   "metadata": {},
   "outputs": [
    {
     "data": {
      "image/png": "[encoded data removed]",
      "text/latex": [
       "$\\displaystyle \\left( \\frac{\\sqrt{3} R}{2}, \\  - \\frac{\\sqrt{3} R}{2}, \\  0, \\  \\frac{R}{\\sqrt{\\tan^{2}{\\left(\\theta \\right)} + 1}}, \\  \\frac{R}{\\sqrt{\\tan^{2}{\\left(\\theta \\right)} + 1}}, \\  R\\right)$"
      ],
      "text/plain": [
       "⎛√3⋅R  -√3⋅R             R                 R           ⎞\n",
       "⎜────, ──────, 0, ────────────────, ────────────────, R⎟\n",
       "⎜ 2      2           _____________     _____________   ⎟\n",
       "⎜                   ╱    2            ╱    2           ⎟\n",
       "⎝                 ╲╱  tan (θ) + 1   ╲╱  tan (θ) + 1    ⎠"
      ]
     },
     "execution_count": 67,
     "metadata": {},
     "output_type": "execute_result"
    }
   ],
   "source": [
    "o1"
   ]
  },
  {
   "cell_type": "code",
   "execution_count": 70,
   "id": "066f5cbe",
   "metadata": {},
   "outputs": [],
   "source": [
    "def check_ordering(ordering):\n",
    "    # TODO: make this more efficient (nlogn somehow)\n",
    "    for i, elem1 in enumerate(ordering):\n",
    "        # check if each element smaller than successive ones\n",
    "        for elem2 in ordering[i+1:]:\n",
    "            try:\n",
    "                if elem1 > elem2:\n",
    "                    return False\n",
    "            except TypeError:\n",
    "                return True"
   ]
  },
  {
   "cell_type": "code",
   "execution_count": 71,
   "id": "9be80171",
   "metadata": {},
   "outputs": [
    {
     "data": {
      "text/plain": [
       "False"
      ]
     },
     "execution_count": 71,
     "metadata": {},
     "output_type": "execute_result"
    }
   ],
   "source": [
    "check_ordering(o1)"
   ]
  },
  {
   "cell_type": "markdown",
   "id": "d9f90a29",
   "metadata": {},
   "source": [
    "## Define domain and plot bounds"
   ]
  },
  {
   "cell_type": "code",
   "execution_count": null,
   "id": "13ff0725",
   "metadata": {},
   "outputs": [],
   "source": [
    "domain = Interval(-12, 10)\n",
    "xbounds = (domain.inf-3, domain.sup+3)\n",
    "ybounds = (-3, 19)"
   ]
  },
  {
   "cell_type": "code",
   "execution_count": 68,
   "id": "1fec7e24",
   "metadata": {},
   "outputs": [
    {
     "data": {
      "image/png": "[encoded data removed]",
      "text/latex": [
       "$\\displaystyle \\left( - \\frac{\\sqrt{3} R}{2}, \\  0, \\  \\frac{R}{\\sqrt{\\tan^{2}{\\left(\\theta \\right)} + 1}}, \\  \\frac{R}{\\sqrt{\\tan^{2}{\\left(\\theta \\right)} + 1}}, \\  R\\right)$"
      ],
      "text/plain": [
       "⎛-√3⋅R             R                 R           ⎞\n",
       "⎜──────, 0, ────────────────, ────────────────, R⎟\n",
       "⎜  2           _____________     _____________   ⎟\n",
       "⎜             ╱    2            ╱    2           ⎟\n",
       "⎝           ╲╱  tan (θ) + 1   ╲╱  tan (θ) + 1    ⎠"
      ]
     },
     "execution_count": 68,
     "metadata": {},
     "output_type": "execute_result"
    }
   ],
   "source": [
    "o1[0+1:]"
   ]
  },
  {
   "cell_type": "markdown",
   "id": "746c14e3",
   "metadata": {},
   "source": [
    "## Run algorithm"
   ]
  },
  {
   "cell_type": "code",
   "execution_count": null,
   "id": "5aaf6a87",
   "metadata": {},
   "outputs": [],
   "source": [
    "example_name = \"Top-Down UAV Trajectory\"\n",
    "\n",
    "cond = compute_unsafe_cond(\n",
    "    x, y,\n",
    "    hexagon,\n",
    "    traj_piecewise,\n",
    "    domain = domain, \n",
    ")\n",
    "cond"
   ]
  },
  {
   "cell_type": "code",
   "execution_count": null,
   "id": "a71ac1d0",
   "metadata": {},
   "outputs": [],
   "source": [
    "plot_condition(x, y, cond, xbounds, ybounds, title=example_name, resolution=0.75)\n",
    "mathematica_output = print_mathematica(x, y, cond, xbounds, ybounds, traj_piecewise, hexagon)\n",
    "print(mathematica_output)"
   ]
  },
  {
   "cell_type": "markdown",
   "id": "1de215db",
   "metadata": {},
   "source": [
    "# Short Examples"
   ]
  },
  {
   "cell_type": "code",
   "execution_count": null,
   "id": "22b3fbbd",
   "metadata": {},
   "outputs": [],
   "source": [
    "w = 0.5\n",
    "square_points: list = [\n",
    "    geometry.Point(val) for val in [[w, -w], [w, w], [-w, w], [-w, -w]]\n",
    "]\n",
    "square: geometry.Polygon = Polygon(*square_points)\n",
    "\n",
    "traj_piecewise = Piecewise(\n",
    "                    (sin(x/2), x < 0),\n",
    "                    (x/2, x >= 0))\n",
    "plot(traj_piecewise)"
   ]
  },
  {
   "cell_type": "code",
   "execution_count": null,
   "id": "6ea3c3b3",
   "metadata": {},
   "outputs": [],
   "source": [
    "domain = Interval(-12, 9)\n",
    "xbounds = [-15, 12]\n",
    "ybounds = [-3, 9]\n",
    "\n",
    "cond = compute_unsafe_cond(\n",
    "    x,\n",
    "    y,\n",
    "    square,\n",
    "    traj_piecewise,\n",
    "    domain,\n",
    ")\n",
    "\n",
    "cond"
   ]
  },
  {
   "cell_type": "code",
   "execution_count": null,
   "id": "fc0d49ac",
   "metadata": {},
   "outputs": [],
   "source": [
    "plot_condition(x, y, cond, xbounds, ybounds, title=example_name)\n",
    "mathematica_output = print_mathematica(x, y, cond, xbounds, ybounds, traj_piecewise, square, False)\n",
    "print(mathematica_output)"
   ]
  },
  {
   "cell_type": "markdown",
   "id": "ec4eab8d",
   "metadata": {},
   "source": [
    "## Testing $x = f(y)$"
   ]
  },
  {
   "cell_type": "code",
   "execution_count": null,
   "id": "4803bbf3",
   "metadata": {},
   "outputs": [],
   "source": [
    "square: geometry.Polygon = Polygon(*square_points)\n",
    "plot_polygon(square)\n",
    "\n",
    "domain = Interval(0, 10)\n",
    "traj_piecewise = Piecewise((4*sqrt(y), y < 1), (2*y + 2, y >= 1))\n",
    "# plot_implicit(traj_piecewise)"
   ]
  },
  {
   "cell_type": "code",
   "execution_count": null,
   "id": "a452fd44",
   "metadata": {},
   "outputs": [],
   "source": [
    "domain = Interval(0, 4)\n",
    "xbounds = [-2, 12]\n",
    "ybounds = [-2, 6]\n",
    "\n",
    "cond = compute_unsafe_cond(\n",
    "    x,\n",
    "    y,\n",
    "    square,\n",
    "    traj_piecewise,\n",
    "    domain,\n",
    ")\n",
    "cond"
   ]
  },
  {
   "cell_type": "code",
   "execution_count": null,
   "id": "16af5587",
   "metadata": {},
   "outputs": [],
   "source": [
    "mathematica_command = print_mathematica(x, y, cond, xbounds, ybounds, traj_piecewise, square)\n",
    "print(mathematica_command)"
   ]
  },
  {
   "cell_type": "code",
   "execution_count": null,
   "id": "bac4e656",
   "metadata": {},
   "outputs": [],
   "source": [
    "plot_condition(x, y, cond, xbounds, ybounds, title=\"f(y)\")"
   ]
  },
  {
   "cell_type": "markdown",
   "id": "3ee6cb0a",
   "metadata": {},
   "source": [
    "## Symbolic [in progress]"
   ]
  },
  {
   "cell_type": "code",
   "execution_count": null,
   "id": "e5a79925",
   "metadata": {},
   "outputs": [],
   "source": [
    "a = Symbol(\"a\", real=True, nonzero=True)\n",
    "b = Symbol(\"b\", real=True, nonzero=True)\n",
    "c = Symbol(\"c\", real=True, nonzero=True)\n",
    "\n",
    "w = Symbol(\"w\", real=True, positive=True, nonzero=True)\n",
    "square_points: list = [\n",
    "    geometry.Point(val) for val in [[w, -w], [w, w], [-w, w], [-w, -w]]\n",
    "]\n",
    "square_param: geometry.Polygon = Polygon(*square_points)\n",
    "\n",
    "domain = Interval(-12, 9)\n",
    "xbounds = [-15, 12]\n",
    "ybounds = [-3, 6]\n",
    "example_name = \"Symbolic parabola\"\n",
    "\n",
    "traj = a*x**2 + b*x +c\n",
    "\n",
    "cond = compute_unsafe_cond_symbolic(\n",
    "    x,\n",
    "    y,\n",
    "    square_param,\n",
    "    traj,\n",
    "    Reals,\n",
    "    add_notches=True,\n",
    ")\n",
    "cond"
   ]
  },
  {
   "cell_type": "code",
   "execution_count": null,
   "id": "7ed5ce55",
   "metadata": {},
   "outputs": [],
   "source": [
    "plot_condition(x, y, cond, xbounds, ybounds, title=example_name)"
   ]
  },
  {
   "cell_type": "code",
   "execution_count": null,
   "id": "ef009712",
   "metadata": {},
   "outputs": [],
   "source": [
    "plot_condition(x, y, cond.subs(a, 1/4).subs(b, 1).subs(c, 2).subs(w, 0.5), xbounds, ybounds, title=example_name)"
   ]
  },
  {
   "cell_type": "code",
   "execution_count": null,
   "id": "ad77a95c",
   "metadata": {},
   "outputs": [],
   "source": []
  },
  {
   "cell_type": "code",
   "execution_count": null,
   "id": "0a9fe95f",
   "metadata": {},
   "outputs": [],
   "source": []
  },
  {
   "cell_type": "code",
   "execution_count": null,
   "id": "649143d8",
   "metadata": {},
   "outputs": [],
   "source": []
  }
 ],
 "metadata": {
  "kernelspec": {
   "display_name": "Python 3 (ipykernel)",
   "language": "python",
   "name": "python3"
  },
  "language_info": {
   "codemirror_mode": {
    "name": "ipython",
    "version": 3
   },
   "file_extension": ".py",
   "mimetype": "text/x-python",
   "name": "python",
   "nbconvert_exporter": "python",
   "pygments_lexer": "ipython3",
   "version": "3.9.10"
  }
 },
 "nbformat": 4,
 "nbformat_minor": 5
}
