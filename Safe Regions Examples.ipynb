{
 "cells": [
  {
   "cell_type": "code",
   "execution_count": null,
   "id": "34ec0f7d",
   "metadata": {},
   "outputs": [],
   "source": [
    "%load_ext autoreload\n",
    "%autoreload 2\n",
    "\n",
    "from sympy import *\n",
    "from safe_region_utils import *\n",
    "init_printing()"
   ]
  },
  {
   "cell_type": "markdown",
   "id": "577f940c",
   "metadata": {},
   "source": [
    "# ACAS X Example"
   ]
  },
  {
   "cell_type": "markdown",
   "id": "b8b12e6f",
   "metadata": {},
   "source": [
    "## Define a polygon"
   ]
  },
  {
   "cell_type": "code",
   "execution_count": null,
   "id": "e6a630e6",
   "metadata": {},
   "outputs": [],
   "source": [
    "w = 0.75\n",
    "rect_points: list = [\n",
    "    geometry.Point(val)\n",
    "    for val in [[2 * w, -w], [2 * w, w], [-2 * w, w], [-2 * w, -w]]\n",
    "]\n",
    "rectangle: geometry.Polygon = Polygon(*rect_points)\n",
    "plot_polygon(rectangle)"
   ]
  },
  {
   "cell_type": "markdown",
   "id": "3e276816",
   "metadata": {},
   "source": [
    "## Define a trajectory"
   ]
  },
  {
   "cell_type": "code",
   "execution_count": null,
   "id": "411340c7",
   "metadata": {},
   "outputs": [],
   "source": [
    "x, y = symbols(\"x y\")\n",
    "\n",
    "traj_piecewise = Piecewise(\n",
    "                    (x**2 / 16, x < 4),\n",
    "                    (x/2 - 1, x >= 4))\n",
    "plot(traj_piecewise)"
   ]
  },
  {
   "cell_type": "markdown",
   "id": "34516bea",
   "metadata": {},
   "source": [
    "## Define domain and plotting bounds"
   ]
  },
  {
   "cell_type": "code",
   "execution_count": null,
   "id": "1de23915",
   "metadata": {},
   "outputs": [],
   "source": [
    "domain = Interval(-6, 15)\n",
    "xbounds = (domain.inf-3, domain.sup+3)\n",
    "ybounds = (-2, 9)"
   ]
  },
  {
   "cell_type": "code",
   "execution_count": null,
   "id": "ee4da5f6",
   "metadata": {},
   "outputs": [],
   "source": [
    "example_name = \"ACAS X Climb with Rectangle\"\n",
    "\n",
    "cond = compute_unsafe_cond(\n",
    "    x, y,\n",
    "    rectangle,\n",
    "    traj_piecewise,\n",
    "    domain = domain, \n",
    ")\n",
    "cond"
   ]
  },
  {
   "cell_type": "code",
   "execution_count": null,
   "id": "c2cdcb13",
   "metadata": {},
   "outputs": [],
   "source": [
    "plot_condition(x, y, cond, xbounds, ybounds, title=example_name)\n",
    "mathematica_output = print_mathematica(x, y, cond, xbounds, ybounds, traj_piecewise, rectangle)\n",
    "print(mathematica_output)"
   ]
  },
  {
   "cell_type": "code",
   "execution_count": null,
   "id": "271cc24c",
   "metadata": {},
   "outputs": [],
   "source": [
    "(xbounds[1]+xbounds[0]) / 2"
   ]
  },
  {
   "cell_type": "markdown",
   "id": "9d70f2bd",
   "metadata": {},
   "source": [
    "# UAV top-down collision avoidance\n",
    "\n",
    "## Define a polygon"
   ]
  },
  {
   "cell_type": "code",
   "execution_count": null,
   "id": "0228c76b",
   "metadata": {},
   "outputs": [],
   "source": []
  },
  {
   "cell_type": "code",
   "execution_count": null,
   "id": "58e726cd",
   "metadata": {},
   "outputs": [],
   "source": [
    "rp = 2\n",
    "hexagon = RegularPolygon(Point(0, 0), rp, 6)\n",
    "\n",
    "plot_polygon(hexagon)"
   ]
  },
  {
   "cell_type": "markdown",
   "id": "9b3dffca",
   "metadata": {},
   "source": [
    "## Define a trajectory"
   ]
  },
  {
   "cell_type": "code",
   "execution_count": null,
   "id": "fc524e59",
   "metadata": {},
   "outputs": [],
   "source": [
    "R = 10\n",
    "theta = pi/3\n",
    "# y = sqrt(R**2 - x**2)\n",
    "bound = R / sqrt(tan(theta)**2 + 1)\n",
    "\n",
    "traj_piecewise = Piecewise(\n",
    "                    (sqrt(R**2 - x**2), x > bound),\n",
    "                    (-1/tan(theta)*(x-R*cos(theta)) + R*sin(theta), x <= bound))\n",
    "plot(traj_piecewise)"
   ]
  },
  {
   "cell_type": "markdown",
   "id": "d9f90a29",
   "metadata": {},
   "source": [
    "## Define domain and plot bounds"
   ]
  },
  {
   "cell_type": "code",
   "execution_count": null,
   "id": "13ff0725",
   "metadata": {},
   "outputs": [],
   "source": [
    "domain = Interval(-12, 10)\n",
    "xbounds = (domain.inf-3, domain.sup+3)\n",
    "ybounds = (-3, 19)"
   ]
  },
  {
   "cell_type": "markdown",
   "id": "746c14e3",
   "metadata": {},
   "source": [
    "## Run algorithm"
   ]
  },
  {
   "cell_type": "code",
   "execution_count": null,
   "id": "5aaf6a87",
   "metadata": {},
   "outputs": [],
   "source": [
    "example_name = \"Top-Down UAV Trajectory\"\n",
    "\n",
    "cond = compute_unsafe_cond(\n",
    "    x, y,\n",
    "    hexagon,\n",
    "    traj_piecewise,\n",
    "    domain = domain, \n",
    ")\n",
    "cond"
   ]
  },
  {
   "cell_type": "code",
   "execution_count": null,
   "id": "a71ac1d0",
   "metadata": {},
   "outputs": [],
   "source": [
    "plot_condition(x, y, cond, xbounds, ybounds, title=example_name, resolution=0.75)\n",
    "mathematica_output = print_mathematica(x, y, cond, xbounds, ybounds, traj_piecewise, hexagon)\n",
    "print(mathematica_output)"
   ]
  },
  {
   "cell_type": "markdown",
   "id": "1de215db",
   "metadata": {},
   "source": [
    "# Short Examples"
   ]
  },
  {
   "cell_type": "code",
   "execution_count": null,
   "id": "22b3fbbd",
   "metadata": {},
   "outputs": [],
   "source": [
    "w = 0.5\n",
    "square_points: list = [\n",
    "    geometry.Point(val) for val in [[w, -w], [w, w], [-w, w], [-w, -w]]\n",
    "]\n",
    "square: geometry.Polygon = Polygon(*square_points)\n",
    "\n",
    "traj_piecewise = Piecewise(\n",
    "                    (sin(x/2), x < 0),\n",
    "                    (x/2, x >= 0))\n",
    "plot(traj_piecewise)"
   ]
  },
  {
   "cell_type": "code",
   "execution_count": null,
   "id": "dce5f956",
   "metadata": {},
   "outputs": [],
   "source": [
    "traj_piecewise.free_symbols"
   ]
  },
  {
   "cell_type": "code",
   "execution_count": null,
   "id": "6ea3c3b3",
   "metadata": {},
   "outputs": [],
   "source": [
    "domain = Interval(-12, 9)\n",
    "xbounds = [-15, 12]\n",
    "ybounds = [-3, 9]\n",
    "\n",
    "cond = compute_unsafe_cond(\n",
    "    x,\n",
    "    y,\n",
    "    square,\n",
    "    traj_piecewise,\n",
    "    domain,\n",
    ")\n",
    "\n",
    "cond"
   ]
  },
  {
   "cell_type": "code",
   "execution_count": null,
   "id": "fc0d49ac",
   "metadata": {},
   "outputs": [],
   "source": [
    "plot_condition(x, y, cond, xbounds, ybounds, title=example_name)\n",
    "mathematica_output = print_mathematica(x, y, cond, xbounds, ybounds, traj_piecewise, square, False)\n",
    "print(mathematica_output)"
   ]
  },
  {
   "cell_type": "code",
   "execution_count": null,
   "id": "2c1dd88d",
   "metadata": {},
   "outputs": [],
   "source": [
    "domain = Interval(-12, 9)\n",
    "xbounds = [-15, 12]\n",
    "ybounds = [-3, 9]\n",
    "\n",
    "cond = compute_unsafe_cond(\n",
    "    x,\n",
    "    y,\n",
    "    square,\n",
    "    0.8 * x,\n",
    "    domain,\n",
    ")\n",
    "\n",
    "cond"
   ]
  },
  {
   "cell_type": "code",
   "execution_count": null,
   "id": "4e2bbcaf",
   "metadata": {},
   "outputs": [],
   "source": [
    "plot_condition(x, y, cond, xbounds, ybounds, title=example_name)\n",
    "mathematica_output = print_mathematica(x, y, cond, xbounds, ybounds, traj_piecewise, square, False)\n",
    "print(mathematica_output)"
   ]
  },
  {
   "cell_type": "markdown",
   "id": "ec4eab8d",
   "metadata": {},
   "source": [
    "## Testing $x = f(y)$"
   ]
  },
  {
   "cell_type": "code",
   "execution_count": null,
   "id": "4803bbf3",
   "metadata": {},
   "outputs": [],
   "source": [
    "square: geometry.Polygon = Polygon(*square_points)\n",
    "plot_polygon(square)\n",
    "\n",
    "domain = Interval(0, 10)\n",
    "traj_piecewise = Piecewise((4*sqrt(y), y < 1), (2*y + 2, y >= 1))\n",
    "# plot_implicit(traj_piecewise)"
   ]
  },
  {
   "cell_type": "code",
   "execution_count": null,
   "id": "926f1fa8",
   "metadata": {},
   "outputs": [],
   "source": [
    "plot(traj_piecewise)"
   ]
  },
  {
   "cell_type": "code",
   "execution_count": null,
   "id": "25e38039",
   "metadata": {},
   "outputs": [],
   "source": [
    "plot_implicit(Eq(x, 2*y + 2))"
   ]
  },
  {
   "cell_type": "code",
   "execution_count": null,
   "id": "97efef3d",
   "metadata": {},
   "outputs": [],
   "source": [
    "plot_implicit(Eq(x, 4*sqrt(y)))"
   ]
  },
  {
   "cell_type": "code",
   "execution_count": null,
   "id": "a452fd44",
   "metadata": {},
   "outputs": [],
   "source": [
    "domain = Interval(0, 4)\n",
    "xbounds = [-2, 12]\n",
    "ybounds = [-2, 6]\n",
    "\n",
    "cond = compute_unsafe_cond(\n",
    "    x,\n",
    "    y,\n",
    "    square,\n",
    "    traj_piecewise,\n",
    "    domain,\n",
    ")\n",
    "cond"
   ]
  },
  {
   "cell_type": "code",
   "execution_count": null,
   "id": "16af5587",
   "metadata": {},
   "outputs": [],
   "source": [
    "mathematica_command = print_mathematica(x, y, cond, xbounds, ybounds, traj_piecewise, square)\n",
    "print(mathematica_command)"
   ]
  },
  {
   "cell_type": "code",
   "execution_count": null,
   "id": "bac4e656",
   "metadata": {},
   "outputs": [],
   "source": [
    "plot_condition(x, y, cond, xbounds, ybounds, resolution=0.25, title=\"test\")"
   ]
  },
  {
   "cell_type": "code",
   "execution_count": null,
   "id": "20844101",
   "metadata": {},
   "outputs": [],
   "source": [
    "# non-piecewise case\n",
    "cond = compute_unsafe_cond(\n",
    "    x,\n",
    "    y,\n",
    "    hexagon,\n",
    "    4*sqrt(y),\n",
    "    domain,\n",
    ")\n",
    "cond"
   ]
  },
  {
   "cell_type": "code",
   "execution_count": null,
   "id": "98881940",
   "metadata": {},
   "outputs": [],
   "source": [
    "mathematica_command = print_mathematica(x, y, cond, xbounds, ybounds, 4*sqrt(y), hexagon)\n",
    "print(mathematica_command)"
   ]
  },
  {
   "cell_type": "code",
   "execution_count": null,
   "id": "eb789031",
   "metadata": {},
   "outputs": [],
   "source": [
    "plot_condition(x, y, cond, xbounds, ybounds, resolution=0.75, title=\"test\")"
   ]
  },
  {
   "cell_type": "code",
   "execution_count": null,
   "id": "386c3977",
   "metadata": {},
   "outputs": [],
   "source": [
    "diff(x**2 / 16, x).subs(x, 8*sqrt(3))"
   ]
  },
  {
   "cell_type": "code",
   "execution_count": null,
   "id": "54ad87fe",
   "metadata": {},
   "outputs": [],
   "source": [
    "plot_polygon(hexagon)  # side is 60 deg indeed"
   ]
  },
  {
   "cell_type": "code",
   "execution_count": null,
   "id": "7791bf3a",
   "metadata": {},
   "outputs": [],
   "source": [
    "diff(x**2 / 16, x)"
   ]
  },
  {
   "cell_type": "code",
   "execution_count": null,
   "id": "8cd868ca",
   "metadata": {},
   "outputs": [],
   "source": [
    "1 / diff(4*sqrt(y), y)"
   ]
  },
  {
   "cell_type": "code",
   "execution_count": null,
   "id": "5743ffcc",
   "metadata": {},
   "outputs": [],
   "source": [
    "x_val = 8\n",
    "y_val = (x**2 / 16).subs(x, x_val)\n",
    "y_val"
   ]
  },
  {
   "cell_type": "code",
   "execution_count": null,
   "id": "4ed90d26",
   "metadata": {},
   "outputs": [],
   "source": [
    "(4 * sqrt(y)).subs(y, y_val) == x_val"
   ]
  },
  {
   "cell_type": "code",
   "execution_count": null,
   "id": "aa8306d6",
   "metadata": {},
   "outputs": [],
   "source": [
    "diff(x**2 / 16, x).subs(x, x_val) == (1 / diff(4*sqrt(y), y)).subs(y, y_val)"
   ]
  },
  {
   "cell_type": "code",
   "execution_count": null,
   "id": "905b2547",
   "metadata": {},
   "outputs": [],
   "source": [
    "# seems this works\n",
    "for x_val in np.arange(0, 100):\n",
    "    y_val = (x**2 / 16).subs(x, x_val)\n",
    "    if (4 * sqrt(y)).subs(y, y_val) != x_val or diff(x**2 / 16, x).subs(x, x_val) != (1 / diff(4*sqrt(y), y)).subs(y, y_val):\n",
    "            print(x_val, y_val)"
   ]
  },
  {
   "cell_type": "code",
   "execution_count": null,
   "id": "b0aaf932",
   "metadata": {},
   "outputs": [],
   "source": [
    "if None:\n",
    "    print(\"test\")"
   ]
  },
  {
   "cell_type": "markdown",
   "id": "9a0b101f",
   "metadata": {},
   "source": [
    "## testing slope sym"
   ]
  },
  {
   "cell_type": "code",
   "execution_count": null,
   "id": "c20afe10",
   "metadata": {},
   "outputs": [],
   "source": [
    "plot_polygon(hexagon)\n",
    "angles, vertex_pairs = compute_polygon_angles(hexagon)\n",
    "angles"
   ]
  },
  {
   "cell_type": "code",
   "execution_count": null,
   "id": "a45d2b49",
   "metadata": {},
   "outputs": [],
   "source": [
    "type(sin_traj)"
   ]
  },
  {
   "cell_type": "code",
   "execution_count": null,
   "id": "27dd3a88",
   "metadata": {},
   "outputs": [],
   "source": [
    "sin_traj = sin(2*x)\n",
    "plot(sin_traj)"
   ]
  },
  {
   "cell_type": "code",
   "execution_count": null,
   "id": "8ccd39ec",
   "metadata": {},
   "outputs": [],
   "source": [
    "slope_sym(sin_traj, x, y)"
   ]
  },
  {
   "cell_type": "code",
   "execution_count": null,
   "id": "3f55ca16",
   "metadata": {},
   "outputs": [],
   "source": [
    "slope_sym(-y + sin_traj, x, y)"
   ]
  },
  {
   "cell_type": "code",
   "execution_count": null,
   "id": "13ee5b59",
   "metadata": {},
   "outputs": [],
   "source": [
    "diff(sin_traj, x)"
   ]
  },
  {
   "cell_type": "code",
   "execution_count": null,
   "id": "d961f371",
   "metadata": {},
   "outputs": [],
   "source": [
    "dtrans, settrans = find_transitions(-y + sin_traj, angles, x, y, domain = Interval(-10, 10))"
   ]
  },
  {
   "cell_type": "code",
   "execution_count": null,
   "id": "38e9c028",
   "metadata": {},
   "outputs": [],
   "source": [
    "dtrans[pi/3]"
   ]
  },
  {
   "cell_type": "code",
   "execution_count": null,
   "id": "7303cd6d",
   "metadata": {},
   "outputs": [],
   "source": [
    "dtrans[4*pi/3]"
   ]
  },
  {
   "cell_type": "code",
   "execution_count": null,
   "id": "508dec3e",
   "metadata": {},
   "outputs": [],
   "source": [
    "dtrans[2*pi/3]"
   ]
  },
  {
   "cell_type": "code",
   "execution_count": null,
   "id": "fd4f895c",
   "metadata": {},
   "outputs": [],
   "source": [
    "dtrans[5*pi/3]"
   ]
  },
  {
   "cell_type": "code",
   "execution_count": null,
   "id": "2652bc70",
   "metadata": {},
   "outputs": [],
   "source": [
    "diff(sin_traj, x).subs(x, pi/12)"
   ]
  },
  {
   "cell_type": "code",
   "execution_count": null,
   "id": "138b0e99",
   "metadata": {},
   "outputs": [],
   "source": [
    "diff(sin_traj, x).subs(x, 11*pi/12)"
   ]
  },
  {
   "cell_type": "code",
   "execution_count": null,
   "id": "f6c627b9",
   "metadata": {},
   "outputs": [],
   "source": [
    "diff(sin_traj, x).subs(x, 13*pi/12)"
   ]
  },
  {
   "cell_type": "code",
   "execution_count": null,
   "id": "617e8f63",
   "metadata": {},
   "outputs": [],
   "source": [
    "dtrans, settrans = find_transitions(-sin_traj, angles, x, y, domain = Interval(-10, 10))"
   ]
  },
  {
   "cell_type": "code",
   "execution_count": null,
   "id": "5ced8e95",
   "metadata": {},
   "outputs": [],
   "source": [
    "plot(-sin_traj)"
   ]
  },
  {
   "cell_type": "code",
   "execution_count": null,
   "id": "2a689526",
   "metadata": {},
   "outputs": [],
   "source": [
    "slope_sym"
   ]
  },
  {
   "cell_type": "code",
   "execution_count": null,
   "id": "851e4eb6",
   "metadata": {},
   "outputs": [],
   "source": [
    "piecewise_traj"
   ]
  },
  {
   "cell_type": "markdown",
   "id": "9c6aaa3a",
   "metadata": {},
   "source": [
    "## testing left inclusive piecewise filtering"
   ]
  },
  {
   "cell_type": "code",
   "execution_count": null,
   "id": "56daddd7",
   "metadata": {},
   "outputs": [],
   "source": [
    "w = 0.5\n",
    "square_points: list = [\n",
    "    geometry.Point(val) for val in [[w, -w], [w, w], [-w, w], [-w, -w]]\n",
    "]\n",
    "square: geometry.Polygon = Polygon(*square_points)\n",
    "\n",
    "traj_piecewise = Piecewise(\n",
    "                    (sin(x/2), x < 0),\n",
    "                    (x/2, x >= 0))\n",
    "plot(traj_piecewise)"
   ]
  },
  {
   "cell_type": "code",
   "execution_count": null,
   "id": "d779ee67",
   "metadata": {},
   "outputs": [],
   "source": [
    "traj_piecewise = Piecewise(\n",
    "                    (sin(x/2), x <= 0),\n",
    "                    (x/2, x >= 0))\n",
    "plot(traj_piecewise)\n",
    "\n",
    "piece = Interval(0, 5)\n",
    "traj_piecewise.as_expr_set_pairs(piece)"
   ]
  },
  {
   "cell_type": "code",
   "execution_count": null,
   "id": "d914592c",
   "metadata": {},
   "outputs": [],
   "source": [
    "len(traj_piecewise.as_expr_set_pairs(piece))"
   ]
  },
  {
   "cell_type": "code",
   "execution_count": null,
   "id": "44934f16",
   "metadata": {},
   "outputs": [],
   "source": [
    "traj_piecewise = Piecewise(\n",
    "                    (sin(x/2), x <= 0),\n",
    "                    (x/2, x > 0))\n",
    "plot(traj_piecewise)\n",
    "\n",
    "piece = Interval(0, 5)\n",
    "traj_piecewise.as_expr_set_pairs(piece)"
   ]
  },
  {
   "cell_type": "code",
   "execution_count": null,
   "id": "70784162",
   "metadata": {},
   "outputs": [],
   "source": [
    "traj_piecewise = Piecewise(\n",
    "                    (sin(x/2), x < 0),\n",
    "                    (x/2, x > 0))\n",
    "plot(traj_piecewise)\n",
    "\n",
    "piece = Interval(0, 5)\n",
    "traj_piecewise.as_expr_set_pairs(piece)"
   ]
  },
  {
   "cell_type": "code",
   "execution_count": null,
   "id": "c33968cb",
   "metadata": {},
   "outputs": [],
   "source": [
    "# left inclusive will get it first, which is bad - use open intervals to query?"
   ]
  },
  {
   "cell_type": "code",
   "execution_count": null,
   "id": "9059c3a7",
   "metadata": {},
   "outputs": [],
   "source": [
    "traj_piecewise = Piecewise(\n",
    "                    (sin(x/2), x <= 0),\n",
    "                    (x/2, x >= 0))\n",
    "plot(traj_piecewise)\n",
    "\n",
    "piece = Interval.open(0, 5)\n",
    "traj_piecewise.as_expr_set_pairs(piece)"
   ]
  },
  {
   "cell_type": "code",
   "execution_count": null,
   "id": "ac003852",
   "metadata": {},
   "outputs": [],
   "source": [
    "traj_piecewise = Piecewise(\n",
    "                    (sin(x/2), x <= 0),\n",
    "                    (x/2, x > 0))\n",
    "plot(traj_piecewise)\n",
    "\n",
    "piece = Interval.open(0, 5)\n",
    "traj_piecewise.as_expr_set_pairs(piece)"
   ]
  },
  {
   "cell_type": "code",
   "execution_count": null,
   "id": "e082044a",
   "metadata": {},
   "outputs": [],
   "source": [
    "len(traj_piecewise.as_expr_set_pairs(piece))"
   ]
  },
  {
   "cell_type": "code",
   "execution_count": null,
   "id": "69a8afa2",
   "metadata": {},
   "outputs": [],
   "source": [
    "# open intervals seem to fix boundary problems"
   ]
  },
  {
   "cell_type": "markdown",
   "id": "ea320edd",
   "metadata": {},
   "source": [
    "## speeding up dotplot with vectors?"
   ]
  },
  {
   "cell_type": "code",
   "execution_count": null,
   "id": "081fbc5a",
   "metadata": {},
   "outputs": [],
   "source": [
    "cond"
   ]
  },
  {
   "cell_type": "code",
   "execution_count": null,
   "id": "21b489bf",
   "metadata": {},
   "outputs": [],
   "source": [
    "cond.subs([(x, 0), (y, 0)])"
   ]
  },
  {
   "cell_type": "code",
   "execution_count": null,
   "id": "d87a1b85",
   "metadata": {},
   "outputs": [],
   "source": [
    "lambdify(cond)"
   ]
  },
  {
   "cell_type": "code",
   "execution_count": null,
   "id": "27ccdb90",
   "metadata": {},
   "outputs": [],
   "source": [
    "help(lambdify)"
   ]
  },
  {
   "cell_type": "code",
   "execution_count": null,
   "id": "c994907c",
   "metadata": {},
   "outputs": [],
   "source": [
    "f = lambdify((x, y), cond, \"numpy\")"
   ]
  },
  {
   "cell_type": "code",
   "execution_count": null,
   "id": "4f962ab9",
   "metadata": {
    "scrolled": true
   },
   "outputs": [],
   "source": [
    "f(np.array([0, 1, 2]), np.array([0, 1, 2]))"
   ]
  },
  {
   "cell_type": "code",
   "execution_count": null,
   "id": "efe9b22a",
   "metadata": {},
   "outputs": [],
   "source": [
    "f(np.array([0, 1, 2]), 0)"
   ]
  },
  {
   "cell_type": "code",
   "execution_count": null,
   "id": "5b5d5034",
   "metadata": {},
   "outputs": [],
   "source": [
    "len(np.arange(0, 10, 0.5))"
   ]
  },
  {
   "cell_type": "code",
   "execution_count": null,
   "id": "55d01eaa",
   "metadata": {},
   "outputs": [],
   "source": [
    "import time \n",
    "# with subs\n",
    "t0 = time.time()\n",
    "vals = np.ones((40, 40)) * -1\n",
    "for i, x_O in enumerate(np.arange(-5, 5, 0.25)):\n",
    "    for j, y_O in enumerate(np.arange(-5, 5, 0.25)):\n",
    "        val = bool(~cond.subs([(x, x_O), (y, x_O)]))\n",
    "        vals[i, j] = val\n",
    "print(time.time() - t0)"
   ]
  },
  {
   "cell_type": "code",
   "execution_count": null,
   "id": "76d7a3b2",
   "metadata": {},
   "outputs": [],
   "source": [
    "assert(np.all(vals != -1))"
   ]
  },
  {
   "cell_type": "code",
   "execution_count": null,
   "id": "67392247",
   "metadata": {},
   "outputs": [],
   "source": [
    "plt.figure()\n",
    "for i, x_O in enumerate(np.arange(-5, 5, 0.25)):\n",
    "    for j, y_O in enumerate(np.arange(-5, 5, 0.25)):\n",
    "        if vals[i, j] == 1:\n",
    "            plt.plot(x_O, y_O, \"bo\")\n",
    "        else:\n",
    "            plt.plot(x_O, y_O, \"ro\")\n",
    "plt.show()"
   ]
  },
  {
   "cell_type": "code",
   "execution_count": null,
   "id": "4dd24cb5",
   "metadata": {},
   "outputs": [],
   "source": [
    "cond"
   ]
  },
  {
   "cell_type": "code",
   "execution_count": null,
   "id": "e6281a35",
   "metadata": {},
   "outputs": [],
   "source": [
    "import time \n",
    "# with subs\n",
    "t0 = time.time()\n",
    "vals_l = np.zeros((40, 40)) * -1\n",
    "f = lambdify((x, y), cond, \"numpy\")\n",
    "for i, x_O in enumerate(np.arange(-5, 5, 0.25)):\n",
    "    for j, y_O in enumerate(np.arange(-5, 5, 0.25)):\n",
    "        val = bool(f(x_O, y_O))\n",
    "        vals_l[i, j] = val\n",
    "print(time.time() - t0)"
   ]
  },
  {
   "cell_type": "code",
   "execution_count": null,
   "id": "86443c0f",
   "metadata": {},
   "outputs": [],
   "source": [
    "plot_condition(x, y, cond)"
   ]
  },
  {
   "cell_type": "code",
   "execution_count": null,
   "id": "54ea5f81",
   "metadata": {},
   "outputs": [],
   "source": [
    "import time \n",
    "# with subs\n",
    "t0 = time.time()\n",
    "f = lambdify((x, y), cond, \"numpy\")\n",
    "for i, x_O in enumerate(np.arange(0, 10, 0.5)):\n",
    "    for j, y_O in enumerate(np.arange(0, 10, 0.5)):\n",
    "        assert bool(f(x_O, x_O)) == bool(cond.subs([(x, x_O), (y, x_O)]))"
   ]
  },
  {
   "cell_type": "code",
   "execution_count": null,
   "id": "9350fb77",
   "metadata": {},
   "outputs": [],
   "source": [
    "bool(f(0, 0))"
   ]
  },
  {
   "cell_type": "code",
   "execution_count": null,
   "id": "3d4994bf",
   "metadata": {},
   "outputs": [],
   "source": [
    "bool(cond.subs([(x, 0), (y, 0)]))"
   ]
  },
  {
   "cell_type": "code",
   "execution_count": null,
   "id": "bd28674b",
   "metadata": {},
   "outputs": [],
   "source": [
    "vals"
   ]
  },
  {
   "cell_type": "code",
   "execution_count": null,
   "id": "5a88fd79",
   "metadata": {},
   "outputs": [],
   "source": [
    "vals_l"
   ]
  },
  {
   "cell_type": "code",
   "execution_count": null,
   "id": "8c8de350",
   "metadata": {},
   "outputs": [],
   "source": [
    "t0 = time.time()\n",
    "fig = plt.figure()\n",
    "ax = fig.gca()\n",
    "resolution = 0.25\n",
    "for x0 in np.arange(xbounds[0], xbounds[1], resolution):\n",
    "    for y0 in np.arange(ybounds[0], ybounds[1], resolution):\n",
    "        is_safe = (~cond).subs([(x, x0), (y, y0)])\n",
    "        if resolution < 0.5:\n",
    "            dotscale = 6\n",
    "        elif resolution < 1:\n",
    "            dotscale = 4\n",
    "        else:\n",
    "            dotscale = 3\n",
    "        if is_safe:\n",
    "            ax.plot(\n",
    "                x0,\n",
    "                y0,\n",
    "                \"o\",\n",
    "                # TODO(nishant): make matplotlib default blue\n",
    "                color=\"#0000bb\",\n",
    "                markersize=1\n",
    "            )\n",
    "        else:\n",
    "            ax.plot(\n",
    "                x0,\n",
    "                y0,\n",
    "                \"o\",\n",
    "                # TODO(nishant): make matplotlib default red/orange\n",
    "                color=\"#bb0010\",\n",
    "                markersize=1.0,\n",
    "            )\n",
    "print(time.time() - t0)"
   ]
  },
  {
   "cell_type": "code",
   "execution_count": null,
   "id": "a630d443",
   "metadata": {},
   "outputs": [],
   "source": [
    "t0 = time.time()\n",
    "fig = plt.figure()\n",
    "ax = fig.gca()\n",
    "resolution = 0.25\n",
    "f = lambdify([x, y], ~cond)\n",
    "if resolution < 0.5:\n",
    "    dotscale = 6\n",
    "elif resolution < 1:\n",
    "    dotscale = 4\n",
    "else:\n",
    "    dotscale = 3\n",
    "for x0 in np.arange(xbounds[0], xbounds[1], resolution):\n",
    "    for y0 in np.arange(ybounds[0], ybounds[1], resolution):\n",
    "        is_safe = f(x0, y0)\n",
    "        if is_safe:\n",
    "            ax.plot(\n",
    "                x0,\n",
    "                y0,\n",
    "                \"o\",\n",
    "                # TODO(nishant): make matplotlib default blue\n",
    "                color=\"#0000bb\",\n",
    "                markersize=1\n",
    "            )\n",
    "        else:\n",
    "            ax.plot(\n",
    "                x0,\n",
    "                y0,\n",
    "                \"o\",\n",
    "                # TODO(nishant): make matplotlib default red/orange\n",
    "                color=\"#bb0010\",\n",
    "                markersize=1.0,\n",
    "            )\n",
    "print(time.time() - t0)"
   ]
  },
  {
   "cell_type": "code",
   "execution_count": null,
   "id": "2c64253a",
   "metadata": {},
   "outputs": [],
   "source": []
  },
  {
   "cell_type": "code",
   "execution_count": null,
   "id": "d8c24f0b",
   "metadata": {},
   "outputs": [],
   "source": [
    "help(plt.scatter)"
   ]
  },
  {
   "cell_type": "code",
   "execution_count": null,
   "id": "600e8b79",
   "metadata": {},
   "outputs": [],
   "source": [
    "# lambdify is slow \n",
    "t0 = time.time()\n",
    "fig = plt.figure()\n",
    "ax = fig.gca()\n",
    "resolution = 0.25\n",
    "f = lambdify([x, y], ~cond)\n",
    "xpoints = []\n",
    "ypoints = []\n",
    "colors = []\n",
    "for x0 in np.arange(xbounds[0], xbounds[1], resolution):\n",
    "    for y0 in np.arange(ybounds[0], ybounds[1], resolution):\n",
    "        is_safe = f(x0, y0)\n",
    "        xpoints.append(x0)\n",
    "        ypoints.append(y0)\n",
    "        if is_safe:\n",
    "            colors.append(\"b\")\n",
    "        else:\n",
    "            colors.append(\"r\")\n",
    "\n",
    "ax.scatter(xpoints, ypoints, s = 1.0, c=colors)\n",
    "print(time.time() - t0)"
   ]
  },
  {
   "cell_type": "code",
   "execution_count": null,
   "id": "85560499",
   "metadata": {},
   "outputs": [],
   "source": []
  },
  {
   "cell_type": "code",
   "execution_count": null,
   "id": "e2d7cc4b",
   "metadata": {},
   "outputs": [],
   "source": [
    "t0 = time.time()\n",
    "fig = plt.figure()\n",
    "ax = fig.gca()\n",
    "resolution = 0.5\n",
    "xpoints = []\n",
    "ypoints = []\n",
    "colors = []\n",
    "for x0 in np.arange(xbounds[0], xbounds[1], resolution):\n",
    "    for y0 in np.arange(ybounds[0], ybounds[1], resolution):\n",
    "        is_safe = (~cond).subs([(x, x0), (y, y0)])\n",
    "        xpoints.append(x0)\n",
    "        ypoints.append(y0)\n",
    "        if is_safe:\n",
    "            colors.append(\"b\")\n",
    "        else:\n",
    "            colors.append(\"r\")\n",
    "\n",
    "ax.scatter(xpoints, ypoints, s = 1.0, c=colors)\n",
    "runtime = time.time() - t0\n",
    "print(runtime)"
   ]
  },
  {
   "cell_type": "code",
   "execution_count": null,
   "id": "fa759144",
   "metadata": {
    "scrolled": true
   },
   "outputs": [],
   "source": [
    "# with lists - lists win \n",
    "ntries = 30\n",
    "total = 0\n",
    "for i in range(ntries):\n",
    "    t0 = time.time()\n",
    "    fig = plt.figure()\n",
    "    ax = fig.gca()\n",
    "    resolution = 0.25\n",
    "    xpoints = []\n",
    "    ypoints = []\n",
    "    colors = []\n",
    "    for x0 in np.arange(xbounds[0], xbounds[1], resolution):\n",
    "        for y0 in np.arange(ybounds[0], ybounds[1], resolution):\n",
    "            is_safe = (~cond).subs([(x, x0), (y, y0)])\n",
    "            xpoints.append(x0)\n",
    "            ypoints.append(y0)\n",
    "            if is_safe:\n",
    "                colors.append(\"b\")\n",
    "            else:\n",
    "                colors.append(\"r\")\n",
    "\n",
    "    ax.scatter(xpoints, ypoints, s = 1.0, c=colors)\n",
    "    plt.close(fig)\n",
    "    runtime = time.time() - t0\n",
    "    if i % 3 == 0:\n",
    "        print(runtime)\n",
    "    total += runtime\n",
    "print(total / ntries)"
   ]
  },
  {
   "cell_type": "code",
   "execution_count": null,
   "id": "bbf47ee0",
   "metadata": {},
   "outputs": [],
   "source": [
    "ntries = 30\n",
    "total = 0\n",
    "for i in range(ntries):\n",
    "    # with np arrays\n",
    "    t0 = time.time()\n",
    "    fig = plt.figure()\n",
    "    ax = fig.gca()\n",
    "    resolution = 0.25\n",
    "    xpoints = np.array([])\n",
    "    ypoints = np.array([])\n",
    "    colors = []\n",
    "    for x0 in np.arange(xbounds[0], xbounds[1], resolution):\n",
    "        for y0 in np.arange(ybounds[0], ybounds[1], resolution):\n",
    "            is_safe = (~cond).subs([(x, x0), (y, y0)])\n",
    "            xpoints = np.append(xpoints, x0)\n",
    "            ypoints = np.append(ypoints, y0)\n",
    "            if is_safe:\n",
    "                colors.append(\"b\")\n",
    "            else:\n",
    "                colors.append(\"r\")\n",
    "\n",
    "    ax.scatter(xpoints, ypoints, s = 1.0, c=colors)\n",
    "    plt.close(fig)\n",
    "    runtime = time.time() - t0\n",
    "    if i % 3 == 0:\n",
    "        print(runtime)\n",
    "    \n",
    "    total += runtime\n",
    "print(total / ntries)"
   ]
  },
  {
   "cell_type": "code",
   "execution_count": null,
   "id": "8911bdd2",
   "metadata": {},
   "outputs": [],
   "source": [
    "ntries = 30\n",
    "total = 0\n",
    "for i in range(ntries):\n",
    "    # with meshgrid this time \n",
    "    t0 = time.time()\n",
    "    fig = plt.figure()\n",
    "    ax = fig.gca()\n",
    "    resolution = 0.25\n",
    "    xrange = np.arange(xbounds[0], xbounds[1], resolution)\n",
    "    yrange = np.arange(ybounds[0], ybounds[1], resolution)\n",
    "    ypoints, xpoints = np.meshgrid(yrange, xrange)\n",
    "    xpoints.reshape((1, -1))\n",
    "    ypoints.reshape((1, -1))\n",
    "    colors = []\n",
    "    for x0 in np.arange(xbounds[0], xbounds[1], resolution):\n",
    "        for y0 in np.arange(ybounds[0], ybounds[1], resolution):\n",
    "            is_safe = (~cond).subs([(x, x0), (y, y0)])\n",
    "            if is_safe:\n",
    "                colors.append(\"b\")\n",
    "            else:\n",
    "                colors.append(\"r\")\n",
    "\n",
    "    ax.scatter(xpoints, ypoints, s = 1.0, c=colors)\n",
    "    plt.close(fig)    \n",
    "    runtime = time.time() - t0\n",
    "    if i % 3 == 0:\n",
    "        print(runtime)\n",
    "\n",
    "    total += runtime\n",
    "print(total / ntries)"
   ]
  },
  {
   "cell_type": "code",
   "execution_count": null,
   "id": "02005c7f",
   "metadata": {},
   "outputs": [],
   "source": [
    "np.array(xpoints)"
   ]
  },
  {
   "cell_type": "code",
   "execution_count": null,
   "id": "e591abd1",
   "metadata": {},
   "outputs": [],
   "source": [
    "np.array(ypoints)"
   ]
  },
  {
   "cell_type": "code",
   "execution_count": null,
   "id": "53ed47a8",
   "metadata": {
    "scrolled": false
   },
   "outputs": [],
   "source": [
    "xpoints.reshape((1, -1))"
   ]
  },
  {
   "cell_type": "code",
   "execution_count": null,
   "id": "c6eda1e9",
   "metadata": {
    "scrolled": true
   },
   "outputs": [],
   "source": [
    "ypoints.reshape((1, -1))"
   ]
  },
  {
   "cell_type": "code",
   "execution_count": null,
   "id": "a9bb5556",
   "metadata": {},
   "outputs": [],
   "source": [
    "t0 = time.time()\n",
    "fig = plt.figure()\n",
    "ax = fig.gca()\n",
    "resolution = 0.25\n",
    "for x0 in np.arange(xbounds[0], xbounds[1], resolution):\n",
    "    for y0 in np.arange(ybounds[0], ybounds[1], resolution):\n",
    "        is_safe = (~cond).subs([(x, x0), (y, y0)])\n",
    "        if resolution < 0.5:\n",
    "            dotscale = 6\n",
    "        elif resolution < 1:\n",
    "            dotscale = 4\n",
    "        else:\n",
    "            dotscale = 3\n",
    "        if is_safe:\n",
    "            ax.plot(\n",
    "                x0,\n",
    "                y0,\n",
    "                \"o\",\n",
    "                # TODO(nishant): make matplotlib default blue\n",
    "                color=\"#0000bb\",\n",
    "                markersize=1\n",
    "            )\n",
    "        else:\n",
    "            ax.plot(\n",
    "                x0,\n",
    "                y0,\n",
    "                \"o\",\n",
    "                # TODO(nishant): make matplotlib default red/orange\n",
    "                color=\"#bb0010\",\n",
    "                markersize=1.0,\n",
    "            )\n",
    "print(time.time() - t0)"
   ]
  },
  {
   "cell_type": "code",
   "execution_count": null,
   "id": "d222e4c7",
   "metadata": {},
   "outputs": [],
   "source": []
  }
 ],
 "metadata": {
  "kernelspec": {
   "display_name": "Python 3 (ipykernel)",
   "language": "python",
   "name": "python3"
  },
  "language_info": {
   "codemirror_mode": {
    "name": "ipython",
    "version": 3
   },
   "file_extension": ".py",
   "mimetype": "text/x-python",
   "name": "python",
   "nbconvert_exporter": "python",
   "pygments_lexer": "ipython3",
   "version": "3.9.7"
  }
 },
 "nbformat": 4,
 "nbformat_minor": 5
}
