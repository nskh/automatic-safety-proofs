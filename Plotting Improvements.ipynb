{
 "cells": [
  {
   "cell_type": "code",
   "execution_count": null,
   "id": "de494dfd",
   "metadata": {},
   "outputs": [],
   "source": [
    "%load_ext autoreload\n",
    "%autoreload 2\n",
    "\n",
    "from active_corners_grid import test_transitions\n",
    "from sympy import *\n",
    "from utils import *\n",
    "init_printing()"
   ]
  },
  {
   "cell_type": "code",
   "execution_count": null,
   "id": "0fc7214d",
   "metadata": {},
   "outputs": [],
   "source": [
    "angles, _ = compute_polygon_angles(square)\n",
    "angles"
   ]
  },
  {
   "cell_type": "code",
   "execution_count": null,
   "id": "84fac5c6",
   "metadata": {},
   "outputs": [],
   "source": [
    "tan(pi/2) == zoo"
   ]
  },
  {
   "cell_type": "code",
   "execution_count": null,
   "id": "bfc48556",
   "metadata": {},
   "outputs": [],
   "source": [
    "zoo"
   ]
  },
  {
   "cell_type": "code",
   "execution_count": null,
   "id": "ff56bf10",
   "metadata": {},
   "outputs": [],
   "source": [
    "tan(3*pi/2) == zoo"
   ]
  },
  {
   "cell_type": "code",
   "execution_count": null,
   "id": "f3667362",
   "metadata": {},
   "outputs": [],
   "source": [
    "dfdy, dfdx = slope_sym(circle_traj, x, y)\n",
    "dfdx"
   ]
  },
  {
   "cell_type": "code",
   "execution_count": null,
   "id": "ffe5dadf",
   "metadata": {},
   "outputs": [],
   "source": [
    "# testing vector collinearity method\n",
    "\n",
    "# angle = pi/4\n",
    "angle = 3*pi/2\n",
    "x2 = cos(angle)\n",
    "y2 = sin(angle)\n",
    "Eq(dfdx * y2, dfdy * x2)"
   ]
  },
  {
   "cell_type": "code",
   "execution_count": null,
   "id": "cad3f9ca",
   "metadata": {},
   "outputs": [],
   "source": [
    "solve(Eq(dfdx * y2, dfdy * x2), dict=True)"
   ]
  },
  {
   "cell_type": "code",
   "execution_count": null,
   "id": "c8fe945a",
   "metadata": {},
   "outputs": [],
   "source": [
    "slope = dfdy / dfdx\n",
    "solve(Eq(slope, tan(angle)))"
   ]
  },
  {
   "cell_type": "code",
   "execution_count": null,
   "id": "b5496bcd",
   "metadata": {},
   "outputs": [],
   "source": []
  },
  {
   "cell_type": "code",
   "execution_count": null,
   "id": "dddd6996",
   "metadata": {},
   "outputs": [],
   "source": []
  },
  {
   "cell_type": "code",
   "execution_count": null,
   "id": "ec9e7dd7",
   "metadata": {},
   "outputs": [],
   "source": [
    "soln = solve(Eq(x/y, oo))\n",
    "[elem for elem in soln]"
   ]
  },
  {
   "cell_type": "code",
   "execution_count": null,
   "id": "769cc4d5",
   "metadata": {},
   "outputs": [],
   "source": [
    "Eq(circle_traj, 0).subs(soln[0])"
   ]
  },
  {
   "cell_type": "code",
   "execution_count": null,
   "id": "8157d695",
   "metadata": {},
   "outputs": [],
   "source": [
    "soln[0][x] == nan"
   ]
  },
  {
   "cell_type": "code",
   "execution_count": null,
   "id": "de4328f7",
   "metadata": {},
   "outputs": [],
   "source": [
    "soln[1][y] == nan"
   ]
  },
  {
   "cell_type": "code",
   "execution_count": null,
   "id": "316dd43c",
   "metadata": {},
   "outputs": [],
   "source": [
    "solve(Eq(y/x, oo))"
   ]
  },
  {
   "cell_type": "code",
   "execution_count": null,
   "id": "27702d1a",
   "metadata": {},
   "outputs": [],
   "source": [
    "solve(Eq(x/y, -oo))"
   ]
  },
  {
   "cell_type": "code",
   "execution_count": null,
   "id": "8a82d1bd",
   "metadata": {},
   "outputs": [],
   "source": [
    "solve(Eq(y/x, -oo))"
   ]
  },
  {
   "cell_type": "code",
   "execution_count": null,
   "id": "87893e99",
   "metadata": {},
   "outputs": [],
   "source": []
  },
  {
   "cell_type": "code",
   "execution_count": null,
   "id": "7ffd2894",
   "metadata": {},
   "outputs": [],
   "source": []
  },
  {
   "cell_type": "code",
   "execution_count": null,
   "id": "c00345ce",
   "metadata": {
    "scrolled": false
   },
   "outputs": [],
   "source": [
    "r = 1\n",
    "hexagon = RegularPolygon(Point(0, 0), r, 6)\n",
    "# plot_polygon(hexagon)\n",
    "diamond = RegularPolygon(Point(0, 0), r, 4)\n",
    "# plot_polygon(diamond)\n",
    "w = 1\n",
    "square_points: list = [\n",
    "    geometry.Point(val) for val in [[w, -w], [w, w], [-w, w], [-w, -w]]\n",
    "]\n",
    "square: geometry.Polygon = Polygon(*square_points)\n",
    "# plot_polygon(square)\n",
    "rect_points: list = [\n",
    "    geometry.Point(val)\n",
    "    for val in [[2 * w, -w], [2 * w, w], [-2 * w, w], [-2 * w, -w]]\n",
    "]\n",
    "rectangle: geometry.Polygon = Polygon(*rect_points)\n",
    "# plot_polygon(rectangle)\n",
    "\n",
    "x, y = symbols(\"x y\")\n",
    "traj_r = 4\n",
    "circle_traj = 2*x  ** 2 + y ** 2 - traj_r ** 2  # radius 4\n",
    "sin_traj = sin(x) - y\n",
    "\n",
    "circle_domain = Interval(-8, 8)\n",
    "sin_domain = Interval(-6, 6)\n",
    "test_transitions(square, circle_traj, domain=circle_domain, x=x, y=y)\n",
    "print(\"\\n==============\\n==============\")\n",
    "test_transitions(rectangle, sin_traj, domain=sin_domain, x=x, y=y)\n",
    "\n",
    "RESOLUTION = 2\n",
    "\n",
    "plot_safe_grid(\n",
    "    square,\n",
    "    circle_traj,\n",
    "    (-8, 8),\n",
    "    (-8, 8),\n",
    "    \"Circle trajectory with square and notch check\",\n",
    "    circle_domain, \n",
    "    resolution=RESOLUTION,\n",
    "    savefig=True,\n",
    ")\n",
    "plot_safe_grid(\n",
    "    rectangle,\n",
    "    sin_traj,\n",
    "    (-6, 6),\n",
    "    (-3, 3),\n",
    "    \"Sin trajectory with rectangle and notch check\",\n",
    "    sin_domain, \n",
    "    resolution=RESOLUTION,\n",
    "    savefig=True,\n",
    ")\n"
   ]
  },
  {
   "cell_type": "code",
   "execution_count": null,
   "id": "43582fff",
   "metadata": {},
   "outputs": [],
   "source": [
    "[k for k in {x:0}][0]"
   ]
  },
  {
   "cell_type": "code",
   "execution_count": null,
   "id": "db20baa5",
   "metadata": {},
   "outputs": [],
   "source": []
  },
  {
   "cell_type": "code",
   "execution_count": null,
   "id": "23803ddc",
   "metadata": {},
   "outputs": [],
   "source": []
  },
  {
   "cell_type": "code",
   "execution_count": null,
   "id": "bb3134fc",
   "metadata": {},
   "outputs": [],
   "source": []
  },
  {
   "cell_type": "code",
   "execution_count": null,
   "id": "ebe9f644",
   "metadata": {},
   "outputs": [],
   "source": [
    "# Testing Sympy to Mathematica translation\n",
    "\n",
    "from typing import Dict\n",
    "\n",
    "# finding close parens\n",
    "def find_parens(s: str) -> Dict:\n",
    "    # source: https://stackoverflow.com/a/29992065\n",
    "    toret = {}\n",
    "    pstack = []\n",
    "\n",
    "    for i, c in enumerate(s):\n",
    "        if c == '(':\n",
    "            pstack.append(i)\n",
    "        elif c == ')':\n",
    "            if len(pstack) == 0:\n",
    "                raise IndexError(\"No matching closing parens at: \" + str(i))\n",
    "            toret[pstack.pop()] = i\n",
    "\n",
    "    if len(pstack) > 0:\n",
    "        raise IndexError(\"No matching opening parens at: \" + str(pstack.pop()))\n",
    "\n",
    "    return toret\n",
    "\n",
    "def swap_fn(s, swaps):\n",
    "    parens = find_parens(s)\n",
    "    print(parens)\n",
    "    \n",
    "    new = list(s)\n",
    "    newstr = s\n",
    "    for (tofind, toreplace) in swaps:\n",
    "        while newstr.find(tofind) > -1:\n",
    "            lendiff = len(toreplace) - len(tofind)\n",
    "            first_idx = newstr.find(tofind)\n",
    "            new = list(newstr)\n",
    "            new[first_idx:first_idx+len(tofind)] = toreplace\n",
    "            open_idx = newstr.find(\"(\", first_idx)\n",
    "            print(open_idx)\n",
    "            new[open_idx + lendiff] = \"[\"  # account for different operator length\n",
    "            print(open_idx)\n",
    "            close_idx = parens[open_idx]\n",
    "            new[close_idx + lendiff] = \"]\"  # account for different operator length\n",
    "            newstr = \"\".join(new)\n",
    "    return newstr\n",
    "\n",
    "ex = \"1 + sin(4 + (2*t + cos(x) + sin(y + e(x))))\"\n",
    "swaps = [(\"sin\", \"Sin\"),\n",
    "         (\"cos\", \"Cos\"),\n",
    "         (\"tan\", \"Tan\"),\n",
    "         (\"e\", \"Exp\")\n",
    "        ]\n",
    "swap_fn(ex, swaps)"
   ]
  },
  {
   "cell_type": "code",
   "execution_count": null,
   "id": "1bd88671",
   "metadata": {
    "scrolled": true
   },
   "outputs": [],
   "source": [
    "tofind = \"sin\"\n",
    "toreplace = \"Sin\"\n",
    "lendiff = len(toreplace) - len(tofind)\n",
    "first_idx = ex.find(tofind)\n",
    "new = list(ex)\n",
    "new[first_idx:first_idx+len(tofind)] = toreplace\n",
    "open_idx = ex.find(\"(\", first_idx + lendiff)\n",
    "new[open_idx] = \"[\"\n",
    "print(open_idx)\n",
    "close_idx = parens[open_idx]\n",
    "new[close_idx] = \"]\"\n",
    "\n",
    "newstr = \"\".join(new)\n",
    "print(newstr)"
   ]
  },
  {
   "cell_type": "code",
   "execution_count": null,
   "id": "73d0d8cd",
   "metadata": {},
   "outputs": [],
   "source": []
  },
  {
   "cell_type": "code",
   "execution_count": null,
   "id": "3f630a19",
   "metadata": {},
   "outputs": [],
   "source": []
  }
 ],
 "metadata": {
  "kernelspec": {
   "display_name": "Python 3 (ipykernel)",
   "language": "python",
   "name": "python3"
  },
  "language_info": {
   "codemirror_mode": {
    "name": "ipython",
    "version": 3
   },
   "file_extension": ".py",
   "mimetype": "text/x-python",
   "name": "python",
   "nbconvert_exporter": "python",
   "pygments_lexer": "ipython3",
   "version": "3.9.4"
  }
 },
 "nbformat": 4,
 "nbformat_minor": 5
}
